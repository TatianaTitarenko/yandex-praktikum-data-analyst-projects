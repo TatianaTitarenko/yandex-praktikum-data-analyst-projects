{
 "cells": [
  {
   "cell_type": "markdown",
   "metadata": {
    "toc": true
   },
   "source": [
    "<h1>Table of Contents<span class=\"tocSkip\"></span></h1>\n",
    "<div class=\"toc\"><ul class=\"toc-item\"><li><span><a href=\"#Загружаем-библиотеки\" data-toc-modified-id=\"Загружаем-библиотеки-1\"><span class=\"toc-item-num\">1&nbsp;&nbsp;</span>Загружаем библиотеки</a></span></li><li><span><a href=\"#Загрузим-и-изучим-данные\" data-toc-modified-id=\"Загрузим-и-изучим-данные-2\"><span class=\"toc-item-num\">2&nbsp;&nbsp;</span>Загрузим и изучим данные</a></span><ul class=\"toc-item\"><li><span><a href=\"#Вывод-по-изучению-данных\" data-toc-modified-id=\"Вывод-по-изучению-данных-2.1\"><span class=\"toc-item-num\">2.1&nbsp;&nbsp;</span>Вывод по изучению данных</a></span></li></ul></li><li><span><a href=\"#Предобработка-данных\" data-toc-modified-id=\"Предобработка-данных-3\"><span class=\"toc-item-num\">3&nbsp;&nbsp;</span>Предобработка данных</a></span><ul class=\"toc-item\"><li><span><a href=\"#Обработка-не-явных-дубликатов\" data-toc-modified-id=\"Обработка-не-явных-дубликатов-3.1\"><span class=\"toc-item-num\">3.1&nbsp;&nbsp;</span>Обработка не явных дубликатов</a></span></li><li><span><a href=\"#Обработка-пропусков\" data-toc-modified-id=\"Обработка-пропусков-3.2\"><span class=\"toc-item-num\">3.2&nbsp;&nbsp;</span>Обработка пропусков</a></span><ul class=\"toc-item\"><li><span><a href=\"#Количественный-тип-данных\" data-toc-modified-id=\"Количественный-тип-данных-3.2.1\"><span class=\"toc-item-num\">3.2.1&nbsp;&nbsp;</span>Количественный тип данных</a></span></li><li><span><a href=\"#Качественный-тип-данных\" data-toc-modified-id=\"Качественный-тип-данных-3.2.2\"><span class=\"toc-item-num\">3.2.2&nbsp;&nbsp;</span>Качественный тип данных</a></span><ul class=\"toc-item\"><li><span><a href=\"#Для-столбца-age\" data-toc-modified-id=\"Для-столбца-age-3.2.2.1\"><span class=\"toc-item-num\">3.2.2.1&nbsp;&nbsp;</span>Для столбца age</a></span></li><li><span><a href=\"#Для-столбца-balance\" data-toc-modified-id=\"Для-столбца-balance-3.2.2.2\"><span class=\"toc-item-num\">3.2.2.2&nbsp;&nbsp;</span>Для столбца balance</a></span></li><li><span><a href=\"#Корреляционный-анализ-пропусков\" data-toc-modified-id=\"Корреляционный-анализ-пропусков-3.2.2.3\"><span class=\"toc-item-num\">3.2.2.3&nbsp;&nbsp;</span>Корреляционный анализ пропусков</a></span></li></ul></li></ul></li><li><span><a href=\"#Создание-новых-столбцов-с-кодированием-категориальных-переменных-с-помощью-&quot;one-hot-кодирования&quot;.\" data-toc-modified-id=\"Создание-новых-столбцов-с-кодированием-категориальных-переменных-с-помощью-&quot;one-hot-кодирования&quot;.-3.3\"><span class=\"toc-item-num\">3.3&nbsp;&nbsp;</span>Создание новых столбцов с кодированием категориальных переменных с помощью \"one-hot кодирования\".</a></span></li><li><span><a href=\"#Вывод-по-предобработке-данных\" data-toc-modified-id=\"Вывод-по-предобработке-данных-3.4\"><span class=\"toc-item-num\">3.4&nbsp;&nbsp;</span>Вывод по предобработке данных</a></span></li></ul></li><li><span><a href=\"#Исследовательский-анализ-данных\" data-toc-modified-id=\"Исследовательский-анализ-данных-4\"><span class=\"toc-item-num\">4&nbsp;&nbsp;</span>Исследовательский анализ данных</a></span><ul class=\"toc-item\"><li><span><a href=\"#Общая-информация-о-клиентах,-портрет-типичного-клиента\" data-toc-modified-id=\"Общая-информация-о-клиентах,-портрет-типичного-клиента-4.1\"><span class=\"toc-item-num\">4.1&nbsp;&nbsp;</span>Общая информация о клиентах, портрет типичного клиента</a></span></li><li><span><a href=\"#Изучим-аномалию\" data-toc-modified-id=\"Изучим-аномалию-4.2\"><span class=\"toc-item-num\">4.2&nbsp;&nbsp;</span>Изучим аномалию</a></span></li><li><span><a href=\"#Анализ-влияния-признаков-на-отточность.\" data-toc-modified-id=\"Анализ-влияния-признаков-на-отточность.-4.3\"><span class=\"toc-item-num\">4.3&nbsp;&nbsp;</span>Анализ влияния признаков на отточность.</a></span><ul class=\"toc-item\"><li><span><a href=\"#Доля-оттока-для-непрерывных-величин\" data-toc-modified-id=\"Доля-оттока-для-непрерывных-величин-4.3.1\"><span class=\"toc-item-num\">4.3.1&nbsp;&nbsp;</span>Доля оттока для непрерывных величин</a></span><ul class=\"toc-item\"><li><span><a href=\"#Доля-оттока-клиентов-по-баллам-кредитного-скоринга\" data-toc-modified-id=\"Доля-оттока-клиентов-по-баллам-кредитного-скоринга-4.3.1.1\"><span class=\"toc-item-num\">4.3.1.1&nbsp;&nbsp;</span>Доля оттока клиентов по баллам кредитного скоринга</a></span></li><li><span><a href=\"#Доля-оттока-клиентов-по-возрасту\" data-toc-modified-id=\"Доля-оттока-клиентов-по-возрасту-4.3.1.2\"><span class=\"toc-item-num\">4.3.1.2&nbsp;&nbsp;</span>Доля оттока клиентов по возрасту</a></span></li><li><span><a href=\"#Доля-оттока-клиентов-по-баллам-собственности\" data-toc-modified-id=\"Доля-оттока-клиентов-по-баллам-собственности-4.3.1.3\"><span class=\"toc-item-num\">4.3.1.3&nbsp;&nbsp;</span>Доля оттока клиентов по баллам собственности</a></span></li><li><span><a href=\"#Доля-оттока-клиентов-по-балансу-на-счете\" data-toc-modified-id=\"Доля-оттока-клиентов-по-балансу-на-счете-4.3.1.4\"><span class=\"toc-item-num\">4.3.1.4&nbsp;&nbsp;</span>Доля оттока клиентов по балансу на счете</a></span></li><li><span><a href=\"#Доля-оттока-клиентов-по-оценочному-доходу\" data-toc-modified-id=\"Доля-оттока-клиентов-по-оценочному-доходу-4.3.1.5\"><span class=\"toc-item-num\">4.3.1.5&nbsp;&nbsp;</span>Доля оттока клиентов по оценочному доходу</a></span></li></ul></li><li><span><a href=\"#Доля-оттока-для-категориальных-величин\" data-toc-modified-id=\"Доля-оттока-для-категориальных-величин-4.3.2\"><span class=\"toc-item-num\">4.3.2&nbsp;&nbsp;</span>Доля оттока для категориальных величин</a></span><ul class=\"toc-item\"><li><span><a href=\"#Доля-оттока-клиентов-по-количеству-продуктов\" data-toc-modified-id=\"Доля-оттока-клиентов-по-количеству-продуктов-4.3.2.1\"><span class=\"toc-item-num\">4.3.2.1&nbsp;&nbsp;</span>Доля оттока клиентов по количеству продуктов</a></span></li><li><span><a href=\"#Изучение-оттока-клиентов-по-полу\" data-toc-modified-id=\"Изучение-оттока-клиентов-по-полу-4.3.2.2\"><span class=\"toc-item-num\">4.3.2.2&nbsp;&nbsp;</span>Изучение оттока клиентов по полу</a></span></li><li><span><a href=\"#Изучение-оттока-клиентов-по-городам\" data-toc-modified-id=\"Изучение-оттока-клиентов-по-городам-4.3.2.3\"><span class=\"toc-item-num\">4.3.2.3&nbsp;&nbsp;</span>Изучение оттока клиентов по городам</a></span></li><li><span><a href=\"#Изучение-оттока-клиентов-по-наличию-кредитной-карты\" data-toc-modified-id=\"Изучение-оттока-клиентов-по-наличию-кредитной-карты-4.3.2.4\"><span class=\"toc-item-num\">4.3.2.4&nbsp;&nbsp;</span>Изучение оттока клиентов по наличию кредитной карты</a></span></li><li><span><a href=\"#Изучение-оттока-клиентов-по-последней-активности\" data-toc-modified-id=\"Изучение-оттока-клиентов-по-последней-активности-4.3.2.5\"><span class=\"toc-item-num\">4.3.2.5&nbsp;&nbsp;</span>Изучение оттока клиентов по последней активности</a></span></li></ul></li><li><span><a href=\"#Вывод-по-изучению-доли-отточных-клиентов\" data-toc-modified-id=\"Вывод-по-изучению-доли-отточных-клиентов-4.3.3\"><span class=\"toc-item-num\">4.3.3&nbsp;&nbsp;</span>Вывод по изучению доли отточных клиентов</a></span></li><li><span><a href=\"#Корреляция-оттока-с-показателями\" data-toc-modified-id=\"Корреляция-оттока-с-показателями-4.3.4\"><span class=\"toc-item-num\">4.3.4&nbsp;&nbsp;</span>Корреляция оттока с показателями</a></span></li></ul></li><li><span><a href=\"#Вывод-по-исследовательскому-анализу-данных\" data-toc-modified-id=\"Вывод-по-исследовательскому-анализу-данных-4.4\"><span class=\"toc-item-num\">4.4&nbsp;&nbsp;</span>Вывод по исследовательскому анализу данных</a></span></li></ul></li><li><span><a href=\"#Проверка-гипотез\" data-toc-modified-id=\"Проверка-гипотез-5\"><span class=\"toc-item-num\">5&nbsp;&nbsp;</span>Проверка гипотез</a></span><ul class=\"toc-item\"><li><span><a href=\"#Гипотеза-1---различие-доходов-оставшихся-и-отточных-клиентов\" data-toc-modified-id=\"Гипотеза-1---различие-доходов-оставшихся-и-отточных-клиентов-5.1\"><span class=\"toc-item-num\">5.1&nbsp;&nbsp;</span>Гипотеза 1 - различие доходов оставшихся и отточных клиентов</a></span><ul class=\"toc-item\"><li><span><a href=\"#Параметрический-тест-Стьюдента(-Уильяма-Госсета)-(t--критерий)\" data-toc-modified-id=\"Параметрический-тест-Стьюдента(-Уильяма-Госсета)-(t--критерий)-5.1.1\"><span class=\"toc-item-num\">5.1.1&nbsp;&nbsp;</span>Параметрический тест Стьюдента( Уильяма Госсета) (t- критерий)</a></span></li><li><span><a href=\"#Непараметрический-тест-Уилкоксона-Манна-Уитни-(-u-критерием)\" data-toc-modified-id=\"Непараметрический-тест-Уилкоксона-Манна-Уитни-(-u-критерием)-5.1.2\"><span class=\"toc-item-num\">5.1.2&nbsp;&nbsp;</span>Непараметрический тест Уилкоксона-Манна-Уитни ( u-критерием)</a></span></li><li><span><a href=\"#Вывод-по-гипотезе-1\" data-toc-modified-id=\"Вывод-по-гипотезе-1-5.1.3\"><span class=\"toc-item-num\">5.1.3&nbsp;&nbsp;</span>Вывод по гипотезе-1</a></span></li></ul></li><li><span><a href=\"#Гипотеза-2--различие-в-количестве-используемых-банковских-продуктов\" data-toc-modified-id=\"Гипотеза-2--различие-в-количестве-используемых-банковских-продуктов-5.2\"><span class=\"toc-item-num\">5.2&nbsp;&nbsp;</span>Гипотеза 2 -различие в количестве используемых банковских продуктов</a></span></li><li><span><a href=\"#Вывод-по-гипотезам\" data-toc-modified-id=\"Вывод-по-гипотезам-5.3\"><span class=\"toc-item-num\">5.3&nbsp;&nbsp;</span>Вывод по гипотезам</a></span></li></ul></li><li><span><a href=\"#Сегментация\" data-toc-modified-id=\"Сегментация-6\"><span class=\"toc-item-num\">6&nbsp;&nbsp;</span>Сегментация</a></span><ul class=\"toc-item\"><li><span><a href=\"#Сегмент-1\" data-toc-modified-id=\"Сегмент-1-6.1\"><span class=\"toc-item-num\">6.1&nbsp;&nbsp;</span>Сегмент 1</a></span></li><li><span><a href=\"#Сегмент-2\" data-toc-modified-id=\"Сегмент-2-6.2\"><span class=\"toc-item-num\">6.2&nbsp;&nbsp;</span>Сегмент 2</a></span></li><li><span><a href=\"#Сегмент-3\" data-toc-modified-id=\"Сегмент-3-6.3\"><span class=\"toc-item-num\">6.3&nbsp;&nbsp;</span>Сегмент 3</a></span></li><li><span><a href=\"#Общая-информация-по-сегментам\" data-toc-modified-id=\"Общая-информация-по-сегментам-6.4\"><span class=\"toc-item-num\">6.4&nbsp;&nbsp;</span>Общая информация по сегментам</a></span></li><li><span><a href=\"#Вывод-по-сегментации\" data-toc-modified-id=\"Вывод-по-сегментации-6.5\"><span class=\"toc-item-num\">6.5&nbsp;&nbsp;</span>Вывод по сегментации</a></span></li></ul></li><li><span><a href=\"#Общий-вывод-по-исследованию\" data-toc-modified-id=\"Общий-вывод-по-исследованию-7\"><span class=\"toc-item-num\">7&nbsp;&nbsp;</span>Общий вывод по исследованию</a></span></li></ul></div>"
   ]
  },
  {
   "cell_type": "markdown",
   "metadata": {},
   "source": [
    "# Анализ оттока клиентов Банка «Метанпром»"
   ]
  },
  {
   "cell_type": "markdown",
   "metadata": {},
   "source": [
    "**Заказчик** \n",
    "\n",
    "Менеджер из отдела маркетинга\n",
    "\n",
    "**Задача**\n",
    "\n",
    "Привлекать новых клиентов дорого, дешевле удержать тех, про которых мы уже что-то знаем и с которыми работаем. В нашем отделе маркетинга нет автоматизированных систем рассылок, письма каждому клиенту пишутся вручную, поэтому нам важно для отдела маркетинга представить компактные однородные сегменты и дать примеры мероприятий, которые можно провести, чтобы вернуть клиентов в банк или удержать сомневающихся от оттока.\n",
    "\n",
    "**Описание данных**\n",
    "\n",
    "Путь /datasets/bank_scrooge.csv \n",
    "\n",
    "Датасет содержит данные о клиентах банка «Метанпром». Банк располагается в Ярославле и областных городах: Ростов Великий и Рыбинск. \n",
    "\n",
    "Колонки: \n",
    "* USERID — идентификатор пользователя, \n",
    "* score — баллы кредитного скоринга, чем выше тем надежнее\n",
    "* city — город, gender — пол, \n",
    "* age — возраст, \n",
    "* equity — количество баллов собственности,  приблизительная оценка собственности\n",
    "* balance — баланс на счёте, \n",
    "* products — количество продуктов, которыми пользуется клиент, \n",
    "* credit_card — есть ли кредитная карта, \n",
    "* last_activity — активный клиент, операции по счетам, обращения в Банк\n",
    "* EST_SALARY — оценочный доход клиента, \n",
    "* сhurn — признак оттока.\n",
    "\n",
    "**План анализа**\n",
    "\n",
    "Проанализировать клиентов регионального банка и выделите сегменты клиентов, которые склонны уходить из банка. \n",
    "\n",
    "* Проведем исследовательский анализ данных, определим все значимые признаки отточности (интервалы значений характеристик, которые связаны с повышенным оттоком, сравним портреты типичных клиентов, которые склонны и не склонны уходить из банка и т.д) \n",
    ";\n",
    "* Проверим статистическую гипотезы.\n",
    "* Объединяя признаки отточности, сформируем сегменты, отберем из них лучшие и дадим по ним рекомендации."
   ]
  },
  {
   "cell_type": "markdown",
   "metadata": {},
   "source": [
    "## Загружаем библиотеки"
   ]
  },
  {
   "cell_type": "code",
   "execution_count": 1,
   "metadata": {},
   "outputs": [
    {
     "name": "stdout",
     "output_type": "stream",
     "text": [
      "Collecting phik\n",
      "  Downloading phik-0.12.3-cp39-cp39-manylinux_2_17_x86_64.manylinux2014_x86_64.whl (679 kB)\n",
      "\u001b[K     |████████████████████████████████| 679 kB 1.2 MB/s eta 0:00:01\n",
      "\u001b[?25hRequirement already satisfied: joblib>=0.14.1 in /opt/conda/lib/python3.9/site-packages (from phik) (1.1.0)\n",
      "Requirement already satisfied: numpy>=1.18.0 in /opt/conda/lib/python3.9/site-packages (from phik) (1.21.1)\n",
      "Requirement already satisfied: scipy>=1.5.2 in /opt/conda/lib/python3.9/site-packages (from phik) (1.9.1)\n",
      "Requirement already satisfied: pandas>=0.25.1 in /opt/conda/lib/python3.9/site-packages (from phik) (1.2.4)\n",
      "Requirement already satisfied: matplotlib>=2.2.3 in /opt/conda/lib/python3.9/site-packages (from phik) (3.3.4)\n",
      "Requirement already satisfied: cycler>=0.10 in /opt/conda/lib/python3.9/site-packages (from matplotlib>=2.2.3->phik) (0.11.0)\n",
      "Requirement already satisfied: python-dateutil>=2.1 in /opt/conda/lib/python3.9/site-packages (from matplotlib>=2.2.3->phik) (2.8.1)\n",
      "Requirement already satisfied: pyparsing!=2.0.4,!=2.1.2,!=2.1.6,>=2.0.3 in /opt/conda/lib/python3.9/site-packages (from matplotlib>=2.2.3->phik) (2.4.7)\n",
      "Requirement already satisfied: kiwisolver>=1.0.1 in /opt/conda/lib/python3.9/site-packages (from matplotlib>=2.2.3->phik) (1.4.4)\n",
      "Requirement already satisfied: pillow>=6.2.0 in /opt/conda/lib/python3.9/site-packages (from matplotlib>=2.2.3->phik) (8.4.0)\n",
      "Requirement already satisfied: pytz>=2017.3 in /opt/conda/lib/python3.9/site-packages (from pandas>=0.25.1->phik) (2021.1)\n",
      "Requirement already satisfied: six>=1.5 in /opt/conda/lib/python3.9/site-packages (from python-dateutil>=2.1->matplotlib>=2.2.3->phik) (1.16.0)\n",
      "Installing collected packages: phik\n",
      "Successfully installed phik-0.12.3\n",
      "Note: you may need to restart the kernel to use updated packages.\n"
     ]
    }
   ],
   "source": [
    "pip install phik"
   ]
  },
  {
   "cell_type": "code",
   "execution_count": 2,
   "metadata": {},
   "outputs": [],
   "source": [
    "import pandas as pd\n",
    "import numpy as np\n",
    "from IPython.display import display\n",
    "from scipy import stats as st\n",
    "import matplotlib.pyplot as plt \n",
    "import seaborn as sns\n",
    "import phik"
   ]
  },
  {
   "cell_type": "markdown",
   "metadata": {},
   "source": [
    "## Загрузим и изучим данные\n",
    "* Загрузим данные.\n",
    "* Выведем первые строки набора данных.\n",
    "* Изучим общую информацию о датафрейме.\n",
    "* Изменим названия столбцов, если требуется.\n",
    "* Изменим типы данных, если требуется."
   ]
  },
  {
   "cell_type": "code",
   "execution_count": 3,
   "metadata": {},
   "outputs": [],
   "source": [
    "df = pd.read_csv('/datasets/bank_scrooge.csv')\n"
   ]
  },
  {
   "cell_type": "code",
   "execution_count": 4,
   "metadata": {},
   "outputs": [
    {
     "name": "stdout",
     "output_type": "stream",
     "text": [
      "\u001b[1mСтолбцы\u001b[0m\n"
     ]
    },
    {
     "data": {
      "text/plain": [
       "Index(['USERID', 'score', 'city', 'gender', 'age', 'equity', 'balance',\n",
       "       'products', 'credit_card', 'last_activity', 'EST_SALARY', 'churn'],\n",
       "      dtype='object')"
      ]
     },
     "metadata": {},
     "output_type": "display_data"
    },
    {
     "name": "stdout",
     "output_type": "stream",
     "text": [
      "\u001b[1mТип данных\u001b[0m\n",
      "<class 'pandas.core.frame.DataFrame'>\n",
      "RangeIndex: 10000 entries, 0 to 9999\n",
      "Data columns (total 12 columns):\n",
      " #   Column         Non-Null Count  Dtype  \n",
      "---  ------         --------------  -----  \n",
      " 0   USERID         10000 non-null  int64  \n",
      " 1   score          10000 non-null  float64\n",
      " 2   city           10000 non-null  object \n",
      " 3   gender         10000 non-null  object \n",
      " 4   age            9974 non-null   float64\n",
      " 5   equity         10000 non-null  int64  \n",
      " 6   balance        7705 non-null   float64\n",
      " 7   products       10000 non-null  int64  \n",
      " 8   credit_card    10000 non-null  int64  \n",
      " 9   last_activity  10000 non-null  int64  \n",
      " 10  EST_SALARY     10000 non-null  float64\n",
      " 11  churn          10000 non-null  int64  \n",
      "dtypes: float64(4), int64(6), object(2)\n",
      "memory usage: 937.6+ KB\n"
     ]
    },
    {
     "data": {
      "text/plain": [
       "None"
      ]
     },
     "metadata": {},
     "output_type": "display_data"
    },
    {
     "name": "stdout",
     "output_type": "stream",
     "text": [
      "\u001b[1mПервые пять строк файла\u001b[0m\n"
     ]
    },
    {
     "data": {
      "text/html": [
       "<div>\n",
       "<style scoped>\n",
       "    .dataframe tbody tr th:only-of-type {\n",
       "        vertical-align: middle;\n",
       "    }\n",
       "\n",
       "    .dataframe tbody tr th {\n",
       "        vertical-align: top;\n",
       "    }\n",
       "\n",
       "    .dataframe thead th {\n",
       "        text-align: right;\n",
       "    }\n",
       "</style>\n",
       "<table border=\"1\" class=\"dataframe\">\n",
       "  <thead>\n",
       "    <tr style=\"text-align: right;\">\n",
       "      <th></th>\n",
       "      <th>USERID</th>\n",
       "      <th>score</th>\n",
       "      <th>city</th>\n",
       "      <th>gender</th>\n",
       "      <th>age</th>\n",
       "      <th>equity</th>\n",
       "      <th>balance</th>\n",
       "      <th>products</th>\n",
       "      <th>credit_card</th>\n",
       "      <th>last_activity</th>\n",
       "      <th>EST_SALARY</th>\n",
       "      <th>churn</th>\n",
       "    </tr>\n",
       "  </thead>\n",
       "  <tbody>\n",
       "    <tr>\n",
       "      <th>0</th>\n",
       "      <td>183012</td>\n",
       "      <td>850.0</td>\n",
       "      <td>Рыбинск</td>\n",
       "      <td>Ж</td>\n",
       "      <td>25.0</td>\n",
       "      <td>1</td>\n",
       "      <td>59214.82</td>\n",
       "      <td>2</td>\n",
       "      <td>0</td>\n",
       "      <td>1</td>\n",
       "      <td>75719.14</td>\n",
       "      <td>1</td>\n",
       "    </tr>\n",
       "    <tr>\n",
       "      <th>1</th>\n",
       "      <td>146556</td>\n",
       "      <td>861.0</td>\n",
       "      <td>Рыбинск</td>\n",
       "      <td>Ж</td>\n",
       "      <td>37.0</td>\n",
       "      <td>5</td>\n",
       "      <td>850594.33</td>\n",
       "      <td>3</td>\n",
       "      <td>1</td>\n",
       "      <td>0</td>\n",
       "      <td>86621.77</td>\n",
       "      <td>0</td>\n",
       "    </tr>\n",
       "    <tr>\n",
       "      <th>2</th>\n",
       "      <td>120722</td>\n",
       "      <td>892.0</td>\n",
       "      <td>Рыбинск</td>\n",
       "      <td>Ж</td>\n",
       "      <td>30.0</td>\n",
       "      <td>0</td>\n",
       "      <td>NaN</td>\n",
       "      <td>1</td>\n",
       "      <td>1</td>\n",
       "      <td>1</td>\n",
       "      <td>107683.34</td>\n",
       "      <td>0</td>\n",
       "    </tr>\n",
       "    <tr>\n",
       "      <th>3</th>\n",
       "      <td>225363</td>\n",
       "      <td>866.0</td>\n",
       "      <td>Ярославль</td>\n",
       "      <td>Ж</td>\n",
       "      <td>51.0</td>\n",
       "      <td>5</td>\n",
       "      <td>1524746.26</td>\n",
       "      <td>2</td>\n",
       "      <td>0</td>\n",
       "      <td>1</td>\n",
       "      <td>174423.53</td>\n",
       "      <td>1</td>\n",
       "    </tr>\n",
       "    <tr>\n",
       "      <th>4</th>\n",
       "      <td>157978</td>\n",
       "      <td>730.0</td>\n",
       "      <td>Ярославль</td>\n",
       "      <td>М</td>\n",
       "      <td>34.0</td>\n",
       "      <td>5</td>\n",
       "      <td>174.00</td>\n",
       "      <td>1</td>\n",
       "      <td>1</td>\n",
       "      <td>0</td>\n",
       "      <td>67353.16</td>\n",
       "      <td>1</td>\n",
       "    </tr>\n",
       "  </tbody>\n",
       "</table>\n",
       "</div>"
      ],
      "text/plain": [
       "   USERID  score       city gender   age  equity     balance  products  \\\n",
       "0  183012  850.0    Рыбинск      Ж  25.0       1    59214.82         2   \n",
       "1  146556  861.0    Рыбинск      Ж  37.0       5   850594.33         3   \n",
       "2  120722  892.0    Рыбинск      Ж  30.0       0         NaN         1   \n",
       "3  225363  866.0  Ярославль      Ж  51.0       5  1524746.26         2   \n",
       "4  157978  730.0  Ярославль      М  34.0       5      174.00         1   \n",
       "\n",
       "   credit_card  last_activity  EST_SALARY  churn  \n",
       "0            0              1    75719.14      1  \n",
       "1            1              0    86621.77      0  \n",
       "2            1              1   107683.34      0  \n",
       "3            0              1   174423.53      1  \n",
       "4            1              0    67353.16      1  "
      ]
     },
     "metadata": {},
     "output_type": "display_data"
    }
   ],
   "source": [
    "# Добавим функцию для предварительного изучения данных\n",
    "def data_explore(df):\n",
    "        print('\\033[1m' +'Столбцы'+'\\033[0m')\n",
    "        display(df.columns)\n",
    "        print('\\033[1m' +'Тип данных'+'\\033[0m')\n",
    "        display(df.info())\n",
    "        print('\\033[1m' +'Первые пять строк файла'+ '\\033[0m')\n",
    "        display(df.head())\n",
    "#Запустим функцию        \n",
    "data_explore(df)"
   ]
  },
  {
   "cell_type": "markdown",
   "metadata": {},
   "source": [
    "**Комментарий:**\n",
    "- Приведем названия столбцов к нижнему реестру и заменим название столбеца userid на user_id\n",
    "- Типы данных оставим без изменения.\n",
    "- окрулим баланс и з/п до целого числа"
   ]
  },
  {
   "cell_type": "code",
   "execution_count": 5,
   "metadata": {},
   "outputs": [],
   "source": [
    "# Приведем название столбцов к нижнему реестру\n",
    "df.columns = [x.lower().replace(' ', '_') for x in df.columns]\n",
    "# Переименуем названия\n",
    "df.rename({'userid':'user_id'}, axis=1, inplace=True)"
   ]
  },
  {
   "cell_type": "code",
   "execution_count": 6,
   "metadata": {},
   "outputs": [],
   "source": [
    "df[['balance','est_salary']] = df[['balance','est_salary']].round()"
   ]
  },
  {
   "cell_type": "markdown",
   "metadata": {},
   "source": [
    "### Вывод по изучению данных\n",
    "- Привели названия столбцов к нижнему реестру и заменим название столбеца userid на user_id;\n",
    "- Типы данных оставили без изменения;\n",
    "- Окрулили баланс и з/п до целого числа.\n"
   ]
  },
  {
   "cell_type": "markdown",
   "metadata": {},
   "source": [
    "## Предобработка данных\n",
    "\n",
    "\n",
    "- Проверим наличие явных дубликатов в датафрейме. Обработаем их, если такие значения присутствуют.\n",
    "- Проверка неявных дубликатов.\n",
    "- Изучим  взаимосвязь пропусков в столбцах и по возможности обработаем.\n",
    "- Создание новых столбцов с кодированием категориальных переменных с помощью \"one-hot кодирования\".\n"
   ]
  },
  {
   "cell_type": "code",
   "execution_count": 7,
   "metadata": {},
   "outputs": [
    {
     "name": "stdout",
     "output_type": "stream",
     "text": [
      "\u001b[1mЕсть ли дубликаты в данных\u001b[0m\n"
     ]
    },
    {
     "data": {
      "text/plain": [
       "0"
      ]
     },
     "metadata": {},
     "output_type": "display_data"
    },
    {
     "name": "stdout",
     "output_type": "stream",
     "text": [
      "\u001b[1mДоля дубликатов в данных от общего количества\u001b[0m\n"
     ]
    },
    {
     "data": {
      "text/plain": [
       "0.0"
      ]
     },
     "metadata": {},
     "output_type": "display_data"
    },
    {
     "name": "stdout",
     "output_type": "stream",
     "text": [
      "\u001b[1mКоличество пропусков\u001b[0m\n"
     ]
    },
    {
     "data": {
      "text/plain": [
       "user_id             0\n",
       "score               0\n",
       "city                0\n",
       "gender              0\n",
       "age                26\n",
       "equity              0\n",
       "balance          2295\n",
       "products            0\n",
       "credit_card         0\n",
       "last_activity       0\n",
       "est_salary          0\n",
       "churn               0\n",
       "dtype: int64"
      ]
     },
     "metadata": {},
     "output_type": "display_data"
    },
    {
     "name": "stdout",
     "output_type": "stream",
     "text": [
      "\u001b[1mПропуски в % от общего объема данных в столбце \u001b[0m\n"
     ]
    },
    {
     "data": {
      "text/plain": [
       "user_id          0.0000\n",
       "score            0.0000\n",
       "city             0.0000\n",
       "gender           0.0000\n",
       "age              0.0026\n",
       "equity           0.0000\n",
       "balance          0.2295\n",
       "products         0.0000\n",
       "credit_card      0.0000\n",
       "last_activity    0.0000\n",
       "est_salary       0.0000\n",
       "churn            0.0000\n",
       "dtype: float64"
      ]
     },
     "metadata": {},
     "output_type": "display_data"
    },
    {
     "name": "stdout",
     "output_type": "stream",
     "text": [
      "\u001b[1mСвязаны ли линейно пропуски между собой\u001b[0m\n"
     ]
    },
    {
     "data": {
      "text/html": [
       "<div>\n",
       "<style scoped>\n",
       "    .dataframe tbody tr th:only-of-type {\n",
       "        vertical-align: middle;\n",
       "    }\n",
       "\n",
       "    .dataframe tbody tr th {\n",
       "        vertical-align: top;\n",
       "    }\n",
       "\n",
       "    .dataframe thead th {\n",
       "        text-align: right;\n",
       "    }\n",
       "</style>\n",
       "<table border=\"1\" class=\"dataframe\">\n",
       "  <thead>\n",
       "    <tr style=\"text-align: right;\">\n",
       "      <th></th>\n",
       "      <th>age</th>\n",
       "      <th>balance</th>\n",
       "    </tr>\n",
       "  </thead>\n",
       "  <tbody>\n",
       "    <tr>\n",
       "      <th>age</th>\n",
       "      <td>1.000000</td>\n",
       "      <td>0.046852</td>\n",
       "    </tr>\n",
       "    <tr>\n",
       "      <th>balance</th>\n",
       "      <td>0.046852</td>\n",
       "      <td>1.000000</td>\n",
       "    </tr>\n",
       "  </tbody>\n",
       "</table>\n",
       "</div>"
      ],
      "text/plain": [
       "              age   balance\n",
       "age      1.000000  0.046852\n",
       "balance  0.046852  1.000000"
      ]
     },
     "metadata": {},
     "output_type": "display_data"
    },
    {
     "name": "stdout",
     "output_type": "stream",
     "text": [
      "\u001b[1mПропуски в % от общего объема данных в столбце \u001b[0m\n"
     ]
    },
    {
     "data": {
      "image/png": "[encoded data removed]",
      "text/plain": [
       "<Figure size 1368x432 with 1 Axes>"
      ]
     },
     "metadata": {
      "needs_background": "light"
     },
     "output_type": "display_data"
    }
   ],
   "source": [
    "#Создадим функцию для поиска дубликатов и пропусков\n",
    "def data_preproceses(df):\n",
    "    print('\\033[1m' +'Есть ли дубликаты в данных'+'\\033[0m')\n",
    "    display(df.duplicated().sum())\n",
    "    print('\\033[1m' +'Доля дубликатов в данных от общего количества'+'\\033[0m')\n",
    "    display(df.duplicated().sum() / len(df))\n",
    "    print('\\033[1m' +'Количество пропусков'+'\\033[0m')\n",
    "    display(df.isna().sum())\n",
    "    print('\\033[1m' +'Пропуски в % от общего объема данных в столбце '+'\\033[0m')\n",
    "    display(df.isna().mean())\n",
    "    print('\\033[1m' +'Связаны ли линейно пропуски между собой'+'\\033[0m')\n",
    "    data = df.iloc[:, [i for i, n in enumerate(np.var(df.isnull(), axis = 'rows')) if n > 0]]\n",
    "    display(data.isnull().corr())\n",
    "    def pass_value_barh(df):\n",
    "        try:\n",
    "            (\n",
    "                (df.isna().mean()*100)\n",
    "                .to_frame()\n",
    "                .rename(columns = {0:'space'})\n",
    "                .query('space > 0')\n",
    "                .sort_values(by = 'space', ascending = True)\n",
    "                .plot(kind = 'barh', figsize = (19,6), rot = 0, legend = False, fontsize = 16)\n",
    "                .set_title('Процент пропусков в столбцах' + \"\\n\", fontsize = 22, color = 'SteelBlue')    \n",
    "            );\n",
    "        except:\n",
    "            print('пропусков не осталось :) или произошла ошибка в первой части функции ')\n",
    "    print('\\033[1m' +'Пропуски в % от общего объема данных в столбце '+'\\033[0m')\n",
    "    pass_value_barh(df)\n",
    "#Запустим функцию\n",
    "data_preproceses(df)"
   ]
  },
  {
   "cell_type": "markdown",
   "metadata": {},
   "source": [
    "**Комментарий:**\n",
    "- Явные дубликаты не обнаружены,\n",
    "- Проверим на наличие не явных дубликатов,\n",
    "- Пропуски есть в в столбцах balance (23 % от всех данных) и age ( 0,26 % от всех данных).\n",
    "- Линейно  пропуски между собой не связаны, связь по шкале Чеддока не доходит и до слабой . \n",
    "- Посчитаем по каждому столбцу меру центральной тенденции, чтобы понять взаимосвязь пропусков с значением в столбцах:\n",
    "- a) для количественных данных  в качестве меры выберем медиану, т.к. не уверены что данные нормально распределены (т.е. данные могут быть асимметричны или содержать выбросы)\n",
    "- б) для качественных создадим новый  столбец с признаком, принимающий 1, если в наблюдении пропущенно значение признака и 0, ели в наблюдении значение признака не пропущенно"
   ]
  },
  {
   "cell_type": "markdown",
   "metadata": {},
   "source": [
    "### Обработка не явных дубликатов"
   ]
  },
  {
   "cell_type": "code",
   "execution_count": 8,
   "metadata": {},
   "outputs": [
    {
     "data": {
      "text/plain": [
       "user_id          73\n",
       "score            73\n",
       "city             73\n",
       "gender           73\n",
       "age              51\n",
       "equity           73\n",
       "balance          38\n",
       "products         73\n",
       "credit_card      73\n",
       "last_activity    73\n",
       "est_salary       73\n",
       "churn            73\n",
       "dtype: int64"
      ]
     },
     "execution_count": 8,
     "metadata": {},
     "output_type": "execute_result"
    }
   ],
   "source": [
    "# Выявим неявные дубликаты по столбцу user_id\n",
    "df[df.duplicated(['user_id'])].count()"
   ]
  },
  {
   "cell_type": "code",
   "execution_count": 9,
   "metadata": {},
   "outputs": [
    {
     "data": {
      "text/html": [
       "<div>\n",
       "<style scoped>\n",
       "    .dataframe tbody tr th:only-of-type {\n",
       "        vertical-align: middle;\n",
       "    }\n",
       "\n",
       "    .dataframe tbody tr th {\n",
       "        vertical-align: top;\n",
       "    }\n",
       "\n",
       "    .dataframe thead th {\n",
       "        text-align: right;\n",
       "    }\n",
       "</style>\n",
       "<table border=\"1\" class=\"dataframe\">\n",
       "  <thead>\n",
       "    <tr style=\"text-align: right;\">\n",
       "      <th></th>\n",
       "      <th>user_id</th>\n",
       "      <th>score</th>\n",
       "      <th>city</th>\n",
       "      <th>gender</th>\n",
       "      <th>age</th>\n",
       "      <th>equity</th>\n",
       "      <th>balance</th>\n",
       "      <th>products</th>\n",
       "      <th>credit_card</th>\n",
       "      <th>last_activity</th>\n",
       "      <th>est_salary</th>\n",
       "      <th>churn</th>\n",
       "    </tr>\n",
       "  </thead>\n",
       "  <tbody>\n",
       "    <tr>\n",
       "      <th>1893</th>\n",
       "      <td>116540</td>\n",
       "      <td>883.0</td>\n",
       "      <td>Рыбинск</td>\n",
       "      <td>Ж</td>\n",
       "      <td>55.0</td>\n",
       "      <td>1</td>\n",
       "      <td>362756.0</td>\n",
       "      <td>3</td>\n",
       "      <td>0</td>\n",
       "      <td>1</td>\n",
       "      <td>175920.0</td>\n",
       "      <td>1</td>\n",
       "    </tr>\n",
       "    <tr>\n",
       "      <th>7694</th>\n",
       "      <td>116540</td>\n",
       "      <td>887.0</td>\n",
       "      <td>Ярославль</td>\n",
       "      <td>Ж</td>\n",
       "      <td>38.0</td>\n",
       "      <td>0</td>\n",
       "      <td>NaN</td>\n",
       "      <td>1</td>\n",
       "      <td>0</td>\n",
       "      <td>1</td>\n",
       "      <td>119248.0</td>\n",
       "      <td>0</td>\n",
       "    </tr>\n",
       "    <tr>\n",
       "      <th>7542</th>\n",
       "      <td>117943</td>\n",
       "      <td>880.0</td>\n",
       "      <td>Ярославль</td>\n",
       "      <td>Ж</td>\n",
       "      <td>40.0</td>\n",
       "      <td>0</td>\n",
       "      <td>NaN</td>\n",
       "      <td>1</td>\n",
       "      <td>1</td>\n",
       "      <td>0</td>\n",
       "      <td>137719.0</td>\n",
       "      <td>0</td>\n",
       "    </tr>\n",
       "    <tr>\n",
       "      <th>4866</th>\n",
       "      <td>117943</td>\n",
       "      <td>855.0</td>\n",
       "      <td>Рыбинск</td>\n",
       "      <td>Ж</td>\n",
       "      <td>32.0</td>\n",
       "      <td>6</td>\n",
       "      <td>1036833.0</td>\n",
       "      <td>4</td>\n",
       "      <td>1</td>\n",
       "      <td>1</td>\n",
       "      <td>107793.0</td>\n",
       "      <td>1</td>\n",
       "    </tr>\n",
       "    <tr>\n",
       "      <th>5896</th>\n",
       "      <td>120258</td>\n",
       "      <td>905.0</td>\n",
       "      <td>Ярославль</td>\n",
       "      <td>М</td>\n",
       "      <td>30.0</td>\n",
       "      <td>0</td>\n",
       "      <td>NaN</td>\n",
       "      <td>1</td>\n",
       "      <td>1</td>\n",
       "      <td>1</td>\n",
       "      <td>146428.0</td>\n",
       "      <td>0</td>\n",
       "    </tr>\n",
       "    <tr>\n",
       "      <th>5863</th>\n",
       "      <td>120258</td>\n",
       "      <td>908.0</td>\n",
       "      <td>Рыбинск</td>\n",
       "      <td>Ж</td>\n",
       "      <td>38.0</td>\n",
       "      <td>4</td>\n",
       "      <td>2213582.0</td>\n",
       "      <td>2</td>\n",
       "      <td>0</td>\n",
       "      <td>1</td>\n",
       "      <td>160328.0</td>\n",
       "      <td>1</td>\n",
       "    </tr>\n",
       "    <tr>\n",
       "      <th>1411</th>\n",
       "      <td>123461</td>\n",
       "      <td>829.0</td>\n",
       "      <td>Ярославль</td>\n",
       "      <td>Ж</td>\n",
       "      <td>59.0</td>\n",
       "      <td>0</td>\n",
       "      <td>96222.0</td>\n",
       "      <td>2</td>\n",
       "      <td>0</td>\n",
       "      <td>1</td>\n",
       "      <td>102772.0</td>\n",
       "      <td>1</td>\n",
       "    </tr>\n",
       "    <tr>\n",
       "      <th>8638</th>\n",
       "      <td>123461</td>\n",
       "      <td>934.0</td>\n",
       "      <td>Рыбинск</td>\n",
       "      <td>М</td>\n",
       "      <td>34.0</td>\n",
       "      <td>0</td>\n",
       "      <td>NaN</td>\n",
       "      <td>2</td>\n",
       "      <td>1</td>\n",
       "      <td>0</td>\n",
       "      <td>291619.0</td>\n",
       "      <td>0</td>\n",
       "    </tr>\n",
       "    <tr>\n",
       "      <th>8164</th>\n",
       "      <td>124450</td>\n",
       "      <td>859.0</td>\n",
       "      <td>Ярославль</td>\n",
       "      <td>Ж</td>\n",
       "      <td>38.0</td>\n",
       "      <td>6</td>\n",
       "      <td>516811.0</td>\n",
       "      <td>1</td>\n",
       "      <td>1</td>\n",
       "      <td>1</td>\n",
       "      <td>95145.0</td>\n",
       "      <td>1</td>\n",
       "    </tr>\n",
       "    <tr>\n",
       "      <th>9775</th>\n",
       "      <td>124450</td>\n",
       "      <td>758.0</td>\n",
       "      <td>Рыбинск</td>\n",
       "      <td>Ж</td>\n",
       "      <td>36.0</td>\n",
       "      <td>0</td>\n",
       "      <td>73574.0</td>\n",
       "      <td>2</td>\n",
       "      <td>0</td>\n",
       "      <td>1</td>\n",
       "      <td>79964.0</td>\n",
       "      <td>0</td>\n",
       "    </tr>\n",
       "  </tbody>\n",
       "</table>\n",
       "</div>"
      ],
      "text/plain": [
       "      user_id  score       city gender   age  equity    balance  products  \\\n",
       "1893   116540  883.0    Рыбинск      Ж  55.0       1   362756.0         3   \n",
       "7694   116540  887.0  Ярославль      Ж  38.0       0        NaN         1   \n",
       "7542   117943  880.0  Ярославль      Ж  40.0       0        NaN         1   \n",
       "4866   117943  855.0    Рыбинск      Ж  32.0       6  1036833.0         4   \n",
       "5896   120258  905.0  Ярославль      М  30.0       0        NaN         1   \n",
       "5863   120258  908.0    Рыбинск      Ж  38.0       4  2213582.0         2   \n",
       "1411   123461  829.0  Ярославль      Ж  59.0       0    96222.0         2   \n",
       "8638   123461  934.0    Рыбинск      М  34.0       0        NaN         2   \n",
       "8164   124450  859.0  Ярославль      Ж  38.0       6   516811.0         1   \n",
       "9775   124450  758.0    Рыбинск      Ж  36.0       0    73574.0         2   \n",
       "\n",
       "      credit_card  last_activity  est_salary  churn  \n",
       "1893            0              1    175920.0      1  \n",
       "7694            0              1    119248.0      0  \n",
       "7542            1              0    137719.0      0  \n",
       "4866            1              1    107793.0      1  \n",
       "5896            1              1    146428.0      0  \n",
       "5863            0              1    160328.0      1  \n",
       "1411            0              1    102772.0      1  \n",
       "8638            1              0    291619.0      0  \n",
       "8164            1              1     95145.0      1  \n",
       "9775            0              1     79964.0      0  "
      ]
     },
     "execution_count": 9,
     "metadata": {},
     "output_type": "execute_result"
    }
   ],
   "source": [
    "# Отсортируем по столбцу user_id, оставив дубликат и оригинал и изучим почему user_id повторяется \n",
    "df[df.duplicated(['user_id'], keep=False)].sort_values(by='user_id').head(10)"
   ]
  },
  {
   "cell_type": "markdown",
   "metadata": {},
   "source": [
    "**Комментарий:**\n",
    "Видим, что дублирующие id появились в результате того, что присвоение id в Банке не сквозное, т.о. в разных городах появились клиенты с одинаковым id, но разным возрастом, полом и т.д., для дальнейшего анализа нам это не мешает."
   ]
  },
  {
   "cell_type": "markdown",
   "metadata": {},
   "source": [
    "### Обработка пропусков"
   ]
  },
  {
   "cell_type": "markdown",
   "metadata": {},
   "source": [
    "#### Количественный тип данных"
   ]
  },
  {
   "cell_type": "code",
   "execution_count": 10,
   "metadata": {
    "scrolled": true
   },
   "outputs": [
    {
     "data": {
      "text/html": [
       "<div>\n",
       "<style scoped>\n",
       "    .dataframe tbody tr th:only-of-type {\n",
       "        vertical-align: middle;\n",
       "    }\n",
       "\n",
       "    .dataframe tbody tr th {\n",
       "        vertical-align: top;\n",
       "    }\n",
       "\n",
       "    .dataframe thead th {\n",
       "        text-align: right;\n",
       "    }\n",
       "</style>\n",
       "<table border=\"1\" class=\"dataframe\">\n",
       "  <thead>\n",
       "    <tr style=\"text-align: right;\">\n",
       "      <th></th>\n",
       "      <th>user_id</th>\n",
       "      <th>score</th>\n",
       "      <th>age</th>\n",
       "      <th>equity</th>\n",
       "      <th>balance</th>\n",
       "      <th>products</th>\n",
       "      <th>credit_card</th>\n",
       "      <th>last_activity</th>\n",
       "      <th>est_salary</th>\n",
       "      <th>churn</th>\n",
       "    </tr>\n",
       "    <tr>\n",
       "      <th>age</th>\n",
       "      <th></th>\n",
       "      <th></th>\n",
       "      <th></th>\n",
       "      <th></th>\n",
       "      <th></th>\n",
       "      <th></th>\n",
       "      <th></th>\n",
       "      <th></th>\n",
       "      <th></th>\n",
       "      <th></th>\n",
       "    </tr>\n",
       "  </thead>\n",
       "  <tbody>\n",
       "    <tr>\n",
       "      <th>False</th>\n",
       "      <td>172643</td>\n",
       "      <td>853.0</td>\n",
       "      <td>40.0</td>\n",
       "      <td>3</td>\n",
       "      <td>524295.0</td>\n",
       "      <td>2</td>\n",
       "      <td>1</td>\n",
       "      <td>1</td>\n",
       "      <td>119627.0</td>\n",
       "      <td>0</td>\n",
       "    </tr>\n",
       "    <tr>\n",
       "      <th>True</th>\n",
       "      <td>208447</td>\n",
       "      <td>888.5</td>\n",
       "      <td>NaN</td>\n",
       "      <td>0</td>\n",
       "      <td>417361.0</td>\n",
       "      <td>1</td>\n",
       "      <td>1</td>\n",
       "      <td>1</td>\n",
       "      <td>142599.0</td>\n",
       "      <td>0</td>\n",
       "    </tr>\n",
       "  </tbody>\n",
       "</table>\n",
       "</div>"
      ],
      "text/plain": [
       "       user_id  score   age  equity   balance  products  credit_card  \\\n",
       "age                                                                    \n",
       "False   172643  853.0  40.0       3  524295.0         2            1   \n",
       "True    208447  888.5   NaN       0  417361.0         1            1   \n",
       "\n",
       "       last_activity  est_salary  churn  \n",
       "age                                      \n",
       "False              1    119627.0      0  \n",
       "True               1    142599.0      0  "
      ]
     },
     "execution_count": 10,
     "metadata": {},
     "output_type": "execute_result"
    }
   ],
   "source": [
    "# Изучим меру центральной тенденции по пропускам в столбце age\n",
    "df.groupby(df['age'].isnull()).median()"
   ]
  },
  {
   "cell_type": "code",
   "execution_count": 11,
   "metadata": {},
   "outputs": [
    {
     "data": {
      "text/html": [
       "<div>\n",
       "<style scoped>\n",
       "    .dataframe tbody tr th:only-of-type {\n",
       "        vertical-align: middle;\n",
       "    }\n",
       "\n",
       "    .dataframe tbody tr th {\n",
       "        vertical-align: top;\n",
       "    }\n",
       "\n",
       "    .dataframe thead th {\n",
       "        text-align: right;\n",
       "    }\n",
       "</style>\n",
       "<table border=\"1\" class=\"dataframe\">\n",
       "  <thead>\n",
       "    <tr style=\"text-align: right;\">\n",
       "      <th></th>\n",
       "      <th>user_id</th>\n",
       "      <th>score</th>\n",
       "      <th>age</th>\n",
       "      <th>equity</th>\n",
       "      <th>balance</th>\n",
       "      <th>products</th>\n",
       "      <th>credit_card</th>\n",
       "      <th>last_activity</th>\n",
       "      <th>est_salary</th>\n",
       "      <th>churn</th>\n",
       "    </tr>\n",
       "    <tr>\n",
       "      <th>balance</th>\n",
       "      <th></th>\n",
       "      <th></th>\n",
       "      <th></th>\n",
       "      <th></th>\n",
       "      <th></th>\n",
       "      <th></th>\n",
       "      <th></th>\n",
       "      <th></th>\n",
       "      <th></th>\n",
       "      <th></th>\n",
       "    </tr>\n",
       "  </thead>\n",
       "  <tbody>\n",
       "    <tr>\n",
       "      <th>False</th>\n",
       "      <td>172740</td>\n",
       "      <td>840.0</td>\n",
       "      <td>40.0</td>\n",
       "      <td>4</td>\n",
       "      <td>524272.0</td>\n",
       "      <td>2</td>\n",
       "      <td>1</td>\n",
       "      <td>1</td>\n",
       "      <td>106222.0</td>\n",
       "      <td>0</td>\n",
       "    </tr>\n",
       "    <tr>\n",
       "      <th>True</th>\n",
       "      <td>172659</td>\n",
       "      <td>903.0</td>\n",
       "      <td>40.0</td>\n",
       "      <td>0</td>\n",
       "      <td>NaN</td>\n",
       "      <td>1</td>\n",
       "      <td>1</td>\n",
       "      <td>1</td>\n",
       "      <td>174161.0</td>\n",
       "      <td>0</td>\n",
       "    </tr>\n",
       "  </tbody>\n",
       "</table>\n",
       "</div>"
      ],
      "text/plain": [
       "         user_id  score   age  equity   balance  products  credit_card  \\\n",
       "balance                                                                  \n",
       "False     172740  840.0  40.0       4  524272.0         2            1   \n",
       "True      172659  903.0  40.0       0       NaN         1            1   \n",
       "\n",
       "         last_activity  est_salary  churn  \n",
       "balance                                    \n",
       "False                1    106222.0      0  \n",
       "True                 1    174161.0      0  "
      ]
     },
     "execution_count": 11,
     "metadata": {},
     "output_type": "execute_result"
    }
   ],
   "source": [
    "# Изучим меру центральной тенденции по пропускам в столбце balance\n",
    "df.groupby(df['balance'].isnull()).median()"
   ]
  },
  {
   "cell_type": "code",
   "execution_count": 12,
   "metadata": {},
   "outputs": [
    {
     "data": {
      "text/html": [
       "<div>\n",
       "<style scoped>\n",
       "    .dataframe tbody tr th:only-of-type {\n",
       "        vertical-align: middle;\n",
       "    }\n",
       "\n",
       "    .dataframe tbody tr th {\n",
       "        vertical-align: top;\n",
       "    }\n",
       "\n",
       "    .dataframe thead th {\n",
       "        text-align: right;\n",
       "    }\n",
       "</style>\n",
       "<table border=\"1\" class=\"dataframe\">\n",
       "  <thead>\n",
       "    <tr style=\"text-align: right;\">\n",
       "      <th></th>\n",
       "      <th>user_id</th>\n",
       "      <th>score</th>\n",
       "      <th>city</th>\n",
       "      <th>gender</th>\n",
       "      <th>age</th>\n",
       "      <th>equity</th>\n",
       "      <th>balance</th>\n",
       "      <th>products</th>\n",
       "      <th>credit_card</th>\n",
       "      <th>last_activity</th>\n",
       "      <th>est_salary</th>\n",
       "      <th>churn</th>\n",
       "    </tr>\n",
       "  </thead>\n",
       "  <tbody>\n",
       "    <tr>\n",
       "      <th>6757</th>\n",
       "      <td>148456</td>\n",
       "      <td>813.0</td>\n",
       "      <td>Ярославль</td>\n",
       "      <td>М</td>\n",
       "      <td>20.0</td>\n",
       "      <td>2</td>\n",
       "      <td>0.0</td>\n",
       "      <td>2</td>\n",
       "      <td>1</td>\n",
       "      <td>0</td>\n",
       "      <td>23877.0</td>\n",
       "      <td>0</td>\n",
       "    </tr>\n",
       "    <tr>\n",
       "      <th>3900</th>\n",
       "      <td>179831</td>\n",
       "      <td>730.0</td>\n",
       "      <td>Ярославль</td>\n",
       "      <td>М</td>\n",
       "      <td>18.0</td>\n",
       "      <td>0</td>\n",
       "      <td>0.0</td>\n",
       "      <td>2</td>\n",
       "      <td>1</td>\n",
       "      <td>1</td>\n",
       "      <td>64548.0</td>\n",
       "      <td>0</td>\n",
       "    </tr>\n",
       "    <tr>\n",
       "      <th>6164</th>\n",
       "      <td>163445</td>\n",
       "      <td>745.0</td>\n",
       "      <td>Рыбинск</td>\n",
       "      <td>Ж</td>\n",
       "      <td>56.0</td>\n",
       "      <td>0</td>\n",
       "      <td>6.0</td>\n",
       "      <td>1</td>\n",
       "      <td>0</td>\n",
       "      <td>1</td>\n",
       "      <td>74698.0</td>\n",
       "      <td>1</td>\n",
       "    </tr>\n",
       "  </tbody>\n",
       "</table>\n",
       "</div>"
      ],
      "text/plain": [
       "      user_id  score       city gender   age  equity  balance  products  \\\n",
       "6757   148456  813.0  Ярославль      М  20.0       2      0.0         2   \n",
       "3900   179831  730.0  Ярославль      М  18.0       0      0.0         2   \n",
       "6164   163445  745.0    Рыбинск      Ж  56.0       0      6.0         1   \n",
       "\n",
       "      credit_card  last_activity  est_salary  churn  \n",
       "6757            1              0     23877.0      0  \n",
       "3900            1              1     64548.0      0  \n",
       "6164            0              1     74698.0      1  "
      ]
     },
     "execution_count": 12,
     "metadata": {},
     "output_type": "execute_result"
    }
   ],
   "source": [
    "df.sort_values(by='balance').head(3)"
   ]
  },
  {
   "cell_type": "markdown",
   "metadata": {},
   "source": [
    "**Комментарий:**\n",
    "\n",
    "- Пропуски в столбцах age и balance не имеют корреляцию, т.о. можно сказать, что линейной зависимости в отсутствии данных в этих столбцах нет.\n",
    "- Изучив меру центральной тенденции (за меру взята медиана) для количественных данных видим, что чаще пропущеные значения в возрасте и балансе встречается у клиентов с \"0\" оценкой собственности и 1 product, либо этот продукт ипотека и деньги поступают к списанию под ноль, либо  это техническая ошибка. Отнесем к категории MNAR (Отсутствуют не  случайно).  Ниже проведем корреляционный анализ, чтобы выявить наличие связи с этими столбцами или ее отсутствие."
   ]
  },
  {
   "cell_type": "markdown",
   "metadata": {},
   "source": [
    "#### Качественный тип данных"
   ]
  },
  {
   "cell_type": "markdown",
   "metadata": {},
   "source": [
    "##### Для столбца age"
   ]
  },
  {
   "cell_type": "code",
   "execution_count": 13,
   "metadata": {},
   "outputs": [
    {
     "data": {
      "text/html": [
       "<div>\n",
       "<style scoped>\n",
       "    .dataframe tbody tr th:only-of-type {\n",
       "        vertical-align: middle;\n",
       "    }\n",
       "\n",
       "    .dataframe tbody tr th {\n",
       "        vertical-align: top;\n",
       "    }\n",
       "\n",
       "    .dataframe thead th {\n",
       "        text-align: right;\n",
       "    }\n",
       "</style>\n",
       "<table border=\"1\" class=\"dataframe\">\n",
       "  <thead>\n",
       "    <tr style=\"text-align: right;\">\n",
       "      <th></th>\n",
       "      <th>user_id</th>\n",
       "      <th>score</th>\n",
       "      <th>city</th>\n",
       "      <th>gender</th>\n",
       "      <th>age</th>\n",
       "      <th>equity</th>\n",
       "      <th>balance</th>\n",
       "      <th>products</th>\n",
       "      <th>credit_card</th>\n",
       "      <th>last_activity</th>\n",
       "      <th>est_salary</th>\n",
       "      <th>churn</th>\n",
       "      <th>age_available</th>\n",
       "    </tr>\n",
       "  </thead>\n",
       "  <tbody>\n",
       "    <tr>\n",
       "      <th>0</th>\n",
       "      <td>183012</td>\n",
       "      <td>850.0</td>\n",
       "      <td>Рыбинск</td>\n",
       "      <td>Ж</td>\n",
       "      <td>25.0</td>\n",
       "      <td>1</td>\n",
       "      <td>59215.0</td>\n",
       "      <td>2</td>\n",
       "      <td>0</td>\n",
       "      <td>1</td>\n",
       "      <td>75719.0</td>\n",
       "      <td>1</td>\n",
       "      <td>1</td>\n",
       "    </tr>\n",
       "    <tr>\n",
       "      <th>1</th>\n",
       "      <td>146556</td>\n",
       "      <td>861.0</td>\n",
       "      <td>Рыбинск</td>\n",
       "      <td>Ж</td>\n",
       "      <td>37.0</td>\n",
       "      <td>5</td>\n",
       "      <td>850594.0</td>\n",
       "      <td>3</td>\n",
       "      <td>1</td>\n",
       "      <td>0</td>\n",
       "      <td>86622.0</td>\n",
       "      <td>0</td>\n",
       "      <td>1</td>\n",
       "    </tr>\n",
       "    <tr>\n",
       "      <th>2</th>\n",
       "      <td>120722</td>\n",
       "      <td>892.0</td>\n",
       "      <td>Рыбинск</td>\n",
       "      <td>Ж</td>\n",
       "      <td>30.0</td>\n",
       "      <td>0</td>\n",
       "      <td>NaN</td>\n",
       "      <td>1</td>\n",
       "      <td>1</td>\n",
       "      <td>1</td>\n",
       "      <td>107683.0</td>\n",
       "      <td>0</td>\n",
       "      <td>1</td>\n",
       "    </tr>\n",
       "  </tbody>\n",
       "</table>\n",
       "</div>"
      ],
      "text/plain": [
       "   user_id  score     city gender   age  equity   balance  products  \\\n",
       "0   183012  850.0  Рыбинск      Ж  25.0       1   59215.0         2   \n",
       "1   146556  861.0  Рыбинск      Ж  37.0       5  850594.0         3   \n",
       "2   120722  892.0  Рыбинск      Ж  30.0       0       NaN         1   \n",
       "\n",
       "   credit_card  last_activity  est_salary  churn  age_available  \n",
       "0            0              1     75719.0      1              1  \n",
       "1            1              0     86622.0      0              1  \n",
       "2            1              1    107683.0      0              1  "
      ]
     },
     "execution_count": 13,
     "metadata": {},
     "output_type": "execute_result"
    }
   ],
   "source": [
    "#создадим новый  столбец age_available c значением:\n",
    "#0- если в наблюдении нет значения age\n",
    "#1- если в наблюдении есть значения age\n",
    "df['age_available'] = np.where(df['age'].isnull(), 0,1)\n",
    "df.head(3)"
   ]
  },
  {
   "cell_type": "code",
   "execution_count": 14,
   "metadata": {},
   "outputs": [
    {
     "data": {
      "text/html": [
       "<div>\n",
       "<style scoped>\n",
       "    .dataframe tbody tr th:only-of-type {\n",
       "        vertical-align: middle;\n",
       "    }\n",
       "\n",
       "    .dataframe tbody tr th {\n",
       "        vertical-align: top;\n",
       "    }\n",
       "\n",
       "    .dataframe thead th {\n",
       "        text-align: right;\n",
       "    }\n",
       "</style>\n",
       "<table border=\"1\" class=\"dataframe\">\n",
       "  <thead>\n",
       "    <tr style=\"text-align: right;\">\n",
       "      <th>city</th>\n",
       "      <th>Ростов</th>\n",
       "      <th>Рыбинск</th>\n",
       "      <th>Ярославль</th>\n",
       "    </tr>\n",
       "    <tr>\n",
       "      <th>age_available</th>\n",
       "      <th></th>\n",
       "      <th></th>\n",
       "      <th></th>\n",
       "    </tr>\n",
       "  </thead>\n",
       "  <tbody>\n",
       "    <tr>\n",
       "      <th>0</th>\n",
       "      <td>1</td>\n",
       "      <td>12</td>\n",
       "      <td>13</td>\n",
       "    </tr>\n",
       "    <tr>\n",
       "      <th>1</th>\n",
       "      <td>1416</td>\n",
       "      <td>2683</td>\n",
       "      <td>5875</td>\n",
       "    </tr>\n",
       "  </tbody>\n",
       "</table>\n",
       "</div>"
      ],
      "text/plain": [
       "city           Ростов  Рыбинск  Ярославль\n",
       "age_available                            \n",
       "0                   1       12         13\n",
       "1                1416     2683       5875"
      ]
     },
     "execution_count": 14,
     "metadata": {},
     "output_type": "execute_result"
    }
   ],
   "source": [
    "# 0 нет значений в age\n",
    "#1 есть значения в  age\n",
    "\n",
    "df.pivot_table('user_id', 'age_available', 'city', 'count')"
   ]
  },
  {
   "cell_type": "code",
   "execution_count": 15,
   "metadata": {},
   "outputs": [
    {
     "data": {
      "text/html": [
       "<div>\n",
       "<style scoped>\n",
       "    .dataframe tbody tr th:only-of-type {\n",
       "        vertical-align: middle;\n",
       "    }\n",
       "\n",
       "    .dataframe tbody tr th {\n",
       "        vertical-align: top;\n",
       "    }\n",
       "\n",
       "    .dataframe thead th {\n",
       "        text-align: right;\n",
       "    }\n",
       "</style>\n",
       "<table border=\"1\" class=\"dataframe\">\n",
       "  <thead>\n",
       "    <tr style=\"text-align: right;\">\n",
       "      <th>gender</th>\n",
       "      <th>Ж</th>\n",
       "      <th>М</th>\n",
       "    </tr>\n",
       "    <tr>\n",
       "      <th>age_available</th>\n",
       "      <th></th>\n",
       "      <th></th>\n",
       "    </tr>\n",
       "  </thead>\n",
       "  <tbody>\n",
       "    <tr>\n",
       "      <th>0</th>\n",
       "      <td>12</td>\n",
       "      <td>14</td>\n",
       "    </tr>\n",
       "    <tr>\n",
       "      <th>1</th>\n",
       "      <td>4983</td>\n",
       "      <td>4991</td>\n",
       "    </tr>\n",
       "  </tbody>\n",
       "</table>\n",
       "</div>"
      ],
      "text/plain": [
       "gender            Ж     М\n",
       "age_available            \n",
       "0                12    14\n",
       "1              4983  4991"
      ]
     },
     "execution_count": 15,
     "metadata": {},
     "output_type": "execute_result"
    }
   ],
   "source": [
    "df.pivot_table('user_id', 'age_available', 'gender', 'count')"
   ]
  },
  {
   "cell_type": "markdown",
   "metadata": {},
   "source": [
    "##### Для столбца balance"
   ]
  },
  {
   "cell_type": "code",
   "execution_count": 16,
   "metadata": {},
   "outputs": [
    {
     "data": {
      "text/html": [
       "<div>\n",
       "<style scoped>\n",
       "    .dataframe tbody tr th:only-of-type {\n",
       "        vertical-align: middle;\n",
       "    }\n",
       "\n",
       "    .dataframe tbody tr th {\n",
       "        vertical-align: top;\n",
       "    }\n",
       "\n",
       "    .dataframe thead th {\n",
       "        text-align: right;\n",
       "    }\n",
       "</style>\n",
       "<table border=\"1\" class=\"dataframe\">\n",
       "  <thead>\n",
       "    <tr style=\"text-align: right;\">\n",
       "      <th></th>\n",
       "      <th>user_id</th>\n",
       "      <th>score</th>\n",
       "      <th>city</th>\n",
       "      <th>gender</th>\n",
       "      <th>age</th>\n",
       "      <th>equity</th>\n",
       "      <th>balance</th>\n",
       "      <th>products</th>\n",
       "      <th>credit_card</th>\n",
       "      <th>last_activity</th>\n",
       "      <th>est_salary</th>\n",
       "      <th>churn</th>\n",
       "      <th>age_available</th>\n",
       "      <th>balance_available</th>\n",
       "    </tr>\n",
       "  </thead>\n",
       "  <tbody>\n",
       "    <tr>\n",
       "      <th>0</th>\n",
       "      <td>183012</td>\n",
       "      <td>850.0</td>\n",
       "      <td>Рыбинск</td>\n",
       "      <td>Ж</td>\n",
       "      <td>25.0</td>\n",
       "      <td>1</td>\n",
       "      <td>59215.0</td>\n",
       "      <td>2</td>\n",
       "      <td>0</td>\n",
       "      <td>1</td>\n",
       "      <td>75719.0</td>\n",
       "      <td>1</td>\n",
       "      <td>1</td>\n",
       "      <td>1</td>\n",
       "    </tr>\n",
       "    <tr>\n",
       "      <th>1</th>\n",
       "      <td>146556</td>\n",
       "      <td>861.0</td>\n",
       "      <td>Рыбинск</td>\n",
       "      <td>Ж</td>\n",
       "      <td>37.0</td>\n",
       "      <td>5</td>\n",
       "      <td>850594.0</td>\n",
       "      <td>3</td>\n",
       "      <td>1</td>\n",
       "      <td>0</td>\n",
       "      <td>86622.0</td>\n",
       "      <td>0</td>\n",
       "      <td>1</td>\n",
       "      <td>1</td>\n",
       "    </tr>\n",
       "  </tbody>\n",
       "</table>\n",
       "</div>"
      ],
      "text/plain": [
       "   user_id  score     city gender   age  equity   balance  products  \\\n",
       "0   183012  850.0  Рыбинск      Ж  25.0       1   59215.0         2   \n",
       "1   146556  861.0  Рыбинск      Ж  37.0       5  850594.0         3   \n",
       "\n",
       "   credit_card  last_activity  est_salary  churn  age_available  \\\n",
       "0            0              1     75719.0      1              1   \n",
       "1            1              0     86622.0      0              1   \n",
       "\n",
       "   balance_available  \n",
       "0                  1  \n",
       "1                  1  "
      ]
     },
     "execution_count": 16,
     "metadata": {},
     "output_type": "execute_result"
    }
   ],
   "source": [
    "#создадим новый  столбец balance_available c значением:\n",
    "#0, если в наблюдении пропущенно значение balance\n",
    "#1, если в наблюдении значение признака не пропущенно balance\n",
    "df['balance_available'] = np.where(df['balance'].isnull(), 0,1)\n",
    "df.head(2)"
   ]
  },
  {
   "cell_type": "code",
   "execution_count": 17,
   "metadata": {},
   "outputs": [
    {
     "data": {
      "text/html": [
       "<div>\n",
       "<style scoped>\n",
       "    .dataframe tbody tr th:only-of-type {\n",
       "        vertical-align: middle;\n",
       "    }\n",
       "\n",
       "    .dataframe tbody tr th {\n",
       "        vertical-align: top;\n",
       "    }\n",
       "\n",
       "    .dataframe thead th {\n",
       "        text-align: right;\n",
       "    }\n",
       "</style>\n",
       "<table border=\"1\" class=\"dataframe\">\n",
       "  <thead>\n",
       "    <tr style=\"text-align: right;\">\n",
       "      <th>city</th>\n",
       "      <th>Ростов</th>\n",
       "      <th>Рыбинск</th>\n",
       "      <th>Ярославль</th>\n",
       "    </tr>\n",
       "    <tr>\n",
       "      <th>balance_available</th>\n",
       "      <th></th>\n",
       "      <th></th>\n",
       "      <th></th>\n",
       "    </tr>\n",
       "  </thead>\n",
       "  <tbody>\n",
       "    <tr>\n",
       "      <th>0</th>\n",
       "      <td>235</td>\n",
       "      <td>593</td>\n",
       "      <td>1467</td>\n",
       "    </tr>\n",
       "    <tr>\n",
       "      <th>1</th>\n",
       "      <td>1182</td>\n",
       "      <td>2102</td>\n",
       "      <td>4421</td>\n",
       "    </tr>\n",
       "  </tbody>\n",
       "</table>\n",
       "</div>"
      ],
      "text/plain": [
       "city               Ростов  Рыбинск  Ярославль\n",
       "balance_available                            \n",
       "0                     235      593       1467\n",
       "1                    1182     2102       4421"
      ]
     },
     "execution_count": 17,
     "metadata": {},
     "output_type": "execute_result"
    }
   ],
   "source": [
    "#0 нет значений в balance\n",
    "#1 есть значение в  age\n",
    "\n",
    "df.pivot_table('user_id', 'balance_available', 'city', 'count')"
   ]
  },
  {
   "cell_type": "code",
   "execution_count": 18,
   "metadata": {},
   "outputs": [
    {
     "data": {
      "text/html": [
       "<div>\n",
       "<style scoped>\n",
       "    .dataframe tbody tr th:only-of-type {\n",
       "        vertical-align: middle;\n",
       "    }\n",
       "\n",
       "    .dataframe tbody tr th {\n",
       "        vertical-align: top;\n",
       "    }\n",
       "\n",
       "    .dataframe thead th {\n",
       "        text-align: right;\n",
       "    }\n",
       "</style>\n",
       "<table border=\"1\" class=\"dataframe\">\n",
       "  <thead>\n",
       "    <tr style=\"text-align: right;\">\n",
       "      <th>gender</th>\n",
       "      <th>Ж</th>\n",
       "      <th>М</th>\n",
       "    </tr>\n",
       "    <tr>\n",
       "      <th>balance_available</th>\n",
       "      <th></th>\n",
       "      <th></th>\n",
       "    </tr>\n",
       "  </thead>\n",
       "  <tbody>\n",
       "    <tr>\n",
       "      <th>0</th>\n",
       "      <td>1013</td>\n",
       "      <td>1282</td>\n",
       "    </tr>\n",
       "    <tr>\n",
       "      <th>1</th>\n",
       "      <td>3982</td>\n",
       "      <td>3723</td>\n",
       "    </tr>\n",
       "  </tbody>\n",
       "</table>\n",
       "</div>"
      ],
      "text/plain": [
       "gender                Ж     М\n",
       "balance_available            \n",
       "0                  1013  1282\n",
       "1                  3982  3723"
      ]
     },
     "execution_count": 18,
     "metadata": {},
     "output_type": "execute_result"
    }
   ],
   "source": [
    "df.pivot_table('user_id', 'balance_available', 'gender', 'count')"
   ]
  },
  {
   "cell_type": "markdown",
   "metadata": {},
   "source": [
    "**Комментарий:** Для данных качественного типа, город и пол ни как не влиял на заполнение данных."
   ]
  },
  {
   "cell_type": "markdown",
   "metadata": {},
   "source": [
    "##### Корреляционный анализ пропусков"
   ]
  },
  {
   "cell_type": "code",
   "execution_count": 19,
   "metadata": {},
   "outputs": [
    {
     "data": {
      "image/png": "[encoded data removed]",
      "text/plain": [
       "<Figure size 432x288 with 2 Axes>"
      ]
     },
     "metadata": {
      "needs_background": "light"
     },
     "output_type": "display_data"
    }
   ],
   "source": [
    "sns.heatmap(df[['products', 'equity','balance_available', 'age_available']].corr(),\n",
    "            # дополнительно пропишем цветовую гамму\n",
    "            cmap= 'coolwarm',\n",
    "            # и зададим диапазон от -1 до 1\n",
    "            vmin = -1, vmax = 1);"
   ]
  },
  {
   "cell_type": "markdown",
   "metadata": {},
   "source": [
    "**Комментарий:**\n",
    "Видим, что действительно существует положительная корреляция количества продуктов и баллов собственности с пропусками в столбце баланс. А вот пропуски в возрасте не связаны с наличием продуктов и баллов собственности.\n",
    "Положительная корреляция — корреляция, при которой увеличение одной переменной связано с увеличением другой переменной, соответсвенно, если в балансе есть значение, то количество продуктов и баллов собственности у клиента  растет. "
   ]
  },
  {
   "cell_type": "code",
   "execution_count": 20,
   "metadata": {},
   "outputs": [
    {
     "data": {
      "text/plain": [
       "count    1.230000e+02\n",
       "mean     1.487693e+05\n",
       "std      1.327435e+05\n",
       "min      6.000000e+00\n",
       "25%      4.596300e+04\n",
       "50%      1.273370e+05\n",
       "75%      2.231660e+05\n",
       "max      1.145890e+06\n",
       "Name: balance, dtype: float64"
      ]
     },
     "execution_count": 20,
     "metadata": {},
     "output_type": "execute_result"
    }
   ],
   "source": [
    "# Можем ли мы заполнить эти данные 0? \n",
    "#Посмотрим на частоту встречаемости значений в столбце balance. Видим, что это вовсе не ноль.\n",
    "df.query('products ==1 and equity==0')['balance'].describe()"
   ]
  },
  {
   "cell_type": "markdown",
   "metadata": {},
   "source": [
    "**Комментарий:** Пропуски заполнять не станет, т.к. они не случайны, и заполнив \"наугад\", мы исказим данные."
   ]
  },
  {
   "cell_type": "markdown",
   "metadata": {},
   "source": [
    "### Создание новых столбцов с кодированием категориальных переменных с помощью \"one-hot кодирования\"."
   ]
  },
  {
   "cell_type": "code",
   "execution_count": 21,
   "metadata": {},
   "outputs": [
    {
     "data": {
      "text/html": [
       "<div>\n",
       "<style scoped>\n",
       "    .dataframe tbody tr th:only-of-type {\n",
       "        vertical-align: middle;\n",
       "    }\n",
       "\n",
       "    .dataframe tbody tr th {\n",
       "        vertical-align: top;\n",
       "    }\n",
       "\n",
       "    .dataframe thead th {\n",
       "        text-align: right;\n",
       "    }\n",
       "</style>\n",
       "<table border=\"1\" class=\"dataframe\">\n",
       "  <thead>\n",
       "    <tr style=\"text-align: right;\">\n",
       "      <th></th>\n",
       "      <th>user_id</th>\n",
       "      <th>score</th>\n",
       "      <th>city</th>\n",
       "      <th>gender</th>\n",
       "      <th>age</th>\n",
       "      <th>equity</th>\n",
       "      <th>balance</th>\n",
       "      <th>products</th>\n",
       "      <th>credit_card</th>\n",
       "      <th>last_activity</th>\n",
       "      <th>est_salary</th>\n",
       "      <th>churn</th>\n",
       "      <th>age_available</th>\n",
       "      <th>balance_available</th>\n",
       "      <th>city_dummy_Ростов</th>\n",
       "      <th>city_dummy_Рыбинск</th>\n",
       "      <th>city_dummy_Ярославль</th>\n",
       "      <th>gender_dummy_Ж</th>\n",
       "      <th>gender_dummy_М</th>\n",
       "    </tr>\n",
       "  </thead>\n",
       "  <tbody>\n",
       "    <tr>\n",
       "      <th>0</th>\n",
       "      <td>183012</td>\n",
       "      <td>850.0</td>\n",
       "      <td>Рыбинск</td>\n",
       "      <td>Ж</td>\n",
       "      <td>25.0</td>\n",
       "      <td>1</td>\n",
       "      <td>59215.0</td>\n",
       "      <td>2</td>\n",
       "      <td>0</td>\n",
       "      <td>1</td>\n",
       "      <td>75719.0</td>\n",
       "      <td>1</td>\n",
       "      <td>1</td>\n",
       "      <td>1</td>\n",
       "      <td>0</td>\n",
       "      <td>1</td>\n",
       "      <td>0</td>\n",
       "      <td>1</td>\n",
       "      <td>0</td>\n",
       "    </tr>\n",
       "    <tr>\n",
       "      <th>1</th>\n",
       "      <td>146556</td>\n",
       "      <td>861.0</td>\n",
       "      <td>Рыбинск</td>\n",
       "      <td>Ж</td>\n",
       "      <td>37.0</td>\n",
       "      <td>5</td>\n",
       "      <td>850594.0</td>\n",
       "      <td>3</td>\n",
       "      <td>1</td>\n",
       "      <td>0</td>\n",
       "      <td>86622.0</td>\n",
       "      <td>0</td>\n",
       "      <td>1</td>\n",
       "      <td>1</td>\n",
       "      <td>0</td>\n",
       "      <td>1</td>\n",
       "      <td>0</td>\n",
       "      <td>1</td>\n",
       "      <td>0</td>\n",
       "    </tr>\n",
       "    <tr>\n",
       "      <th>2</th>\n",
       "      <td>120722</td>\n",
       "      <td>892.0</td>\n",
       "      <td>Рыбинск</td>\n",
       "      <td>Ж</td>\n",
       "      <td>30.0</td>\n",
       "      <td>0</td>\n",
       "      <td>NaN</td>\n",
       "      <td>1</td>\n",
       "      <td>1</td>\n",
       "      <td>1</td>\n",
       "      <td>107683.0</td>\n",
       "      <td>0</td>\n",
       "      <td>1</td>\n",
       "      <td>0</td>\n",
       "      <td>0</td>\n",
       "      <td>1</td>\n",
       "      <td>0</td>\n",
       "      <td>1</td>\n",
       "      <td>0</td>\n",
       "    </tr>\n",
       "    <tr>\n",
       "      <th>3</th>\n",
       "      <td>225363</td>\n",
       "      <td>866.0</td>\n",
       "      <td>Ярославль</td>\n",
       "      <td>Ж</td>\n",
       "      <td>51.0</td>\n",
       "      <td>5</td>\n",
       "      <td>1524746.0</td>\n",
       "      <td>2</td>\n",
       "      <td>0</td>\n",
       "      <td>1</td>\n",
       "      <td>174424.0</td>\n",
       "      <td>1</td>\n",
       "      <td>1</td>\n",
       "      <td>1</td>\n",
       "      <td>0</td>\n",
       "      <td>0</td>\n",
       "      <td>1</td>\n",
       "      <td>1</td>\n",
       "      <td>0</td>\n",
       "    </tr>\n",
       "    <tr>\n",
       "      <th>4</th>\n",
       "      <td>157978</td>\n",
       "      <td>730.0</td>\n",
       "      <td>Ярославль</td>\n",
       "      <td>М</td>\n",
       "      <td>34.0</td>\n",
       "      <td>5</td>\n",
       "      <td>174.0</td>\n",
       "      <td>1</td>\n",
       "      <td>1</td>\n",
       "      <td>0</td>\n",
       "      <td>67353.0</td>\n",
       "      <td>1</td>\n",
       "      <td>1</td>\n",
       "      <td>1</td>\n",
       "      <td>0</td>\n",
       "      <td>0</td>\n",
       "      <td>1</td>\n",
       "      <td>0</td>\n",
       "      <td>1</td>\n",
       "    </tr>\n",
       "  </tbody>\n",
       "</table>\n",
       "</div>"
      ],
      "text/plain": [
       "   user_id  score       city gender   age  equity    balance  products  \\\n",
       "0   183012  850.0    Рыбинск      Ж  25.0       1    59215.0         2   \n",
       "1   146556  861.0    Рыбинск      Ж  37.0       5   850594.0         3   \n",
       "2   120722  892.0    Рыбинск      Ж  30.0       0        NaN         1   \n",
       "3   225363  866.0  Ярославль      Ж  51.0       5  1524746.0         2   \n",
       "4   157978  730.0  Ярославль      М  34.0       5      174.0         1   \n",
       "\n",
       "   credit_card  last_activity  est_salary  churn  age_available  \\\n",
       "0            0              1     75719.0      1              1   \n",
       "1            1              0     86622.0      0              1   \n",
       "2            1              1    107683.0      0              1   \n",
       "3            0              1    174424.0      1              1   \n",
       "4            1              0     67353.0      1              1   \n",
       "\n",
       "   balance_available  city_dummy_Ростов  city_dummy_Рыбинск  \\\n",
       "0                  1                  0                   1   \n",
       "1                  1                  0                   1   \n",
       "2                  0                  0                   1   \n",
       "3                  1                  0                   0   \n",
       "4                  1                  0                   0   \n",
       "\n",
       "   city_dummy_Ярославль  gender_dummy_Ж  gender_dummy_М  \n",
       "0                     0               1               0  \n",
       "1                     0               1               0  \n",
       "2                     0               1               0  \n",
       "3                     1               1               0  \n",
       "4                     1               0               1  "
      ]
     },
     "execution_count": 21,
     "metadata": {},
     "output_type": "execute_result"
    }
   ],
   "source": [
    "# one-hot кодирование стодбца gender и city\n",
    "df['city_dummy'] =  df['city']\n",
    "df['gender_dummy'] =  df['gender']\n",
    "df = pd.get_dummies(df, columns = ['city_dummy', 'gender_dummy'])\n",
    "df.head()"
   ]
  },
  {
   "cell_type": "code",
   "execution_count": 22,
   "metadata": {},
   "outputs": [],
   "source": [
    "# Удалим созданые столбцы, которые нам больше не понадобятся \n",
    "df.drop(['age_available','balance_available', 'gender_dummy_Ж'], axis = 1, inplace = True)"
   ]
  },
  {
   "cell_type": "markdown",
   "metadata": {},
   "source": [
    "### Вывод по предобработке данных\n",
    "\n",
    "- Явные дубликаты не обнаружены,\n",
    "- Обнаружены не явные дубликаты id, но выяснилось, что это разные клиенты, видимо у Банка не сквозная нумерация по городам.\n",
    "- Пропуски данных есть в в столбцах balance (23 % от всех данных) и age ( 0,26 % от всех данных):\n",
    "\n",
    "* Линейно  пропуски между собой не связаны, связь по шкале Чеддока умеренная, т.о. можно сказать, что линейной зависимости в отсутствии данных в этих столбцах нет.\n",
    "* Изучив меру центральной тенденции (за меру взята медиана) для количественных данных видим, что чаще пропущеные значения в возрасте и балансе встречается у клиентов с \"0\" оценкой собственности и одним product, либо этот продукт ипотека и деньги поступают к списанию под ноль, либо  это техническая ошибка. Отнесем к категории MNAR (Отсутствуют не  случайно).  Заполнять не будем, т.к. даже заполнение \"0\" исказит иследование,  в данных уже присутствует ноль, а  исследование наиболее часто всречающихся значений  в балансе по условиям, описанным выше, говорит нам о том, что это не 0. \n",
    "* Для данных качественного типа, город и пол ни как не влиял на заполнение данных.\n",
    "\n",
    "- Создали новые столбцы  для категориальных данных с one-hot кодированием."
   ]
  },
  {
   "cell_type": "markdown",
   "metadata": {},
   "source": [
    "## Исследовательский анализ данных\n",
    "\n",
    "- Опишем и визуализируем общую информацию о клиентах, построим портрет типичного клиента банка.\n",
    "- Определим аномальные данные. \n",
    "- Проведем корреляционный анализ о влиянии признака на отточность.\n",
    "- Сформулируем промежуточный итог о том, какие показатели влияют на отток (какие значения или интервалы этих признаков связаны с оттоком)"
   ]
  },
  {
   "cell_type": "markdown",
   "metadata": {},
   "source": [
    "### Общая информация о клиентах, портрет типичного клиента"
   ]
  },
  {
   "cell_type": "code",
   "execution_count": 23,
   "metadata": {},
   "outputs": [
    {
     "data": {
      "text/html": [
       "<div>\n",
       "<style scoped>\n",
       "    .dataframe tbody tr th:only-of-type {\n",
       "        vertical-align: middle;\n",
       "    }\n",
       "\n",
       "    .dataframe tbody tr th {\n",
       "        vertical-align: top;\n",
       "    }\n",
       "\n",
       "    .dataframe thead th {\n",
       "        text-align: right;\n",
       "    }\n",
       "</style>\n",
       "<table border=\"1\" class=\"dataframe\">\n",
       "  <thead>\n",
       "    <tr style=\"text-align: right;\">\n",
       "      <th></th>\n",
       "      <th>score</th>\n",
       "      <th>city</th>\n",
       "      <th>gender</th>\n",
       "      <th>age</th>\n",
       "      <th>equity</th>\n",
       "      <th>balance</th>\n",
       "      <th>products</th>\n",
       "      <th>est_salary</th>\n",
       "    </tr>\n",
       "  </thead>\n",
       "  <tbody>\n",
       "    <tr>\n",
       "      <th>count</th>\n",
       "      <td>10000.000000</td>\n",
       "      <td>10000</td>\n",
       "      <td>10000</td>\n",
       "      <td>9974.000000</td>\n",
       "      <td>10000.000000</td>\n",
       "      <td>7.705000e+03</td>\n",
       "      <td>10000.000000</td>\n",
       "      <td>1.000000e+04</td>\n",
       "    </tr>\n",
       "    <tr>\n",
       "      <th>unique</th>\n",
       "      <td>NaN</td>\n",
       "      <td>3</td>\n",
       "      <td>2</td>\n",
       "      <td>NaN</td>\n",
       "      <td>NaN</td>\n",
       "      <td>NaN</td>\n",
       "      <td>NaN</td>\n",
       "      <td>NaN</td>\n",
       "    </tr>\n",
       "    <tr>\n",
       "      <th>top</th>\n",
       "      <td>NaN</td>\n",
       "      <td>Ярославль</td>\n",
       "      <td>М</td>\n",
       "      <td>NaN</td>\n",
       "      <td>NaN</td>\n",
       "      <td>NaN</td>\n",
       "      <td>NaN</td>\n",
       "      <td>NaN</td>\n",
       "    </tr>\n",
       "    <tr>\n",
       "      <th>freq</th>\n",
       "      <td>NaN</td>\n",
       "      <td>5888</td>\n",
       "      <td>5005</td>\n",
       "      <td>NaN</td>\n",
       "      <td>NaN</td>\n",
       "      <td>NaN</td>\n",
       "      <td>NaN</td>\n",
       "      <td>NaN</td>\n",
       "    </tr>\n",
       "    <tr>\n",
       "      <th>mean</th>\n",
       "      <td>848.699400</td>\n",
       "      <td>NaN</td>\n",
       "      <td>NaN</td>\n",
       "      <td>42.734409</td>\n",
       "      <td>2.627600</td>\n",
       "      <td>8.277943e+05</td>\n",
       "      <td>1.870100</td>\n",
       "      <td>1.478669e+05</td>\n",
       "    </tr>\n",
       "    <tr>\n",
       "      <th>std</th>\n",
       "      <td>65.448519</td>\n",
       "      <td>NaN</td>\n",
       "      <td>NaN</td>\n",
       "      <td>12.179971</td>\n",
       "      <td>1.980836</td>\n",
       "      <td>1.980614e+06</td>\n",
       "      <td>0.792647</td>\n",
       "      <td>1.393885e+05</td>\n",
       "    </tr>\n",
       "    <tr>\n",
       "      <th>min</th>\n",
       "      <td>642.000000</td>\n",
       "      <td>NaN</td>\n",
       "      <td>NaN</td>\n",
       "      <td>18.000000</td>\n",
       "      <td>0.000000</td>\n",
       "      <td>0.000000e+00</td>\n",
       "      <td>0.000000</td>\n",
       "      <td>2.546000e+03</td>\n",
       "    </tr>\n",
       "    <tr>\n",
       "      <th>25%</th>\n",
       "      <td>802.000000</td>\n",
       "      <td>NaN</td>\n",
       "      <td>NaN</td>\n",
       "      <td>33.000000</td>\n",
       "      <td>0.000000</td>\n",
       "      <td>2.955540e+05</td>\n",
       "      <td>1.000000</td>\n",
       "      <td>7.525200e+04</td>\n",
       "    </tr>\n",
       "    <tr>\n",
       "      <th>50%</th>\n",
       "      <td>853.000000</td>\n",
       "      <td>NaN</td>\n",
       "      <td>NaN</td>\n",
       "      <td>40.000000</td>\n",
       "      <td>3.000000</td>\n",
       "      <td>5.242720e+05</td>\n",
       "      <td>2.000000</td>\n",
       "      <td>1.196585e+05</td>\n",
       "    </tr>\n",
       "    <tr>\n",
       "      <th>75%</th>\n",
       "      <td>900.000000</td>\n",
       "      <td>NaN</td>\n",
       "      <td>NaN</td>\n",
       "      <td>51.000000</td>\n",
       "      <td>4.000000</td>\n",
       "      <td>9.807060e+05</td>\n",
       "      <td>2.000000</td>\n",
       "      <td>1.745005e+05</td>\n",
       "    </tr>\n",
       "    <tr>\n",
       "      <th>max</th>\n",
       "      <td>1000.000000</td>\n",
       "      <td>NaN</td>\n",
       "      <td>NaN</td>\n",
       "      <td>86.000000</td>\n",
       "      <td>9.000000</td>\n",
       "      <td>1.191136e+08</td>\n",
       "      <td>5.000000</td>\n",
       "      <td>1.395064e+06</td>\n",
       "    </tr>\n",
       "  </tbody>\n",
       "</table>\n",
       "</div>"
      ],
      "text/plain": [
       "               score       city gender          age        equity  \\\n",
       "count   10000.000000      10000  10000  9974.000000  10000.000000   \n",
       "unique           NaN          3      2          NaN           NaN   \n",
       "top              NaN  Ярославль      М          NaN           NaN   \n",
       "freq             NaN       5888   5005          NaN           NaN   \n",
       "mean      848.699400        NaN    NaN    42.734409      2.627600   \n",
       "std        65.448519        NaN    NaN    12.179971      1.980836   \n",
       "min       642.000000        NaN    NaN    18.000000      0.000000   \n",
       "25%       802.000000        NaN    NaN    33.000000      0.000000   \n",
       "50%       853.000000        NaN    NaN    40.000000      3.000000   \n",
       "75%       900.000000        NaN    NaN    51.000000      4.000000   \n",
       "max      1000.000000        NaN    NaN    86.000000      9.000000   \n",
       "\n",
       "             balance      products    est_salary  \n",
       "count   7.705000e+03  10000.000000  1.000000e+04  \n",
       "unique           NaN           NaN           NaN  \n",
       "top              NaN           NaN           NaN  \n",
       "freq             NaN           NaN           NaN  \n",
       "mean    8.277943e+05      1.870100  1.478669e+05  \n",
       "std     1.980614e+06      0.792647  1.393885e+05  \n",
       "min     0.000000e+00      0.000000  2.546000e+03  \n",
       "25%     2.955540e+05      1.000000  7.525200e+04  \n",
       "50%     5.242720e+05      2.000000  1.196585e+05  \n",
       "75%     9.807060e+05      2.000000  1.745005e+05  \n",
       "max     1.191136e+08      5.000000  1.395064e+06  "
      ]
     },
     "execution_count": 23,
     "metadata": {},
     "output_type": "execute_result"
    }
   ],
   "source": [
    "df[['score','city','gender','age', 'equity', 'balance','products','est_salary']].describe(include='all')"
   ]
  },
  {
   "cell_type": "markdown",
   "metadata": {},
   "source": [
    "**Комментарий:**\n",
    "* Балл кредитного скоринга клиента показывают миимальный балл 642, максимальные 1000 баллов, но все же в основном у клиентов банка довольно высокий балл надежности от 802 до 900 баллов.  \n",
    "\n",
    "* В Банке из 10.000 клиентов 5888 клиентов представлено из г.Ярославль.\n",
    "\n",
    "* Клиентов мужчин и женщин одинаковое количество.\n",
    "\n",
    "* Минимальный возраст клиента 18 лет, максимальный 86, но в основном это клиенты в возрасте 33-51 лет.\n",
    "\n",
    "* Минимальное значение оценки собственности это 0 максимальное 9, но чаще это  от 0 до 4 единиц.\n",
    "\n",
    "* Минимальный баланс  на счете 0, максимальный 119 млн, в основном же баланс от 3 млнр до 10 млнр.\n",
    "\n",
    "* Минимальное количество продуктов у клиента 0, что выглядит аномалией, посмотрим ниже,  максимальное 5, в основном от 1 до 2 продуктов.\n",
    "\n",
    "* Оценочный доход клиента составляем минимум 2.546р, максимальный 1.400.000р, в основном от 75.000р до 174.500р \n",
    "\n",
    "Итого портрет типичного клиента:\n",
    "\n",
    "|Критерий |Типичный клиент|\n",
    "|---------|----------------|\n",
    "|Балл кредитного скоринга| 802-900 баллов|\n",
    "|Возраст клиентов| 31-51 лет|\n",
    "|Балл собственности| 0-4 единиц|\n",
    "|Количество продуктов| 1-2|\n",
    "|Баланс на счете|3-10 млн.р|\n",
    "|Оценочный доход | 75 - 174 тр|\n",
    "|Пол| поровну мужской и женский|\n",
    "\n",
    "\n",
    "\n",
    "Аномалии заметили только в поле product, несмотря на то, что у баланса и оценочного дохода клиенты высокое стандартное отлонение, считаем что такое отклонение имеет место быть, тк. доходы у всех действительно разные."
   ]
  },
  {
   "cell_type": "markdown",
   "metadata": {},
   "source": [
    "### Изучим аномалию"
   ]
  },
  {
   "cell_type": "code",
   "execution_count": 24,
   "metadata": {},
   "outputs": [
    {
     "data": {
      "text/html": [
       "<div>\n",
       "<style scoped>\n",
       "    .dataframe tbody tr th:only-of-type {\n",
       "        vertical-align: middle;\n",
       "    }\n",
       "\n",
       "    .dataframe tbody tr th {\n",
       "        vertical-align: top;\n",
       "    }\n",
       "\n",
       "    .dataframe thead th {\n",
       "        text-align: right;\n",
       "    }\n",
       "</style>\n",
       "<table border=\"1\" class=\"dataframe\">\n",
       "  <thead>\n",
       "    <tr style=\"text-align: right;\">\n",
       "      <th></th>\n",
       "      <th>user_id</th>\n",
       "      <th>score</th>\n",
       "      <th>city</th>\n",
       "      <th>gender</th>\n",
       "      <th>age</th>\n",
       "      <th>equity</th>\n",
       "      <th>balance</th>\n",
       "      <th>products</th>\n",
       "      <th>credit_card</th>\n",
       "      <th>last_activity</th>\n",
       "      <th>est_salary</th>\n",
       "      <th>churn</th>\n",
       "      <th>city_dummy_Ростов</th>\n",
       "      <th>city_dummy_Рыбинск</th>\n",
       "      <th>city_dummy_Ярославль</th>\n",
       "      <th>gender_dummy_М</th>\n",
       "    </tr>\n",
       "  </thead>\n",
       "  <tbody>\n",
       "    <tr>\n",
       "      <th>8957</th>\n",
       "      <td>147837</td>\n",
       "      <td>962.0</td>\n",
       "      <td>Рыбинск</td>\n",
       "      <td>Ж</td>\n",
       "      <td>79.0</td>\n",
       "      <td>3</td>\n",
       "      <td>NaN</td>\n",
       "      <td>0</td>\n",
       "      <td>0</td>\n",
       "      <td>0</td>\n",
       "      <td>25064.0</td>\n",
       "      <td>1</td>\n",
       "      <td>0</td>\n",
       "      <td>1</td>\n",
       "      <td>0</td>\n",
       "      <td>0</td>\n",
       "    </tr>\n",
       "  </tbody>\n",
       "</table>\n",
       "</div>"
      ],
      "text/plain": [
       "      user_id  score     city gender   age  equity  balance  products  \\\n",
       "8957   147837  962.0  Рыбинск      Ж  79.0       3      NaN         0   \n",
       "\n",
       "      credit_card  last_activity  est_salary  churn  city_dummy_Ростов  \\\n",
       "8957            0              0     25064.0      1                  0   \n",
       "\n",
       "      city_dummy_Рыбинск  city_dummy_Ярославль  gender_dummy_М  \n",
       "8957                   1                     0               0  "
      ]
     },
     "execution_count": 24,
     "metadata": {},
     "output_type": "execute_result"
    }
   ],
   "source": [
    "#Изучим что за клиеенты с 0 продуктом\n",
    "df.query('products <1')"
   ]
  },
  {
   "cell_type": "code",
   "execution_count": 25,
   "metadata": {},
   "outputs": [],
   "source": [
    "# Уберем аномалию\n",
    "df = df.query('products >0')"
   ]
  },
  {
   "cell_type": "markdown",
   "metadata": {},
   "source": [
    "**Комментарий:** Удалили 1 клиента у которого 0 продуктов в Банке."
   ]
  },
  {
   "cell_type": "markdown",
   "metadata": {},
   "source": [
    "### Анализ влияния признаков на отточность."
   ]
  },
  {
   "cell_type": "code",
   "execution_count": 26,
   "metadata": {},
   "outputs": [
    {
     "name": "stdout",
     "output_type": "stream",
     "text": [
      "Отток клиентов в целом по Банку составляет 18.0 %\n"
     ]
    }
   ],
   "source": [
    "# Выявим отток в целом по Банку\n",
    "churn_all = round(len(df.query('churn ==1'))/len(df), 2)\n",
    "churn_percent = churn_all*100\n",
    "print(f'Отток клиентов в целом по Банку составляет {churn_percent} %')"
   ]
  },
  {
   "cell_type": "markdown",
   "metadata": {},
   "source": [
    "#### Доля оттока для непрерывных величин "
   ]
  },
  {
   "cell_type": "markdown",
   "metadata": {},
   "source": [
    "##### Доля оттока клиентов по баллам кредитного скоринга"
   ]
  },
  {
   "cell_type": "code",
   "execution_count": 27,
   "metadata": {},
   "outputs": [
    {
     "data": {
      "image/png": "[encoded data removed]",
      "text/plain": [
       "<Figure size 864x360 with 1 Axes>"
      ]
     },
     "metadata": {
      "needs_background": "light"
     },
     "output_type": "display_data"
    }
   ],
   "source": [
    "plt.figure(figsize=(12, 5))\n",
    "sns.histplot(x = 'score', hue = 'churn', data = df, bins = 50, stat='density', common_norm=False,kde = True)\n",
    "plt.legend(['Отток','Остались'])\n",
    "plt.xlabel('Баллы кредитного скоринга')\n",
    "plt.ylabel('Плотность веротности')\n",
    "plt.title('Доля оттока клиентов по баллам кредитного скоринга', fontsize=16);"
   ]
  },
  {
   "cell_type": "markdown",
   "metadata": {},
   "source": [
    "**Комментарий:**\n",
    "Отток клиентов возрастает когда балл кредитного скоринга достигает 820-900 баллов "
   ]
  },
  {
   "cell_type": "markdown",
   "metadata": {},
   "source": [
    "##### Доля оттока клиентов по возрасту"
   ]
  },
  {
   "cell_type": "code",
   "execution_count": 28,
   "metadata": {
    "scrolled": true
   },
   "outputs": [
    {
     "data": {
      "image/png": "[encoded data removed]",
      "text/plain": [
       "<Figure size 864x360 with 1 Axes>"
      ]
     },
     "metadata": {
      "needs_background": "light"
     },
     "output_type": "display_data"
    }
   ],
   "source": [
    "# в библиотеке Seaborn в x мы поместим количественный признак, в hue - категориальный\n",
    "plt.figure(figsize=(12, 5))\n",
    "sns.histplot(x = 'age', hue = 'churn', data = df, bins = 50, stat='density', common_norm=False,kde = True);\n",
    "plt.legend(['Отток','Остались'])\n",
    "plt.xlabel('Возраст клиента')\n",
    "plt.ylabel('Плотность веротности')\n",
    "plt.title('Доля оттока клиентов по возрасту', fontsize=16);"
   ]
  },
  {
   "cell_type": "markdown",
   "metadata": {},
   "source": [
    "**Комментарий:**\n",
    "Отток клиентов возрастает когда при возрасте клиентов от 25 лет до 35 лет и от 50  до 60 лет"
   ]
  },
  {
   "cell_type": "markdown",
   "metadata": {},
   "source": [
    "##### Доля оттока клиентов по баллам собственности"
   ]
  },
  {
   "cell_type": "code",
   "execution_count": 29,
   "metadata": {},
   "outputs": [
    {
     "data": {
      "image/png": "[encoded data removed]",
      "text/plain": [
       "<Figure size 864x360 with 1 Axes>"
      ]
     },
     "metadata": {
      "needs_background": "light"
     },
     "output_type": "display_data"
    }
   ],
   "source": [
    "plt.figure(figsize=(12, 5))\n",
    "sns.histplot(x = 'equity', hue = 'churn', data = df, bins = 20, stat='density', common_norm=False,kde = True)\n",
    "plt.legend(['Отток','Остались'])\n",
    "plt.xlabel('Баллы собственности')\n",
    "plt.ylabel('Плотность веротности')\n",
    "plt.title('Доля оттока клиентов по баллам собственности', fontsize=16);"
   ]
  },
  {
   "cell_type": "markdown",
   "metadata": {},
   "source": [
    "**Комментарий:**\n",
    "Отток клиентов возрастает когда балл собственности более 4 баллов"
   ]
  },
  {
   "cell_type": "markdown",
   "metadata": {},
   "source": [
    "##### Доля оттока клиентов по балансу на счете"
   ]
  },
  {
   "cell_type": "code",
   "execution_count": 30,
   "metadata": {},
   "outputs": [
    {
     "data": {
      "image/png": "[encoded data removed]",
      "text/plain": [
       "<Figure size 864x360 with 1 Axes>"
      ]
     },
     "metadata": {
      "needs_background": "light"
     },
     "output_type": "display_data"
    }
   ],
   "source": [
    "#Ограничим данные по столбцу баланс - 5 млнр, т.к. по графику видно, что \n",
    "#после 4млн график отточных клиентов и остающихся переходит в сплошную линию\n",
    "plt.figure(figsize=(12, 5))\n",
    "sns.histplot(\n",
    "    x = 'balance', hue = 'churn', data = df.query('balance<5e+06'), bins = 50, stat='density', common_norm=False,kde = True)\n",
    "plt.legend(['Отток','Остались'])\n",
    "plt.xlabel('Баланс клиента')\n",
    "plt.ylabel('Плотность веротности')\n",
    "plt.title('Доля оттока клиентов по балансу на счете', fontsize=16);"
   ]
  },
  {
   "cell_type": "markdown",
   "metadata": {},
   "source": [
    "**Комментарий:**\n",
    "Отток клиентов возрастает когда баланс на счете становится более 1.2 млн, но не превышает 4 млнр"
   ]
  },
  {
   "cell_type": "markdown",
   "metadata": {},
   "source": [
    "##### Доля оттока клиентов по оценочному доходу"
   ]
  },
  {
   "cell_type": "code",
   "execution_count": 31,
   "metadata": {},
   "outputs": [
    {
     "data": {
      "image/png": "[encoded data removed]",
      "text/plain": [
       "<Figure size 864x360 with 1 Axes>"
      ]
     },
     "metadata": {
      "needs_background": "light"
     },
     "output_type": "display_data"
    }
   ],
   "source": [
    "#Ограничим данные по столбцу оценочная з/п - 4 млнр, т.к. по графику видно, что \n",
    "#после 300тр график отточных клиентов и остающихся переходит в сплошную линию\n",
    "plt.figure(figsize=(12, 5))\n",
    "sns.histplot(\n",
    "    x = 'est_salary', \n",
    "    hue = 'churn', \n",
    "    data = df.query('est_salary<4e+05'), \n",
    "    bins = 20, \n",
    "    stat='density', \n",
    "    common_norm=False,\n",
    "    kde = True)\n",
    "plt.legend(['Отток','Остались'])\n",
    "plt.xlabel('Оценочный доход')\n",
    "plt.ylabel('Плотность веротности')\n",
    "plt.title('Доля оттока клиентов по оценочному доходу', fontsize=16);"
   ]
  },
  {
   "cell_type": "markdown",
   "metadata": {},
   "source": [
    "**Комментарий:**\n",
    "Отток клиентов возрастает когда оценочный доход клиента находится в пределах от 120 тр до 220 тр"
   ]
  },
  {
   "cell_type": "markdown",
   "metadata": {},
   "source": [
    "#### Доля оттока для категориальных величин "
   ]
  },
  {
   "cell_type": "markdown",
   "metadata": {},
   "source": [
    "Cоздадим таблицы сопряженности, таблица сопряженности позволяет количественно измерить зависимость одной категориальной переменной от другой. Для получения относительного количества наблюдений (относительных частот) используем параметр normalize,  в этом случае каждое значение будет разделено на общее количество наблюдений в строке. Затем для наглядности построим barplot."
   ]
  },
  {
   "cell_type": "markdown",
   "metadata": {},
   "source": [
    "##### Доля оттока клиентов по количеству продуктов"
   ]
  },
  {
   "cell_type": "code",
   "execution_count": 32,
   "metadata": {},
   "outputs": [
    {
     "data": {
      "text/html": [
       "<div>\n",
       "<style scoped>\n",
       "    .dataframe tbody tr th:only-of-type {\n",
       "        vertical-align: middle;\n",
       "    }\n",
       "\n",
       "    .dataframe tbody tr th {\n",
       "        vertical-align: top;\n",
       "    }\n",
       "\n",
       "    .dataframe thead th {\n",
       "        text-align: right;\n",
       "    }\n",
       "</style>\n",
       "<table border=\"1\" class=\"dataframe\">\n",
       "  <thead>\n",
       "    <tr style=\"text-align: right;\">\n",
       "      <th></th>\n",
       "      <th>Остались</th>\n",
       "      <th>Отток</th>\n",
       "    </tr>\n",
       "    <tr>\n",
       "      <th>products</th>\n",
       "      <th></th>\n",
       "      <th></th>\n",
       "    </tr>\n",
       "  </thead>\n",
       "  <tbody>\n",
       "    <tr>\n",
       "      <th>1</th>\n",
       "      <td>0.929662</td>\n",
       "      <td>0.070338</td>\n",
       "    </tr>\n",
       "    <tr>\n",
       "      <th>2</th>\n",
       "      <td>0.809013</td>\n",
       "      <td>0.190987</td>\n",
       "    </tr>\n",
       "    <tr>\n",
       "      <th>3</th>\n",
       "      <td>0.714148</td>\n",
       "      <td>0.285852</td>\n",
       "    </tr>\n",
       "    <tr>\n",
       "      <th>4</th>\n",
       "      <td>0.367089</td>\n",
       "      <td>0.632911</td>\n",
       "    </tr>\n",
       "    <tr>\n",
       "      <th>5</th>\n",
       "      <td>0.578947</td>\n",
       "      <td>0.421053</td>\n",
       "    </tr>\n",
       "  </tbody>\n",
       "</table>\n",
       "</div>"
      ],
      "text/plain": [
       "          Остались     Отток\n",
       "products                    \n",
       "1         0.929662  0.070338\n",
       "2         0.809013  0.190987\n",
       "3         0.714148  0.285852\n",
       "4         0.367089  0.632911\n",
       "5         0.578947  0.421053"
      ]
     },
     "execution_count": 32,
     "metadata": {},
     "output_type": "execute_result"
    }
   ],
   "source": [
    "df_products = pd.crosstab(index = df['products'], columns = df['churn'], normalize = 'index')\n",
    "# Исправим названия столбцов и строк \n",
    "df_products.columns = ['Остались', 'Отток']\n",
    "df_products"
   ]
  },
  {
   "cell_type": "code",
   "execution_count": 33,
   "metadata": {},
   "outputs": [
    {
     "data": {
      "image/png": "[encoded data removed]",
      "text/plain": [
       "<Figure size 864x360 with 1 Axes>"
      ]
     },
     "metadata": {
      "needs_background": "light"
     },
     "output_type": "display_data"
    }
   ],
   "source": [
    "# Построим барплот\n",
    "plt.figure(figsize=(12, 5))\n",
    "df_products['Отток'].plot.bar(rot = 0, stacked = True).legend(loc = 'upper left')\n",
    "plt.xlabel('Количество продуктов Банка у клиента')\n",
    "plt.ylabel('Доля')\n",
    "plt.title('Отток клиентов по количеству продуктов в Банке', fontsize=16)\n",
    "plt.axhline(y = churn_all, color = 'r', linestyle = '--') \n",
    "plt.annotate('Средний отток по Банку', xy=(0, churn_all)); "
   ]
  },
  {
   "cell_type": "markdown",
   "metadata": {},
   "source": [
    "**Комментарий:**\n",
    "Отток клиентов возрастает когда количество продуктов становится 3 и более"
   ]
  },
  {
   "cell_type": "markdown",
   "metadata": {},
   "source": [
    "##### Изучение оттока клиентов по полу"
   ]
  },
  {
   "cell_type": "code",
   "execution_count": 34,
   "metadata": {
    "scrolled": true
   },
   "outputs": [
    {
     "data": {
      "text/html": [
       "<div>\n",
       "<style scoped>\n",
       "    .dataframe tbody tr th:only-of-type {\n",
       "        vertical-align: middle;\n",
       "    }\n",
       "\n",
       "    .dataframe tbody tr th {\n",
       "        vertical-align: top;\n",
       "    }\n",
       "\n",
       "    .dataframe thead th {\n",
       "        text-align: right;\n",
       "    }\n",
       "</style>\n",
       "<table border=\"1\" class=\"dataframe\">\n",
       "  <thead>\n",
       "    <tr style=\"text-align: right;\">\n",
       "      <th></th>\n",
       "      <th>Остались</th>\n",
       "      <th>Отток</th>\n",
       "    </tr>\n",
       "  </thead>\n",
       "  <tbody>\n",
       "    <tr>\n",
       "      <th>Женщины</th>\n",
       "      <td>0.872647</td>\n",
       "      <td>0.127353</td>\n",
       "    </tr>\n",
       "    <tr>\n",
       "      <th>Мужчины</th>\n",
       "      <td>0.763636</td>\n",
       "      <td>0.236364</td>\n",
       "    </tr>\n",
       "  </tbody>\n",
       "</table>\n",
       "</div>"
      ],
      "text/plain": [
       "         Остались     Отток\n",
       "Женщины  0.872647  0.127353\n",
       "Мужчины  0.763636  0.236364"
      ]
     },
     "execution_count": 34,
     "metadata": {},
     "output_type": "execute_result"
    }
   ],
   "source": [
    "df_sex = pd.crosstab(index = df['gender'], columns = df['churn'], normalize = 'index')\n",
    "# Исправим названия столбцов и строк \n",
    "df_sex.index = ['Женщины', 'Мужчины']\n",
    "df_sex.columns = ['Остались', 'Отток']\n",
    "df_sex"
   ]
  },
  {
   "cell_type": "code",
   "execution_count": 35,
   "metadata": {},
   "outputs": [
    {
     "data": {
      "image/png": "[encoded data removed]",
      "text/plain": [
       "<Figure size 864x360 with 1 Axes>"
      ]
     },
     "metadata": {
      "needs_background": "light"
     },
     "output_type": "display_data"
    }
   ],
   "source": [
    "# Построим барплот\n",
    "plt.figure(figsize=(12, 5))\n",
    "df_sex['Отток'].plot.bar(rot = 0, stacked = True).legend(loc = 'upper left')\n",
    "plt.xlabel('Пол клиента')\n",
    "plt.ylabel('Доля')\n",
    "plt.title('Отток клиентов по полу', fontsize=16)\n",
    "plt.axhline(y = churn_all, color = 'r', linestyle = '--')\n",
    "plt.annotate('Средний отток по Банку', xy=(0, churn_all));"
   ]
  },
  {
   "cell_type": "markdown",
   "metadata": {},
   "source": [
    "**Комментарий:**\n",
    "Доля оттока клиентов мужского пола больше чем женского. "
   ]
  },
  {
   "cell_type": "markdown",
   "metadata": {},
   "source": [
    "##### Изучение оттока клиентов по городам"
   ]
  },
  {
   "cell_type": "code",
   "execution_count": 36,
   "metadata": {
    "scrolled": true
   },
   "outputs": [
    {
     "data": {
      "text/html": [
       "<div>\n",
       "<style scoped>\n",
       "    .dataframe tbody tr th:only-of-type {\n",
       "        vertical-align: middle;\n",
       "    }\n",
       "\n",
       "    .dataframe tbody tr th {\n",
       "        vertical-align: top;\n",
       "    }\n",
       "\n",
       "    .dataframe thead th {\n",
       "        text-align: right;\n",
       "    }\n",
       "</style>\n",
       "<table border=\"1\" class=\"dataframe\">\n",
       "  <thead>\n",
       "    <tr style=\"text-align: right;\">\n",
       "      <th></th>\n",
       "      <th>Остались</th>\n",
       "      <th>Отток</th>\n",
       "    </tr>\n",
       "    <tr>\n",
       "      <th>city</th>\n",
       "      <th></th>\n",
       "      <th></th>\n",
       "    </tr>\n",
       "  </thead>\n",
       "  <tbody>\n",
       "    <tr>\n",
       "      <th>Ярославль</th>\n",
       "      <td>0.810292</td>\n",
       "      <td>0.189708</td>\n",
       "    </tr>\n",
       "    <tr>\n",
       "      <th>Ростов</th>\n",
       "      <td>0.812279</td>\n",
       "      <td>0.187721</td>\n",
       "    </tr>\n",
       "    <tr>\n",
       "      <th>Рыбинск</th>\n",
       "      <td>0.838159</td>\n",
       "      <td>0.161841</td>\n",
       "    </tr>\n",
       "  </tbody>\n",
       "</table>\n",
       "</div>"
      ],
      "text/plain": [
       "           Остались     Отток\n",
       "city                         \n",
       "Ярославль  0.810292  0.189708\n",
       "Ростов     0.812279  0.187721\n",
       "Рыбинск    0.838159  0.161841"
      ]
     },
     "execution_count": 36,
     "metadata": {},
     "output_type": "execute_result"
    }
   ],
   "source": [
    "df_city = pd.crosstab(index = df['city'], columns = df['churn'], normalize = 'index')\n",
    "# Исправим названия столбцов \n",
    "df_city.columns = ['Остались', 'Отток']\n",
    "df_city = df_city.sort_values(by='Отток', ascending=False) \n",
    "df_city"
   ]
  },
  {
   "cell_type": "code",
   "execution_count": 37,
   "metadata": {},
   "outputs": [
    {
     "data": {
      "image/png": "[encoded data removed]",
      "text/plain": [
       "<Figure size 864x360 with 1 Axes>"
      ]
     },
     "metadata": {
      "needs_background": "light"
     },
     "output_type": "display_data"
    }
   ],
   "source": [
    "# Построим барплот\n",
    "plt.figure(figsize=(12, 5))\n",
    "df_city['Отток'].plot.bar(rot = 0, stacked = True).legend(loc = 'upper left')\n",
    "plt.xlabel('Город присутствия Банка ')\n",
    "plt.ylabel('Доля')\n",
    "plt.title('Отток клиентов по городам', fontsize=16)\n",
    "plt.axhline(y = churn_all, color = 'r', linestyle = '--')\n",
    "plt.annotate('Средний отток по Банку', xy=(0, churn_all));"
   ]
  },
  {
   "cell_type": "markdown",
   "metadata": {},
   "source": [
    "**Комментарий:**\n",
    "Доля оттока клиентов по городам в целом одинаковая, однако в Ярославле отток чуть выше на 0.2%, чем в других городах."
   ]
  },
  {
   "cell_type": "markdown",
   "metadata": {},
   "source": [
    "##### Изучение оттока клиентов по наличию кредитной карты"
   ]
  },
  {
   "cell_type": "code",
   "execution_count": 38,
   "metadata": {},
   "outputs": [
    {
     "data": {
      "text/html": [
       "<div>\n",
       "<style scoped>\n",
       "    .dataframe tbody tr th:only-of-type {\n",
       "        vertical-align: middle;\n",
       "    }\n",
       "\n",
       "    .dataframe tbody tr th {\n",
       "        vertical-align: top;\n",
       "    }\n",
       "\n",
       "    .dataframe thead th {\n",
       "        text-align: right;\n",
       "    }\n",
       "</style>\n",
       "<table border=\"1\" class=\"dataframe\">\n",
       "  <thead>\n",
       "    <tr style=\"text-align: right;\">\n",
       "      <th></th>\n",
       "      <th>Остались</th>\n",
       "      <th>Отток</th>\n",
       "    </tr>\n",
       "  </thead>\n",
       "  <tbody>\n",
       "    <tr>\n",
       "      <th>Нет кредитной карты</th>\n",
       "      <td>0.744601</td>\n",
       "      <td>0.255399</td>\n",
       "    </tr>\n",
       "    <tr>\n",
       "      <th>Есть кредитная карта</th>\n",
       "      <td>0.852587</td>\n",
       "      <td>0.147413</td>\n",
       "    </tr>\n",
       "  </tbody>\n",
       "</table>\n",
       "</div>"
      ],
      "text/plain": [
       "                      Остались     Отток\n",
       "Нет кредитной карты   0.744601  0.255399\n",
       "Есть кредитная карта  0.852587  0.147413"
      ]
     },
     "execution_count": 38,
     "metadata": {},
     "output_type": "execute_result"
    }
   ],
   "source": [
    "df_credit_card = pd.crosstab(index = df['credit_card'], columns = df['churn'], normalize = 'index')\n",
    "# Исправим названия столбцов и строк \n",
    "df_credit_card.index = ['Нет кредитной карты', 'Есть кредитная карта']\n",
    "df_credit_card.columns = ['Остались', 'Отток']\n",
    "df_credit_card"
   ]
  },
  {
   "cell_type": "code",
   "execution_count": 39,
   "metadata": {},
   "outputs": [
    {
     "data": {
      "image/png": "[encoded data removed]",
      "text/plain": [
       "<Figure size 864x360 with 1 Axes>"
      ]
     },
     "metadata": {
      "needs_background": "light"
     },
     "output_type": "display_data"
    }
   ],
   "source": [
    "# Построим барплот\n",
    "plt.figure(figsize=(12, 5))\n",
    "df_credit_card['Отток'].plot.bar(rot = 0, stacked = True).legend(loc = 'upper left')\n",
    "plt.xlabel('Наличие кредитной карты')\n",
    "plt.ylabel('Доля')\n",
    "plt.title('Отток клиентов по наличию кредитной карты', fontsize=16)\n",
    "plt.axhline(y = churn_all, color = 'r', linestyle = '--')\n",
    "plt.annotate('Средний отток по Банку', xy=(0, churn_all));"
   ]
  },
  {
   "cell_type": "markdown",
   "metadata": {},
   "source": [
    "**Комментарий:**\n",
    "Доля оттока клиентов у которых нет кредитных карт выше."
   ]
  },
  {
   "cell_type": "markdown",
   "metadata": {},
   "source": [
    "##### Изучение оттока клиентов по последней активности"
   ]
  },
  {
   "cell_type": "code",
   "execution_count": 40,
   "metadata": {},
   "outputs": [
    {
     "data": {
      "text/html": [
       "<div>\n",
       "<style scoped>\n",
       "    .dataframe tbody tr th:only-of-type {\n",
       "        vertical-align: middle;\n",
       "    }\n",
       "\n",
       "    .dataframe tbody tr th {\n",
       "        vertical-align: top;\n",
       "    }\n",
       "\n",
       "    .dataframe thead th {\n",
       "        text-align: right;\n",
       "    }\n",
       "</style>\n",
       "<table border=\"1\" class=\"dataframe\">\n",
       "  <thead>\n",
       "    <tr style=\"text-align: right;\">\n",
       "      <th></th>\n",
       "      <th>Остались</th>\n",
       "      <th>Отток</th>\n",
       "    </tr>\n",
       "  </thead>\n",
       "  <tbody>\n",
       "    <tr>\n",
       "      <th>Не активный</th>\n",
       "      <td>0.886440</td>\n",
       "      <td>0.113560</td>\n",
       "    </tr>\n",
       "    <tr>\n",
       "      <th>Активный</th>\n",
       "      <td>0.755874</td>\n",
       "      <td>0.244126</td>\n",
       "    </tr>\n",
       "  </tbody>\n",
       "</table>\n",
       "</div>"
      ],
      "text/plain": [
       "             Остались     Отток\n",
       "Не активный  0.886440  0.113560\n",
       "Активный     0.755874  0.244126"
      ]
     },
     "execution_count": 40,
     "metadata": {},
     "output_type": "execute_result"
    }
   ],
   "source": [
    "df_last_activity = pd.crosstab(index = df['last_activity'], columns = df['churn'], normalize = 'index')\n",
    "# Исправим названия столбцов и строк \n",
    "df_last_activity.index = ['Не активный', 'Активный']\n",
    "df_last_activity.columns = ['Остались', 'Отток']\n",
    "df_last_activity"
   ]
  },
  {
   "cell_type": "code",
   "execution_count": 41,
   "metadata": {},
   "outputs": [
    {
     "data": {
      "image/png": "[encoded data removed]",
      "text/plain": [
       "<Figure size 864x360 with 1 Axes>"
      ]
     },
     "metadata": {
      "needs_background": "light"
     },
     "output_type": "display_data"
    }
   ],
   "source": [
    "plt.figure(figsize=(12, 5))\n",
    "df_last_activity['Отток'].plot.bar(rot = 0, stacked = True).legend(loc = 'upper left')\n",
    "plt.xlabel('Активность клиента')\n",
    "plt.ylabel('Доля')\n",
    "plt.title('Отток клиентов по активности', fontsize=16)\n",
    "plt.axhline(y = churn_all, color = 'r', linestyle = '--')\n",
    "plt.annotate('Средний отток по Банку', xy=(0, churn_all));\n"
   ]
  },
  {
   "cell_type": "markdown",
   "metadata": {},
   "source": [
    "**Комментарий:**\n",
    "Доля оттока более активных клиентов (больше количество операций, обращения в Банк) выше. "
   ]
  },
  {
   "cell_type": "markdown",
   "metadata": {},
   "source": [
    "#### Вывод по изучению доли отточных клиентов\n",
    "\n",
    "* Отток клиентов в целом по Банку составляет 18 %;\n",
    "* Отток клиентов возрастает когда балл кредитного скоринга достигает 820 баллов;\n",
    "* Отток клиентов возрастает когда при возрасте клиентов от 25 лет до 35 лет и от 50  до 60 лет;\n",
    "* Отток клиентов возрастает когда балл собственности больше 4;\n",
    "* Отток клиентов возрастает когда количество продуктов становится 3 и более;\n",
    "* Отток клиентов возрастает когда баланс на счете становится более 1.2 млн р, но не превышает 4 млн.р.;\n",
    "* Отток клиентов возрастает когда оценочный доход клиента находится в пределах от 120 тр до 220 тр;\n",
    "* Доля оттока клиентов мужского пола больше чем женского;\n",
    "* Доля оттока клиентов по городам в целом одинаковая, однако в Ярославле отток чуть выше на 0.2% выше, чем в других городах;\n",
    "* Доля оттока клиентов у которых нет кредитных карт выше;\n",
    "* Доля оттока более активных клиентов (больше количество операций, обращения в Банк) выше.\n",
    "\n",
    "Итого в табличном виде (наиболее отточные показатели категорий)\n",
    "\n",
    "|Критерий |Параметры оттока|\n",
    "|---------|----------------|\n",
    "|Балл кредитного скоринга| от 820 баллов|\n",
    "|Возраст клиентов| от 25 лет до 35 лет и от 50  до 60 лет|\n",
    "|Балл собственности| более 4 баллов|\n",
    "|Количество продуктов|от 3 |\n",
    "|Баланс на счете|более 1.2 млн р , но не превышает 4 млн.р.|\n",
    "|Оценочный доход | 120 тр до 220 тр|\n",
    "|Пол| мужской|\n",
    "|Город| нет явных тенденций|\n",
    "|Кредитные карты |нет|\n",
    "|Активные клиенты| да|"
   ]
  },
  {
   "cell_type": "markdown",
   "metadata": {},
   "source": [
    "#### Корреляция оттока с показателями"
   ]
  },
  {
   "cell_type": "code",
   "execution_count": 42,
   "metadata": {},
   "outputs": [
    {
     "name": "stdout",
     "output_type": "stream",
     "text": [
      "interval columns not set, guessing: ['user_id', 'score', 'age', 'equity', 'balance', 'products', 'credit_card', 'last_activity', 'est_salary', 'churn', 'city_dummy_Ростов', 'city_dummy_Рыбинск', 'city_dummy_Ярославль', 'gender_dummy_М']\n"
     ]
    },
    {
     "data": {
      "text/html": [
       "<style  type=\"text/css\" >\n",
       "#T_51a64_row0_col1{\n",
       "            background-color:  #08306b;\n",
       "            color:  #f1f1f1;\n",
       "        }#T_51a64_row1_col1{\n",
       "            background-color:  #a5cde3;\n",
       "            color:  #000000;\n",
       "        }#T_51a64_row2_col1,#T_51a64_row3_col1{\n",
       "            background-color:  #c3daee;\n",
       "            color:  #000000;\n",
       "        }#T_51a64_row4_col1{\n",
       "            background-color:  #cadef0;\n",
       "            color:  #000000;\n",
       "        }#T_51a64_row5_col1,#T_51a64_row6_col1{\n",
       "            background-color:  #ccdff1;\n",
       "            color:  #000000;\n",
       "        }#T_51a64_row7_col1{\n",
       "            background-color:  #d0e1f2;\n",
       "            color:  #000000;\n",
       "        }#T_51a64_row8_col1{\n",
       "            background-color:  #d3e4f3;\n",
       "            color:  #000000;\n",
       "        }#T_51a64_row9_col1{\n",
       "            background-color:  #dce9f6;\n",
       "            color:  #000000;\n",
       "        }#T_51a64_row10_col1,#T_51a64_row11_col1{\n",
       "            background-color:  #eef5fc;\n",
       "            color:  #000000;\n",
       "        }#T_51a64_row12_col1{\n",
       "            background-color:  #f1f7fd;\n",
       "            color:  #000000;\n",
       "        }#T_51a64_row13_col1{\n",
       "            background-color:  #f2f8fd;\n",
       "            color:  #000000;\n",
       "        }#T_51a64_row14_col1{\n",
       "            background-color:  #f4f9fe;\n",
       "            color:  #000000;\n",
       "        }#T_51a64_row15_col1{\n",
       "            background-color:  #f7fbff;\n",
       "            color:  #000000;\n",
       "        }</style><table id=\"T_51a64_\" ><thead>    <tr>        <th class=\"blank level0\" ></th>        <th class=\"col_heading level0 col0\" >Показатели</th>        <th class=\"col_heading level0 col1\" >Корреляция показателей с оттоком</th>    </tr></thead><tbody>\n",
       "                <tr>\n",
       "                        <th id=\"T_51a64_level0_row0\" class=\"row_heading level0 row0\" >11</th>\n",
       "                        <td id=\"T_51a64_row0_col0\" class=\"data row0 col0\" >churn</td>\n",
       "                        <td id=\"T_51a64_row0_col1\" class=\"data row0 col1\" >1.000000</td>\n",
       "            </tr>\n",
       "            <tr>\n",
       "                        <th id=\"T_51a64_level0_row1\" class=\"row_heading level0 row1\" >5</th>\n",
       "                        <td id=\"T_51a64_row1_col0\" class=\"data row1 col0\" >equity</td>\n",
       "                        <td id=\"T_51a64_row1_col1\" class=\"data row1 col1\" >0.352737</td>\n",
       "            </tr>\n",
       "            <tr>\n",
       "                        <th id=\"T_51a64_level0_row2\" class=\"row_heading level0 row2\" >9</th>\n",
       "                        <td id=\"T_51a64_row2_col0\" class=\"data row2 col0\" >last_activity</td>\n",
       "                        <td id=\"T_51a64_row2_col1\" class=\"data row2 col1\" >0.261583</td>\n",
       "            </tr>\n",
       "            <tr>\n",
       "                        <th id=\"T_51a64_level0_row3\" class=\"row_heading level0 row3\" >7</th>\n",
       "                        <td id=\"T_51a64_row3_col0\" class=\"data row3 col0\" >products</td>\n",
       "                        <td id=\"T_51a64_row3_col1\" class=\"data row3 col1\" >0.260106</td>\n",
       "            </tr>\n",
       "            <tr>\n",
       "                        <th id=\"T_51a64_level0_row4\" class=\"row_heading level0 row4\" >1</th>\n",
       "                        <td id=\"T_51a64_row4_col0\" class=\"data row4 col0\" >score</td>\n",
       "                        <td id=\"T_51a64_row4_col1\" class=\"data row4 col1\" >0.228260</td>\n",
       "            </tr>\n",
       "            <tr>\n",
       "                        <th id=\"T_51a64_level0_row5\" class=\"row_heading level0 row5\" >3</th>\n",
       "                        <td id=\"T_51a64_row5_col0\" class=\"data row5 col0\" >gender</td>\n",
       "                        <td id=\"T_51a64_row5_col1\" class=\"data row5 col1\" >0.219184</td>\n",
       "            </tr>\n",
       "            <tr>\n",
       "                        <th id=\"T_51a64_level0_row6\" class=\"row_heading level0 row6\" >15</th>\n",
       "                        <td id=\"T_51a64_row6_col0\" class=\"data row6 col0\" >gender_dummy_М</td>\n",
       "                        <td id=\"T_51a64_row6_col1\" class=\"data row6 col1\" >0.219184</td>\n",
       "            </tr>\n",
       "            <tr>\n",
       "                        <th id=\"T_51a64_level0_row7\" class=\"row_heading level0 row7\" >8</th>\n",
       "                        <td id=\"T_51a64_row7_col0\" class=\"data row7 col0\" >credit_card</td>\n",
       "                        <td id=\"T_51a64_row7_col1\" class=\"data row7 col1\" >0.202586</td>\n",
       "            </tr>\n",
       "            <tr>\n",
       "                        <th id=\"T_51a64_level0_row8\" class=\"row_heading level0 row8\" >4</th>\n",
       "                        <td id=\"T_51a64_row8_col0\" class=\"data row8 col0\" >age</td>\n",
       "                        <td id=\"T_51a64_row8_col1\" class=\"data row8 col1\" >0.183435</td>\n",
       "            </tr>\n",
       "            <tr>\n",
       "                        <th id=\"T_51a64_level0_row9\" class=\"row_heading level0 row9\" >0</th>\n",
       "                        <td id=\"T_51a64_row9_col0\" class=\"data row9 col0\" >user_id</td>\n",
       "                        <td id=\"T_51a64_row9_col1\" class=\"data row9 col1\" >0.139641</td>\n",
       "            </tr>\n",
       "            <tr>\n",
       "                        <th id=\"T_51a64_level0_row10\" class=\"row_heading level0 row10\" >10</th>\n",
       "                        <td id=\"T_51a64_row10_col0\" class=\"data row10 col0\" >est_salary</td>\n",
       "                        <td id=\"T_51a64_row10_col1\" class=\"data row10 col1\" >0.047767</td>\n",
       "            </tr>\n",
       "            <tr>\n",
       "                        <th id=\"T_51a64_level0_row11\" class=\"row_heading level0 row11\" >13</th>\n",
       "                        <td id=\"T_51a64_row11_col0\" class=\"data row11 col0\" >city_dummy_Рыбинск</td>\n",
       "                        <td id=\"T_51a64_row11_col1\" class=\"data row11 col1\" >0.046598</td>\n",
       "            </tr>\n",
       "            <tr>\n",
       "                        <th id=\"T_51a64_level0_row12\" class=\"row_heading level0 row12\" >14</th>\n",
       "                        <td id=\"T_51a64_row12_col0\" class=\"data row12 col0\" >city_dummy_Ярославль</td>\n",
       "                        <td id=\"T_51a64_row12_col1\" class=\"data row12 col1\" >0.034095</td>\n",
       "            </tr>\n",
       "            <tr>\n",
       "                        <th id=\"T_51a64_level0_row13\" class=\"row_heading level0 row13\" >6</th>\n",
       "                        <td id=\"T_51a64_row13_col0\" class=\"data row13 col0\" >balance</td>\n",
       "                        <td id=\"T_51a64_row13_col1\" class=\"data row13 col1\" >0.024701</td>\n",
       "            </tr>\n",
       "            <tr>\n",
       "                        <th id=\"T_51a64_level0_row14\" class=\"row_heading level0 row14\" >2</th>\n",
       "                        <td id=\"T_51a64_row14_col0\" class=\"data row14 col0\" >city</td>\n",
       "                        <td id=\"T_51a64_row14_col1\" class=\"data row14 col1\" >0.017054</td>\n",
       "            </tr>\n",
       "            <tr>\n",
       "                        <th id=\"T_51a64_level0_row15\" class=\"row_heading level0 row15\" >12</th>\n",
       "                        <td id=\"T_51a64_row15_col0\" class=\"data row15 col0\" >city_dummy_Ростов</td>\n",
       "                        <td id=\"T_51a64_row15_col1\" class=\"data row15 col1\" >0.000000</td>\n",
       "            </tr>\n",
       "    </tbody></table>"
      ],
      "text/plain": [
       "<pandas.io.formats.style.Styler at 0x7f9c8257fb50>"
      ]
     },
     "execution_count": 42,
     "metadata": {},
     "output_type": "execute_result"
    }
   ],
   "source": [
    "#Вычисли корреляцию с помощью библиотеки phik, более современная чем sns.heatmap, \n",
    "# т.к. ослеживает не только линейные зависимости, но и применима к категориальным данным\n",
    "phik_corr = df.phik_matrix()\n",
    "phik_corr = phik_corr[['churn']].reset_index()\n",
    "phik_corr.columns= ['Показатели','Корреляция показателей с оттоком']\n",
    "phik_corr = phik_corr.sort_values(by = 'Корреляция показателей с оттоком', ascending=False)\n",
    "#Подсветим все значения в таблице с помощью градиента\n",
    "phik_corr.style.background_gradient(cmap='Blues', axis=0)"
   ]
  },
  {
   "cell_type": "markdown",
   "metadata": {},
   "source": [
    "**Комментарий:**\n",
    "Чем темнее градиент в ячейке, тем выше пложительная корреляция. \n",
    "Видим, что согласно шкале Чедока:\n",
    "\n",
    "|Количественная мера тесноты связи|\tКачественная характеристика силы связи|\n",
    "|---------------------------------|---------------------------------------|\n",
    "|0,1 - 0,3\t| Слабая|\n",
    "|0,3 - 0,5\t| Умеренная|\n",
    "|0,5 - 0,7\t| Заметная|\n",
    "|0,7 - 0,9\t| Высокая|\n",
    "|0,9 - 0,99\t| Весьма высокая|\n",
    "\n",
    "\n",
    "* \"Весьма высокой\",\"Высокой\" и \"Заметной\" тесноты связи в данных нет.\n",
    "* \"Умеренная\" корреляция с параметрами 'equity'. \n",
    "* \"Слабая корреляция\", в порядке убывания:\n",
    "'last_activity',\n",
    "'products',\n",
    "'score',\n",
    "'gende',\n",
    "'credit card',\n",
    "* Нет корреляции с \n",
    "'age',\n",
    "'est_salary',\n",
    "'balance'"
   ]
  },
  {
   "cell_type": "markdown",
   "metadata": {},
   "source": [
    "### Вывод по исследовательскому анализу данных\n",
    "\n",
    "1) Построен портрет типичного клиента Банка:\n",
    "\n",
    "\n",
    "|Критерий |Типичный клиент|\n",
    "|---------|----------------|\n",
    "|Балл кредитного скоринга| 802-900 баллов|\n",
    "|Возраст клиентов| 31-51 лет|\n",
    "|Балл собственности| 0-4 единиц|\n",
    "|Количество продуктов| 1-2|\n",
    "|Баланс на счете|3-10 млн.р|\n",
    "|Оценочный доход | 75 - 174 тр|\n",
    "|Пол| поровну мужской и женский|\n",
    "\n",
    "2) Построен портрет отточного клиента Банка\n",
    "\n",
    "|Критерий |Параметры оттока|\n",
    "|---------|----------------|\n",
    "|Балл кредитного скоринга| от 820 баллов|\n",
    "|Возраст клиентов| от 25 лет до 35 лет и от 50  до 60 лет|\n",
    "|Балл собственности| более 4 баллов|\n",
    "|Количество продуктов|от 3 |\n",
    "|Баланс на счете|более 1.2 млн.р. , но не превышает 4 млн.р.|\n",
    "|Оценочный доход | 120 тр до 220 тр|\n",
    "|Пол| мужской|\n",
    "|Город| нет явных тенденций|\n",
    "|Кредитные карты |нет|\n",
    "|Активные клиенты| да|\n",
    "\n",
    "3) Проведен анализ корреляции оттока клиентов с показателями, отметим, что:\n",
    "* \"Весьма высокой\",\"Высокой\" и \"Заметной\" тесноты связи в данных нет.\n",
    "* \"Умеренная\" корреляция с параметрами 'equity'. \n",
    "* \"Слабая корреляция\", в порядке убывания: 'last_activity', 'products', 'score', 'gende', 'credit card'.\n",
    "* Нет корреляции с 'age', 'est_salary', 'balance'."
   ]
  },
  {
   "cell_type": "markdown",
   "metadata": {},
   "source": [
    "## Проверка гипотез "
   ]
  },
  {
   "cell_type": "markdown",
   "metadata": {},
   "source": [
    "### Гипотеза 1 - различие доходов оставшихся и отточных клиентов\n",
    "(t-критерием и u-критерием)\n"
   ]
  },
  {
   "cell_type": "markdown",
   "metadata": {},
   "source": [
    "#### Параметрический тест Стьюдента( Уильяма Госсета) (t- критерий)\n",
    "t-критерий Стьюдента используется для определения статистической значимости различий средних величин.  \n",
    "* H₀: Различие в средних доходах нет между теми клиентами, которые уходят и теми, которые остались \n",
    "* H₁: Различие в средних доходах есть между теми клиентами, которые ушли и теми, которые остались есть."
   ]
  },
  {
   "cell_type": "code",
   "execution_count": 43,
   "metadata": {},
   "outputs": [
    {
     "name": "stdout",
     "output_type": "stream",
     "text": [
      "p-значение:  0.8724720775677762\n",
      "Не получилось отвергнуть нулевую гипотезу\n"
     ]
    }
   ],
   "source": [
    "#Установим критический уровень статистической значимости\n",
    "alpha = 0.05\n",
    "\n",
    "# Создадим датасеты\n",
    "churn_0_salary = df[df['churn']==0]['est_salary']\n",
    "churn_1_salary = df[df['churn']==1]['est_salary']\n",
    "\n",
    "# results = вызов метода для проверки гипотезы\n",
    "results = st.ttest_ind (\n",
    "    churn_0_salary,\n",
    "    churn_1_salary, equal_var = False)\n",
    "\n",
    "# вывод значения p-value на экран \n",
    "print('p-значение: ', results.pvalue)\n",
    "\n",
    "# условный оператор с выводом строки с ответом\n",
    "if results.pvalue < alpha:\n",
    "    print ('Отвергаем нулевую гипотезу')\n",
    "else:\n",
    "    print ('Не получилось отвергнуть нулевую гипотезу')"
   ]
  },
  {
   "cell_type": "markdown",
   "metadata": {},
   "source": [
    "**Комментраий:**\n",
    "По стат. тесту  t-критерием не получилось отвергнуть нулевую гипотезу , что означает. что у нас нет достаточных доказательств, чтобы сказать, что средние доходы остающихся клиентов и отточных  различаются. "
   ]
  },
  {
   "cell_type": "markdown",
   "metadata": {},
   "source": [
    "Проведем следом тест с помощью u-критерия, т.к. в данных есть выбросы, а u-критерий работает не с самими значениями, а с рангами. "
   ]
  },
  {
   "cell_type": "markdown",
   "metadata": {},
   "source": [
    "#### Непараметрический тест Уилкоксона-Манна-Уитни ( u-критерием)\n",
    "В случае, когда в данных есть большие (по сравнению с нормальным распределением) выбросы, параметрические тесты работают хуже. Одно выбивающееся значение существенно влияет на результат. Ключевая идея теста — проранжировать две выборки по порядку от меньшего к большему и сравнить ранги одних и тех же значений, попавших в обе выборки. Ранг — это место в упорядоченной выборке. Разница между рангами одних и тех же значений может быть одинакова, и такой сдвиг называют типичным. Значит, просто добавились значения, сдвинувшие все остальные. А нетипичные сдвиги по рангу рассматриваются как изменения. Сумма рангов таких сдвигов и выступает значением критерия. Чем он выше — тем больше вероятность, что для этих выборок интересующая нас величина различается.\n",
    "\n",
    "* H₀: Различие в доходах нет между теми клиентами, которые уходят и теми, которые остались \n",
    "* H₁: Различие в доходах есть между теми клиентами, которые ушли и теми, которые остались есть."
   ]
  },
  {
   "cell_type": "code",
   "execution_count": 44,
   "metadata": {},
   "outputs": [
    {
     "name": "stdout",
     "output_type": "stream",
     "text": [
      "p-значение:  0.00021161026847963608\n",
      "Отвергаем нулевую гипотезу: разница статистически значима\n"
     ]
    }
   ],
   "source": [
    "#Установим критический уровень статистической значимости\n",
    "alpha = 0.05 \n",
    "\n",
    "# results = вызов метода для проверки гипотезы, по умолчанию — двухсторонний. \n",
    "results = st.mannwhitneyu(churn_0_salary, churn_1_salary)\n",
    "\n",
    "print('p-значение: ', results.pvalue)\n",
    "\n",
    "if results.pvalue < alpha:\n",
    "    print('Отвергаем нулевую гипотезу: разница статистически значима')\n",
    "else:\n",
    "    print(\n",
    "        'Не получилось отвергнуть нулевую гипотезу, вывод о различии сделать нельзя'\n",
    "    ) "
   ]
  },
  {
   "cell_type": "markdown",
   "metadata": {},
   "source": [
    "**Комментраий:**\n",
    "По стат. тесту u-критерием отвергаем нулевую гипотезу, соответвенно у нас нет достаточных доказательств, чтобы сказать, что средние остающихся клиентов и отточных равны."
   ]
  },
  {
   "cell_type": "markdown",
   "metadata": {},
   "source": [
    "#### Вывод по гипотезе-1\n",
    "Между результатами  работы примененных критериев  возникли расхождения. Результату u-критерия в данном случае доверия больше, т.к. к нему прибегают тогда, когда работа с самими значениями невозможна из-за выбросов, сильно сдвигающих параметрические результаты. Большие колебания значений в столбце с оценочным доходом были определены в разделе \"Исследовательский анализ данных\". Согласно тесту  u-критерием решили отвергнуть нулевую гипотезу о равенстве доходов отточных и остающихся клиентов."
   ]
  },
  {
   "cell_type": "markdown",
   "metadata": {},
   "source": [
    "### Гипотеза 2 -различие в количестве используемых банковских продуктов\n",
    "* H₀: среднее количество используемых банковских продуктов оставшихся и отточных клиентов равны\n",
    "* H₁: среднее количество используемых банковских продуктов оставшихся и отточных клиентов не равны"
   ]
  },
  {
   "cell_type": "code",
   "execution_count": 45,
   "metadata": {},
   "outputs": [
    {
     "name": "stdout",
     "output_type": "stream",
     "text": [
      "1.341323077798851e-197\n",
      "Отвергаем нулевую гипотезу: разница статистически значима\n"
     ]
    }
   ],
   "source": [
    "#Установим уровень значимости\n",
    "alpha = 0.05\n",
    "\n",
    "# results = вызов метода для проверки гипотезы\n",
    "results = st.ttest_ind (\n",
    "    df[df['churn']==0]['equity'],\n",
    "    df[df['churn']==1]['equity'], equal_var = False)\n",
    "\n",
    "# вывод значения p-value на экран \n",
    "print (results.pvalue) \n",
    "\n",
    "# условный оператор с выводом строки с ответом\n",
    "if results.pvalue < alpha:\n",
    "    print('Отвергаем нулевую гипотезу: разница статистически значима')\n",
    "else:\n",
    "    print(\n",
    "        'Не получилось отвергнуть нулевую гипотезу, вывод о различии сделать нельзя'\n",
    "    ) "
   ]
  },
  {
   "cell_type": "markdown",
   "metadata": {},
   "source": [
    "**Комментарий:**\n",
    "Значение p-value очень близко к нулю, соответвенно у нас нет достаточных доказательств, чтобы сказать, что среденее количество используемых банковских продуктов оставшихся клиентов и отточных равны. "
   ]
  },
  {
   "cell_type": "markdown",
   "metadata": {},
   "source": [
    "### Вывод по гипотезам\n",
    "Согласно тесту u-критерием Манна-Уитни у нас нет доказательств о равенстве доходов отточных и остающихся клиентов.\n",
    "Согласно t-критерию Стьдента у нас нет достаточных доказательств,  что среденее количество используемых банковских продуктов оставшихся клиентов и отточных равны. "
   ]
  },
  {
   "cell_type": "markdown",
   "metadata": {},
   "source": [
    "## Сегментация\n",
    "\n",
    "- Создадим минимум 3 сегмента (размер сегмента минимум 300 человек), объединяя по 2-3 признака, для того чтобы добиться показателя доли оттока более 50 %.\n",
    "- Составить общий вывод и дать конкретные рекомендации по приоритетным сегментам."
   ]
  },
  {
   "cell_type": "markdown",
   "metadata": {},
   "source": [
    "Напомним себе о выявленных наиболее отточных параметров критерия:\n",
    "\n",
    "|Критерий |Параметры оттока|\n",
    "|---------|----------------|\n",
    "|Балл кредитного скоринга| от 820 баллов|\n",
    "|Возраст клиентов| от 25 лет до 35 лет и от 50  до 60 лет|\n",
    "|Балл собственности| более 4 баллов|\n",
    "|Количество продуктов|от 3 |\n",
    "|Баланс на счете|более 1.2 млн.р. , но не превышает 4 млн.р.|\n",
    "|Оценочный доход | 120 тр до 220 тр|\n",
    "|Пол| мужской|\n",
    "|Город| нет явных тенденций|\n",
    "|Кредитные карты |нет|\n",
    "|Активные клиенты| да|\n",
    "\n",
    "* \"Умеренная\" корреляция с параметрами 'equity'. \n",
    "* \"Слабая корреляция\", в порядке убывания\n",
    "'last_activity',\n",
    "'products',\n",
    "'score',\n",
    "'gende',\n",
    "'credit card',\n",
    "'age',\n",
    "'est_salary',\n",
    "'balance'\n",
    "\n",
    "\n",
    "Cоздадим 3 сегмента наиболее отточных групп"
   ]
  },
  {
   "cell_type": "markdown",
   "metadata": {},
   "source": [
    "### Сегмент 1\n",
    "\n",
    "|Критерий |Параметры оттока|\n",
    "|---------|----------------|\n",
    "|Балл кредитного скоринга| от 820 баллов|\n",
    "|Баланс на счете|более 1.2 млн.р, но не превышает 4 млн.р.|\n",
    "|Активные клиенты| да|"
   ]
  },
  {
   "cell_type": "code",
   "execution_count": 46,
   "metadata": {},
   "outputs": [
    {
     "data": {
      "text/html": [
       "<div>\n",
       "<style scoped>\n",
       "    .dataframe tbody tr th:only-of-type {\n",
       "        vertical-align: middle;\n",
       "    }\n",
       "\n",
       "    .dataframe tbody tr th {\n",
       "        vertical-align: top;\n",
       "    }\n",
       "\n",
       "    .dataframe thead th {\n",
       "        text-align: right;\n",
       "    }\n",
       "</style>\n",
       "<table border=\"1\" class=\"dataframe\">\n",
       "  <thead>\n",
       "    <tr style=\"text-align: right;\">\n",
       "      <th></th>\n",
       "      <th>Число клиентов</th>\n",
       "      <th>Число отточных</th>\n",
       "      <th>Доля отточных</th>\n",
       "    </tr>\n",
       "  </thead>\n",
       "  <tbody>\n",
       "    <tr>\n",
       "      <th>Сегмент 1</th>\n",
       "      <td>529.0</td>\n",
       "      <td>346.0</td>\n",
       "      <td>0.654064</td>\n",
       "    </tr>\n",
       "  </tbody>\n",
       "</table>\n",
       "</div>"
      ],
      "text/plain": [
       "           Число клиентов  Число отточных  Доля отточных\n",
       "Сегмент 1           529.0           346.0       0.654064"
      ]
     },
     "execution_count": 46,
     "metadata": {},
     "output_type": "execute_result"
    }
   ],
   "source": [
    "portrait_1 = df.query ('score >= 820   and last_activity==1 and 1200000<balance<4000000 ') \n",
    "portrait_1 = portrait_1.agg({'churn':['count','sum','mean']}).T\n",
    "portrait_1.columns=['Число клиентов', 'Число отточных', 'Доля отточных']\n",
    "portrait_1.index = ['Сегмент 1']\n",
    "portrait_1"
   ]
  },
  {
   "cell_type": "markdown",
   "metadata": {},
   "source": [
    "### Сегмент 2\n",
    "\n",
    "|Критерий |Параметры оттока|\n",
    "|---------|----------------|\n",
    "|Балл собственности| более 4 баллов|\n",
    "|Количество продуктов| от 3|\n",
    "|Активные клиенты| да|\n"
   ]
  },
  {
   "cell_type": "code",
   "execution_count": 47,
   "metadata": {},
   "outputs": [
    {
     "data": {
      "text/html": [
       "<div>\n",
       "<style scoped>\n",
       "    .dataframe tbody tr th:only-of-type {\n",
       "        vertical-align: middle;\n",
       "    }\n",
       "\n",
       "    .dataframe tbody tr th {\n",
       "        vertical-align: top;\n",
       "    }\n",
       "\n",
       "    .dataframe thead th {\n",
       "        text-align: right;\n",
       "    }\n",
       "</style>\n",
       "<table border=\"1\" class=\"dataframe\">\n",
       "  <thead>\n",
       "    <tr style=\"text-align: right;\">\n",
       "      <th></th>\n",
       "      <th>Число клиентов</th>\n",
       "      <th>Число отточных</th>\n",
       "      <th>Доля отточных</th>\n",
       "    </tr>\n",
       "  </thead>\n",
       "  <tbody>\n",
       "    <tr>\n",
       "      <th>Сегмент 2</th>\n",
       "      <td>533.0</td>\n",
       "      <td>279.0</td>\n",
       "      <td>0.523452</td>\n",
       "    </tr>\n",
       "  </tbody>\n",
       "</table>\n",
       "</div>"
      ],
      "text/plain": [
       "           Число клиентов  Число отточных  Доля отточных\n",
       "Сегмент 2           533.0           279.0       0.523452"
      ]
     },
     "execution_count": 47,
     "metadata": {},
     "output_type": "execute_result"
    }
   ],
   "source": [
    "portrait_2 = df.query ('equity >= 4 and last_activity==1 and products>=3') \n",
    "portrait_2 = portrait_2.agg({'churn':['count','sum','mean']}).T\n",
    "portrait_2.columns=['Число клиентов', 'Число отточных', 'Доля отточных']\n",
    "portrait_2.index = ['Сегмент 2']\n",
    "portrait_2"
   ]
  },
  {
   "cell_type": "markdown",
   "metadata": {},
   "source": [
    "### Сегмент 3\n",
    "\n",
    "|Критерий |Параметры оттока|\n",
    "|---------|----------------|\n",
    "|Возраст|от 25 до 35 лет|\n",
    "|Активные клиенты| да|\n",
    "|Кредитные карты |нет|\n"
   ]
  },
  {
   "cell_type": "code",
   "execution_count": 48,
   "metadata": {},
   "outputs": [
    {
     "data": {
      "text/html": [
       "<div>\n",
       "<style scoped>\n",
       "    .dataframe tbody tr th:only-of-type {\n",
       "        vertical-align: middle;\n",
       "    }\n",
       "\n",
       "    .dataframe tbody tr th {\n",
       "        vertical-align: top;\n",
       "    }\n",
       "\n",
       "    .dataframe thead th {\n",
       "        text-align: right;\n",
       "    }\n",
       "</style>\n",
       "<table border=\"1\" class=\"dataframe\">\n",
       "  <thead>\n",
       "    <tr style=\"text-align: right;\">\n",
       "      <th></th>\n",
       "      <th>Число клиентов</th>\n",
       "      <th>Число отточных</th>\n",
       "      <th>Доля отточных</th>\n",
       "    </tr>\n",
       "  </thead>\n",
       "  <tbody>\n",
       "    <tr>\n",
       "      <th>Сегмент 3</th>\n",
       "      <td>493.0</td>\n",
       "      <td>244.0</td>\n",
       "      <td>0.494929</td>\n",
       "    </tr>\n",
       "  </tbody>\n",
       "</table>\n",
       "</div>"
      ],
      "text/plain": [
       "           Число клиентов  Число отточных  Доля отточных\n",
       "Сегмент 3           493.0           244.0       0.494929"
      ]
     },
     "execution_count": 48,
     "metadata": {},
     "output_type": "execute_result"
    }
   ],
   "source": [
    "#3 группа\n",
    "portrait_3 = df.query ('last_activity==1  and 25<=age<=35 and credit_card==0')  \n",
    "portrait_3 = portrait_3.agg({'churn':['count','sum','mean']}).T\n",
    "portrait_3.columns=['Число клиентов', 'Число отточных', 'Доля отточных']\n",
    "portrait_3.index = ['Сегмент 3']\n",
    "portrait_3"
   ]
  },
  {
   "cell_type": "markdown",
   "metadata": {},
   "source": [
    "### Общая информация по сегментам"
   ]
  },
  {
   "cell_type": "code",
   "execution_count": 49,
   "metadata": {
    "scrolled": true
   },
   "outputs": [
    {
     "data": {
      "text/html": [
       "<div>\n",
       "<style scoped>\n",
       "    .dataframe tbody tr th:only-of-type {\n",
       "        vertical-align: middle;\n",
       "    }\n",
       "\n",
       "    .dataframe tbody tr th {\n",
       "        vertical-align: top;\n",
       "    }\n",
       "\n",
       "    .dataframe thead th {\n",
       "        text-align: right;\n",
       "    }\n",
       "</style>\n",
       "<table border=\"1\" class=\"dataframe\">\n",
       "  <thead>\n",
       "    <tr style=\"text-align: right;\">\n",
       "      <th></th>\n",
       "      <th>Число клиентов</th>\n",
       "      <th>Число отточных</th>\n",
       "      <th>Доля отточных</th>\n",
       "    </tr>\n",
       "  </thead>\n",
       "  <tbody>\n",
       "    <tr>\n",
       "      <th>Сегмент 3</th>\n",
       "      <td>493.0</td>\n",
       "      <td>244.0</td>\n",
       "      <td>0.494929</td>\n",
       "    </tr>\n",
       "    <tr>\n",
       "      <th>Сегмент 2</th>\n",
       "      <td>533.0</td>\n",
       "      <td>279.0</td>\n",
       "      <td>0.523452</td>\n",
       "    </tr>\n",
       "    <tr>\n",
       "      <th>Сегмент 1</th>\n",
       "      <td>529.0</td>\n",
       "      <td>346.0</td>\n",
       "      <td>0.654064</td>\n",
       "    </tr>\n",
       "  </tbody>\n",
       "</table>\n",
       "</div>"
      ],
      "text/plain": [
       "           Число клиентов  Число отточных  Доля отточных\n",
       "Сегмент 3           493.0           244.0       0.494929\n",
       "Сегмент 2           533.0           279.0       0.523452\n",
       "Сегмент 1           529.0           346.0       0.654064"
      ]
     },
     "execution_count": 49,
     "metadata": {},
     "output_type": "execute_result"
    }
   ],
   "source": [
    "common_portrait = portrait_1.append(portrait_2).append(portrait_3).sort_values(by='Доля отточных')\n",
    "common_portrait"
   ]
  },
  {
   "cell_type": "code",
   "execution_count": 50,
   "metadata": {},
   "outputs": [
    {
     "data": {
      "image/png": "[encoded data removed]",
      "text/plain": [
       "<Figure size 720x360 with 1 Axes>"
      ]
     },
     "metadata": {
      "needs_background": "light"
     },
     "output_type": "display_data"
    }
   ],
   "source": [
    "common_portrait['Доля отточных'].plot(kind = 'barh', figsize = (10,5), rot = 0, legend = False, fontsize = 10).\\\n",
    "set_title('Доля отточных клиентв по сегментам' + \"\\n\", fontsize = 22) \n",
    "# Добавим линию оттока в целом по Банку 18%\n",
    "plt.axvline (x=churn_all, color='red', linestyle='--'); "
   ]
  },
  {
   "cell_type": "markdown",
   "metadata": {},
   "source": [
    "### Вывод по сегментации\n",
    "\n",
    "Разделили клиентов на 3 семента по параметрам наибольшей отточности и корреляции с оттоком\n",
    "\n",
    "\n",
    "**Доля отточных клиентов  по сегменту 1 - 65%, с параметрами:**\n",
    "\n",
    "|Критерий |Параметр оттока|\n",
    "|---------|----------------|\n",
    "|Балл кредитного скоринга| от 820 баллов|\n",
    "|Баланс на счете|более 1.2 млн.р, но не превышает 4 млн.р.|\n",
    "|Активные клиенты| да|\n",
    "\n",
    "**Доля отточных клиентов  по сегменту 2 - 52%, с параметрами:**\n",
    "\n",
    "|Критерий |Параметр оттока|\n",
    "|---------|----------------|\n",
    "|Балл собственности| более 4 баллов|\n",
    "|Количество продуктов| от 3|\n",
    "|Активные клиенты| да|\n",
    "\n",
    "\n",
    "**Доля отточных клиентов  по сегменту 3 - 50%, с параметрами:**\n",
    "\n",
    "|Критерий |Параметр оттока|\n",
    "|---------|----------------|\n",
    "|Возраст|от 25 до 35 лет|\n",
    "|Активные клиенты| да|\n",
    "|Кредитные карты |нет|\n",
    "\n",
    "\n"
   ]
  },
  {
   "cell_type": "markdown",
   "metadata": {},
   "source": [
    "## Общий вывод по исследованию"
   ]
  },
  {
   "cell_type": "markdown",
   "metadata": {},
   "source": [
    "**Анализ оттока клиентов Банка**\n",
    "\n",
    "**Задача.** Предоставить для отдела маркетинга компактные однородные сегменты и дать примеры мероприятий, которые можно провести, чтобы вернуть клиентов в банк или удержать сомневающихся от оттока.\n",
    "\n",
    "**Результат предобработки данных**\n",
    "* Привели названия столбцов к нижнему реестру и заменим название столбеца userid на user_id;\n",
    "* Типы данных оставили без изменения;\n",
    "* Окрулили баланс и з/п до целого числа.\n",
    "* Явные дубликаты не обнаружены,\n",
    "* Обнаружены не явные дубликаты id, но выяснилось, что это разные клиенты, видимо у Банка не сквозная нумерация по городам.\n",
    "* Пропуски данных есть в в столбцах balance (23 % от всех данных) и age ( 0,26 % от всех данных):\n",
    "* Линейно пропуски между собой не связаны.\n",
    "* Изучив меру центральной тенденции (за меру взята медиана) для количественных данных видим, что чаще пропущеные значения в возрасте и балансе встречается у клиентов с \"0\" оценкой собственности и одним product, либо этот продукт ипотека и деньги поступают к списанию под ноль, либо  это техническая ошибка. Отнесем к категории MNAR (Отсутствуют не  случайно).  Заполнять не будем, т.к. даже заполнение \"0\" исказит иследование,  в данных уже присутствует ноль, а  исследование наиболее часто всречающихся значений  в балансе по условиям, описанным выше, говорит нам о том, что это не 0. \n",
    "* Для данных качественного типа, город и пол ни как не влиял на заполнение данных.\n",
    "* Создали новые столбцы для категориальных данных с one-hot кодированием.\n",
    "\n",
    "**Составлен  типичный портрет клиента Банка:**\n",
    "\n",
    "|Критерий |Типичный клиент|\n",
    "|---------|----------------|\n",
    "|Балл кредитного скоринга| 802-900 баллов|\n",
    "|Возраст клиентов| 31-51 лет|\n",
    "|Балл собственности| 0-4 единиц|\n",
    "|Количество продуктов| 1-2|\n",
    "|Баланс на счете|3-10 млн.р|\n",
    "|Оценочный доход | 75 - 174 тр|\n",
    "|Пол| мужской и женский|\n",
    "\n",
    "\n",
    "**Результат исследовательского анализа данных**\n",
    "Проведя анализ доли оттока клиентов, отметим, что отток клиентов в целом по Банку составляет 18 %, портрет отточного клиента следующий:\n",
    "* Отток клиентов возрастает когда балл кредитного скоринга достигает 820-910 баллов;\n",
    "* Отток клиентов возрастает когда при возрасте клиентов от 25 лет до 35 лет и от 50 до 60 лет;\n",
    "* Отток клиентов возрастает когда балл собственности в промежутке 3-5 баллов;\n",
    "* Отток клиентов возрастает когда количество продуктов становится 3 и 4;\n",
    "* Отток клиентов возрастает когда баланс на счете становится более 1.2 млн.р, но не превышает 4 млн.р.;\n",
    "* Отток клиентов возрастает когда оценочный доход клиента находится в пределах от 120 тр до 220 тр;\n",
    "* Доля оттока клиентов мужского пола больше чем женского;\n",
    "* Доля оттока клиентов по городам в целом одинаковая, однако в Ярославле отток чуть выше на 0.2% выше, чем в других городах;\n",
    "* Доля оттока клиентов у которых нет кредитных карт выше;\n",
    "* Доля оттока более активных клиентов (больше количество операций, обращения в Банк) выше\n",
    "\n",
    "Свели все параметры отточных клиентов  в таблицу:\n",
    "\n",
    "|Критерий |Параметры оттока|\n",
    "|---------|----------------|\n",
    "|Балл кредитного скоринга| от 820 баллов|\n",
    "|Возраст клиентов| от 25 лет до 35 лет и от 50  до 60 лет|\n",
    "|Балл собственности| более 4 баллов|\n",
    "|Количество продуктов|от 3 |\n",
    "|Баланс на счете|более 1.2 млн.р, но не превышает 4 млн.р.|\n",
    "|Оценочный доход | 120 тр до 220 тр|\n",
    "|Пол| мужской|\n",
    "|Город| нет явных тенденций|\n",
    "|Кредитные карты |нет|\n",
    "|Активные клиенты| да|\n",
    "\n",
    "**Проведя анализ корреляции** отметим, что:\n",
    "\n",
    "* \"Весьма высокой\",\"Высокой\" и \"Заметной\" тесноты связи в данных нет.\n",
    "* \"Умеренная\" корреляция с параметрами 'equity'.\n",
    "* \"Слабая корреляция\", в порядке убывания: 'last_activity', 'products', 'score', 'gende', 'credit card',\n",
    "* Нет корреляции с 'age', 'est_salary', 'balance'\n",
    "\n",
    "**Результат проведенных тестов.**\n",
    "Согласно тесту u-критерием Манна-Уитни у нас нет доказательств о равенстве доходов отточных и остающихся клиентов. Согласно t-критерию Стьдента у нас нет достаточных доказательств, что среденее количество используемых банковских продуктов оставшихся клиентов и отточных равны.\n",
    "\n",
    "\n",
    "**Выделено 3 сегмента клиентов** с наибольшей долей возможного оттока\n",
    "\n",
    "\n",
    "*Доля отточных клиентов  по сегменту 1 - 65%, с параметрами:*\n",
    "\n",
    "|Критерий |Параметр оттока|\n",
    "|---------|----------------|\n",
    "|Балл кредитного скоринга| от 820 баллов|\n",
    "|Баланс на счете|более 1.2 млн.р, но не превышает 4 млн.р.|\n",
    "|Активные клиенты| да|\n",
    "\n",
    "*Доля отточных клиентов  по сегменту 2 - 52%, с параметрами:*\n",
    "\n",
    "|Критерий |Параметр оттока|\n",
    "|---------|----------------|\n",
    "|Балл собственности| более 4 баллов|\n",
    "|Количество продуктов| от 3|\n",
    "|Активные клиенты| да|\n",
    "\n",
    "\n",
    "*Доля отточных клиентов  по сегменту 3 - 50%, с параметрами:*\n",
    "\n",
    "|Критерий |Параметр оттока|\n",
    "|---------|----------------|\n",
    "|Возраст|от 25 до 35 лет|\n",
    "|Активные клиенты| да|\n",
    "|Кредитные карты |нет|\n",
    "\n",
    "Для каждого из сегментов ниже предлагаем **Ряд  мероприятий** для его удержания:\n",
    "\n",
    "*Сегмент 1* - Активный надежный клиент с балансом на счете 1.2-4 млн.  \n",
    "Для его удержания можем предложить выгодные вклады (увеличенная ставка, ежемесячное начисление процентов, гибкое снятие без потерь процентов), мероприятия по темам  финансового благополучия.\n",
    "\n",
    "*Сегмент 2* - Активный клиент с количеством продуктов в Банке от 3 и баллами собственности от 3.\n",
    "Низкие ставки на страхование имущества, услуги аутсорсинга, выгодные ставки по рефинансированию кредитов, мероприятия по темам  финансового благополучия.\n",
    "\n",
    "*Сегмент 3* - Активный клиент в возрасте от 25 до 35 лет без кредитной карты.  \n",
    "Увеличенный процент кэшбэка категорий, основанных на анализе трат клиента. Скидки на мероприятия города по карте Банка. "
   ]
  }
 ],
 "metadata": {
  "ExecuteTimeLog": [
   {
    "duration": 380,
    "start_time": "2023-10-10T08:14:20.781Z"
   },
   {
    "duration": 149,
    "start_time": "2023-10-10T08:35:45.607Z"
   },
   {
    "duration": 37,
    "start_time": "2023-10-10T08:35:48.611Z"
   },
   {
    "duration": 5,
    "start_time": "2023-10-10T08:35:56.212Z"
   },
   {
    "duration": 60,
    "start_time": "2023-10-10T08:35:58.347Z"
   },
   {
    "duration": 37,
    "start_time": "2023-10-10T08:36:46.913Z"
   },
   {
    "duration": 5,
    "start_time": "2023-10-10T08:36:48.709Z"
   },
   {
    "duration": 46,
    "start_time": "2023-10-10T08:36:49.633Z"
   },
   {
    "duration": 1147,
    "start_time": "2023-10-10T08:53:25.015Z"
   },
   {
    "duration": 40,
    "start_time": "2023-10-10T08:53:27.670Z"
   },
   {
    "duration": 5,
    "start_time": "2023-10-10T08:53:29.311Z"
   },
   {
    "duration": 58,
    "start_time": "2023-10-10T08:53:31.361Z"
   },
   {
    "duration": 5,
    "start_time": "2023-10-10T09:04:11.431Z"
   },
   {
    "duration": 53,
    "start_time": "2023-10-10T09:04:13.191Z"
   },
   {
    "duration": 6,
    "start_time": "2023-10-10T09:04:53.479Z"
   },
   {
    "duration": 56,
    "start_time": "2023-10-10T09:04:55.334Z"
   },
   {
    "duration": 9,
    "start_time": "2023-10-10T09:06:47.596Z"
   },
   {
    "duration": 194,
    "start_time": "2023-10-10T09:06:49.411Z"
   },
   {
    "duration": 86,
    "start_time": "2023-10-10T09:07:38.885Z"
   },
   {
    "duration": 7,
    "start_time": "2023-10-10T09:08:36.696Z"
   },
   {
    "duration": 169,
    "start_time": "2023-10-10T09:08:38.673Z"
   },
   {
    "duration": 6,
    "start_time": "2023-10-10T09:09:41.342Z"
   },
   {
    "duration": 170,
    "start_time": "2023-10-10T09:09:43.742Z"
   },
   {
    "duration": 7,
    "start_time": "2023-10-10T09:10:25.093Z"
   },
   {
    "duration": 174,
    "start_time": "2023-10-10T09:10:27.213Z"
   },
   {
    "duration": 7,
    "start_time": "2023-10-10T09:10:49.765Z"
   },
   {
    "duration": 182,
    "start_time": "2023-10-10T09:10:52.405Z"
   },
   {
    "duration": 6,
    "start_time": "2023-10-10T09:11:49.469Z"
   },
   {
    "duration": 169,
    "start_time": "2023-10-10T09:11:51.772Z"
   },
   {
    "duration": 4,
    "start_time": "2023-10-10T09:15:16.518Z"
   },
   {
    "duration": 23,
    "start_time": "2023-10-10T09:15:19.493Z"
   },
   {
    "duration": 326,
    "start_time": "2023-10-10T09:15:38.685Z"
   },
   {
    "duration": 197,
    "start_time": "2023-10-10T09:15:48.725Z"
   },
   {
    "duration": 6,
    "start_time": "2023-10-10T09:17:14.819Z"
   },
   {
    "duration": 153,
    "start_time": "2023-10-10T09:17:41.075Z"
   },
   {
    "duration": 25,
    "start_time": "2023-10-10T09:18:13.370Z"
   },
   {
    "duration": 3,
    "start_time": "2023-10-10T09:22:30.973Z"
   },
   {
    "duration": 13,
    "start_time": "2023-10-10T09:23:39.977Z"
   },
   {
    "duration": 4,
    "start_time": "2023-10-10T09:24:44.472Z"
   },
   {
    "duration": 23,
    "start_time": "2023-10-10T09:24:49.422Z"
   },
   {
    "duration": 4,
    "start_time": "2023-10-10T09:24:58.302Z"
   },
   {
    "duration": 24,
    "start_time": "2023-10-10T09:38:07.838Z"
   },
   {
    "duration": 169,
    "start_time": "2023-10-10T09:44:08.883Z"
   },
   {
    "duration": 14,
    "start_time": "2023-10-10T09:49:08.145Z"
   },
   {
    "duration": 18,
    "start_time": "2023-10-10T09:49:21.529Z"
   },
   {
    "duration": 9,
    "start_time": "2023-10-10T10:01:06.534Z"
   },
   {
    "duration": 21,
    "start_time": "2023-10-10T10:01:13.549Z"
   },
   {
    "duration": 20,
    "start_time": "2023-10-10T10:03:00.739Z"
   },
   {
    "duration": 30,
    "start_time": "2023-10-10T10:08:47.614Z"
   },
   {
    "duration": 18,
    "start_time": "2023-10-10T10:09:19.045Z"
   },
   {
    "duration": 21,
    "start_time": "2023-10-10T10:09:47.961Z"
   },
   {
    "duration": 19,
    "start_time": "2023-10-10T10:12:59.969Z"
   },
   {
    "duration": 7,
    "start_time": "2023-10-10T10:13:07.737Z"
   },
   {
    "duration": 8,
    "start_time": "2023-10-10T10:13:27.864Z"
   },
   {
    "duration": 14,
    "start_time": "2023-10-10T10:13:50.986Z"
   },
   {
    "duration": 10,
    "start_time": "2023-10-10T10:14:01.303Z"
   },
   {
    "duration": 8,
    "start_time": "2023-10-10T10:14:09.121Z"
   },
   {
    "duration": 23,
    "start_time": "2023-10-10T10:15:14.500Z"
   },
   {
    "duration": 18,
    "start_time": "2023-10-10T10:15:31.030Z"
   },
   {
    "duration": 16,
    "start_time": "2023-10-10T10:15:35.605Z"
   },
   {
    "duration": 22,
    "start_time": "2023-10-10T12:02:56.088Z"
   },
   {
    "duration": 41,
    "start_time": "2023-10-10T12:23:10.897Z"
   },
   {
    "duration": 10,
    "start_time": "2023-10-10T12:23:45.229Z"
   },
   {
    "duration": 14,
    "start_time": "2023-10-10T12:25:02.380Z"
   },
   {
    "duration": 15,
    "start_time": "2023-10-10T12:27:15.309Z"
   },
   {
    "duration": 5,
    "start_time": "2023-10-10T12:29:19.969Z"
   },
   {
    "duration": 36,
    "start_time": "2023-10-10T12:43:04.361Z"
   },
   {
    "duration": 12,
    "start_time": "2023-10-10T12:44:13.762Z"
   },
   {
    "duration": 12,
    "start_time": "2023-10-10T12:44:28.267Z"
   },
   {
    "duration": 0,
    "start_time": "2023-10-10T12:44:42.164Z"
   },
   {
    "duration": 32,
    "start_time": "2023-10-10T12:44:47.507Z"
   },
   {
    "duration": 43,
    "start_time": "2023-10-10T12:46:56.167Z"
   },
   {
    "duration": 16,
    "start_time": "2023-10-10T12:51:10.884Z"
   },
   {
    "duration": 14,
    "start_time": "2023-10-10T12:55:10.771Z"
   },
   {
    "duration": 15,
    "start_time": "2023-10-10T13:06:26.232Z"
   },
   {
    "duration": 10,
    "start_time": "2023-10-10T13:06:32.879Z"
   },
   {
    "duration": 15,
    "start_time": "2023-10-10T13:06:38.992Z"
   },
   {
    "duration": 11,
    "start_time": "2023-10-10T13:08:32.637Z"
   },
   {
    "duration": 7,
    "start_time": "2023-10-10T13:08:54.044Z"
   },
   {
    "duration": 19,
    "start_time": "2023-10-10T13:08:59.761Z"
   },
   {
    "duration": 167,
    "start_time": "2023-10-10T13:09:48.804Z"
   },
   {
    "duration": 14,
    "start_time": "2023-10-10T13:10:39.210Z"
   },
   {
    "duration": 14,
    "start_time": "2023-10-10T13:18:49.769Z"
   },
   {
    "duration": 14,
    "start_time": "2023-10-10T13:18:52.375Z"
   },
   {
    "duration": 14,
    "start_time": "2023-10-10T13:18:58.007Z"
   },
   {
    "duration": 14,
    "start_time": "2023-10-10T13:32:18.582Z"
   },
   {
    "duration": 15,
    "start_time": "2023-10-10T13:33:14.928Z"
   },
   {
    "duration": 14,
    "start_time": "2023-10-10T13:47:33.561Z"
   },
   {
    "duration": 11,
    "start_time": "2023-10-10T13:48:36.103Z"
   },
   {
    "duration": 9,
    "start_time": "2023-10-10T13:49:11.630Z"
   },
   {
    "duration": 14,
    "start_time": "2023-10-10T13:50:25.837Z"
   },
   {
    "duration": 8,
    "start_time": "2023-10-10T13:50:50.697Z"
   },
   {
    "duration": 10,
    "start_time": "2023-10-10T13:51:14.323Z"
   },
   {
    "duration": 10,
    "start_time": "2023-10-10T13:51:22.443Z"
   },
   {
    "duration": 10,
    "start_time": "2023-10-10T13:51:27.870Z"
   },
   {
    "duration": 8,
    "start_time": "2023-10-10T13:51:33.499Z"
   },
   {
    "duration": 9,
    "start_time": "2023-10-10T13:51:53.730Z"
   },
   {
    "duration": 88,
    "start_time": "2023-10-10T13:54:12.997Z"
   },
   {
    "duration": 19,
    "start_time": "2023-10-10T13:54:18.999Z"
   },
   {
    "duration": 12,
    "start_time": "2023-10-10T13:54:22.974Z"
   },
   {
    "duration": 8,
    "start_time": "2023-10-10T13:55:33.301Z"
   },
   {
    "duration": 8,
    "start_time": "2023-10-10T13:55:34.535Z"
   },
   {
    "duration": 129,
    "start_time": "2023-10-10T13:57:40.841Z"
   },
   {
    "duration": 15,
    "start_time": "2023-10-10T13:59:40.022Z"
   },
   {
    "duration": 16,
    "start_time": "2023-10-10T14:01:12.271Z"
   },
   {
    "duration": 15,
    "start_time": "2023-10-10T14:01:49.182Z"
   },
   {
    "duration": 17,
    "start_time": "2023-10-10T14:02:01.530Z"
   },
   {
    "duration": 16,
    "start_time": "2023-10-10T14:02:42.825Z"
   },
   {
    "duration": 16,
    "start_time": "2023-10-10T14:03:20.912Z"
   },
   {
    "duration": 8,
    "start_time": "2023-10-10T14:03:23.128Z"
   },
   {
    "duration": 8,
    "start_time": "2023-10-10T14:03:25.432Z"
   },
   {
    "duration": 16,
    "start_time": "2023-10-10T14:03:53.447Z"
   },
   {
    "duration": 8,
    "start_time": "2023-10-10T14:04:03.351Z"
   },
   {
    "duration": 8,
    "start_time": "2023-10-10T14:04:07.598Z"
   },
   {
    "duration": 14,
    "start_time": "2023-10-10T14:04:15.134Z"
   },
   {
    "duration": 12,
    "start_time": "2023-10-10T14:04:25.614Z"
   },
   {
    "duration": 14,
    "start_time": "2023-10-10T14:04:28.094Z"
   },
   {
    "duration": 8,
    "start_time": "2023-10-10T14:04:29.967Z"
   },
   {
    "duration": 8,
    "start_time": "2023-10-10T14:04:34.791Z"
   },
   {
    "duration": 15,
    "start_time": "2023-10-10T14:04:40.246Z"
   },
   {
    "duration": 133,
    "start_time": "2023-10-10T14:04:59.269Z"
   },
   {
    "duration": 14,
    "start_time": "2023-10-10T14:06:05.707Z"
   },
   {
    "duration": 18,
    "start_time": "2023-10-10T14:07:06.401Z"
   },
   {
    "duration": 15,
    "start_time": "2023-10-10T14:07:11.778Z"
   },
   {
    "duration": 132,
    "start_time": "2023-10-10T14:07:32.023Z"
   },
   {
    "duration": 17,
    "start_time": "2023-10-10T14:08:45.979Z"
   },
   {
    "duration": 14,
    "start_time": "2023-10-10T14:09:26.725Z"
   },
   {
    "duration": 13,
    "start_time": "2023-10-10T14:09:39.190Z"
   },
   {
    "duration": 13,
    "start_time": "2023-10-10T14:11:27.764Z"
   },
   {
    "duration": 14,
    "start_time": "2023-10-10T14:11:53.169Z"
   },
   {
    "duration": 14,
    "start_time": "2023-10-10T14:12:14.496Z"
   },
   {
    "duration": 14,
    "start_time": "2023-10-10T14:12:20.208Z"
   },
   {
    "duration": 6,
    "start_time": "2023-10-10T14:19:13.586Z"
   },
   {
    "duration": 20,
    "start_time": "2023-10-10T14:19:47.236Z"
   },
   {
    "duration": 12,
    "start_time": "2023-10-10T14:25:28.284Z"
   },
   {
    "duration": 17,
    "start_time": "2023-10-10T14:31:00.324Z"
   },
   {
    "duration": 21,
    "start_time": "2023-10-10T14:31:54.587Z"
   },
   {
    "duration": 10,
    "start_time": "2023-10-10T14:37:13.551Z"
   },
   {
    "duration": 17,
    "start_time": "2023-10-10T14:37:16.719Z"
   },
   {
    "duration": 4,
    "start_time": "2023-10-11T07:12:45.637Z"
   },
   {
    "duration": 54,
    "start_time": "2023-10-11T07:12:45.642Z"
   },
   {
    "duration": 80,
    "start_time": "2023-10-11T07:12:45.697Z"
   },
   {
    "duration": 9,
    "start_time": "2023-10-11T07:12:45.779Z"
   },
   {
    "duration": 59,
    "start_time": "2023-10-11T07:12:45.789Z"
   },
   {
    "duration": 226,
    "start_time": "2023-10-11T07:12:45.850Z"
   },
   {
    "duration": 8,
    "start_time": "2023-10-11T07:12:46.078Z"
   },
   {
    "duration": 18,
    "start_time": "2023-10-11T07:12:46.087Z"
   },
   {
    "duration": 50,
    "start_time": "2023-10-11T07:12:46.108Z"
   },
   {
    "duration": 17,
    "start_time": "2023-10-11T07:12:46.160Z"
   },
   {
    "duration": 28,
    "start_time": "2023-10-11T07:12:46.179Z"
   },
   {
    "duration": 49,
    "start_time": "2023-10-11T07:12:46.208Z"
   },
   {
    "duration": 56,
    "start_time": "2023-10-11T07:12:46.261Z"
   },
   {
    "duration": 21,
    "start_time": "2023-10-11T07:12:46.319Z"
   },
   {
    "duration": 32,
    "start_time": "2023-10-11T07:12:46.342Z"
   },
   {
    "duration": 36,
    "start_time": "2023-10-11T07:12:46.378Z"
   },
   {
    "duration": 18,
    "start_time": "2023-10-11T07:12:46.416Z"
   },
   {
    "duration": 26,
    "start_time": "2023-10-11T07:12:46.436Z"
   },
   {
    "duration": 55,
    "start_time": "2023-10-11T07:12:46.464Z"
   },
   {
    "duration": 1516,
    "start_time": "2023-10-11T07:12:46.521Z"
   },
   {
    "duration": 36,
    "start_time": "2023-10-11T07:21:46.246Z"
   },
   {
    "duration": 21,
    "start_time": "2023-10-11T07:21:52.678Z"
   },
   {
    "duration": 18,
    "start_time": "2023-10-11T07:22:09.859Z"
   },
   {
    "duration": 12,
    "start_time": "2023-10-11T07:22:20.766Z"
   },
   {
    "duration": 4,
    "start_time": "2023-10-11T07:22:30.334Z"
   },
   {
    "duration": 78,
    "start_time": "2023-10-11T07:22:30.339Z"
   },
   {
    "duration": 168,
    "start_time": "2023-10-11T07:22:30.418Z"
   },
   {
    "duration": 441,
    "start_time": "2023-10-11T07:22:30.588Z"
   },
   {
    "duration": 57,
    "start_time": "2023-10-11T07:22:31.031Z"
   },
   {
    "duration": 273,
    "start_time": "2023-10-11T07:22:31.090Z"
   },
   {
    "duration": 9,
    "start_time": "2023-10-11T07:22:31.365Z"
   },
   {
    "duration": 97,
    "start_time": "2023-10-11T07:22:31.375Z"
   },
   {
    "duration": 85,
    "start_time": "2023-10-11T07:22:31.475Z"
   },
   {
    "duration": 35,
    "start_time": "2023-10-11T07:22:31.562Z"
   },
   {
    "duration": 140,
    "start_time": "2023-10-11T07:22:31.598Z"
   },
   {
    "duration": 97,
    "start_time": "2023-10-11T07:22:31.739Z"
   },
   {
    "duration": 47,
    "start_time": "2023-10-11T07:22:31.837Z"
   },
   {
    "duration": 93,
    "start_time": "2023-10-11T07:22:31.886Z"
   },
   {
    "duration": 56,
    "start_time": "2023-10-11T07:22:31.981Z"
   },
   {
    "duration": 43,
    "start_time": "2023-10-11T07:22:32.038Z"
   },
   {
    "duration": 61,
    "start_time": "2023-10-11T07:22:32.083Z"
   },
   {
    "duration": 54,
    "start_time": "2023-10-11T07:22:32.145Z"
   },
   {
    "duration": 15,
    "start_time": "2023-10-11T07:22:32.201Z"
   },
   {
    "duration": 70,
    "start_time": "2023-10-11T07:22:32.217Z"
   },
   {
    "duration": 1474,
    "start_time": "2023-10-11T07:22:32.289Z"
   },
   {
    "duration": 19,
    "start_time": "2023-10-11T07:22:37.948Z"
   },
   {
    "duration": 3,
    "start_time": "2023-10-11T07:22:43.527Z"
   },
   {
    "duration": 72,
    "start_time": "2023-10-11T07:22:43.532Z"
   },
   {
    "duration": 23,
    "start_time": "2023-10-11T07:22:43.606Z"
   },
   {
    "duration": 9,
    "start_time": "2023-10-11T07:22:43.631Z"
   },
   {
    "duration": 45,
    "start_time": "2023-10-11T07:22:43.641Z"
   },
   {
    "duration": 200,
    "start_time": "2023-10-11T07:22:43.688Z"
   },
   {
    "duration": 8,
    "start_time": "2023-10-11T07:22:43.889Z"
   },
   {
    "duration": 19,
    "start_time": "2023-10-11T07:22:43.898Z"
   },
   {
    "duration": 44,
    "start_time": "2023-10-11T07:22:43.919Z"
   },
   {
    "duration": 16,
    "start_time": "2023-10-11T07:22:43.965Z"
   },
   {
    "duration": 19,
    "start_time": "2023-10-11T07:22:43.982Z"
   },
   {
    "duration": 18,
    "start_time": "2023-10-11T07:22:44.002Z"
   },
   {
    "duration": 28,
    "start_time": "2023-10-11T07:22:44.022Z"
   },
   {
    "duration": 29,
    "start_time": "2023-10-11T07:22:44.052Z"
   },
   {
    "duration": 17,
    "start_time": "2023-10-11T07:22:44.083Z"
   },
   {
    "duration": 16,
    "start_time": "2023-10-11T07:22:44.102Z"
   },
   {
    "duration": 185,
    "start_time": "2023-10-11T07:22:44.119Z"
   },
   {
    "duration": 13,
    "start_time": "2023-10-11T07:22:44.306Z"
   },
   {
    "duration": 137,
    "start_time": "2023-10-11T07:22:44.321Z"
   },
   {
    "duration": 67,
    "start_time": "2023-10-11T07:22:44.460Z"
   },
   {
    "duration": 1452,
    "start_time": "2023-10-11T07:22:44.529Z"
   },
   {
    "duration": 4,
    "start_time": "2023-10-11T07:23:00.805Z"
   },
   {
    "duration": 155,
    "start_time": "2023-10-11T07:23:00.811Z"
   },
   {
    "duration": 40,
    "start_time": "2023-10-11T07:23:00.968Z"
   },
   {
    "duration": 36,
    "start_time": "2023-10-11T07:23:01.009Z"
   },
   {
    "duration": 43,
    "start_time": "2023-10-11T07:23:01.047Z"
   },
   {
    "duration": 226,
    "start_time": "2023-10-11T07:23:01.092Z"
   },
   {
    "duration": 8,
    "start_time": "2023-10-11T07:23:01.320Z"
   },
   {
    "duration": 163,
    "start_time": "2023-10-11T07:23:01.329Z"
   },
   {
    "duration": 166,
    "start_time": "2023-10-11T07:23:01.494Z"
   },
   {
    "duration": 155,
    "start_time": "2023-10-11T07:23:01.661Z"
   },
   {
    "duration": 97,
    "start_time": "2023-10-11T07:23:01.818Z"
   },
   {
    "duration": 49,
    "start_time": "2023-10-11T07:23:01.916Z"
   },
   {
    "duration": 45,
    "start_time": "2023-10-11T07:23:01.966Z"
   },
   {
    "duration": 27,
    "start_time": "2023-10-11T07:23:02.014Z"
   },
   {
    "duration": 35,
    "start_time": "2023-10-11T07:23:02.042Z"
   },
   {
    "duration": 43,
    "start_time": "2023-10-11T07:23:02.079Z"
   },
   {
    "duration": 49,
    "start_time": "2023-10-11T07:23:02.124Z"
   },
   {
    "duration": 53,
    "start_time": "2023-10-11T07:23:02.175Z"
   },
   {
    "duration": 40,
    "start_time": "2023-10-11T07:23:02.230Z"
   },
   {
    "duration": 142,
    "start_time": "2023-10-11T07:23:02.272Z"
   },
   {
    "duration": 1483,
    "start_time": "2023-10-11T07:23:02.416Z"
   },
   {
    "duration": 1685,
    "start_time": "2023-10-11T07:41:34.062Z"
   },
   {
    "duration": 25,
    "start_time": "2023-10-11T07:42:31.464Z"
   },
   {
    "duration": 4,
    "start_time": "2023-10-11T07:43:11.988Z"
   },
   {
    "duration": 86,
    "start_time": "2023-10-11T07:43:11.994Z"
   },
   {
    "duration": 23,
    "start_time": "2023-10-11T07:43:12.082Z"
   },
   {
    "duration": 32,
    "start_time": "2023-10-11T07:43:12.108Z"
   },
   {
    "duration": 37,
    "start_time": "2023-10-11T07:43:12.141Z"
   },
   {
    "duration": 240,
    "start_time": "2023-10-11T07:43:12.180Z"
   },
   {
    "duration": 10,
    "start_time": "2023-10-11T07:43:12.421Z"
   },
   {
    "duration": 71,
    "start_time": "2023-10-11T07:43:12.434Z"
   },
   {
    "duration": 66,
    "start_time": "2023-10-11T07:43:12.507Z"
   },
   {
    "duration": 36,
    "start_time": "2023-10-11T07:43:12.577Z"
   },
   {
    "duration": 48,
    "start_time": "2023-10-11T07:43:12.615Z"
   },
   {
    "duration": 73,
    "start_time": "2023-10-11T07:43:12.664Z"
   },
   {
    "duration": 40,
    "start_time": "2023-10-11T07:43:12.739Z"
   },
   {
    "duration": 63,
    "start_time": "2023-10-11T07:43:12.780Z"
   },
   {
    "duration": 90,
    "start_time": "2023-10-11T07:43:12.844Z"
   },
   {
    "duration": 65,
    "start_time": "2023-10-11T07:43:12.936Z"
   },
   {
    "duration": 30,
    "start_time": "2023-10-11T07:43:13.003Z"
   },
   {
    "duration": 200,
    "start_time": "2023-10-11T07:43:13.034Z"
   },
   {
    "duration": 112,
    "start_time": "2023-10-11T07:43:13.235Z"
   },
   {
    "duration": 68,
    "start_time": "2023-10-11T07:43:13.348Z"
   },
   {
    "duration": 54,
    "start_time": "2023-10-11T07:43:13.418Z"
   },
   {
    "duration": 1559,
    "start_time": "2023-10-11T07:43:13.473Z"
   },
   {
    "duration": 11,
    "start_time": "2023-10-11T07:43:58.144Z"
   },
   {
    "duration": 37,
    "start_time": "2023-10-11T07:44:11.983Z"
   },
   {
    "duration": 2052,
    "start_time": "2023-10-11T07:48:26.442Z"
   },
   {
    "duration": 93,
    "start_time": "2023-10-11T07:48:43.617Z"
   },
   {
    "duration": 26,
    "start_time": "2023-10-11T07:48:47.984Z"
   },
   {
    "duration": 30,
    "start_time": "2023-10-11T07:51:51.028Z"
   },
   {
    "duration": 5,
    "start_time": "2023-10-11T07:52:34.542Z"
   },
   {
    "duration": 61,
    "start_time": "2023-10-11T07:52:34.549Z"
   },
   {
    "duration": 26,
    "start_time": "2023-10-11T07:52:34.612Z"
   },
   {
    "duration": 9,
    "start_time": "2023-10-11T07:52:34.640Z"
   },
   {
    "duration": 19,
    "start_time": "2023-10-11T07:52:34.652Z"
   },
   {
    "duration": 177,
    "start_time": "2023-10-11T07:52:34.672Z"
   },
   {
    "duration": 8,
    "start_time": "2023-10-11T07:52:34.851Z"
   },
   {
    "duration": 19,
    "start_time": "2023-10-11T07:52:34.861Z"
   },
   {
    "duration": 20,
    "start_time": "2023-10-11T07:52:34.882Z"
   },
   {
    "duration": 44,
    "start_time": "2023-10-11T07:52:34.905Z"
   },
   {
    "duration": 15,
    "start_time": "2023-10-11T07:52:34.951Z"
   },
   {
    "duration": 26,
    "start_time": "2023-10-11T07:52:34.969Z"
   },
   {
    "duration": 39,
    "start_time": "2023-10-11T07:52:34.997Z"
   },
   {
    "duration": 28,
    "start_time": "2023-10-11T07:52:35.039Z"
   },
   {
    "duration": 12,
    "start_time": "2023-10-11T07:52:35.069Z"
   },
   {
    "duration": 44,
    "start_time": "2023-10-11T07:52:35.083Z"
   },
   {
    "duration": 24,
    "start_time": "2023-10-11T07:52:35.129Z"
   },
   {
    "duration": 21,
    "start_time": "2023-10-11T07:52:35.154Z"
   },
   {
    "duration": 17,
    "start_time": "2023-10-11T07:52:35.177Z"
   },
   {
    "duration": 44,
    "start_time": "2023-10-11T07:52:35.196Z"
   },
   {
    "duration": 26,
    "start_time": "2023-10-11T07:52:35.242Z"
   },
   {
    "duration": 50,
    "start_time": "2023-10-11T07:52:35.270Z"
   },
   {
    "duration": 1711,
    "start_time": "2023-10-11T07:52:35.321Z"
   },
   {
    "duration": 14,
    "start_time": "2023-10-11T08:25:32.720Z"
   },
   {
    "duration": 3,
    "start_time": "2023-10-11T08:26:41.331Z"
   },
   {
    "duration": 49,
    "start_time": "2023-10-11T08:26:41.336Z"
   },
   {
    "duration": 30,
    "start_time": "2023-10-11T08:26:41.387Z"
   },
   {
    "duration": 4,
    "start_time": "2023-10-11T08:26:41.418Z"
   },
   {
    "duration": 26,
    "start_time": "2023-10-11T08:26:41.424Z"
   },
   {
    "duration": 197,
    "start_time": "2023-10-11T08:26:41.452Z"
   },
   {
    "duration": 8,
    "start_time": "2023-10-11T08:26:41.651Z"
   },
   {
    "duration": 31,
    "start_time": "2023-10-11T08:26:41.661Z"
   },
   {
    "duration": 30,
    "start_time": "2023-10-11T08:26:41.694Z"
   },
   {
    "duration": 38,
    "start_time": "2023-10-11T08:26:41.726Z"
   },
   {
    "duration": 30,
    "start_time": "2023-10-11T08:26:41.766Z"
   },
   {
    "duration": 15,
    "start_time": "2023-10-11T08:26:41.798Z"
   },
   {
    "duration": 32,
    "start_time": "2023-10-11T08:26:41.816Z"
   },
   {
    "duration": 23,
    "start_time": "2023-10-11T08:26:41.850Z"
   },
   {
    "duration": 21,
    "start_time": "2023-10-11T08:26:41.875Z"
   },
   {
    "duration": 44,
    "start_time": "2023-10-11T08:26:41.898Z"
   },
   {
    "duration": 27,
    "start_time": "2023-10-11T08:26:41.943Z"
   },
   {
    "duration": 28,
    "start_time": "2023-10-11T08:26:41.972Z"
   },
   {
    "duration": 17,
    "start_time": "2023-10-11T08:26:42.002Z"
   },
   {
    "duration": 64,
    "start_time": "2023-10-11T08:26:42.021Z"
   },
   {
    "duration": 11,
    "start_time": "2023-10-11T08:26:42.086Z"
   },
   {
    "duration": 80,
    "start_time": "2023-10-11T08:26:42.099Z"
   },
   {
    "duration": 1497,
    "start_time": "2023-10-11T08:26:42.181Z"
   },
   {
    "duration": 4,
    "start_time": "2023-10-11T08:28:07.995Z"
   },
   {
    "duration": 10,
    "start_time": "2023-10-11T08:29:40.163Z"
   },
   {
    "duration": 14,
    "start_time": "2023-10-11T08:29:45.536Z"
   },
   {
    "duration": 4,
    "start_time": "2023-10-11T08:29:48.874Z"
   },
   {
    "duration": 53,
    "start_time": "2023-10-11T08:29:48.880Z"
   },
   {
    "duration": 24,
    "start_time": "2023-10-11T08:29:48.935Z"
   },
   {
    "duration": 4,
    "start_time": "2023-10-11T08:29:48.961Z"
   },
   {
    "duration": 15,
    "start_time": "2023-10-11T08:29:48.967Z"
   },
   {
    "duration": 491,
    "start_time": "2023-10-11T08:29:48.984Z"
   },
   {
    "duration": 11,
    "start_time": "2023-10-11T08:29:49.477Z"
   },
   {
    "duration": 36,
    "start_time": "2023-10-11T08:29:49.490Z"
   },
   {
    "duration": 37,
    "start_time": "2023-10-11T08:29:49.528Z"
   },
   {
    "duration": 15,
    "start_time": "2023-10-11T08:29:49.568Z"
   },
   {
    "duration": 28,
    "start_time": "2023-10-11T08:29:49.585Z"
   },
   {
    "duration": 27,
    "start_time": "2023-10-11T08:29:49.615Z"
   },
   {
    "duration": 48,
    "start_time": "2023-10-11T08:29:49.644Z"
   },
   {
    "duration": 42,
    "start_time": "2023-10-11T08:29:49.694Z"
   },
   {
    "duration": 20,
    "start_time": "2023-10-11T08:29:49.738Z"
   },
   {
    "duration": 52,
    "start_time": "2023-10-11T08:29:49.760Z"
   },
   {
    "duration": 21,
    "start_time": "2023-10-11T08:29:49.814Z"
   },
   {
    "duration": 48,
    "start_time": "2023-10-11T08:29:49.837Z"
   },
   {
    "duration": 9,
    "start_time": "2023-10-11T08:29:49.888Z"
   },
   {
    "duration": 40,
    "start_time": "2023-10-11T08:29:49.898Z"
   },
   {
    "duration": 55,
    "start_time": "2023-10-11T08:29:49.940Z"
   },
   {
    "duration": 72,
    "start_time": "2023-10-11T08:29:49.999Z"
   },
   {
    "duration": 1540,
    "start_time": "2023-10-11T08:29:50.074Z"
   },
   {
    "duration": 17,
    "start_time": "2023-10-11T08:30:33.335Z"
   },
   {
    "duration": 33,
    "start_time": "2023-10-11T08:30:48.702Z"
   },
   {
    "duration": 30,
    "start_time": "2023-10-11T08:30:57.023Z"
   },
   {
    "duration": 1714,
    "start_time": "2023-10-11T09:27:46.509Z"
   },
   {
    "duration": 14,
    "start_time": "2023-10-11T09:34:02.990Z"
   },
   {
    "duration": 38,
    "start_time": "2023-10-11T09:34:20.593Z"
   },
   {
    "duration": 33,
    "start_time": "2023-10-11T09:34:45.225Z"
   },
   {
    "duration": 13,
    "start_time": "2023-10-11T09:35:11.284Z"
   },
   {
    "duration": 49,
    "start_time": "2023-10-11T09:35:16.320Z"
   },
   {
    "duration": 37,
    "start_time": "2023-10-11T09:42:22.636Z"
   },
   {
    "duration": 33,
    "start_time": "2023-10-11T09:52:22.705Z"
   },
   {
    "duration": 28,
    "start_time": "2023-10-11T09:56:25.533Z"
   },
   {
    "duration": 19,
    "start_time": "2023-10-11T09:56:32.414Z"
   },
   {
    "duration": 7,
    "start_time": "2023-10-11T10:02:09.465Z"
   },
   {
    "duration": 28,
    "start_time": "2023-10-11T10:02:12.067Z"
   },
   {
    "duration": 10,
    "start_time": "2023-10-11T10:03:01.254Z"
   },
   {
    "duration": 9,
    "start_time": "2023-10-11T11:24:47.585Z"
   },
   {
    "duration": 4,
    "start_time": "2023-10-11T11:24:52.690Z"
   },
   {
    "duration": 4,
    "start_time": "2023-10-11T11:25:26.407Z"
   },
   {
    "duration": 10,
    "start_time": "2023-10-11T11:26:02.423Z"
   },
   {
    "duration": 7,
    "start_time": "2023-10-11T11:26:18.437Z"
   },
   {
    "duration": 7,
    "start_time": "2023-10-11T11:26:25.394Z"
   },
   {
    "duration": 8,
    "start_time": "2023-10-11T11:26:34.196Z"
   },
   {
    "duration": 7,
    "start_time": "2023-10-11T11:27:31.288Z"
   },
   {
    "duration": 17,
    "start_time": "2023-10-11T11:33:42.275Z"
   },
   {
    "duration": 3880,
    "start_time": "2023-10-11T11:34:57.592Z"
   },
   {
    "duration": 121,
    "start_time": "2023-10-11T11:45:34.292Z"
   },
   {
    "duration": 3,
    "start_time": "2023-10-11T11:46:35.938Z"
   },
   {
    "duration": 5,
    "start_time": "2023-10-11T11:49:09.517Z"
   },
   {
    "duration": 201,
    "start_time": "2023-10-11T11:51:26.992Z"
   },
   {
    "duration": 20,
    "start_time": "2023-10-11T11:53:20.480Z"
   },
   {
    "duration": 14,
    "start_time": "2023-10-11T11:53:33.021Z"
   },
   {
    "duration": 39,
    "start_time": "2023-10-11T11:53:57.517Z"
   },
   {
    "duration": 43,
    "start_time": "2023-10-11T11:55:09.037Z"
   },
   {
    "duration": 10,
    "start_time": "2023-10-11T12:42:24.266Z"
   },
   {
    "duration": 17,
    "start_time": "2023-10-11T12:42:37.673Z"
   },
   {
    "duration": 117,
    "start_time": "2023-10-11T12:46:32.167Z"
   },
   {
    "duration": 3489,
    "start_time": "2023-10-11T12:46:55.219Z"
   },
   {
    "duration": 3,
    "start_time": "2023-10-11T12:47:04.102Z"
   },
   {
    "duration": 2143,
    "start_time": "2023-10-11T12:47:14.066Z"
   },
   {
    "duration": 1138,
    "start_time": "2023-10-11T12:47:16.211Z"
   },
   {
    "duration": 40,
    "start_time": "2023-10-11T12:47:17.351Z"
   },
   {
    "duration": 28,
    "start_time": "2023-10-11T12:47:17.393Z"
   },
   {
    "duration": 4,
    "start_time": "2023-10-11T12:47:17.423Z"
   },
   {
    "duration": 14,
    "start_time": "2023-10-11T12:47:17.428Z"
   },
   {
    "duration": 190,
    "start_time": "2023-10-11T12:47:17.443Z"
   },
   {
    "duration": 18,
    "start_time": "2023-10-11T12:47:17.635Z"
   },
   {
    "duration": 15,
    "start_time": "2023-10-11T12:47:17.655Z"
   },
   {
    "duration": 30,
    "start_time": "2023-10-11T12:47:17.672Z"
   },
   {
    "duration": 17,
    "start_time": "2023-10-11T12:47:17.704Z"
   },
   {
    "duration": 12,
    "start_time": "2023-10-11T12:47:17.723Z"
   },
   {
    "duration": 22,
    "start_time": "2023-10-11T12:47:17.737Z"
   },
   {
    "duration": 35,
    "start_time": "2023-10-11T12:47:17.762Z"
   },
   {
    "duration": 12,
    "start_time": "2023-10-11T12:47:17.798Z"
   },
   {
    "duration": 16,
    "start_time": "2023-10-11T12:47:17.812Z"
   },
   {
    "duration": 35,
    "start_time": "2023-10-11T12:47:17.830Z"
   },
   {
    "duration": 25,
    "start_time": "2023-10-11T12:47:17.866Z"
   },
   {
    "duration": 17,
    "start_time": "2023-10-11T12:47:17.892Z"
   },
   {
    "duration": 14,
    "start_time": "2023-10-11T12:47:17.910Z"
   },
   {
    "duration": 35,
    "start_time": "2023-10-11T12:47:17.925Z"
   },
   {
    "duration": 66,
    "start_time": "2023-10-11T12:47:17.962Z"
   },
   {
    "duration": 26,
    "start_time": "2023-10-11T12:47:18.029Z"
   },
   {
    "duration": 17,
    "start_time": "2023-10-11T12:47:18.056Z"
   },
   {
    "duration": 32,
    "start_time": "2023-10-11T12:47:18.074Z"
   },
   {
    "duration": 39,
    "start_time": "2023-10-11T12:47:18.108Z"
   },
   {
    "duration": 195,
    "start_time": "2023-10-11T12:47:18.148Z"
   },
   {
    "duration": 150,
    "start_time": "2023-10-11T12:47:18.345Z"
   },
   {
    "duration": 0,
    "start_time": "2023-10-11T12:47:18.496Z"
   },
   {
    "duration": 0,
    "start_time": "2023-10-11T12:47:18.498Z"
   },
   {
    "duration": 99,
    "start_time": "2023-10-11T12:53:54.365Z"
   },
   {
    "duration": 26,
    "start_time": "2023-10-11T12:54:09.236Z"
   },
   {
    "duration": 22,
    "start_time": "2023-10-11T12:54:42.739Z"
   },
   {
    "duration": 195,
    "start_time": "2023-10-11T13:01:11.070Z"
   },
   {
    "duration": 131,
    "start_time": "2023-10-11T13:01:50.973Z"
   },
   {
    "duration": 237,
    "start_time": "2023-10-11T13:01:55.773Z"
   },
   {
    "duration": 313,
    "start_time": "2023-10-11T13:02:01.565Z"
   },
   {
    "duration": 403,
    "start_time": "2023-10-11T13:07:19.530Z"
   },
   {
    "duration": 338,
    "start_time": "2023-10-11T13:09:11.983Z"
   },
   {
    "duration": 317,
    "start_time": "2023-10-11T13:10:50.604Z"
   },
   {
    "duration": 313,
    "start_time": "2023-10-11T13:11:14.435Z"
   },
   {
    "duration": 14,
    "start_time": "2023-10-11T13:11:34.723Z"
   },
   {
    "duration": 312,
    "start_time": "2023-10-11T13:11:40.363Z"
   },
   {
    "duration": 402,
    "start_time": "2023-10-11T13:12:03.202Z"
   },
   {
    "duration": 359,
    "start_time": "2023-10-11T13:14:58.449Z"
   },
   {
    "duration": 336,
    "start_time": "2023-10-11T13:18:34.455Z"
   },
   {
    "duration": 328,
    "start_time": "2023-10-11T13:18:53.935Z"
   },
   {
    "duration": 291,
    "start_time": "2023-10-11T13:19:02.877Z"
   },
   {
    "duration": 317,
    "start_time": "2023-10-11T13:19:09.149Z"
   },
   {
    "duration": 105,
    "start_time": "2023-10-11T13:19:24.549Z"
   },
   {
    "duration": 83,
    "start_time": "2023-10-11T13:19:27.948Z"
   },
   {
    "duration": 442,
    "start_time": "2023-10-11T13:19:48.781Z"
   },
   {
    "duration": 347,
    "start_time": "2023-10-11T13:20:03.756Z"
   },
   {
    "duration": 371,
    "start_time": "2023-10-11T13:20:16.307Z"
   },
   {
    "duration": 140,
    "start_time": "2023-10-11T13:22:36.503Z"
   },
   {
    "duration": 141,
    "start_time": "2023-10-11T13:22:45.184Z"
   },
   {
    "duration": 151,
    "start_time": "2023-10-11T13:22:52.655Z"
   },
   {
    "duration": 183,
    "start_time": "2023-10-11T13:23:02.808Z"
   },
   {
    "duration": 701,
    "start_time": "2023-10-11T13:24:34.675Z"
   },
   {
    "duration": 368,
    "start_time": "2023-10-11T13:24:41.591Z"
   },
   {
    "duration": 235,
    "start_time": "2023-10-11T13:25:09.148Z"
   },
   {
    "duration": 501,
    "start_time": "2023-10-11T13:25:15.933Z"
   },
   {
    "duration": 252,
    "start_time": "2023-10-11T13:25:21.054Z"
   },
   {
    "duration": 308,
    "start_time": "2023-10-11T13:25:28.989Z"
   },
   {
    "duration": 411,
    "start_time": "2023-10-11T13:25:32.485Z"
   },
   {
    "duration": 410,
    "start_time": "2023-10-11T13:25:36.004Z"
   },
   {
    "duration": 245,
    "start_time": "2023-10-11T13:25:41.363Z"
   },
   {
    "duration": 504,
    "start_time": "2023-10-11T13:26:04.397Z"
   },
   {
    "duration": 3625,
    "start_time": "2023-10-11T13:26:08.180Z"
   },
   {
    "duration": 9,
    "start_time": "2023-10-11T13:27:38.530Z"
   },
   {
    "duration": 197,
    "start_time": "2023-10-11T13:27:43.586Z"
   },
   {
    "duration": 365,
    "start_time": "2023-10-11T13:27:48.411Z"
   },
   {
    "duration": 226,
    "start_time": "2023-10-11T13:27:54.690Z"
   },
   {
    "duration": 277,
    "start_time": "2023-10-11T13:28:05.809Z"
   },
   {
    "duration": 278,
    "start_time": "2023-10-11T13:28:53.113Z"
   },
   {
    "duration": 484,
    "start_time": "2023-10-11T13:29:06.816Z"
   },
   {
    "duration": 258,
    "start_time": "2023-10-11T13:29:11.673Z"
   },
   {
    "duration": 1851,
    "start_time": "2023-10-11T13:29:20.008Z"
   },
   {
    "duration": 477,
    "start_time": "2023-10-11T13:29:24.392Z"
   },
   {
    "duration": 499,
    "start_time": "2023-10-11T13:30:10.815Z"
   },
   {
    "duration": 249,
    "start_time": "2023-10-11T13:30:19.071Z"
   },
   {
    "duration": 298,
    "start_time": "2023-10-11T13:30:29.119Z"
   },
   {
    "duration": 365,
    "start_time": "2023-10-11T13:31:52.861Z"
   },
   {
    "duration": 368,
    "start_time": "2023-10-11T13:31:55.901Z"
   },
   {
    "duration": 136,
    "start_time": "2023-10-11T13:38:59.650Z"
   },
   {
    "duration": 122,
    "start_time": "2023-10-11T13:39:44.612Z"
   },
   {
    "duration": 179,
    "start_time": "2023-10-11T13:39:48.400Z"
   },
   {
    "duration": 99,
    "start_time": "2023-10-11T13:40:04.514Z"
   },
   {
    "duration": 11,
    "start_time": "2023-10-11T13:40:20.360Z"
   },
   {
    "duration": 531,
    "start_time": "2023-10-11T13:40:28.441Z"
   },
   {
    "duration": 390,
    "start_time": "2023-10-11T13:42:18.980Z"
   },
   {
    "duration": 390,
    "start_time": "2023-10-11T13:42:31.229Z"
   },
   {
    "duration": 391,
    "start_time": "2023-10-11T13:42:35.725Z"
   },
   {
    "duration": 403,
    "start_time": "2023-10-11T13:42:45.584Z"
   },
   {
    "duration": 500,
    "start_time": "2023-10-11T13:43:54.965Z"
   },
   {
    "duration": 393,
    "start_time": "2023-10-11T13:44:08.539Z"
   },
   {
    "duration": 3725,
    "start_time": "2023-10-11T13:45:13.546Z"
   },
   {
    "duration": 550,
    "start_time": "2023-10-11T13:45:21.793Z"
   },
   {
    "duration": 659,
    "start_time": "2023-10-11T13:45:28.128Z"
   },
   {
    "duration": 377,
    "start_time": "2023-10-11T13:46:33.471Z"
   },
   {
    "duration": 370,
    "start_time": "2023-10-11T13:47:55.230Z"
   },
   {
    "duration": 379,
    "start_time": "2023-10-11T13:48:08.389Z"
   },
   {
    "duration": 341,
    "start_time": "2023-10-11T13:48:17.675Z"
   },
   {
    "duration": 525,
    "start_time": "2023-10-11T13:48:27.932Z"
   },
   {
    "duration": 384,
    "start_time": "2023-10-11T13:48:35.084Z"
   },
   {
    "duration": 358,
    "start_time": "2023-10-11T13:49:48.557Z"
   },
   {
    "duration": 387,
    "start_time": "2023-10-11T13:50:11.481Z"
   },
   {
    "duration": 371,
    "start_time": "2023-10-11T13:50:18.305Z"
   },
   {
    "duration": 317,
    "start_time": "2023-10-11T13:51:02.136Z"
   },
   {
    "duration": 279,
    "start_time": "2023-10-11T13:51:15.095Z"
   },
   {
    "duration": 387,
    "start_time": "2023-10-11T13:51:27.664Z"
   },
   {
    "duration": 287,
    "start_time": "2023-10-11T13:53:03.997Z"
   },
   {
    "duration": 222,
    "start_time": "2023-10-11T13:57:47.359Z"
   },
   {
    "duration": 257,
    "start_time": "2023-10-11T13:57:56.662Z"
   },
   {
    "duration": 15,
    "start_time": "2023-10-11T14:18:27.315Z"
   },
   {
    "duration": 9,
    "start_time": "2023-10-11T14:19:04.699Z"
   },
   {
    "duration": 11,
    "start_time": "2023-10-11T14:19:13.185Z"
   },
   {
    "duration": 2289,
    "start_time": "2023-10-11T14:19:24.316Z"
   },
   {
    "duration": 5,
    "start_time": "2023-10-11T14:19:26.607Z"
   },
   {
    "duration": 62,
    "start_time": "2023-10-11T14:19:26.613Z"
   },
   {
    "duration": 30,
    "start_time": "2023-10-11T14:19:26.678Z"
   },
   {
    "duration": 4,
    "start_time": "2023-10-11T14:19:26.709Z"
   },
   {
    "duration": 25,
    "start_time": "2023-10-11T14:19:26.715Z"
   },
   {
    "duration": 198,
    "start_time": "2023-10-11T14:19:26.742Z"
   },
   {
    "duration": 15,
    "start_time": "2023-10-11T14:19:26.942Z"
   },
   {
    "duration": 17,
    "start_time": "2023-10-11T14:19:26.959Z"
   },
   {
    "duration": 19,
    "start_time": "2023-10-11T14:19:26.979Z"
   },
   {
    "duration": 15,
    "start_time": "2023-10-11T14:19:27.000Z"
   },
   {
    "duration": 40,
    "start_time": "2023-10-11T14:19:27.017Z"
   },
   {
    "duration": 13,
    "start_time": "2023-10-11T14:19:27.059Z"
   },
   {
    "duration": 24,
    "start_time": "2023-10-11T14:19:27.074Z"
   },
   {
    "duration": 14,
    "start_time": "2023-10-11T14:19:27.099Z"
   },
   {
    "duration": 34,
    "start_time": "2023-10-11T14:19:27.115Z"
   },
   {
    "duration": 16,
    "start_time": "2023-10-11T14:19:27.151Z"
   },
   {
    "duration": 14,
    "start_time": "2023-10-11T14:19:27.168Z"
   },
   {
    "duration": 15,
    "start_time": "2023-10-11T14:19:27.183Z"
   },
   {
    "duration": 3,
    "start_time": "2023-10-11T14:19:27.200Z"
   },
   {
    "duration": 50,
    "start_time": "2023-10-11T14:19:27.204Z"
   },
   {
    "duration": 33,
    "start_time": "2023-10-11T14:19:27.256Z"
   },
   {
    "duration": 14,
    "start_time": "2023-10-11T14:19:27.291Z"
   },
   {
    "duration": 23,
    "start_time": "2023-10-11T14:19:27.306Z"
   },
   {
    "duration": 13,
    "start_time": "2023-10-11T14:19:27.331Z"
   },
   {
    "duration": 346,
    "start_time": "2023-10-11T14:19:27.349Z"
   },
   {
    "duration": 334,
    "start_time": "2023-10-11T14:19:27.697Z"
   },
   {
    "duration": 246,
    "start_time": "2023-10-11T14:19:28.034Z"
   },
   {
    "duration": 268,
    "start_time": "2023-10-11T14:19:28.281Z"
   },
   {
    "duration": 540,
    "start_time": "2023-10-11T14:19:28.551Z"
   },
   {
    "duration": 276,
    "start_time": "2023-10-11T14:19:29.093Z"
   },
   {
    "duration": 13,
    "start_time": "2023-10-11T14:19:29.370Z"
   },
   {
    "duration": 28,
    "start_time": "2023-10-11T14:19:29.384Z"
   },
   {
    "duration": 0,
    "start_time": "2023-10-11T14:19:29.413Z"
   },
   {
    "duration": 9,
    "start_time": "2023-10-11T14:20:47.376Z"
   },
   {
    "duration": 16,
    "start_time": "2023-10-11T14:20:54.668Z"
   },
   {
    "duration": 132,
    "start_time": "2023-10-11T14:25:14.024Z"
   },
   {
    "duration": 153,
    "start_time": "2023-10-11T14:26:40.334Z"
   },
   {
    "duration": 35,
    "start_time": "2023-10-11T14:39:50.834Z"
   },
   {
    "duration": 21,
    "start_time": "2023-10-11T14:40:01.705Z"
   },
   {
    "duration": 19,
    "start_time": "2023-10-11T14:41:06.765Z"
   },
   {
    "duration": 129,
    "start_time": "2023-10-11T14:42:17.070Z"
   },
   {
    "duration": 26,
    "start_time": "2023-10-11T14:42:53.136Z"
   },
   {
    "duration": 122,
    "start_time": "2023-10-11T14:42:55.316Z"
   },
   {
    "duration": 164,
    "start_time": "2023-10-11T14:43:06.067Z"
   },
   {
    "duration": 2322,
    "start_time": "2023-10-12T07:05:02.583Z"
   },
   {
    "duration": 4,
    "start_time": "2023-10-12T07:05:04.908Z"
   },
   {
    "duration": 54,
    "start_time": "2023-10-12T07:05:04.913Z"
   },
   {
    "duration": 26,
    "start_time": "2023-10-12T07:05:04.969Z"
   },
   {
    "duration": 4,
    "start_time": "2023-10-12T07:05:04.996Z"
   },
   {
    "duration": 25,
    "start_time": "2023-10-12T07:05:05.001Z"
   },
   {
    "duration": 194,
    "start_time": "2023-10-12T07:05:05.027Z"
   },
   {
    "duration": 8,
    "start_time": "2023-10-12T07:05:05.222Z"
   },
   {
    "duration": 51,
    "start_time": "2023-10-12T07:05:05.231Z"
   },
   {
    "duration": 37,
    "start_time": "2023-10-12T07:05:05.285Z"
   },
   {
    "duration": 27,
    "start_time": "2023-10-12T07:05:05.323Z"
   },
   {
    "duration": 33,
    "start_time": "2023-10-12T07:05:05.352Z"
   },
   {
    "duration": 14,
    "start_time": "2023-10-12T07:05:05.386Z"
   },
   {
    "duration": 14,
    "start_time": "2023-10-12T07:05:05.401Z"
   },
   {
    "duration": 14,
    "start_time": "2023-10-12T07:05:05.416Z"
   },
   {
    "duration": 18,
    "start_time": "2023-10-12T07:05:05.432Z"
   },
   {
    "duration": 28,
    "start_time": "2023-10-12T07:05:05.452Z"
   },
   {
    "duration": 21,
    "start_time": "2023-10-12T07:05:05.481Z"
   },
   {
    "duration": 21,
    "start_time": "2023-10-12T07:05:05.503Z"
   },
   {
    "duration": 4,
    "start_time": "2023-10-12T07:05:05.525Z"
   },
   {
    "duration": 38,
    "start_time": "2023-10-12T07:05:05.530Z"
   },
   {
    "duration": 40,
    "start_time": "2023-10-12T07:05:05.570Z"
   },
   {
    "duration": 13,
    "start_time": "2023-10-12T07:05:05.611Z"
   },
   {
    "duration": 29,
    "start_time": "2023-10-12T07:05:05.625Z"
   },
   {
    "duration": 23,
    "start_time": "2023-10-12T07:05:05.655Z"
   },
   {
    "duration": 349,
    "start_time": "2023-10-12T07:05:05.680Z"
   },
   {
    "duration": 359,
    "start_time": "2023-10-12T07:05:06.031Z"
   },
   {
    "duration": 231,
    "start_time": "2023-10-12T07:05:06.393Z"
   },
   {
    "duration": 239,
    "start_time": "2023-10-12T07:05:06.626Z"
   },
   {
    "duration": 499,
    "start_time": "2023-10-12T07:05:06.866Z"
   },
   {
    "duration": 248,
    "start_time": "2023-10-12T07:05:07.367Z"
   },
   {
    "duration": 132,
    "start_time": "2023-10-12T07:05:07.616Z"
   },
   {
    "duration": 17,
    "start_time": "2023-10-12T07:05:07.749Z"
   },
   {
    "duration": 123,
    "start_time": "2023-10-12T07:05:07.767Z"
   },
   {
    "duration": 10,
    "start_time": "2023-10-12T07:05:07.891Z"
   },
   {
    "duration": 0,
    "start_time": "2023-10-12T07:05:07.903Z"
   },
   {
    "duration": 0,
    "start_time": "2023-10-12T07:05:07.904Z"
   },
   {
    "duration": 18,
    "start_time": "2023-10-12T07:11:08.425Z"
   },
   {
    "duration": 111,
    "start_time": "2023-10-12T07:11:10.896Z"
   },
   {
    "duration": 21,
    "start_time": "2023-10-12T07:12:16.711Z"
   },
   {
    "duration": 20,
    "start_time": "2023-10-12T07:12:24.286Z"
   },
   {
    "duration": 21,
    "start_time": "2023-10-12T07:12:52.614Z"
   },
   {
    "duration": 19,
    "start_time": "2023-10-12T07:14:43.875Z"
   },
   {
    "duration": 117,
    "start_time": "2023-10-12T07:15:00.274Z"
   },
   {
    "duration": 116,
    "start_time": "2023-10-12T07:15:14.594Z"
   },
   {
    "duration": 160,
    "start_time": "2023-10-12T07:15:55.969Z"
   },
   {
    "duration": 115,
    "start_time": "2023-10-12T07:15:58.176Z"
   },
   {
    "duration": 26,
    "start_time": "2023-10-12T07:16:28.447Z"
   },
   {
    "duration": 109,
    "start_time": "2023-10-12T07:16:31.080Z"
   },
   {
    "duration": 20,
    "start_time": "2023-10-12T07:20:32.089Z"
   },
   {
    "duration": 20,
    "start_time": "2023-10-12T07:22:32.008Z"
   },
   {
    "duration": 132,
    "start_time": "2023-10-12T07:22:55.798Z"
   },
   {
    "duration": 130,
    "start_time": "2023-10-12T07:23:04.685Z"
   },
   {
    "duration": 19,
    "start_time": "2023-10-12T07:25:17.921Z"
   },
   {
    "duration": 129,
    "start_time": "2023-10-12T07:25:37.392Z"
   },
   {
    "duration": 18,
    "start_time": "2023-10-12T07:29:35.010Z"
   },
   {
    "duration": 17,
    "start_time": "2023-10-12T07:30:21.033Z"
   },
   {
    "duration": 119,
    "start_time": "2023-10-12T07:30:55.071Z"
   },
   {
    "duration": 116,
    "start_time": "2023-10-12T07:31:38.871Z"
   },
   {
    "duration": 129,
    "start_time": "2023-10-12T07:31:57.543Z"
   },
   {
    "duration": 18,
    "start_time": "2023-10-12T07:32:19.014Z"
   },
   {
    "duration": 103,
    "start_time": "2023-10-12T07:32:23.736Z"
   },
   {
    "duration": 20,
    "start_time": "2023-10-12T07:33:07.660Z"
   },
   {
    "duration": 100,
    "start_time": "2023-10-12T07:33:10.100Z"
   },
   {
    "duration": 210,
    "start_time": "2023-10-12T07:36:04.704Z"
   },
   {
    "duration": 216,
    "start_time": "2023-10-12T07:36:49.438Z"
   },
   {
    "duration": 141,
    "start_time": "2023-10-12T07:36:58.974Z"
   },
   {
    "duration": 290,
    "start_time": "2023-10-12T07:39:57.161Z"
   },
   {
    "duration": 135,
    "start_time": "2023-10-12T07:40:07.946Z"
   },
   {
    "duration": 18,
    "start_time": "2023-10-12T07:40:54.800Z"
   },
   {
    "duration": 19,
    "start_time": "2023-10-12T07:41:02.193Z"
   },
   {
    "duration": 109,
    "start_time": "2023-10-12T07:41:11.519Z"
   },
   {
    "duration": 106,
    "start_time": "2023-10-12T07:41:18.160Z"
   },
   {
    "duration": 19,
    "start_time": "2023-10-12T07:42:53.877Z"
   },
   {
    "duration": 19,
    "start_time": "2023-10-12T07:43:01.844Z"
   },
   {
    "duration": 18,
    "start_time": "2023-10-12T07:43:46.536Z"
   },
   {
    "duration": 118,
    "start_time": "2023-10-12T07:44:04.363Z"
   },
   {
    "duration": 18,
    "start_time": "2023-10-12T07:45:20.400Z"
   },
   {
    "duration": 18,
    "start_time": "2023-10-12T07:46:11.279Z"
   },
   {
    "duration": 131,
    "start_time": "2023-10-12T07:46:34.150Z"
   },
   {
    "duration": 4,
    "start_time": "2023-10-12T07:56:46.665Z"
   },
   {
    "duration": 3,
    "start_time": "2023-10-12T07:57:37.069Z"
   },
   {
    "duration": 2235,
    "start_time": "2023-10-12T07:58:47.224Z"
   },
   {
    "duration": 4,
    "start_time": "2023-10-12T07:58:49.462Z"
   },
   {
    "duration": 64,
    "start_time": "2023-10-12T07:58:49.468Z"
   },
   {
    "duration": 31,
    "start_time": "2023-10-12T07:58:49.534Z"
   },
   {
    "duration": 4,
    "start_time": "2023-10-12T07:58:49.567Z"
   },
   {
    "duration": 22,
    "start_time": "2023-10-12T07:58:49.573Z"
   },
   {
    "duration": 207,
    "start_time": "2023-10-12T07:58:49.596Z"
   },
   {
    "duration": 10,
    "start_time": "2023-10-12T07:58:49.805Z"
   },
   {
    "duration": 36,
    "start_time": "2023-10-12T07:58:49.816Z"
   },
   {
    "duration": 14,
    "start_time": "2023-10-12T07:58:49.855Z"
   },
   {
    "duration": 16,
    "start_time": "2023-10-12T07:58:49.871Z"
   },
   {
    "duration": 13,
    "start_time": "2023-10-12T07:58:49.888Z"
   },
   {
    "duration": 63,
    "start_time": "2023-10-12T07:58:49.902Z"
   },
   {
    "duration": 28,
    "start_time": "2023-10-12T07:58:49.966Z"
   },
   {
    "duration": 14,
    "start_time": "2023-10-12T07:58:49.996Z"
   },
   {
    "duration": 31,
    "start_time": "2023-10-12T07:58:50.011Z"
   },
   {
    "duration": 25,
    "start_time": "2023-10-12T07:58:50.043Z"
   },
   {
    "duration": 31,
    "start_time": "2023-10-12T07:58:50.070Z"
   },
   {
    "duration": 29,
    "start_time": "2023-10-12T07:58:50.103Z"
   },
   {
    "duration": 17,
    "start_time": "2023-10-12T07:58:50.134Z"
   },
   {
    "duration": 60,
    "start_time": "2023-10-12T07:58:50.153Z"
   },
   {
    "duration": 68,
    "start_time": "2023-10-12T07:58:50.215Z"
   },
   {
    "duration": 15,
    "start_time": "2023-10-12T07:58:50.284Z"
   },
   {
    "duration": 45,
    "start_time": "2023-10-12T07:58:50.301Z"
   },
   {
    "duration": 44,
    "start_time": "2023-10-12T07:58:50.347Z"
   },
   {
    "duration": 370,
    "start_time": "2023-10-12T07:58:50.392Z"
   },
   {
    "duration": 351,
    "start_time": "2023-10-12T07:58:50.764Z"
   },
   {
    "duration": 254,
    "start_time": "2023-10-12T07:58:51.118Z"
   },
   {
    "duration": 274,
    "start_time": "2023-10-12T07:58:51.373Z"
   },
   {
    "duration": 355,
    "start_time": "2023-10-12T07:58:51.649Z"
   },
   {
    "duration": 271,
    "start_time": "2023-10-12T07:58:52.006Z"
   },
   {
    "duration": 18,
    "start_time": "2023-10-12T07:58:52.279Z"
   },
   {
    "duration": 385,
    "start_time": "2023-10-12T07:58:52.299Z"
   },
   {
    "duration": 19,
    "start_time": "2023-10-12T07:58:52.685Z"
   },
   {
    "duration": 135,
    "start_time": "2023-10-12T07:58:52.706Z"
   },
   {
    "duration": 19,
    "start_time": "2023-10-12T07:58:52.848Z"
   },
   {
    "duration": 124,
    "start_time": "2023-10-12T07:58:52.868Z"
   },
   {
    "duration": 18,
    "start_time": "2023-10-12T07:58:52.994Z"
   },
   {
    "duration": 138,
    "start_time": "2023-10-12T07:58:53.013Z"
   },
   {
    "duration": 19,
    "start_time": "2023-10-12T07:58:53.152Z"
   },
   {
    "duration": 447,
    "start_time": "2023-10-12T08:07:47.272Z"
   },
   {
    "duration": 366,
    "start_time": "2023-10-12T08:07:53.678Z"
   },
   {
    "duration": 27,
    "start_time": "2023-10-12T08:44:02.311Z"
   },
   {
    "duration": 126,
    "start_time": "2023-10-12T08:44:05.925Z"
   },
   {
    "duration": 22,
    "start_time": "2023-10-12T08:44:33.091Z"
   },
   {
    "duration": 124,
    "start_time": "2023-10-12T08:44:36.451Z"
   },
   {
    "duration": 518,
    "start_time": "2023-10-12T08:51:07.974Z"
   },
   {
    "duration": 25,
    "start_time": "2023-10-12T09:18:49.211Z"
   },
   {
    "duration": 22,
    "start_time": "2023-10-12T09:19:08.202Z"
   },
   {
    "duration": 374,
    "start_time": "2023-10-12T09:19:20.072Z"
   },
   {
    "duration": 454,
    "start_time": "2023-10-12T09:19:34.545Z"
   },
   {
    "duration": 437,
    "start_time": "2023-10-12T09:20:19.239Z"
   },
   {
    "duration": 1434,
    "start_time": "2023-10-12T09:20:54.533Z"
   },
   {
    "duration": 15,
    "start_time": "2023-10-12T09:21:23.830Z"
   },
   {
    "duration": 613,
    "start_time": "2023-10-12T09:22:09.709Z"
   },
   {
    "duration": 1501,
    "start_time": "2023-10-12T09:24:27.095Z"
   },
   {
    "duration": 10,
    "start_time": "2023-10-12T09:25:25.854Z"
   },
   {
    "duration": 10,
    "start_time": "2023-10-12T09:25:38.749Z"
   },
   {
    "duration": 1479,
    "start_time": "2023-10-12T09:25:46.554Z"
   },
   {
    "duration": 90,
    "start_time": "2023-10-12T09:26:17.332Z"
   },
   {
    "duration": 17,
    "start_time": "2023-10-12T09:26:21.956Z"
   },
   {
    "duration": 3,
    "start_time": "2023-10-12T09:28:12.372Z"
   },
   {
    "duration": 12,
    "start_time": "2023-10-12T09:28:15.591Z"
   },
   {
    "duration": 10,
    "start_time": "2023-10-12T09:28:44.191Z"
   },
   {
    "duration": 1526,
    "start_time": "2023-10-12T09:29:13.614Z"
   },
   {
    "duration": 444,
    "start_time": "2023-10-12T09:29:21.255Z"
   },
   {
    "duration": 444,
    "start_time": "2023-10-12T09:29:40.318Z"
   },
   {
    "duration": 33,
    "start_time": "2023-10-12T09:39:02.967Z"
   },
   {
    "duration": 867,
    "start_time": "2023-10-12T09:39:53.621Z"
   },
   {
    "duration": 1247,
    "start_time": "2023-10-12T09:40:59.835Z"
   },
   {
    "duration": 864,
    "start_time": "2023-10-12T09:41:21.066Z"
   },
   {
    "duration": 0,
    "start_time": "2023-10-12T09:42:41.846Z"
   },
   {
    "duration": 10,
    "start_time": "2023-10-12T09:42:50.336Z"
   },
   {
    "duration": 910,
    "start_time": "2023-10-12T09:42:56.296Z"
   },
   {
    "duration": 848,
    "start_time": "2023-10-12T09:43:42.166Z"
   },
   {
    "duration": 847,
    "start_time": "2023-10-12T09:44:13.046Z"
   },
   {
    "duration": 904,
    "start_time": "2023-10-12T09:47:20.473Z"
   },
   {
    "duration": 14,
    "start_time": "2023-10-12T09:47:33.912Z"
   },
   {
    "duration": 9,
    "start_time": "2023-10-12T09:47:40.847Z"
   },
   {
    "duration": 12,
    "start_time": "2023-10-12T09:47:49.791Z"
   },
   {
    "duration": 12,
    "start_time": "2023-10-12T09:48:00.055Z"
   },
   {
    "duration": 957,
    "start_time": "2023-10-12T09:48:13.631Z"
   },
   {
    "duration": 954,
    "start_time": "2023-10-12T09:48:20.070Z"
   },
   {
    "duration": 1035,
    "start_time": "2023-10-12T09:48:25.167Z"
   },
   {
    "duration": 48,
    "start_time": "2023-10-12T09:48:28.479Z"
   },
   {
    "duration": 21,
    "start_time": "2023-10-12T09:48:32.828Z"
   },
   {
    "duration": 12,
    "start_time": "2023-10-12T09:49:09.862Z"
   },
   {
    "duration": 3,
    "start_time": "2023-10-12T09:49:42.701Z"
   },
   {
    "duration": 3,
    "start_time": "2023-10-12T09:49:49.021Z"
   },
   {
    "duration": 12,
    "start_time": "2023-10-12T09:49:51.845Z"
   },
   {
    "duration": 5,
    "start_time": "2023-10-12T09:50:16.149Z"
   },
   {
    "duration": 905,
    "start_time": "2023-10-12T09:50:40.252Z"
   },
   {
    "duration": 912,
    "start_time": "2023-10-12T09:51:29.410Z"
   },
   {
    "duration": 929,
    "start_time": "2023-10-12T09:53:46.806Z"
   },
   {
    "duration": 872,
    "start_time": "2023-10-12T09:55:10.435Z"
   },
   {
    "duration": 900,
    "start_time": "2023-10-12T09:55:20.915Z"
   },
   {
    "duration": 970,
    "start_time": "2023-10-12T09:55:35.651Z"
   },
   {
    "duration": 125,
    "start_time": "2023-10-12T09:55:46.491Z"
   },
   {
    "duration": 900,
    "start_time": "2023-10-12T09:55:48.483Z"
   },
   {
    "duration": 852,
    "start_time": "2023-10-12T09:59:53.124Z"
   },
   {
    "duration": 917,
    "start_time": "2023-10-12T09:59:59.972Z"
   },
   {
    "duration": 81,
    "start_time": "2023-10-12T10:04:43.141Z"
   },
   {
    "duration": 127,
    "start_time": "2023-10-12T10:05:01.803Z"
   },
   {
    "duration": 842,
    "start_time": "2023-10-12T10:05:51.098Z"
   },
   {
    "duration": 833,
    "start_time": "2023-10-12T10:05:58.290Z"
   },
   {
    "duration": 919,
    "start_time": "2023-10-12T10:06:08.081Z"
   },
   {
    "duration": 1018,
    "start_time": "2023-10-12T10:06:16.226Z"
   },
   {
    "duration": 879,
    "start_time": "2023-10-12T10:06:59.183Z"
   },
   {
    "duration": 924,
    "start_time": "2023-10-12T10:07:10.673Z"
   },
   {
    "duration": 868,
    "start_time": "2023-10-12T10:07:27.992Z"
   },
   {
    "duration": 2414,
    "start_time": "2023-10-12T10:19:53.770Z"
   },
   {
    "duration": 5,
    "start_time": "2023-10-12T10:19:56.187Z"
   },
   {
    "duration": 88,
    "start_time": "2023-10-12T10:19:56.194Z"
   },
   {
    "duration": 34,
    "start_time": "2023-10-12T10:19:56.284Z"
   },
   {
    "duration": 48,
    "start_time": "2023-10-12T10:19:56.320Z"
   },
   {
    "duration": 40,
    "start_time": "2023-10-12T10:19:56.370Z"
   },
   {
    "duration": 248,
    "start_time": "2023-10-12T10:19:56.412Z"
   },
   {
    "duration": 9,
    "start_time": "2023-10-12T10:19:56.662Z"
   },
   {
    "duration": 41,
    "start_time": "2023-10-12T10:19:56.673Z"
   },
   {
    "duration": 66,
    "start_time": "2023-10-12T10:19:56.716Z"
   },
   {
    "duration": 55,
    "start_time": "2023-10-12T10:19:56.783Z"
   },
   {
    "duration": 40,
    "start_time": "2023-10-12T10:19:56.840Z"
   },
   {
    "duration": 57,
    "start_time": "2023-10-12T10:19:56.882Z"
   },
   {
    "duration": 53,
    "start_time": "2023-10-12T10:19:56.941Z"
   },
   {
    "duration": 64,
    "start_time": "2023-10-12T10:19:56.997Z"
   },
   {
    "duration": 59,
    "start_time": "2023-10-12T10:19:57.063Z"
   },
   {
    "duration": 47,
    "start_time": "2023-10-12T10:19:57.123Z"
   },
   {
    "duration": 48,
    "start_time": "2023-10-12T10:19:57.172Z"
   },
   {
    "duration": 68,
    "start_time": "2023-10-12T10:19:57.222Z"
   },
   {
    "duration": 54,
    "start_time": "2023-10-12T10:19:57.292Z"
   },
   {
    "duration": 45,
    "start_time": "2023-10-12T10:19:57.348Z"
   },
   {
    "duration": 65,
    "start_time": "2023-10-12T10:19:57.395Z"
   },
   {
    "duration": 16,
    "start_time": "2023-10-12T10:19:57.461Z"
   },
   {
    "duration": 32,
    "start_time": "2023-10-12T10:19:57.478Z"
   },
   {
    "duration": 40,
    "start_time": "2023-10-12T10:19:57.511Z"
   },
   {
    "duration": 392,
    "start_time": "2023-10-12T10:19:57.553Z"
   },
   {
    "duration": 558,
    "start_time": "2023-10-12T10:19:57.946Z"
   },
   {
    "duration": 257,
    "start_time": "2023-10-12T10:19:58.506Z"
   },
   {
    "duration": 278,
    "start_time": "2023-10-12T10:19:58.765Z"
   },
   {
    "duration": 362,
    "start_time": "2023-10-12T10:19:59.045Z"
   },
   {
    "duration": 276,
    "start_time": "2023-10-12T10:19:59.409Z"
   },
   {
    "duration": 26,
    "start_time": "2023-10-12T10:19:59.686Z"
   },
   {
    "duration": 125,
    "start_time": "2023-10-12T10:19:59.713Z"
   },
   {
    "duration": 19,
    "start_time": "2023-10-12T10:19:59.840Z"
   },
   {
    "duration": 140,
    "start_time": "2023-10-12T10:19:59.860Z"
   },
   {
    "duration": 21,
    "start_time": "2023-10-12T10:20:00.002Z"
   },
   {
    "duration": 247,
    "start_time": "2023-10-12T10:20:00.025Z"
   },
   {
    "duration": 20,
    "start_time": "2023-10-12T10:20:00.273Z"
   },
   {
    "duration": 172,
    "start_time": "2023-10-12T10:20:00.295Z"
   },
   {
    "duration": 959,
    "start_time": "2023-10-12T10:20:00.469Z"
   },
   {
    "duration": 132,
    "start_time": "2023-10-12T10:23:01.998Z"
   },
   {
    "duration": 10,
    "start_time": "2023-10-12T10:29:02.006Z"
   },
   {
    "duration": 8,
    "start_time": "2023-10-12T10:30:07.123Z"
   },
   {
    "duration": 7,
    "start_time": "2023-10-12T10:31:09.473Z"
   },
   {
    "duration": 4,
    "start_time": "2023-10-12T11:05:27.891Z"
   },
   {
    "duration": 5,
    "start_time": "2023-10-12T11:05:37.027Z"
   },
   {
    "duration": 10,
    "start_time": "2023-10-12T11:05:56.272Z"
   },
   {
    "duration": 10,
    "start_time": "2023-10-12T11:07:49.518Z"
   },
   {
    "duration": 14,
    "start_time": "2023-10-12T11:07:58.517Z"
   },
   {
    "duration": 3013,
    "start_time": "2023-10-12T11:30:02.414Z"
   },
   {
    "duration": 5,
    "start_time": "2023-10-12T11:30:05.429Z"
   },
   {
    "duration": 80,
    "start_time": "2023-10-12T11:30:05.436Z"
   },
   {
    "duration": 33,
    "start_time": "2023-10-12T11:30:05.517Z"
   },
   {
    "duration": 4,
    "start_time": "2023-10-12T11:30:05.553Z"
   },
   {
    "duration": 44,
    "start_time": "2023-10-12T11:30:05.559Z"
   },
   {
    "duration": 212,
    "start_time": "2023-10-12T11:30:05.605Z"
   },
   {
    "duration": 8,
    "start_time": "2023-10-12T11:30:05.819Z"
   },
   {
    "duration": 21,
    "start_time": "2023-10-12T11:30:05.829Z"
   },
   {
    "duration": 47,
    "start_time": "2023-10-12T11:30:05.852Z"
   },
   {
    "duration": 16,
    "start_time": "2023-10-12T11:30:05.900Z"
   },
   {
    "duration": 16,
    "start_time": "2023-10-12T11:30:05.918Z"
   },
   {
    "duration": 38,
    "start_time": "2023-10-12T11:30:05.936Z"
   },
   {
    "duration": 47,
    "start_time": "2023-10-12T11:30:05.979Z"
   },
   {
    "duration": 31,
    "start_time": "2023-10-12T11:30:06.028Z"
   },
   {
    "duration": 22,
    "start_time": "2023-10-12T11:30:06.061Z"
   },
   {
    "duration": 38,
    "start_time": "2023-10-12T11:30:06.086Z"
   },
   {
    "duration": 22,
    "start_time": "2023-10-12T11:30:06.126Z"
   },
   {
    "duration": 23,
    "start_time": "2023-10-12T11:30:06.151Z"
   },
   {
    "duration": 5,
    "start_time": "2023-10-12T11:30:06.176Z"
   },
   {
    "duration": 51,
    "start_time": "2023-10-12T11:30:06.183Z"
   },
   {
    "duration": 43,
    "start_time": "2023-10-12T11:30:06.235Z"
   },
   {
    "duration": 28,
    "start_time": "2023-10-12T11:30:06.280Z"
   },
   {
    "duration": 8,
    "start_time": "2023-10-12T11:30:06.310Z"
   },
   {
    "duration": 14,
    "start_time": "2023-10-12T11:30:06.319Z"
   },
   {
    "duration": 354,
    "start_time": "2023-10-12T11:30:06.335Z"
   },
   {
    "duration": 360,
    "start_time": "2023-10-12T11:30:06.690Z"
   },
   {
    "duration": 273,
    "start_time": "2023-10-12T11:30:07.052Z"
   },
   {
    "duration": 570,
    "start_time": "2023-10-12T11:30:07.327Z"
   },
   {
    "duration": 374,
    "start_time": "2023-10-12T11:30:07.899Z"
   },
   {
    "duration": 272,
    "start_time": "2023-10-12T11:30:08.275Z"
   },
   {
    "duration": 21,
    "start_time": "2023-10-12T11:30:08.548Z"
   },
   {
    "duration": 131,
    "start_time": "2023-10-12T11:30:08.571Z"
   },
   {
    "duration": 19,
    "start_time": "2023-10-12T11:30:08.706Z"
   },
   {
    "duration": 142,
    "start_time": "2023-10-12T11:30:08.727Z"
   },
   {
    "duration": 18,
    "start_time": "2023-10-12T11:30:08.871Z"
   },
   {
    "duration": 127,
    "start_time": "2023-10-12T11:30:08.891Z"
   },
   {
    "duration": 19,
    "start_time": "2023-10-12T11:30:09.020Z"
   },
   {
    "duration": 135,
    "start_time": "2023-10-12T11:30:09.041Z"
   },
   {
    "duration": 917,
    "start_time": "2023-10-12T11:30:09.178Z"
   },
   {
    "duration": 12,
    "start_time": "2023-10-12T11:30:10.099Z"
   },
   {
    "duration": 43,
    "start_time": "2023-10-12T11:30:10.113Z"
   },
   {
    "duration": 34,
    "start_time": "2023-10-12T11:30:10.157Z"
   },
   {
    "duration": 2421,
    "start_time": "2023-10-12T12:05:01.894Z"
   },
   {
    "duration": 5,
    "start_time": "2023-10-12T12:05:04.317Z"
   },
   {
    "duration": 66,
    "start_time": "2023-10-12T12:05:04.324Z"
   },
   {
    "duration": 28,
    "start_time": "2023-10-12T12:05:04.392Z"
   },
   {
    "duration": 63,
    "start_time": "2023-10-12T12:05:04.422Z"
   },
   {
    "duration": 44,
    "start_time": "2023-10-12T12:05:04.488Z"
   },
   {
    "duration": 220,
    "start_time": "2023-10-12T12:05:04.534Z"
   },
   {
    "duration": 9,
    "start_time": "2023-10-12T12:05:04.756Z"
   },
   {
    "duration": 72,
    "start_time": "2023-10-12T12:05:04.767Z"
   },
   {
    "duration": 65,
    "start_time": "2023-10-12T12:05:04.841Z"
   },
   {
    "duration": 26,
    "start_time": "2023-10-12T12:05:04.907Z"
   },
   {
    "duration": 20,
    "start_time": "2023-10-12T12:05:04.934Z"
   },
   {
    "duration": 31,
    "start_time": "2023-10-12T12:05:04.956Z"
   },
   {
    "duration": 41,
    "start_time": "2023-10-12T12:05:04.990Z"
   },
   {
    "duration": 25,
    "start_time": "2023-10-12T12:05:05.033Z"
   },
   {
    "duration": 40,
    "start_time": "2023-10-12T12:05:05.060Z"
   },
   {
    "duration": 64,
    "start_time": "2023-10-12T12:05:05.101Z"
   },
   {
    "duration": 54,
    "start_time": "2023-10-12T12:05:05.166Z"
   },
   {
    "duration": 27,
    "start_time": "2023-10-12T12:05:05.222Z"
   },
   {
    "duration": 8,
    "start_time": "2023-10-12T12:05:05.251Z"
   },
   {
    "duration": 66,
    "start_time": "2023-10-12T12:05:05.260Z"
   },
   {
    "duration": 95,
    "start_time": "2023-10-12T12:05:05.328Z"
   },
   {
    "duration": 21,
    "start_time": "2023-10-12T12:05:05.424Z"
   },
   {
    "duration": 50,
    "start_time": "2023-10-12T12:05:05.447Z"
   },
   {
    "duration": 28,
    "start_time": "2023-10-12T12:05:05.499Z"
   },
   {
    "duration": 376,
    "start_time": "2023-10-12T12:05:05.529Z"
   },
   {
    "duration": 436,
    "start_time": "2023-10-12T12:05:05.907Z"
   },
   {
    "duration": 252,
    "start_time": "2023-10-12T12:05:06.345Z"
   },
   {
    "duration": 265,
    "start_time": "2023-10-12T12:05:06.598Z"
   },
   {
    "duration": 388,
    "start_time": "2023-10-12T12:05:06.865Z"
   },
   {
    "duration": 305,
    "start_time": "2023-10-12T12:05:07.255Z"
   },
   {
    "duration": 22,
    "start_time": "2023-10-12T12:05:07.562Z"
   },
   {
    "duration": 432,
    "start_time": "2023-10-12T12:05:07.586Z"
   },
   {
    "duration": 21,
    "start_time": "2023-10-12T12:05:08.021Z"
   },
   {
    "duration": 151,
    "start_time": "2023-10-12T12:05:08.044Z"
   },
   {
    "duration": 23,
    "start_time": "2023-10-12T12:05:08.196Z"
   },
   {
    "duration": 139,
    "start_time": "2023-10-12T12:05:08.221Z"
   },
   {
    "duration": 20,
    "start_time": "2023-10-12T12:05:08.362Z"
   },
   {
    "duration": 145,
    "start_time": "2023-10-12T12:05:08.383Z"
   },
   {
    "duration": 912,
    "start_time": "2023-10-12T12:05:08.529Z"
   },
   {
    "duration": 9,
    "start_time": "2023-10-12T12:05:09.445Z"
   },
   {
    "duration": 19,
    "start_time": "2023-10-12T12:05:09.456Z"
   },
   {
    "duration": 28,
    "start_time": "2023-10-12T12:05:09.477Z"
   },
   {
    "duration": 35,
    "start_time": "2023-10-12T13:29:46.089Z"
   },
   {
    "duration": 72,
    "start_time": "2023-10-12T13:31:43.278Z"
   },
   {
    "duration": 50,
    "start_time": "2023-10-12T13:31:54.278Z"
   },
   {
    "duration": 59,
    "start_time": "2023-10-12T13:32:06.174Z"
   },
   {
    "duration": 47,
    "start_time": "2023-10-12T13:32:18.126Z"
   },
   {
    "duration": 42,
    "start_time": "2023-10-12T13:32:35.102Z"
   },
   {
    "duration": 34,
    "start_time": "2023-10-12T13:33:02.374Z"
   },
   {
    "duration": 31,
    "start_time": "2023-10-12T13:33:07.646Z"
   },
   {
    "duration": 27,
    "start_time": "2023-10-12T13:33:21.406Z"
   },
   {
    "duration": 26,
    "start_time": "2023-10-12T13:33:30.532Z"
   },
   {
    "duration": 25,
    "start_time": "2023-10-12T13:33:38.653Z"
   },
   {
    "duration": 31,
    "start_time": "2023-10-12T13:33:41.813Z"
   },
   {
    "duration": 45,
    "start_time": "2023-10-12T13:33:45.933Z"
   },
   {
    "duration": 32,
    "start_time": "2023-10-12T13:34:02.773Z"
   },
   {
    "duration": 27,
    "start_time": "2023-10-12T13:34:08.572Z"
   },
   {
    "duration": 24,
    "start_time": "2023-10-12T13:34:24.884Z"
   },
   {
    "duration": 62,
    "start_time": "2023-10-12T13:34:54.978Z"
   },
   {
    "duration": 25,
    "start_time": "2023-10-12T13:35:12.729Z"
   },
   {
    "duration": 81,
    "start_time": "2023-10-12T13:35:23.937Z"
   },
   {
    "duration": 25,
    "start_time": "2023-10-12T13:35:39.441Z"
   },
   {
    "duration": 26,
    "start_time": "2023-10-12T13:35:50.344Z"
   },
   {
    "duration": 4,
    "start_time": "2023-10-12T13:37:40.406Z"
   },
   {
    "duration": 497,
    "start_time": "2023-10-12T13:37:46.126Z"
   },
   {
    "duration": 3,
    "start_time": "2023-10-12T13:44:26.949Z"
   },
   {
    "duration": 108,
    "start_time": "2023-10-12T13:46:33.264Z"
   },
   {
    "duration": 22,
    "start_time": "2023-10-12T13:46:38.094Z"
   },
   {
    "duration": 21,
    "start_time": "2023-10-12T13:46:51.639Z"
   },
   {
    "duration": 14,
    "start_time": "2023-10-12T13:48:09.262Z"
   },
   {
    "duration": 20,
    "start_time": "2023-10-12T13:48:45.234Z"
   },
   {
    "duration": 15,
    "start_time": "2023-10-12T13:49:07.500Z"
   },
   {
    "duration": 14,
    "start_time": "2023-10-12T13:50:07.546Z"
   },
   {
    "duration": 14,
    "start_time": "2023-10-12T13:50:46.697Z"
   },
   {
    "duration": 13,
    "start_time": "2023-10-12T13:51:17.840Z"
   },
   {
    "duration": 18,
    "start_time": "2023-10-12T13:54:27.890Z"
   },
   {
    "duration": 12,
    "start_time": "2023-10-12T13:54:49.093Z"
   },
   {
    "duration": 83,
    "start_time": "2023-10-12T13:56:07.519Z"
   },
   {
    "duration": 13,
    "start_time": "2023-10-12T13:56:15.488Z"
   },
   {
    "duration": 44,
    "start_time": "2023-10-12T13:56:58.325Z"
   },
   {
    "duration": 14,
    "start_time": "2023-10-12T13:57:05.860Z"
   },
   {
    "duration": 14,
    "start_time": "2023-10-12T14:00:40.863Z"
   },
   {
    "duration": 21,
    "start_time": "2023-10-12T14:00:47.198Z"
   },
   {
    "duration": 13,
    "start_time": "2023-10-12T14:02:34.635Z"
   },
   {
    "duration": 15,
    "start_time": "2023-10-12T14:03:06.114Z"
   },
   {
    "duration": 16,
    "start_time": "2023-10-12T14:12:11.515Z"
   },
   {
    "duration": 12,
    "start_time": "2023-10-12T14:12:32.209Z"
   },
   {
    "duration": 13,
    "start_time": "2023-10-12T14:14:57.334Z"
   },
   {
    "duration": 13,
    "start_time": "2023-10-12T14:15:16.925Z"
   },
   {
    "duration": 13,
    "start_time": "2023-10-12T14:16:04.220Z"
   },
   {
    "duration": 14,
    "start_time": "2023-10-12T14:16:14.275Z"
   },
   {
    "duration": 13,
    "start_time": "2023-10-12T14:16:20.923Z"
   },
   {
    "duration": 15,
    "start_time": "2023-10-12T14:16:36.155Z"
   },
   {
    "duration": 11,
    "start_time": "2023-10-12T14:17:19.162Z"
   },
   {
    "duration": 11,
    "start_time": "2023-10-12T14:17:24.954Z"
   },
   {
    "duration": 85,
    "start_time": "2023-10-12T14:17:59.081Z"
   },
   {
    "duration": 44,
    "start_time": "2023-10-12T14:18:24.607Z"
   },
   {
    "duration": 13,
    "start_time": "2023-10-12T14:18:37.088Z"
   },
   {
    "duration": 14,
    "start_time": "2023-10-12T14:19:00.671Z"
   },
   {
    "duration": 13,
    "start_time": "2023-10-12T14:19:07.847Z"
   },
   {
    "duration": 13,
    "start_time": "2023-10-12T14:20:08.518Z"
   },
   {
    "duration": 15,
    "start_time": "2023-10-12T14:20:22.151Z"
   },
   {
    "duration": 13,
    "start_time": "2023-10-12T14:21:00.812Z"
   },
   {
    "duration": 12,
    "start_time": "2023-10-12T14:21:16.835Z"
   },
   {
    "duration": 16,
    "start_time": "2023-10-12T14:22:10.250Z"
   },
   {
    "duration": 14,
    "start_time": "2023-10-12T14:22:34.017Z"
   },
   {
    "duration": 13,
    "start_time": "2023-10-12T14:22:38.305Z"
   },
   {
    "duration": 13,
    "start_time": "2023-10-12T14:22:44.329Z"
   },
   {
    "duration": 14,
    "start_time": "2023-10-12T14:22:47.881Z"
   },
   {
    "duration": 13,
    "start_time": "2023-10-12T14:23:20.856Z"
   },
   {
    "duration": 12,
    "start_time": "2023-10-12T14:23:27.856Z"
   },
   {
    "duration": 15,
    "start_time": "2023-10-12T14:24:46.477Z"
   },
   {
    "duration": 41,
    "start_time": "2023-10-12T14:24:51.086Z"
   },
   {
    "duration": 14,
    "start_time": "2023-10-12T14:24:58.758Z"
   },
   {
    "duration": 13,
    "start_time": "2023-10-12T14:25:45.565Z"
   },
   {
    "duration": 11,
    "start_time": "2023-10-12T14:25:58.083Z"
   },
   {
    "duration": 13,
    "start_time": "2023-10-12T14:26:04.723Z"
   },
   {
    "duration": 12,
    "start_time": "2023-10-12T14:27:15.571Z"
   },
   {
    "duration": 14,
    "start_time": "2023-10-12T14:27:17.345Z"
   },
   {
    "duration": 13,
    "start_time": "2023-10-12T14:27:19.762Z"
   },
   {
    "duration": 13,
    "start_time": "2023-10-12T14:28:04.521Z"
   },
   {
    "duration": 13,
    "start_time": "2023-10-12T14:28:57.303Z"
   },
   {
    "duration": 13,
    "start_time": "2023-10-12T14:29:01.023Z"
   },
   {
    "duration": 13,
    "start_time": "2023-10-12T14:29:36.590Z"
   },
   {
    "duration": 11,
    "start_time": "2023-10-12T14:29:40.783Z"
   },
   {
    "duration": 12,
    "start_time": "2023-10-12T14:30:43.965Z"
   },
   {
    "duration": 12,
    "start_time": "2023-10-12T14:30:53.588Z"
   },
   {
    "duration": 19,
    "start_time": "2023-10-12T14:31:12.908Z"
   },
   {
    "duration": 13,
    "start_time": "2023-10-12T14:31:23.476Z"
   },
   {
    "duration": 12,
    "start_time": "2023-10-12T14:31:29.803Z"
   },
   {
    "duration": 19,
    "start_time": "2023-10-12T14:34:34.887Z"
   },
   {
    "duration": 14,
    "start_time": "2023-10-12T14:34:41.526Z"
   },
   {
    "duration": 13,
    "start_time": "2023-10-12T14:35:00.286Z"
   },
   {
    "duration": 2382,
    "start_time": "2023-10-12T14:36:55.791Z"
   },
   {
    "duration": 4,
    "start_time": "2023-10-12T14:36:58.176Z"
   },
   {
    "duration": 64,
    "start_time": "2023-10-12T14:36:58.181Z"
   },
   {
    "duration": 27,
    "start_time": "2023-10-12T14:36:58.247Z"
   },
   {
    "duration": 32,
    "start_time": "2023-10-12T14:36:58.275Z"
   },
   {
    "duration": 69,
    "start_time": "2023-10-12T14:36:58.308Z"
   },
   {
    "duration": 210,
    "start_time": "2023-10-12T14:36:58.379Z"
   },
   {
    "duration": 16,
    "start_time": "2023-10-12T14:36:58.591Z"
   },
   {
    "duration": 73,
    "start_time": "2023-10-12T14:36:58.609Z"
   },
   {
    "duration": 43,
    "start_time": "2023-10-12T14:36:58.685Z"
   },
   {
    "duration": 33,
    "start_time": "2023-10-12T14:36:58.730Z"
   },
   {
    "duration": 26,
    "start_time": "2023-10-12T14:36:58.765Z"
   },
   {
    "duration": 35,
    "start_time": "2023-10-12T14:36:58.793Z"
   },
   {
    "duration": 42,
    "start_time": "2023-10-12T14:36:58.831Z"
   },
   {
    "duration": 27,
    "start_time": "2023-10-12T14:36:58.875Z"
   },
   {
    "duration": 24,
    "start_time": "2023-10-12T14:36:58.904Z"
   },
   {
    "duration": 22,
    "start_time": "2023-10-12T14:36:58.930Z"
   },
   {
    "duration": 22,
    "start_time": "2023-10-12T14:36:58.954Z"
   },
   {
    "duration": 30,
    "start_time": "2023-10-12T14:36:58.978Z"
   },
   {
    "duration": 8,
    "start_time": "2023-10-12T14:36:59.010Z"
   },
   {
    "duration": 50,
    "start_time": "2023-10-12T14:36:59.020Z"
   },
   {
    "duration": 33,
    "start_time": "2023-10-12T14:36:59.073Z"
   },
   {
    "duration": 14,
    "start_time": "2023-10-12T14:36:59.108Z"
   },
   {
    "duration": 20,
    "start_time": "2023-10-12T14:36:59.124Z"
   },
   {
    "duration": 32,
    "start_time": "2023-10-12T14:36:59.145Z"
   },
   {
    "duration": 403,
    "start_time": "2023-10-12T14:36:59.179Z"
   },
   {
    "duration": 345,
    "start_time": "2023-10-12T14:36:59.583Z"
   },
   {
    "duration": 267,
    "start_time": "2023-10-12T14:36:59.931Z"
   },
   {
    "duration": 274,
    "start_time": "2023-10-12T14:37:00.200Z"
   },
   {
    "duration": 358,
    "start_time": "2023-10-12T14:37:00.476Z"
   },
   {
    "duration": 290,
    "start_time": "2023-10-12T14:37:00.836Z"
   },
   {
    "duration": 21,
    "start_time": "2023-10-12T14:37:01.128Z"
   },
   {
    "duration": 151,
    "start_time": "2023-10-12T14:37:01.151Z"
   },
   {
    "duration": 21,
    "start_time": "2023-10-12T14:37:01.307Z"
   },
   {
    "duration": 186,
    "start_time": "2023-10-12T14:37:01.330Z"
   },
   {
    "duration": 20,
    "start_time": "2023-10-12T14:37:01.517Z"
   },
   {
    "duration": 193,
    "start_time": "2023-10-12T14:37:01.538Z"
   },
   {
    "duration": 38,
    "start_time": "2023-10-12T14:37:01.733Z"
   },
   {
    "duration": 193,
    "start_time": "2023-10-12T14:37:01.773Z"
   },
   {
    "duration": 1069,
    "start_time": "2023-10-12T14:37:01.967Z"
   },
   {
    "duration": 9,
    "start_time": "2023-10-12T14:37:03.038Z"
   },
   {
    "duration": 43,
    "start_time": "2023-10-12T14:37:03.048Z"
   },
   {
    "duration": 44,
    "start_time": "2023-10-12T14:37:03.093Z"
   },
   {
    "duration": 33,
    "start_time": "2023-10-12T14:37:03.139Z"
   },
   {
    "duration": 33,
    "start_time": "2023-10-12T14:37:03.173Z"
   },
   {
    "duration": 32,
    "start_time": "2023-10-12T14:37:03.208Z"
   },
   {
    "duration": 14,
    "start_time": "2023-10-12T14:38:00.842Z"
   },
   {
    "duration": 12,
    "start_time": "2023-10-12T14:38:20.321Z"
   },
   {
    "duration": 42,
    "start_time": "2023-10-13T07:12:00.611Z"
   },
   {
    "duration": 3137,
    "start_time": "2023-10-13T07:12:04.468Z"
   },
   {
    "duration": 1287,
    "start_time": "2023-10-13T07:12:07.607Z"
   },
   {
    "duration": 188,
    "start_time": "2023-10-13T07:12:08.895Z"
   },
   {
    "duration": 24,
    "start_time": "2023-10-13T07:12:09.085Z"
   },
   {
    "duration": 4,
    "start_time": "2023-10-13T07:12:09.110Z"
   },
   {
    "duration": 11,
    "start_time": "2023-10-13T07:12:09.115Z"
   },
   {
    "duration": 176,
    "start_time": "2023-10-13T07:12:09.127Z"
   },
   {
    "duration": 9,
    "start_time": "2023-10-13T07:12:09.304Z"
   },
   {
    "duration": 30,
    "start_time": "2023-10-13T07:12:09.315Z"
   },
   {
    "duration": 13,
    "start_time": "2023-10-13T07:12:09.347Z"
   },
   {
    "duration": 12,
    "start_time": "2023-10-13T07:12:09.361Z"
   },
   {
    "duration": 11,
    "start_time": "2023-10-13T07:12:09.374Z"
   },
   {
    "duration": 11,
    "start_time": "2023-10-13T07:12:09.386Z"
   },
   {
    "duration": 45,
    "start_time": "2023-10-13T07:12:09.398Z"
   },
   {
    "duration": 13,
    "start_time": "2023-10-13T07:12:09.444Z"
   },
   {
    "duration": 11,
    "start_time": "2023-10-13T07:12:09.458Z"
   },
   {
    "duration": 13,
    "start_time": "2023-10-13T07:12:09.471Z"
   },
   {
    "duration": 13,
    "start_time": "2023-10-13T07:12:09.485Z"
   },
   {
    "duration": 41,
    "start_time": "2023-10-13T07:12:09.499Z"
   },
   {
    "duration": 4,
    "start_time": "2023-10-13T07:12:09.542Z"
   },
   {
    "duration": 31,
    "start_time": "2023-10-13T07:12:09.547Z"
   },
   {
    "duration": 31,
    "start_time": "2023-10-13T07:12:09.579Z"
   },
   {
    "duration": 12,
    "start_time": "2023-10-13T07:12:09.612Z"
   },
   {
    "duration": 6,
    "start_time": "2023-10-13T07:12:09.640Z"
   },
   {
    "duration": 8,
    "start_time": "2023-10-13T07:12:09.647Z"
   },
   {
    "duration": 299,
    "start_time": "2023-10-13T07:12:09.656Z"
   },
   {
    "duration": 302,
    "start_time": "2023-10-13T07:12:09.956Z"
   },
   {
    "duration": 215,
    "start_time": "2023-10-13T07:12:10.261Z"
   },
   {
    "duration": 220,
    "start_time": "2023-10-13T07:12:10.478Z"
   },
   {
    "duration": 357,
    "start_time": "2023-10-13T07:12:10.700Z"
   },
   {
    "duration": 227,
    "start_time": "2023-10-13T07:12:11.058Z"
   },
   {
    "duration": 19,
    "start_time": "2023-10-13T07:12:11.286Z"
   },
   {
    "duration": 111,
    "start_time": "2023-10-13T07:12:11.306Z"
   },
   {
    "duration": 24,
    "start_time": "2023-10-13T07:12:11.419Z"
   },
   {
    "duration": 112,
    "start_time": "2023-10-13T07:12:11.444Z"
   },
   {
    "duration": 16,
    "start_time": "2023-10-13T07:12:11.558Z"
   },
   {
    "duration": 118,
    "start_time": "2023-10-13T07:12:11.576Z"
   },
   {
    "duration": 16,
    "start_time": "2023-10-13T07:12:11.695Z"
   },
   {
    "duration": 105,
    "start_time": "2023-10-13T07:12:11.712Z"
   },
   {
    "duration": 833,
    "start_time": "2023-10-13T07:12:11.819Z"
   },
   {
    "duration": 7,
    "start_time": "2023-10-13T07:12:12.654Z"
   },
   {
    "duration": 11,
    "start_time": "2023-10-13T07:12:12.663Z"
   },
   {
    "duration": 8,
    "start_time": "2023-10-13T07:12:12.675Z"
   },
   {
    "duration": 12,
    "start_time": "2023-10-13T07:12:12.684Z"
   },
   {
    "duration": 9,
    "start_time": "2023-10-13T07:12:12.697Z"
   },
   {
    "duration": 40,
    "start_time": "2023-10-13T07:12:12.708Z"
   },
   {
    "duration": 11,
    "start_time": "2023-10-13T07:13:49.746Z"
   },
   {
    "duration": 11,
    "start_time": "2023-10-13T07:13:55.090Z"
   },
   {
    "duration": 10,
    "start_time": "2023-10-13T07:13:59.553Z"
   },
   {
    "duration": 747,
    "start_time": "2023-10-13T07:17:07.060Z"
   },
   {
    "duration": 741,
    "start_time": "2023-10-13T07:18:29.098Z"
   },
   {
    "duration": 86,
    "start_time": "2023-10-13T07:24:09.128Z"
   },
   {
    "duration": 11,
    "start_time": "2023-10-13T07:24:13.641Z"
   },
   {
    "duration": 12,
    "start_time": "2023-10-13T07:24:47.486Z"
   },
   {
    "duration": 10,
    "start_time": "2023-10-13T07:25:00.862Z"
   },
   {
    "duration": 12,
    "start_time": "2023-10-13T07:25:06.655Z"
   },
   {
    "duration": 12,
    "start_time": "2023-10-13T07:25:12.517Z"
   },
   {
    "duration": 55,
    "start_time": "2023-10-13T07:26:14.548Z"
   },
   {
    "duration": 12,
    "start_time": "2023-10-13T07:26:19.156Z"
   },
   {
    "duration": 12,
    "start_time": "2023-10-13T07:26:28.203Z"
   },
   {
    "duration": 50,
    "start_time": "2023-10-13T07:26:35.803Z"
   },
   {
    "duration": 10,
    "start_time": "2023-10-13T07:29:15.950Z"
   },
   {
    "duration": 10,
    "start_time": "2023-10-13T07:29:44.758Z"
   },
   {
    "duration": 10,
    "start_time": "2023-10-13T07:29:52.293Z"
   },
   {
    "duration": 11,
    "start_time": "2023-10-13T07:30:08.438Z"
   },
   {
    "duration": 10,
    "start_time": "2023-10-13T07:30:27.925Z"
   },
   {
    "duration": 11,
    "start_time": "2023-10-13T07:30:42.844Z"
   },
   {
    "duration": 12,
    "start_time": "2023-10-13T07:34:30.967Z"
   },
   {
    "duration": 10,
    "start_time": "2023-10-13T07:34:41.935Z"
   },
   {
    "duration": 9,
    "start_time": "2023-10-13T07:34:49.798Z"
   },
   {
    "duration": 11,
    "start_time": "2023-10-13T07:35:37.908Z"
   },
   {
    "duration": 11,
    "start_time": "2023-10-13T07:36:41.554Z"
   },
   {
    "duration": 10,
    "start_time": "2023-10-13T07:37:24.177Z"
   },
   {
    "duration": 10,
    "start_time": "2023-10-13T07:37:53.080Z"
   },
   {
    "duration": 10,
    "start_time": "2023-10-13T07:38:30.207Z"
   },
   {
    "duration": 10,
    "start_time": "2023-10-13T07:41:19.203Z"
   },
   {
    "duration": 10,
    "start_time": "2023-10-13T07:44:57.701Z"
   },
   {
    "duration": 9,
    "start_time": "2023-10-13T07:49:36.461Z"
   },
   {
    "duration": 12,
    "start_time": "2023-10-13T07:50:53.171Z"
   },
   {
    "duration": 11,
    "start_time": "2023-10-13T07:51:13.731Z"
   },
   {
    "duration": 10,
    "start_time": "2023-10-13T07:52:12.801Z"
   },
   {
    "duration": 11,
    "start_time": "2023-10-13T07:52:16.272Z"
   },
   {
    "duration": 10,
    "start_time": "2023-10-13T07:52:18.313Z"
   },
   {
    "duration": 10,
    "start_time": "2023-10-13T07:52:44.935Z"
   },
   {
    "duration": 10,
    "start_time": "2023-10-13T07:53:01.023Z"
   },
   {
    "duration": 12,
    "start_time": "2023-10-13T07:53:24.462Z"
   },
   {
    "duration": 10,
    "start_time": "2023-10-13T07:53:45.942Z"
   },
   {
    "duration": 10,
    "start_time": "2023-10-13T07:54:07.021Z"
   },
   {
    "duration": 10,
    "start_time": "2023-10-13T07:54:45.900Z"
   },
   {
    "duration": 10,
    "start_time": "2023-10-13T07:54:55.987Z"
   },
   {
    "duration": 11,
    "start_time": "2023-10-13T07:55:37.809Z"
   },
   {
    "duration": 11,
    "start_time": "2023-10-13T07:55:43.018Z"
   },
   {
    "duration": 10,
    "start_time": "2023-10-13T07:55:48.706Z"
   },
   {
    "duration": 11,
    "start_time": "2023-10-13T07:56:01.387Z"
   },
   {
    "duration": 12,
    "start_time": "2023-10-13T07:56:09.058Z"
   },
   {
    "duration": 10,
    "start_time": "2023-10-13T07:56:37.857Z"
   },
   {
    "duration": 11,
    "start_time": "2023-10-13T07:58:20.133Z"
   },
   {
    "duration": 10,
    "start_time": "2023-10-13T07:59:12.019Z"
   },
   {
    "duration": 10,
    "start_time": "2023-10-13T07:59:15.076Z"
   },
   {
    "duration": 10,
    "start_time": "2023-10-13T07:59:17.516Z"
   },
   {
    "duration": 11,
    "start_time": "2023-10-13T07:59:47.370Z"
   },
   {
    "duration": 11,
    "start_time": "2023-10-13T08:00:31.546Z"
   },
   {
    "duration": 11,
    "start_time": "2023-10-13T08:00:48.513Z"
   },
   {
    "duration": 12,
    "start_time": "2023-10-13T08:01:27.119Z"
   },
   {
    "duration": 10,
    "start_time": "2023-10-13T08:02:23.238Z"
   },
   {
    "duration": 14,
    "start_time": "2023-10-13T08:03:43.860Z"
   },
   {
    "duration": 10,
    "start_time": "2023-10-13T08:05:58.480Z"
   },
   {
    "duration": 9,
    "start_time": "2023-10-13T08:06:14.664Z"
   },
   {
    "duration": 10,
    "start_time": "2023-10-13T08:06:27.415Z"
   },
   {
    "duration": 13,
    "start_time": "2023-10-13T08:06:33.047Z"
   },
   {
    "duration": 11,
    "start_time": "2023-10-13T08:07:17.062Z"
   },
   {
    "duration": 10,
    "start_time": "2023-10-13T08:07:23.326Z"
   },
   {
    "duration": 9,
    "start_time": "2023-10-13T08:07:25.358Z"
   },
   {
    "duration": 10,
    "start_time": "2023-10-13T08:07:40.654Z"
   },
   {
    "duration": 10,
    "start_time": "2023-10-13T08:08:24.772Z"
   },
   {
    "duration": 12,
    "start_time": "2023-10-13T08:09:17.411Z"
   },
   {
    "duration": 10,
    "start_time": "2023-10-13T08:09:43.690Z"
   },
   {
    "duration": 368,
    "start_time": "2023-10-13T08:11:27.791Z"
   },
   {
    "duration": 12,
    "start_time": "2023-10-13T08:11:42.415Z"
   },
   {
    "duration": 22,
    "start_time": "2023-10-13T08:12:02.014Z"
   },
   {
    "duration": 22,
    "start_time": "2023-10-13T08:12:28.589Z"
   },
   {
    "duration": 2048,
    "start_time": "2023-10-13T08:12:38.379Z"
   },
   {
    "duration": 3,
    "start_time": "2023-10-13T08:12:40.429Z"
   },
   {
    "duration": 50,
    "start_time": "2023-10-13T08:12:40.433Z"
   },
   {
    "duration": 25,
    "start_time": "2023-10-13T08:12:40.485Z"
   },
   {
    "duration": 4,
    "start_time": "2023-10-13T08:12:40.511Z"
   },
   {
    "duration": 6,
    "start_time": "2023-10-13T08:12:40.517Z"
   },
   {
    "duration": 174,
    "start_time": "2023-10-13T08:12:40.524Z"
   },
   {
    "duration": 6,
    "start_time": "2023-10-13T08:12:40.700Z"
   },
   {
    "duration": 13,
    "start_time": "2023-10-13T08:12:40.707Z"
   },
   {
    "duration": 28,
    "start_time": "2023-10-13T08:12:40.722Z"
   },
   {
    "duration": 12,
    "start_time": "2023-10-13T08:12:40.751Z"
   },
   {
    "duration": 11,
    "start_time": "2023-10-13T08:12:40.764Z"
   },
   {
    "duration": 11,
    "start_time": "2023-10-13T08:12:40.776Z"
   },
   {
    "duration": 15,
    "start_time": "2023-10-13T08:12:40.789Z"
   },
   {
    "duration": 35,
    "start_time": "2023-10-13T08:12:40.805Z"
   },
   {
    "duration": 11,
    "start_time": "2023-10-13T08:12:40.842Z"
   },
   {
    "duration": 15,
    "start_time": "2023-10-13T08:12:40.854Z"
   },
   {
    "duration": 14,
    "start_time": "2023-10-13T08:12:40.871Z"
   },
   {
    "duration": 14,
    "start_time": "2023-10-13T08:12:40.886Z"
   },
   {
    "duration": 3,
    "start_time": "2023-10-13T08:12:40.902Z"
   },
   {
    "duration": 48,
    "start_time": "2023-10-13T08:12:40.906Z"
   },
   {
    "duration": 32,
    "start_time": "2023-10-13T08:12:40.955Z"
   },
   {
    "duration": 12,
    "start_time": "2023-10-13T08:12:40.988Z"
   },
   {
    "duration": 4,
    "start_time": "2023-10-13T08:12:41.002Z"
   },
   {
    "duration": 9,
    "start_time": "2023-10-13T08:12:41.007Z"
   },
   {
    "duration": 376,
    "start_time": "2023-10-13T08:12:41.039Z"
   },
   {
    "duration": 294,
    "start_time": "2023-10-13T08:12:41.416Z"
   },
   {
    "duration": 214,
    "start_time": "2023-10-13T08:12:41.713Z"
   },
   {
    "duration": 223,
    "start_time": "2023-10-13T08:12:41.928Z"
   },
   {
    "duration": 323,
    "start_time": "2023-10-13T08:12:42.153Z"
   },
   {
    "duration": 261,
    "start_time": "2023-10-13T08:12:42.478Z"
   },
   {
    "duration": 16,
    "start_time": "2023-10-13T08:12:42.741Z"
   },
   {
    "duration": 110,
    "start_time": "2023-10-13T08:12:42.759Z"
   },
   {
    "duration": 16,
    "start_time": "2023-10-13T08:12:42.871Z"
   },
   {
    "duration": 111,
    "start_time": "2023-10-13T08:12:42.889Z"
   },
   {
    "duration": 16,
    "start_time": "2023-10-13T08:12:43.002Z"
   },
   {
    "duration": 107,
    "start_time": "2023-10-13T08:12:43.019Z"
   },
   {
    "duration": 25,
    "start_time": "2023-10-13T08:12:43.128Z"
   },
   {
    "duration": 186,
    "start_time": "2023-10-13T08:12:43.155Z"
   },
   {
    "duration": 744,
    "start_time": "2023-10-13T08:12:43.342Z"
   },
   {
    "duration": 7,
    "start_time": "2023-10-13T08:12:44.087Z"
   },
   {
    "duration": 10,
    "start_time": "2023-10-13T08:12:44.096Z"
   },
   {
    "duration": 8,
    "start_time": "2023-10-13T08:12:44.107Z"
   },
   {
    "duration": 42,
    "start_time": "2023-10-13T08:12:44.116Z"
   },
   {
    "duration": 10,
    "start_time": "2023-10-13T08:12:44.159Z"
   },
   {
    "duration": 10,
    "start_time": "2023-10-13T08:12:44.170Z"
   },
   {
    "duration": 10,
    "start_time": "2023-10-13T08:13:14.339Z"
   },
   {
    "duration": 23,
    "start_time": "2023-10-13T08:13:18.726Z"
   },
   {
    "duration": 10,
    "start_time": "2023-10-13T08:13:36.764Z"
   },
   {
    "duration": 11,
    "start_time": "2023-10-13T08:13:43.772Z"
   },
   {
    "duration": 8,
    "start_time": "2023-10-13T08:13:49.699Z"
   },
   {
    "duration": 7,
    "start_time": "2023-10-13T08:14:44.857Z"
   },
   {
    "duration": 11,
    "start_time": "2023-10-13T08:14:54.233Z"
   },
   {
    "duration": 8,
    "start_time": "2023-10-13T08:15:34.327Z"
   },
   {
    "duration": 11,
    "start_time": "2023-10-13T08:15:39.706Z"
   },
   {
    "duration": 429,
    "start_time": "2023-10-13T08:16:03.072Z"
   },
   {
    "duration": 12,
    "start_time": "2023-10-13T08:16:17.167Z"
   },
   {
    "duration": 14,
    "start_time": "2023-10-13T08:16:50.061Z"
   },
   {
    "duration": 3,
    "start_time": "2023-10-13T08:19:41.321Z"
   },
   {
    "duration": 7,
    "start_time": "2023-10-13T08:19:49.152Z"
   },
   {
    "duration": 606,
    "start_time": "2023-10-13T08:20:14.791Z"
   },
   {
    "duration": 81,
    "start_time": "2023-10-13T08:20:33.535Z"
   },
   {
    "duration": 7,
    "start_time": "2023-10-13T08:20:36.814Z"
   },
   {
    "duration": 11,
    "start_time": "2023-10-13T08:20:40.008Z"
   },
   {
    "duration": 11,
    "start_time": "2023-10-13T08:20:51.679Z"
   },
   {
    "duration": 11,
    "start_time": "2023-10-13T08:20:57.815Z"
   },
   {
    "duration": 11,
    "start_time": "2023-10-13T08:21:18.027Z"
   },
   {
    "duration": 3,
    "start_time": "2023-10-13T08:22:22.028Z"
   },
   {
    "duration": 7,
    "start_time": "2023-10-13T08:22:26.132Z"
   },
   {
    "duration": 7,
    "start_time": "2023-10-13T08:22:44.765Z"
   },
   {
    "duration": 8,
    "start_time": "2023-10-13T08:22:54.558Z"
   },
   {
    "duration": 8,
    "start_time": "2023-10-13T08:23:56.337Z"
   },
   {
    "duration": 6,
    "start_time": "2023-10-13T08:24:05.404Z"
   },
   {
    "duration": 3,
    "start_time": "2023-10-13T08:24:15.961Z"
   },
   {
    "duration": 1993,
    "start_time": "2023-10-13T08:24:21.456Z"
   },
   {
    "duration": 3,
    "start_time": "2023-10-13T08:24:23.452Z"
   },
   {
    "duration": 67,
    "start_time": "2023-10-13T08:24:23.456Z"
   },
   {
    "duration": 23,
    "start_time": "2023-10-13T08:24:23.525Z"
   },
   {
    "duration": 4,
    "start_time": "2023-10-13T08:24:23.550Z"
   },
   {
    "duration": 13,
    "start_time": "2023-10-13T08:24:23.556Z"
   },
   {
    "duration": 179,
    "start_time": "2023-10-13T08:24:23.571Z"
   },
   {
    "duration": 7,
    "start_time": "2023-10-13T08:24:23.752Z"
   },
   {
    "duration": 14,
    "start_time": "2023-10-13T08:24:23.760Z"
   },
   {
    "duration": 12,
    "start_time": "2023-10-13T08:24:23.776Z"
   },
   {
    "duration": 14,
    "start_time": "2023-10-13T08:24:23.789Z"
   },
   {
    "duration": 39,
    "start_time": "2023-10-13T08:24:23.804Z"
   },
   {
    "duration": 11,
    "start_time": "2023-10-13T08:24:23.844Z"
   },
   {
    "duration": 21,
    "start_time": "2023-10-13T08:24:23.856Z"
   },
   {
    "duration": 12,
    "start_time": "2023-10-13T08:24:23.878Z"
   },
   {
    "duration": 10,
    "start_time": "2023-10-13T08:24:23.892Z"
   },
   {
    "duration": 12,
    "start_time": "2023-10-13T08:24:23.903Z"
   },
   {
    "duration": 33,
    "start_time": "2023-10-13T08:24:23.916Z"
   },
   {
    "duration": 12,
    "start_time": "2023-10-13T08:24:23.951Z"
   },
   {
    "duration": 4,
    "start_time": "2023-10-13T08:24:23.964Z"
   },
   {
    "duration": 22,
    "start_time": "2023-10-13T08:24:23.970Z"
   },
   {
    "duration": 47,
    "start_time": "2023-10-13T08:24:23.993Z"
   },
   {
    "duration": 13,
    "start_time": "2023-10-13T08:24:24.042Z"
   },
   {
    "duration": 17,
    "start_time": "2023-10-13T08:24:24.056Z"
   },
   {
    "duration": 11,
    "start_time": "2023-10-13T08:24:24.075Z"
   },
   {
    "duration": 4,
    "start_time": "2023-10-13T08:24:24.087Z"
   },
   {
    "duration": 302,
    "start_time": "2023-10-13T08:24:24.092Z"
   },
   {
    "duration": 291,
    "start_time": "2023-10-13T08:24:24.398Z"
   },
   {
    "duration": 213,
    "start_time": "2023-10-13T08:24:24.690Z"
   },
   {
    "duration": 219,
    "start_time": "2023-10-13T08:24:24.904Z"
   },
   {
    "duration": 294,
    "start_time": "2023-10-13T08:24:25.125Z"
   },
   {
    "duration": 228,
    "start_time": "2023-10-13T08:24:25.420Z"
   },
   {
    "duration": 16,
    "start_time": "2023-10-13T08:24:25.649Z"
   },
   {
    "duration": 198,
    "start_time": "2023-10-13T08:24:25.667Z"
   },
   {
    "duration": 17,
    "start_time": "2023-10-13T08:24:25.866Z"
   },
   {
    "duration": 116,
    "start_time": "2023-10-13T08:24:25.884Z"
   },
   {
    "duration": 16,
    "start_time": "2023-10-13T08:24:26.001Z"
   },
   {
    "duration": 106,
    "start_time": "2023-10-13T08:24:26.018Z"
   },
   {
    "duration": 34,
    "start_time": "2023-10-13T08:24:26.125Z"
   },
   {
    "duration": 104,
    "start_time": "2023-10-13T08:24:26.160Z"
   },
   {
    "duration": 746,
    "start_time": "2023-10-13T08:24:26.265Z"
   },
   {
    "duration": 7,
    "start_time": "2023-10-13T08:24:27.012Z"
   },
   {
    "duration": 20,
    "start_time": "2023-10-13T08:24:27.020Z"
   },
   {
    "duration": 31,
    "start_time": "2023-10-13T08:24:27.041Z"
   },
   {
    "duration": 12,
    "start_time": "2023-10-13T08:24:27.073Z"
   },
   {
    "duration": 31,
    "start_time": "2023-10-13T08:24:27.086Z"
   },
   {
    "duration": 14,
    "start_time": "2023-10-13T08:24:27.118Z"
   },
   {
    "duration": 7,
    "start_time": "2023-10-13T08:24:27.133Z"
   },
   {
    "duration": 107,
    "start_time": "2023-10-13T08:24:27.141Z"
   },
   {
    "duration": 6,
    "start_time": "2023-10-13T08:24:40.696Z"
   },
   {
    "duration": 3,
    "start_time": "2023-10-13T08:24:42.264Z"
   },
   {
    "duration": 99,
    "start_time": "2023-10-13T08:25:06.895Z"
   },
   {
    "duration": 6,
    "start_time": "2023-10-13T08:25:26.775Z"
   },
   {
    "duration": 298,
    "start_time": "2023-10-13T08:27:31.421Z"
   },
   {
    "duration": 8,
    "start_time": "2023-10-13T08:27:34.130Z"
   },
   {
    "duration": 111,
    "start_time": "2023-10-13T08:27:40.330Z"
   },
   {
    "duration": 94,
    "start_time": "2023-10-13T08:28:21.993Z"
   },
   {
    "duration": 109,
    "start_time": "2023-10-13T08:29:08.048Z"
   },
   {
    "duration": 9,
    "start_time": "2023-10-13T08:29:37.063Z"
   },
   {
    "duration": 103,
    "start_time": "2023-10-13T08:29:41.839Z"
   },
   {
    "duration": 68,
    "start_time": "2023-10-13T08:30:51.037Z"
   },
   {
    "duration": 296,
    "start_time": "2023-10-13T08:30:54.021Z"
   },
   {
    "duration": 140,
    "start_time": "2023-10-13T08:31:02.038Z"
   },
   {
    "duration": 115,
    "start_time": "2023-10-13T08:31:26.171Z"
   },
   {
    "duration": 115,
    "start_time": "2023-10-13T08:31:31.387Z"
   },
   {
    "duration": 104,
    "start_time": "2023-10-13T08:31:41.618Z"
   },
   {
    "duration": 109,
    "start_time": "2023-10-13T08:31:44.874Z"
   },
   {
    "duration": 251,
    "start_time": "2023-10-13T08:32:48.545Z"
   },
   {
    "duration": 225,
    "start_time": "2023-10-13T08:32:53.753Z"
   },
   {
    "duration": 120,
    "start_time": "2023-10-13T08:33:05.018Z"
   },
   {
    "duration": 182,
    "start_time": "2023-10-13T08:33:35.599Z"
   },
   {
    "duration": 122,
    "start_time": "2023-10-13T08:33:41.743Z"
   },
   {
    "duration": 248,
    "start_time": "2023-10-13T08:33:45.328Z"
   },
   {
    "duration": 198,
    "start_time": "2023-10-13T08:36:07.645Z"
   },
   {
    "duration": 136,
    "start_time": "2023-10-13T08:36:44.938Z"
   },
   {
    "duration": 121,
    "start_time": "2023-10-13T08:36:49.242Z"
   },
   {
    "duration": 185,
    "start_time": "2023-10-13T08:37:26.378Z"
   },
   {
    "duration": 240,
    "start_time": "2023-10-13T08:37:53.303Z"
   },
   {
    "duration": 3,
    "start_time": "2023-10-13T08:39:00.038Z"
   },
   {
    "duration": 3,
    "start_time": "2023-10-13T08:39:04.285Z"
   },
   {
    "duration": 6,
    "start_time": "2023-10-13T08:39:08.191Z"
   },
   {
    "duration": 8,
    "start_time": "2023-10-13T08:39:12.573Z"
   },
   {
    "duration": 5,
    "start_time": "2023-10-13T08:39:19.333Z"
   },
   {
    "duration": 189,
    "start_time": "2023-10-13T08:39:26.373Z"
   },
   {
    "duration": 217,
    "start_time": "2023-10-13T08:39:35.948Z"
   },
   {
    "duration": 219,
    "start_time": "2023-10-13T08:40:05.461Z"
   },
   {
    "duration": 173,
    "start_time": "2023-10-13T08:40:20.492Z"
   },
   {
    "duration": 234,
    "start_time": "2023-10-13T08:41:28.122Z"
   },
   {
    "duration": 12,
    "start_time": "2023-10-13T08:43:40.941Z"
   },
   {
    "duration": 13,
    "start_time": "2023-10-13T08:43:44.541Z"
   },
   {
    "duration": 9,
    "start_time": "2023-10-13T08:43:47.132Z"
   },
   {
    "duration": 2038,
    "start_time": "2023-10-13T08:43:50.619Z"
   },
   {
    "duration": 3,
    "start_time": "2023-10-13T08:43:52.659Z"
   },
   {
    "duration": 49,
    "start_time": "2023-10-13T08:43:52.663Z"
   },
   {
    "duration": 23,
    "start_time": "2023-10-13T08:43:52.714Z"
   },
   {
    "duration": 3,
    "start_time": "2023-10-13T08:43:52.739Z"
   },
   {
    "duration": 24,
    "start_time": "2023-10-13T08:43:52.743Z"
   },
   {
    "duration": 161,
    "start_time": "2023-10-13T08:43:52.768Z"
   },
   {
    "duration": 10,
    "start_time": "2023-10-13T08:43:52.930Z"
   },
   {
    "duration": 55,
    "start_time": "2023-10-13T08:43:52.941Z"
   },
   {
    "duration": 22,
    "start_time": "2023-10-13T08:43:52.997Z"
   },
   {
    "duration": 12,
    "start_time": "2023-10-13T08:43:53.021Z"
   },
   {
    "duration": 10,
    "start_time": "2023-10-13T08:43:53.034Z"
   },
   {
    "duration": 18,
    "start_time": "2023-10-13T08:43:53.045Z"
   },
   {
    "duration": 21,
    "start_time": "2023-10-13T08:43:53.066Z"
   },
   {
    "duration": 12,
    "start_time": "2023-10-13T08:43:53.088Z"
   },
   {
    "duration": 11,
    "start_time": "2023-10-13T08:43:53.101Z"
   },
   {
    "duration": 27,
    "start_time": "2023-10-13T08:43:53.113Z"
   },
   {
    "duration": 12,
    "start_time": "2023-10-13T08:43:53.142Z"
   },
   {
    "duration": 13,
    "start_time": "2023-10-13T08:43:53.155Z"
   },
   {
    "duration": 3,
    "start_time": "2023-10-13T08:43:53.169Z"
   },
   {
    "duration": 20,
    "start_time": "2023-10-13T08:43:53.173Z"
   },
   {
    "duration": 53,
    "start_time": "2023-10-13T08:43:53.195Z"
   },
   {
    "duration": 12,
    "start_time": "2023-10-13T08:43:53.249Z"
   },
   {
    "duration": 8,
    "start_time": "2023-10-13T08:43:53.262Z"
   },
   {
    "duration": 10,
    "start_time": "2023-10-13T08:43:53.272Z"
   },
   {
    "duration": 306,
    "start_time": "2023-10-13T08:43:53.283Z"
   },
   {
    "duration": 294,
    "start_time": "2023-10-13T08:43:53.590Z"
   },
   {
    "duration": 218,
    "start_time": "2023-10-13T08:43:53.885Z"
   },
   {
    "duration": 340,
    "start_time": "2023-10-13T08:43:54.104Z"
   },
   {
    "duration": 298,
    "start_time": "2023-10-13T08:43:54.446Z"
   },
   {
    "duration": 236,
    "start_time": "2023-10-13T08:43:54.745Z"
   },
   {
    "duration": 17,
    "start_time": "2023-10-13T08:43:54.982Z"
   },
   {
    "duration": 107,
    "start_time": "2023-10-13T08:43:55.001Z"
   },
   {
    "duration": 30,
    "start_time": "2023-10-13T08:43:55.109Z"
   },
   {
    "duration": 106,
    "start_time": "2023-10-13T08:43:55.141Z"
   },
   {
    "duration": 16,
    "start_time": "2023-10-13T08:43:55.249Z"
   },
   {
    "duration": 109,
    "start_time": "2023-10-13T08:43:55.266Z"
   },
   {
    "duration": 16,
    "start_time": "2023-10-13T08:43:55.377Z"
   },
   {
    "duration": 108,
    "start_time": "2023-10-13T08:43:55.394Z"
   },
   {
    "duration": 765,
    "start_time": "2023-10-13T08:43:55.504Z"
   },
   {
    "duration": 7,
    "start_time": "2023-10-13T08:43:56.273Z"
   },
   {
    "duration": 13,
    "start_time": "2023-10-13T08:43:56.281Z"
   },
   {
    "duration": 15,
    "start_time": "2023-10-13T08:43:56.296Z"
   },
   {
    "duration": 27,
    "start_time": "2023-10-13T08:43:56.313Z"
   },
   {
    "duration": 15,
    "start_time": "2023-10-13T08:43:56.342Z"
   },
   {
    "duration": 14,
    "start_time": "2023-10-13T08:43:56.358Z"
   },
   {
    "duration": 8,
    "start_time": "2023-10-13T08:43:56.374Z"
   },
   {
    "duration": 182,
    "start_time": "2023-10-13T08:43:56.383Z"
   },
   {
    "duration": 0,
    "start_time": "2023-10-13T08:43:56.566Z"
   },
   {
    "duration": 234,
    "start_time": "2023-10-13T08:44:10.564Z"
   },
   {
    "duration": 13,
    "start_time": "2023-10-13T09:12:54.107Z"
   },
   {
    "duration": 12,
    "start_time": "2023-10-13T09:13:57.016Z"
   },
   {
    "duration": 12,
    "start_time": "2023-10-13T09:14:21.095Z"
   },
   {
    "duration": 19,
    "start_time": "2023-10-13T09:14:42.567Z"
   },
   {
    "duration": 14,
    "start_time": "2023-10-13T09:14:59.598Z"
   },
   {
    "duration": 13,
    "start_time": "2023-10-13T09:15:07.094Z"
   },
   {
    "duration": 16,
    "start_time": "2023-10-13T09:15:20.053Z"
   },
   {
    "duration": 15,
    "start_time": "2023-10-13T09:15:32.901Z"
   },
   {
    "duration": 14,
    "start_time": "2023-10-13T09:15:54.404Z"
   },
   {
    "duration": 11,
    "start_time": "2023-10-13T09:16:27.636Z"
   },
   {
    "duration": 13,
    "start_time": "2023-10-13T09:16:49.307Z"
   },
   {
    "duration": 13,
    "start_time": "2023-10-13T09:17:04.322Z"
   },
   {
    "duration": 13,
    "start_time": "2023-10-13T09:17:45.473Z"
   },
   {
    "duration": 12,
    "start_time": "2023-10-13T09:17:54.865Z"
   },
   {
    "duration": 12,
    "start_time": "2023-10-13T09:18:01.979Z"
   },
   {
    "duration": 318,
    "start_time": "2023-10-13T09:19:55.469Z"
   },
   {
    "duration": 14,
    "start_time": "2023-10-13T09:20:02.852Z"
   },
   {
    "duration": 13,
    "start_time": "2023-10-13T09:20:20.013Z"
   },
   {
    "duration": 13,
    "start_time": "2023-10-13T09:20:28.061Z"
   },
   {
    "duration": 13,
    "start_time": "2023-10-13T09:20:46.578Z"
   },
   {
    "duration": 13,
    "start_time": "2023-10-13T09:22:01.331Z"
   },
   {
    "duration": 13,
    "start_time": "2023-10-13T09:22:44.225Z"
   },
   {
    "duration": 13,
    "start_time": "2023-10-13T09:23:41.991Z"
   },
   {
    "duration": 12,
    "start_time": "2023-10-13T09:24:13.335Z"
   },
   {
    "duration": 12,
    "start_time": "2023-10-13T09:24:20.902Z"
   },
   {
    "duration": 11,
    "start_time": "2023-10-13T09:24:37.118Z"
   },
   {
    "duration": 17,
    "start_time": "2023-10-13T09:25:27.956Z"
   },
   {
    "duration": 15,
    "start_time": "2023-10-13T09:25:53.314Z"
   },
   {
    "duration": 15,
    "start_time": "2023-10-13T09:26:08.747Z"
   },
   {
    "duration": 13,
    "start_time": "2023-10-13T09:26:18.556Z"
   },
   {
    "duration": 12,
    "start_time": "2023-10-13T09:26:35.494Z"
   },
   {
    "duration": 12,
    "start_time": "2023-10-13T09:27:56.728Z"
   },
   {
    "duration": 12,
    "start_time": "2023-10-13T09:28:35.861Z"
   },
   {
    "duration": 12,
    "start_time": "2023-10-13T09:29:16.055Z"
   },
   {
    "duration": 21,
    "start_time": "2023-10-13T09:29:49.940Z"
   },
   {
    "duration": 12,
    "start_time": "2023-10-13T09:31:06.418Z"
   },
   {
    "duration": 43,
    "start_time": "2023-10-13T09:32:02.809Z"
   },
   {
    "duration": 12,
    "start_time": "2023-10-13T09:32:09.169Z"
   },
   {
    "duration": 13,
    "start_time": "2023-10-13T09:32:23.777Z"
   },
   {
    "duration": 13,
    "start_time": "2023-10-13T09:32:37.856Z"
   },
   {
    "duration": 12,
    "start_time": "2023-10-13T09:32:47.503Z"
   },
   {
    "duration": 12,
    "start_time": "2023-10-13T09:32:57.463Z"
   },
   {
    "duration": 13,
    "start_time": "2023-10-13T09:33:05.583Z"
   },
   {
    "duration": 13,
    "start_time": "2023-10-13T09:33:21.744Z"
   },
   {
    "duration": 13,
    "start_time": "2023-10-13T09:33:31.270Z"
   },
   {
    "duration": 14,
    "start_time": "2023-10-13T09:33:37.502Z"
   },
   {
    "duration": 11,
    "start_time": "2023-10-13T09:33:45.774Z"
   },
   {
    "duration": 13,
    "start_time": "2023-10-13T09:33:52.590Z"
   },
   {
    "duration": 11,
    "start_time": "2023-10-13T09:33:58.901Z"
   },
   {
    "duration": 13,
    "start_time": "2023-10-13T09:34:22.581Z"
   },
   {
    "duration": 81,
    "start_time": "2023-10-13T09:34:32.972Z"
   },
   {
    "duration": 11,
    "start_time": "2023-10-13T09:34:39.052Z"
   },
   {
    "duration": 27,
    "start_time": "2023-10-13T09:35:08.467Z"
   },
   {
    "duration": 27,
    "start_time": "2023-10-13T09:35:12.932Z"
   },
   {
    "duration": 12,
    "start_time": "2023-10-13T09:35:16.171Z"
   },
   {
    "duration": 11,
    "start_time": "2023-10-13T09:35:34.659Z"
   },
   {
    "duration": 11,
    "start_time": "2023-10-13T09:35:43.970Z"
   },
   {
    "duration": 12,
    "start_time": "2023-10-13T09:36:04.378Z"
   },
   {
    "duration": 12,
    "start_time": "2023-10-13T09:36:59.112Z"
   },
   {
    "duration": 14,
    "start_time": "2023-10-13T09:37:08.416Z"
   },
   {
    "duration": 13,
    "start_time": "2023-10-13T09:37:18.927Z"
   },
   {
    "duration": 12,
    "start_time": "2023-10-13T09:37:57.334Z"
   },
   {
    "duration": 12,
    "start_time": "2023-10-13T09:38:15.918Z"
   },
   {
    "duration": 12,
    "start_time": "2023-10-13T09:38:23.134Z"
   },
   {
    "duration": 11,
    "start_time": "2023-10-13T09:38:44.517Z"
   },
   {
    "duration": 11,
    "start_time": "2023-10-13T09:39:01.669Z"
   },
   {
    "duration": 80,
    "start_time": "2023-10-13T09:39:12.732Z"
   },
   {
    "duration": 13,
    "start_time": "2023-10-13T09:39:17.916Z"
   },
   {
    "duration": 45,
    "start_time": "2023-10-13T09:39:31.076Z"
   },
   {
    "duration": 13,
    "start_time": "2023-10-13T09:39:34.571Z"
   },
   {
    "duration": 12,
    "start_time": "2023-10-13T09:40:01.892Z"
   },
   {
    "duration": 12,
    "start_time": "2023-10-13T09:40:11.651Z"
   },
   {
    "duration": 12,
    "start_time": "2023-10-13T09:41:12.633Z"
   },
   {
    "duration": 11,
    "start_time": "2023-10-13T09:41:58.503Z"
   },
   {
    "duration": 87,
    "start_time": "2023-10-13T09:42:16.535Z"
   },
   {
    "duration": 12,
    "start_time": "2023-10-13T09:42:20.791Z"
   },
   {
    "duration": 12,
    "start_time": "2023-10-13T09:42:31.095Z"
   },
   {
    "duration": 12,
    "start_time": "2023-10-13T09:42:54.662Z"
   },
   {
    "duration": 13,
    "start_time": "2023-10-13T09:43:03.575Z"
   },
   {
    "duration": 13,
    "start_time": "2023-10-13T09:43:13.069Z"
   },
   {
    "duration": 13,
    "start_time": "2023-10-13T09:43:29.493Z"
   },
   {
    "duration": 12,
    "start_time": "2023-10-13T09:44:08.628Z"
   },
   {
    "duration": 12,
    "start_time": "2023-10-13T09:45:17.522Z"
   },
   {
    "duration": 13,
    "start_time": "2023-10-13T09:45:21.273Z"
   },
   {
    "duration": 12,
    "start_time": "2023-10-13T09:45:57.816Z"
   },
   {
    "duration": 13,
    "start_time": "2023-10-13T09:46:07.744Z"
   },
   {
    "duration": 12,
    "start_time": "2023-10-13T09:46:28.112Z"
   },
   {
    "duration": 13,
    "start_time": "2023-10-13T09:46:38.849Z"
   },
   {
    "duration": 13,
    "start_time": "2023-10-13T09:47:00.863Z"
   },
   {
    "duration": 12,
    "start_time": "2023-10-13T09:47:06.607Z"
   },
   {
    "duration": 12,
    "start_time": "2023-10-13T09:47:19.838Z"
   },
   {
    "duration": 12,
    "start_time": "2023-10-13T09:47:29.118Z"
   },
   {
    "duration": 12,
    "start_time": "2023-10-13T09:47:46.701Z"
   },
   {
    "duration": 12,
    "start_time": "2023-10-13T09:47:56.710Z"
   },
   {
    "duration": 12,
    "start_time": "2023-10-13T09:48:08.797Z"
   },
   {
    "duration": 11,
    "start_time": "2023-10-13T09:48:19.526Z"
   },
   {
    "duration": 12,
    "start_time": "2023-10-13T09:48:30.613Z"
   },
   {
    "duration": 12,
    "start_time": "2023-10-13T09:48:49.252Z"
   },
   {
    "duration": 12,
    "start_time": "2023-10-13T09:48:58.611Z"
   },
   {
    "duration": 12,
    "start_time": "2023-10-13T09:49:07.460Z"
   },
   {
    "duration": 12,
    "start_time": "2023-10-13T09:49:20.866Z"
   },
   {
    "duration": 12,
    "start_time": "2023-10-13T09:49:49.082Z"
   },
   {
    "duration": 12,
    "start_time": "2023-10-13T09:50:03.746Z"
   },
   {
    "duration": 12,
    "start_time": "2023-10-13T09:50:17.201Z"
   },
   {
    "duration": 12,
    "start_time": "2023-10-13T09:50:50.201Z"
   },
   {
    "duration": 12,
    "start_time": "2023-10-13T09:51:08.704Z"
   },
   {
    "duration": 12,
    "start_time": "2023-10-13T09:51:18.112Z"
   },
   {
    "duration": 12,
    "start_time": "2023-10-13T09:53:07.557Z"
   },
   {
    "duration": 9,
    "start_time": "2023-10-13T09:53:13.924Z"
   },
   {
    "duration": 175,
    "start_time": "2023-10-13T09:53:17.499Z"
   },
   {
    "duration": 13,
    "start_time": "2023-10-13T09:53:57.595Z"
   },
   {
    "duration": 12,
    "start_time": "2023-10-13T09:54:05.371Z"
   },
   {
    "duration": 12,
    "start_time": "2023-10-13T09:54:11.698Z"
   },
   {
    "duration": 15,
    "start_time": "2023-10-13T10:05:17.768Z"
   },
   {
    "duration": 13,
    "start_time": "2023-10-13T10:05:22.640Z"
   },
   {
    "duration": 12,
    "start_time": "2023-10-13T10:05:31.968Z"
   },
   {
    "duration": 2618,
    "start_time": "2023-10-13T10:05:55.206Z"
   },
   {
    "duration": 3,
    "start_time": "2023-10-13T10:05:57.826Z"
   },
   {
    "duration": 65,
    "start_time": "2023-10-13T10:05:57.831Z"
   },
   {
    "duration": 24,
    "start_time": "2023-10-13T10:05:57.898Z"
   },
   {
    "duration": 4,
    "start_time": "2023-10-13T10:05:57.924Z"
   },
   {
    "duration": 10,
    "start_time": "2023-10-13T10:05:57.929Z"
   },
   {
    "duration": 183,
    "start_time": "2023-10-13T10:05:57.940Z"
   },
   {
    "duration": 18,
    "start_time": "2023-10-13T10:05:58.125Z"
   },
   {
    "duration": 14,
    "start_time": "2023-10-13T10:05:58.145Z"
   },
   {
    "duration": 13,
    "start_time": "2023-10-13T10:05:58.161Z"
   },
   {
    "duration": 13,
    "start_time": "2023-10-13T10:05:58.176Z"
   },
   {
    "duration": 12,
    "start_time": "2023-10-13T10:05:58.190Z"
   },
   {
    "duration": 39,
    "start_time": "2023-10-13T10:05:58.204Z"
   },
   {
    "duration": 19,
    "start_time": "2023-10-13T10:05:58.246Z"
   },
   {
    "duration": 15,
    "start_time": "2023-10-13T10:05:58.266Z"
   },
   {
    "duration": 20,
    "start_time": "2023-10-13T10:05:58.282Z"
   },
   {
    "duration": 20,
    "start_time": "2023-10-13T10:05:58.304Z"
   },
   {
    "duration": 15,
    "start_time": "2023-10-13T10:05:58.340Z"
   },
   {
    "duration": 14,
    "start_time": "2023-10-13T10:05:58.357Z"
   },
   {
    "duration": 4,
    "start_time": "2023-10-13T10:05:58.373Z"
   },
   {
    "duration": 21,
    "start_time": "2023-10-13T10:05:58.379Z"
   },
   {
    "duration": 61,
    "start_time": "2023-10-13T10:05:58.402Z"
   },
   {
    "duration": 13,
    "start_time": "2023-10-13T10:05:58.465Z"
   },
   {
    "duration": 7,
    "start_time": "2023-10-13T10:05:58.479Z"
   },
   {
    "duration": 8,
    "start_time": "2023-10-13T10:05:58.488Z"
   },
   {
    "duration": 329,
    "start_time": "2023-10-13T10:05:58.497Z"
   },
   {
    "duration": 449,
    "start_time": "2023-10-13T10:05:58.828Z"
   },
   {
    "duration": 226,
    "start_time": "2023-10-13T10:05:59.279Z"
   },
   {
    "duration": 242,
    "start_time": "2023-10-13T10:05:59.507Z"
   },
   {
    "duration": 325,
    "start_time": "2023-10-13T10:05:59.751Z"
   },
   {
    "duration": 248,
    "start_time": "2023-10-13T10:06:00.078Z"
   },
   {
    "duration": 21,
    "start_time": "2023-10-13T10:06:00.327Z"
   },
   {
    "duration": 127,
    "start_time": "2023-10-13T10:06:00.349Z"
   },
   {
    "duration": 18,
    "start_time": "2023-10-13T10:06:00.478Z"
   },
   {
    "duration": 151,
    "start_time": "2023-10-13T10:06:00.498Z"
   },
   {
    "duration": 17,
    "start_time": "2023-10-13T10:06:00.651Z"
   },
   {
    "duration": 122,
    "start_time": "2023-10-13T10:06:00.670Z"
   },
   {
    "duration": 17,
    "start_time": "2023-10-13T10:06:00.793Z"
   },
   {
    "duration": 121,
    "start_time": "2023-10-13T10:06:00.811Z"
   },
   {
    "duration": 833,
    "start_time": "2023-10-13T10:06:00.934Z"
   },
   {
    "duration": 8,
    "start_time": "2023-10-13T10:06:01.771Z"
   },
   {
    "duration": 20,
    "start_time": "2023-10-13T10:06:01.780Z"
   },
   {
    "duration": 25,
    "start_time": "2023-10-13T10:06:01.802Z"
   },
   {
    "duration": 20,
    "start_time": "2023-10-13T10:06:01.829Z"
   },
   {
    "duration": 22,
    "start_time": "2023-10-13T10:06:01.850Z"
   },
   {
    "duration": 22,
    "start_time": "2023-10-13T10:06:01.874Z"
   },
   {
    "duration": 19,
    "start_time": "2023-10-13T10:06:01.898Z"
   },
   {
    "duration": 284,
    "start_time": "2023-10-13T10:06:01.919Z"
   },
   {
    "duration": 13,
    "start_time": "2023-10-13T10:06:14.718Z"
   },
   {
    "duration": 13,
    "start_time": "2023-10-13T10:06:15.886Z"
   },
   {
    "duration": 16,
    "start_time": "2023-10-13T10:06:17.613Z"
   },
   {
    "duration": 13,
    "start_time": "2023-10-13T10:06:18.982Z"
   },
   {
    "duration": 9,
    "start_time": "2023-10-13T10:06:20.381Z"
   },
   {
    "duration": 238,
    "start_time": "2023-10-13T10:06:21.742Z"
   },
   {
    "duration": 301,
    "start_time": "2023-10-13T11:26:48.562Z"
   },
   {
    "duration": 446,
    "start_time": "2023-10-13T11:27:18.833Z"
   },
   {
    "duration": 306,
    "start_time": "2023-10-13T11:28:59.054Z"
   },
   {
    "duration": 331,
    "start_time": "2023-10-13T11:29:33.550Z"
   },
   {
    "duration": 405,
    "start_time": "2023-10-13T11:32:43.160Z"
   },
   {
    "duration": 305,
    "start_time": "2023-10-13T11:34:06.829Z"
   },
   {
    "duration": 307,
    "start_time": "2023-10-13T11:34:10.957Z"
   },
   {
    "duration": 443,
    "start_time": "2023-10-13T11:34:42.588Z"
   },
   {
    "duration": 332,
    "start_time": "2023-10-13T11:35:03.444Z"
   },
   {
    "duration": 308,
    "start_time": "2023-10-13T11:35:14.900Z"
   },
   {
    "duration": 312,
    "start_time": "2023-10-13T11:35:43.898Z"
   },
   {
    "duration": 311,
    "start_time": "2023-10-13T11:37:05.928Z"
   },
   {
    "duration": 234,
    "start_time": "2023-10-13T11:39:08.012Z"
   },
   {
    "duration": 224,
    "start_time": "2023-10-13T11:39:12.036Z"
   },
   {
    "duration": 314,
    "start_time": "2023-10-13T11:39:40.413Z"
   },
   {
    "duration": 249,
    "start_time": "2023-10-13T11:40:56.661Z"
   },
   {
    "duration": 107,
    "start_time": "2023-10-13T11:41:42.816Z"
   },
   {
    "duration": 113,
    "start_time": "2023-10-13T11:42:25.071Z"
   },
   {
    "duration": 291,
    "start_time": "2023-10-13T11:43:15.301Z"
   },
   {
    "duration": 2086,
    "start_time": "2023-10-13T12:20:34.472Z"
   },
   {
    "duration": 1167,
    "start_time": "2023-10-13T12:20:36.559Z"
   },
   {
    "duration": 39,
    "start_time": "2023-10-13T12:20:37.727Z"
   },
   {
    "duration": 26,
    "start_time": "2023-10-13T12:20:37.768Z"
   },
   {
    "duration": 3,
    "start_time": "2023-10-13T12:20:37.795Z"
   },
   {
    "duration": 6,
    "start_time": "2023-10-13T12:20:37.799Z"
   },
   {
    "duration": 187,
    "start_time": "2023-10-13T12:20:37.806Z"
   },
   {
    "duration": 8,
    "start_time": "2023-10-13T12:20:37.994Z"
   },
   {
    "duration": 14,
    "start_time": "2023-10-13T12:20:38.003Z"
   },
   {
    "duration": 32,
    "start_time": "2023-10-13T12:20:38.019Z"
   },
   {
    "duration": 11,
    "start_time": "2023-10-13T12:20:38.053Z"
   },
   {
    "duration": 11,
    "start_time": "2023-10-13T12:20:38.066Z"
   },
   {
    "duration": 11,
    "start_time": "2023-10-13T12:20:38.078Z"
   },
   {
    "duration": 19,
    "start_time": "2023-10-13T12:20:38.091Z"
   },
   {
    "duration": 36,
    "start_time": "2023-10-13T12:20:38.111Z"
   },
   {
    "duration": 10,
    "start_time": "2023-10-13T12:20:38.149Z"
   },
   {
    "duration": 17,
    "start_time": "2023-10-13T12:20:38.160Z"
   },
   {
    "duration": 13,
    "start_time": "2023-10-13T12:20:38.179Z"
   },
   {
    "duration": 13,
    "start_time": "2023-10-13T12:20:38.193Z"
   },
   {
    "duration": 33,
    "start_time": "2023-10-13T12:20:38.207Z"
   },
   {
    "duration": 22,
    "start_time": "2023-10-13T12:20:38.241Z"
   },
   {
    "duration": 29,
    "start_time": "2023-10-13T12:20:38.265Z"
   },
   {
    "duration": 13,
    "start_time": "2023-10-13T12:20:38.295Z"
   },
   {
    "duration": 6,
    "start_time": "2023-10-13T12:20:38.309Z"
   },
   {
    "duration": 28,
    "start_time": "2023-10-13T12:20:38.316Z"
   },
   {
    "duration": 329,
    "start_time": "2023-10-13T12:20:38.345Z"
   },
   {
    "duration": 318,
    "start_time": "2023-10-13T12:20:38.675Z"
   },
   {
    "duration": 272,
    "start_time": "2023-10-13T12:20:38.997Z"
   },
   {
    "duration": 246,
    "start_time": "2023-10-13T12:20:39.271Z"
   },
   {
    "duration": 378,
    "start_time": "2023-10-13T12:20:39.518Z"
   },
   {
    "duration": 256,
    "start_time": "2023-10-13T12:20:39.898Z"
   },
   {
    "duration": 18,
    "start_time": "2023-10-13T12:20:40.155Z"
   },
   {
    "duration": 121,
    "start_time": "2023-10-13T12:20:40.174Z"
   },
   {
    "duration": 61,
    "start_time": "2023-10-13T12:20:40.296Z"
   },
   {
    "duration": 156,
    "start_time": "2023-10-13T12:20:40.359Z"
   },
   {
    "duration": 23,
    "start_time": "2023-10-13T12:20:40.517Z"
   },
   {
    "duration": 127,
    "start_time": "2023-10-13T12:20:40.542Z"
   },
   {
    "duration": 18,
    "start_time": "2023-10-13T12:20:40.670Z"
   },
   {
    "duration": 125,
    "start_time": "2023-10-13T12:20:40.689Z"
   },
   {
    "duration": 821,
    "start_time": "2023-10-13T12:20:40.815Z"
   },
   {
    "duration": 8,
    "start_time": "2023-10-13T12:20:41.639Z"
   },
   {
    "duration": 14,
    "start_time": "2023-10-13T12:20:41.648Z"
   },
   {
    "duration": 8,
    "start_time": "2023-10-13T12:20:41.663Z"
   },
   {
    "duration": 14,
    "start_time": "2023-10-13T12:20:41.672Z"
   },
   {
    "duration": 12,
    "start_time": "2023-10-13T12:20:41.688Z"
   },
   {
    "duration": 48,
    "start_time": "2023-10-13T12:20:41.701Z"
   },
   {
    "duration": 17,
    "start_time": "2023-10-13T12:20:41.751Z"
   },
   {
    "duration": 205,
    "start_time": "2023-10-13T12:20:41.769Z"
   },
   {
    "duration": 177,
    "start_time": "2023-10-13T12:21:07.882Z"
   },
   {
    "duration": 2003,
    "start_time": "2023-10-13T12:23:00.318Z"
   },
   {
    "duration": 2095,
    "start_time": "2023-10-13T12:23:13.415Z"
   },
   {
    "duration": 1207,
    "start_time": "2023-10-13T12:23:15.512Z"
   },
   {
    "duration": 40,
    "start_time": "2023-10-13T12:23:16.720Z"
   },
   {
    "duration": 32,
    "start_time": "2023-10-13T12:23:16.762Z"
   },
   {
    "duration": 4,
    "start_time": "2023-10-13T12:23:16.796Z"
   },
   {
    "duration": 7,
    "start_time": "2023-10-13T12:23:16.802Z"
   },
   {
    "duration": 197,
    "start_time": "2023-10-13T12:23:16.811Z"
   },
   {
    "duration": 8,
    "start_time": "2023-10-13T12:23:17.009Z"
   },
   {
    "duration": 25,
    "start_time": "2023-10-13T12:23:17.018Z"
   },
   {
    "duration": 13,
    "start_time": "2023-10-13T12:23:17.045Z"
   },
   {
    "duration": 12,
    "start_time": "2023-10-13T12:23:17.059Z"
   },
   {
    "duration": 12,
    "start_time": "2023-10-13T12:23:17.073Z"
   },
   {
    "duration": 13,
    "start_time": "2023-10-13T12:23:17.087Z"
   },
   {
    "duration": 46,
    "start_time": "2023-10-13T12:23:17.101Z"
   },
   {
    "duration": 13,
    "start_time": "2023-10-13T12:23:17.149Z"
   },
   {
    "duration": 23,
    "start_time": "2023-10-13T12:23:17.164Z"
   },
   {
    "duration": 16,
    "start_time": "2023-10-13T12:23:17.188Z"
   },
   {
    "duration": 12,
    "start_time": "2023-10-13T12:23:17.205Z"
   },
   {
    "duration": 27,
    "start_time": "2023-10-13T12:23:17.218Z"
   },
   {
    "duration": 10,
    "start_time": "2023-10-13T12:23:17.246Z"
   },
   {
    "duration": 27,
    "start_time": "2023-10-13T12:23:17.258Z"
   },
   {
    "duration": 29,
    "start_time": "2023-10-13T12:23:17.286Z"
   },
   {
    "duration": 13,
    "start_time": "2023-10-13T12:23:17.316Z"
   },
   {
    "duration": 6,
    "start_time": "2023-10-13T12:23:17.339Z"
   },
   {
    "duration": 6,
    "start_time": "2023-10-13T12:23:17.346Z"
   },
   {
    "duration": 344,
    "start_time": "2023-10-13T12:23:17.354Z"
   },
   {
    "duration": 318,
    "start_time": "2023-10-13T12:23:17.699Z"
   },
   {
    "duration": 247,
    "start_time": "2023-10-13T12:23:18.020Z"
   },
   {
    "duration": 247,
    "start_time": "2023-10-13T12:23:18.269Z"
   },
   {
    "duration": 380,
    "start_time": "2023-10-13T12:23:18.518Z"
   },
   {
    "duration": 251,
    "start_time": "2023-10-13T12:23:18.899Z"
   },
   {
    "duration": 16,
    "start_time": "2023-10-13T12:23:19.151Z"
   },
   {
    "duration": 121,
    "start_time": "2023-10-13T12:23:19.168Z"
   },
   {
    "duration": 20,
    "start_time": "2023-10-13T12:23:19.290Z"
   },
   {
    "duration": 131,
    "start_time": "2023-10-13T12:23:19.311Z"
   },
   {
    "duration": 16,
    "start_time": "2023-10-13T12:23:19.443Z"
   },
   {
    "duration": 133,
    "start_time": "2023-10-13T12:23:19.461Z"
   },
   {
    "duration": 26,
    "start_time": "2023-10-13T12:23:19.596Z"
   },
   {
    "duration": 139,
    "start_time": "2023-10-13T12:23:19.624Z"
   },
   {
    "duration": 835,
    "start_time": "2023-10-13T12:23:19.764Z"
   },
   {
    "duration": 7,
    "start_time": "2023-10-13T12:23:20.601Z"
   },
   {
    "duration": 21,
    "start_time": "2023-10-13T12:23:20.610Z"
   },
   {
    "duration": 8,
    "start_time": "2023-10-13T12:23:20.640Z"
   },
   {
    "duration": 18,
    "start_time": "2023-10-13T12:23:20.650Z"
   },
   {
    "duration": 11,
    "start_time": "2023-10-13T12:23:20.670Z"
   },
   {
    "duration": 16,
    "start_time": "2023-10-13T12:23:20.683Z"
   },
   {
    "duration": 27,
    "start_time": "2023-10-13T12:23:20.701Z"
   },
   {
    "duration": 232,
    "start_time": "2023-10-13T12:23:20.729Z"
   },
   {
    "duration": 754,
    "start_time": "2023-10-13T12:23:42.788Z"
   },
   {
    "duration": 765,
    "start_time": "2023-10-13T12:23:48.901Z"
   },
   {
    "duration": 3165,
    "start_time": "2023-10-13T12:55:09.430Z"
   },
   {
    "duration": 1218,
    "start_time": "2023-10-13T12:55:12.596Z"
   },
   {
    "duration": 39,
    "start_time": "2023-10-13T12:55:13.815Z"
   },
   {
    "duration": 26,
    "start_time": "2023-10-13T12:55:13.856Z"
   },
   {
    "duration": 3,
    "start_time": "2023-10-13T12:55:13.883Z"
   },
   {
    "duration": 45,
    "start_time": "2023-10-13T12:55:13.887Z"
   },
   {
    "duration": 187,
    "start_time": "2023-10-13T12:55:13.933Z"
   },
   {
    "duration": 7,
    "start_time": "2023-10-13T12:55:14.122Z"
   },
   {
    "duration": 36,
    "start_time": "2023-10-13T12:55:14.130Z"
   },
   {
    "duration": 44,
    "start_time": "2023-10-13T12:55:14.169Z"
   },
   {
    "duration": 15,
    "start_time": "2023-10-13T12:55:14.215Z"
   },
   {
    "duration": 11,
    "start_time": "2023-10-13T12:55:14.232Z"
   },
   {
    "duration": 169,
    "start_time": "2023-10-13T12:55:14.244Z"
   },
   {
    "duration": 105,
    "start_time": "2023-10-13T12:55:14.414Z"
   },
   {
    "duration": 157,
    "start_time": "2023-10-13T12:55:14.520Z"
   },
   {
    "duration": 167,
    "start_time": "2023-10-13T12:55:14.678Z"
   },
   {
    "duration": 32,
    "start_time": "2023-10-13T12:55:14.846Z"
   },
   {
    "duration": 78,
    "start_time": "2023-10-13T12:55:14.879Z"
   },
   {
    "duration": 98,
    "start_time": "2023-10-13T12:55:14.958Z"
   },
   {
    "duration": 268,
    "start_time": "2023-10-13T12:55:15.057Z"
   },
   {
    "duration": 64,
    "start_time": "2023-10-13T12:55:15.327Z"
   },
   {
    "duration": 51,
    "start_time": "2023-10-13T12:55:15.392Z"
   },
   {
    "duration": 12,
    "start_time": "2023-10-13T12:55:15.445Z"
   },
   {
    "duration": 38,
    "start_time": "2023-10-13T12:55:15.458Z"
   },
   {
    "duration": 40,
    "start_time": "2023-10-13T12:55:15.498Z"
   },
   {
    "duration": 347,
    "start_time": "2023-10-13T12:55:15.540Z"
   },
   {
    "duration": 311,
    "start_time": "2023-10-13T12:55:15.888Z"
   },
   {
    "duration": 260,
    "start_time": "2023-10-13T12:55:16.203Z"
   },
   {
    "duration": 242,
    "start_time": "2023-10-13T12:55:16.465Z"
   },
   {
    "duration": 376,
    "start_time": "2023-10-13T12:55:16.708Z"
   },
   {
    "duration": 250,
    "start_time": "2023-10-13T12:55:17.085Z"
   },
   {
    "duration": 18,
    "start_time": "2023-10-13T12:55:17.339Z"
   },
   {
    "duration": 144,
    "start_time": "2023-10-13T12:55:17.358Z"
   },
   {
    "duration": 17,
    "start_time": "2023-10-13T12:55:17.503Z"
   },
   {
    "duration": 147,
    "start_time": "2023-10-13T12:55:17.521Z"
   },
   {
    "duration": 16,
    "start_time": "2023-10-13T12:55:17.669Z"
   },
   {
    "duration": 148,
    "start_time": "2023-10-13T12:55:17.686Z"
   },
   {
    "duration": 16,
    "start_time": "2023-10-13T12:55:17.839Z"
   },
   {
    "duration": 121,
    "start_time": "2023-10-13T12:55:17.856Z"
   },
   {
    "duration": 793,
    "start_time": "2023-10-13T12:55:17.978Z"
   },
   {
    "duration": 6,
    "start_time": "2023-10-13T12:55:18.773Z"
   },
   {
    "duration": 21,
    "start_time": "2023-10-13T12:55:18.780Z"
   },
   {
    "duration": 6,
    "start_time": "2023-10-13T12:55:18.803Z"
   },
   {
    "duration": 15,
    "start_time": "2023-10-13T12:55:18.811Z"
   },
   {
    "duration": 22,
    "start_time": "2023-10-13T12:55:18.827Z"
   },
   {
    "duration": 30,
    "start_time": "2023-10-13T12:55:18.850Z"
   },
   {
    "duration": 11,
    "start_time": "2023-10-13T12:55:18.881Z"
   },
   {
    "duration": 178,
    "start_time": "2023-10-13T12:55:18.893Z"
   },
   {
    "duration": 3606,
    "start_time": "2023-10-13T19:38:24.404Z"
   },
   {
    "duration": 1269,
    "start_time": "2023-10-13T19:38:28.013Z"
   },
   {
    "duration": 53,
    "start_time": "2023-10-13T19:38:29.283Z"
   },
   {
    "duration": 27,
    "start_time": "2023-10-13T19:38:29.338Z"
   },
   {
    "duration": 3,
    "start_time": "2023-10-13T19:38:29.367Z"
   },
   {
    "duration": 12,
    "start_time": "2023-10-13T19:38:29.371Z"
   },
   {
    "duration": 221,
    "start_time": "2023-10-13T19:38:29.384Z"
   },
   {
    "duration": 23,
    "start_time": "2023-10-13T19:38:29.607Z"
   },
   {
    "duration": 18,
    "start_time": "2023-10-13T19:38:29.632Z"
   },
   {
    "duration": 21,
    "start_time": "2023-10-13T19:38:29.654Z"
   },
   {
    "duration": 14,
    "start_time": "2023-10-13T19:38:29.676Z"
   },
   {
    "duration": 43,
    "start_time": "2023-10-13T19:38:29.691Z"
   },
   {
    "duration": 12,
    "start_time": "2023-10-13T19:38:29.735Z"
   },
   {
    "duration": 14,
    "start_time": "2023-10-13T19:38:29.749Z"
   },
   {
    "duration": 14,
    "start_time": "2023-10-13T19:38:29.764Z"
   },
   {
    "duration": 13,
    "start_time": "2023-10-13T19:38:29.779Z"
   },
   {
    "duration": 40,
    "start_time": "2023-10-13T19:38:29.793Z"
   },
   {
    "duration": 19,
    "start_time": "2023-10-13T19:38:29.835Z"
   },
   {
    "duration": 16,
    "start_time": "2023-10-13T19:38:29.855Z"
   },
   {
    "duration": 14,
    "start_time": "2023-10-13T19:38:29.872Z"
   },
   {
    "duration": 48,
    "start_time": "2023-10-13T19:38:29.887Z"
   },
   {
    "duration": 33,
    "start_time": "2023-10-13T19:38:29.937Z"
   },
   {
    "duration": 13,
    "start_time": "2023-10-13T19:38:29.971Z"
   },
   {
    "duration": 10,
    "start_time": "2023-10-13T19:38:29.985Z"
   },
   {
    "duration": 15,
    "start_time": "2023-10-13T19:38:30.013Z"
   },
   {
    "duration": 466,
    "start_time": "2023-10-13T19:38:30.031Z"
   },
   {
    "duration": 446,
    "start_time": "2023-10-13T19:38:30.499Z"
   },
   {
    "duration": 314,
    "start_time": "2023-10-13T19:38:30.948Z"
   },
   {
    "duration": 311,
    "start_time": "2023-10-13T19:38:31.264Z"
   },
   {
    "duration": 489,
    "start_time": "2023-10-13T19:38:31.577Z"
   },
   {
    "duration": 331,
    "start_time": "2023-10-13T19:38:32.067Z"
   },
   {
    "duration": 44,
    "start_time": "2023-10-13T19:38:32.399Z"
   },
   {
    "duration": 138,
    "start_time": "2023-10-13T19:38:32.446Z"
   },
   {
    "duration": 46,
    "start_time": "2023-10-13T19:38:32.586Z"
   },
   {
    "duration": 130,
    "start_time": "2023-10-13T19:38:32.634Z"
   },
   {
    "duration": 17,
    "start_time": "2023-10-13T19:38:32.766Z"
   },
   {
    "duration": 152,
    "start_time": "2023-10-13T19:38:32.785Z"
   },
   {
    "duration": 16,
    "start_time": "2023-10-13T19:38:32.939Z"
   },
   {
    "duration": 141,
    "start_time": "2023-10-13T19:38:32.957Z"
   },
   {
    "duration": 987,
    "start_time": "2023-10-13T19:38:33.099Z"
   },
   {
    "duration": 8,
    "start_time": "2023-10-13T19:38:34.087Z"
   },
   {
    "duration": 40,
    "start_time": "2023-10-13T19:38:34.096Z"
   },
   {
    "duration": 21,
    "start_time": "2023-10-13T19:38:34.138Z"
   },
   {
    "duration": 32,
    "start_time": "2023-10-13T19:38:34.160Z"
   },
   {
    "duration": 55,
    "start_time": "2023-10-13T19:38:34.193Z"
   },
   {
    "duration": 33,
    "start_time": "2023-10-13T19:38:34.250Z"
   },
   {
    "duration": 11,
    "start_time": "2023-10-13T19:38:34.285Z"
   },
   {
    "duration": 257,
    "start_time": "2023-10-13T19:38:34.298Z"
   },
   {
    "duration": 2769,
    "start_time": "2023-10-13T19:50:54.213Z"
   },
   {
    "duration": 1350,
    "start_time": "2023-10-13T19:50:56.984Z"
   },
   {
    "duration": 41,
    "start_time": "2023-10-13T19:50:58.336Z"
   },
   {
    "duration": 29,
    "start_time": "2023-10-13T19:50:58.379Z"
   },
   {
    "duration": 21,
    "start_time": "2023-10-13T19:50:58.411Z"
   },
   {
    "duration": 29,
    "start_time": "2023-10-13T19:50:58.434Z"
   },
   {
    "duration": 265,
    "start_time": "2023-10-13T19:50:58.465Z"
   },
   {
    "duration": 10,
    "start_time": "2023-10-13T19:50:58.731Z"
   },
   {
    "duration": 55,
    "start_time": "2023-10-13T19:50:58.743Z"
   },
   {
    "duration": 66,
    "start_time": "2023-10-13T19:50:58.802Z"
   },
   {
    "duration": 42,
    "start_time": "2023-10-13T19:50:58.869Z"
   },
   {
    "duration": 32,
    "start_time": "2023-10-13T19:50:58.914Z"
   },
   {
    "duration": 30,
    "start_time": "2023-10-13T19:50:58.947Z"
   },
   {
    "duration": 53,
    "start_time": "2023-10-13T19:50:58.979Z"
   },
   {
    "duration": 25,
    "start_time": "2023-10-13T19:50:59.034Z"
   },
   {
    "duration": 26,
    "start_time": "2023-10-13T19:50:59.061Z"
   },
   {
    "duration": 41,
    "start_time": "2023-10-13T19:50:59.089Z"
   },
   {
    "duration": 19,
    "start_time": "2023-10-13T19:50:59.131Z"
   },
   {
    "duration": 22,
    "start_time": "2023-10-13T19:50:59.152Z"
   },
   {
    "duration": 16,
    "start_time": "2023-10-13T19:50:59.175Z"
   },
   {
    "duration": 55,
    "start_time": "2023-10-13T19:50:59.193Z"
   },
   {
    "duration": 64,
    "start_time": "2023-10-13T19:50:59.250Z"
   },
   {
    "duration": 28,
    "start_time": "2023-10-13T19:50:59.316Z"
   },
   {
    "duration": 5,
    "start_time": "2023-10-13T19:50:59.350Z"
   },
   {
    "duration": 30,
    "start_time": "2023-10-13T19:50:59.357Z"
   },
   {
    "duration": 467,
    "start_time": "2023-10-13T19:50:59.388Z"
   },
   {
    "duration": 471,
    "start_time": "2023-10-13T19:50:59.857Z"
   },
   {
    "duration": 317,
    "start_time": "2023-10-13T19:51:00.339Z"
   },
   {
    "duration": 338,
    "start_time": "2023-10-13T19:51:00.658Z"
   },
   {
    "duration": 542,
    "start_time": "2023-10-13T19:51:00.998Z"
   },
   {
    "duration": 330,
    "start_time": "2023-10-13T19:51:01.542Z"
   },
   {
    "duration": 34,
    "start_time": "2023-10-13T19:51:01.874Z"
   },
   {
    "duration": 164,
    "start_time": "2023-10-13T19:51:01.910Z"
   },
   {
    "duration": 38,
    "start_time": "2023-10-13T19:51:02.076Z"
   },
   {
    "duration": 174,
    "start_time": "2023-10-13T19:51:02.116Z"
   },
   {
    "duration": 44,
    "start_time": "2023-10-13T19:51:02.292Z"
   },
   {
    "duration": 191,
    "start_time": "2023-10-13T19:51:02.339Z"
   },
   {
    "duration": 25,
    "start_time": "2023-10-13T19:51:02.535Z"
   },
   {
    "duration": 177,
    "start_time": "2023-10-13T19:51:02.562Z"
   },
   {
    "duration": 1057,
    "start_time": "2023-10-13T19:51:02.741Z"
   },
   {
    "duration": 13,
    "start_time": "2023-10-13T19:51:03.800Z"
   },
   {
    "duration": 22,
    "start_time": "2023-10-13T19:51:03.815Z"
   },
   {
    "duration": 8,
    "start_time": "2023-10-13T19:51:03.843Z"
   },
   {
    "duration": 17,
    "start_time": "2023-10-13T19:51:03.852Z"
   },
   {
    "duration": 47,
    "start_time": "2023-10-13T19:51:03.871Z"
   },
   {
    "duration": 22,
    "start_time": "2023-10-13T19:51:03.927Z"
   },
   {
    "duration": 10,
    "start_time": "2023-10-13T19:51:03.950Z"
   },
   {
    "duration": 289,
    "start_time": "2023-10-13T19:51:03.961Z"
   },
   {
    "duration": 61,
    "start_time": "2023-10-13T20:57:20.957Z"
   },
   {
    "duration": 3273,
    "start_time": "2023-10-15T08:02:49.420Z"
   },
   {
    "duration": 1479,
    "start_time": "2023-10-15T08:02:52.695Z"
   },
   {
    "duration": 349,
    "start_time": "2023-10-15T08:02:54.175Z"
   },
   {
    "duration": 27,
    "start_time": "2023-10-15T08:02:54.526Z"
   },
   {
    "duration": 4,
    "start_time": "2023-10-15T08:02:54.555Z"
   },
   {
    "duration": 18,
    "start_time": "2023-10-15T08:02:54.560Z"
   },
   {
    "duration": 227,
    "start_time": "2023-10-15T08:02:54.580Z"
   },
   {
    "duration": 10,
    "start_time": "2023-10-15T08:02:54.808Z"
   },
   {
    "duration": 35,
    "start_time": "2023-10-15T08:02:54.819Z"
   },
   {
    "duration": 16,
    "start_time": "2023-10-15T08:02:54.858Z"
   },
   {
    "duration": 28,
    "start_time": "2023-10-15T08:02:54.876Z"
   },
   {
    "duration": 16,
    "start_time": "2023-10-15T08:02:54.906Z"
   },
   {
    "duration": 16,
    "start_time": "2023-10-15T08:02:54.924Z"
   },
   {
    "duration": 35,
    "start_time": "2023-10-15T08:02:54.942Z"
   },
   {
    "duration": 15,
    "start_time": "2023-10-15T08:02:54.979Z"
   },
   {
    "duration": 32,
    "start_time": "2023-10-15T08:02:55.006Z"
   },
   {
    "duration": 42,
    "start_time": "2023-10-15T08:02:55.039Z"
   },
   {
    "duration": 20,
    "start_time": "2023-10-15T08:02:55.083Z"
   },
   {
    "duration": 13,
    "start_time": "2023-10-15T08:02:55.105Z"
   },
   {
    "duration": 17,
    "start_time": "2023-10-15T08:02:55.119Z"
   },
   {
    "duration": 42,
    "start_time": "2023-10-15T08:02:55.138Z"
   },
   {
    "duration": 45,
    "start_time": "2023-10-15T08:02:55.182Z"
   },
   {
    "duration": 14,
    "start_time": "2023-10-15T08:02:55.229Z"
   },
   {
    "duration": 9,
    "start_time": "2023-10-15T08:02:55.245Z"
   },
   {
    "duration": 19,
    "start_time": "2023-10-15T08:02:55.255Z"
   },
   {
    "duration": 394,
    "start_time": "2023-10-15T08:02:55.275Z"
   },
   {
    "duration": 413,
    "start_time": "2023-10-15T08:02:55.671Z"
   },
   {
    "duration": 253,
    "start_time": "2023-10-15T08:02:56.088Z"
   },
   {
    "duration": 281,
    "start_time": "2023-10-15T08:02:56.343Z"
   },
   {
    "duration": 475,
    "start_time": "2023-10-15T08:02:56.625Z"
   },
   {
    "duration": 297,
    "start_time": "2023-10-15T08:02:57.101Z"
   },
   {
    "duration": 26,
    "start_time": "2023-10-15T08:02:57.400Z"
   },
   {
    "duration": 131,
    "start_time": "2023-10-15T08:02:57.427Z"
   },
   {
    "duration": 20,
    "start_time": "2023-10-15T08:02:57.559Z"
   },
   {
    "duration": 142,
    "start_time": "2023-10-15T08:02:57.581Z"
   },
   {
    "duration": 18,
    "start_time": "2023-10-15T08:02:57.724Z"
   },
   {
    "duration": 144,
    "start_time": "2023-10-15T08:02:57.743Z"
   },
   {
    "duration": 29,
    "start_time": "2023-10-15T08:02:57.888Z"
   },
   {
    "duration": 132,
    "start_time": "2023-10-15T08:02:57.919Z"
   },
   {
    "duration": 880,
    "start_time": "2023-10-15T08:02:58.053Z"
   },
   {
    "duration": 7,
    "start_time": "2023-10-15T08:02:58.935Z"
   },
   {
    "duration": 31,
    "start_time": "2023-10-15T08:02:58.943Z"
   },
   {
    "duration": 44,
    "start_time": "2023-10-15T08:02:58.975Z"
   },
   {
    "duration": 25,
    "start_time": "2023-10-15T08:02:59.020Z"
   },
   {
    "duration": 12,
    "start_time": "2023-10-15T08:02:59.047Z"
   },
   {
    "duration": 44,
    "start_time": "2023-10-15T08:02:59.061Z"
   },
   {
    "duration": 20,
    "start_time": "2023-10-15T08:02:59.107Z"
   },
   {
    "duration": 246,
    "start_time": "2023-10-15T08:02:59.129Z"
   },
   {
    "duration": 108,
    "start_time": "2023-10-15T08:10:02.275Z"
   },
   {
    "duration": 16,
    "start_time": "2023-10-15T08:10:28.417Z"
   },
   {
    "duration": 9,
    "start_time": "2023-10-15T08:11:32.770Z"
   },
   {
    "duration": 7,
    "start_time": "2023-10-15T08:12:52.335Z"
   },
   {
    "duration": 20,
    "start_time": "2023-10-15T08:13:25.828Z"
   },
   {
    "duration": 28,
    "start_time": "2023-10-15T08:13:47.612Z"
   },
   {
    "duration": 18,
    "start_time": "2023-10-15T08:14:45.447Z"
   },
   {
    "duration": 25,
    "start_time": "2023-10-15T08:15:18.250Z"
   },
   {
    "duration": 16,
    "start_time": "2023-10-15T08:17:17.376Z"
   },
   {
    "duration": 18,
    "start_time": "2023-10-15T08:18:07.747Z"
   },
   {
    "duration": 14,
    "start_time": "2023-10-15T08:18:23.020Z"
   },
   {
    "duration": 2218,
    "start_time": "2023-10-15T08:18:58.165Z"
   },
   {
    "duration": 3,
    "start_time": "2023-10-15T08:19:00.386Z"
   },
   {
    "duration": 63,
    "start_time": "2023-10-15T08:19:00.391Z"
   },
   {
    "duration": 26,
    "start_time": "2023-10-15T08:19:00.456Z"
   },
   {
    "duration": 4,
    "start_time": "2023-10-15T08:19:00.484Z"
   },
   {
    "duration": 48,
    "start_time": "2023-10-15T08:19:00.489Z"
   },
   {
    "duration": 21,
    "start_time": "2023-10-15T08:19:00.539Z"
   },
   {
    "duration": 209,
    "start_time": "2023-10-15T08:19:00.561Z"
   },
   {
    "duration": 10,
    "start_time": "2023-10-15T08:19:00.772Z"
   },
   {
    "duration": 97,
    "start_time": "2023-10-15T08:19:00.784Z"
   },
   {
    "duration": 109,
    "start_time": "2023-10-15T08:19:00.882Z"
   },
   {
    "duration": 34,
    "start_time": "2023-10-15T08:19:00.993Z"
   },
   {
    "duration": 38,
    "start_time": "2023-10-15T08:19:01.029Z"
   },
   {
    "duration": 35,
    "start_time": "2023-10-15T08:19:01.071Z"
   },
   {
    "duration": 30,
    "start_time": "2023-10-15T08:19:01.108Z"
   },
   {
    "duration": 39,
    "start_time": "2023-10-15T08:19:01.140Z"
   },
   {
    "duration": 40,
    "start_time": "2023-10-15T08:19:01.181Z"
   },
   {
    "duration": 48,
    "start_time": "2023-10-15T08:19:01.223Z"
   },
   {
    "duration": 64,
    "start_time": "2023-10-15T08:19:01.273Z"
   },
   {
    "duration": 48,
    "start_time": "2023-10-15T08:19:01.339Z"
   },
   {
    "duration": 53,
    "start_time": "2023-10-15T08:19:01.389Z"
   },
   {
    "duration": 54,
    "start_time": "2023-10-15T08:19:01.444Z"
   },
   {
    "duration": 68,
    "start_time": "2023-10-15T08:19:01.500Z"
   },
   {
    "duration": 25,
    "start_time": "2023-10-15T08:19:01.570Z"
   },
   {
    "duration": 126,
    "start_time": "2023-10-15T08:19:01.597Z"
   },
   {
    "duration": 60,
    "start_time": "2023-10-15T08:19:01.724Z"
   },
   {
    "duration": 424,
    "start_time": "2023-10-15T08:19:01.786Z"
   },
   {
    "duration": 512,
    "start_time": "2023-10-15T08:19:02.212Z"
   },
   {
    "duration": 261,
    "start_time": "2023-10-15T08:19:02.725Z"
   },
   {
    "duration": 265,
    "start_time": "2023-10-15T08:19:02.987Z"
   },
   {
    "duration": 138,
    "start_time": "2023-10-15T08:19:03.254Z"
   },
   {
    "duration": 0,
    "start_time": "2023-10-15T08:19:03.394Z"
   },
   {
    "duration": 0,
    "start_time": "2023-10-15T08:19:03.396Z"
   },
   {
    "duration": 0,
    "start_time": "2023-10-15T08:19:03.397Z"
   },
   {
    "duration": 0,
    "start_time": "2023-10-15T08:19:03.407Z"
   },
   {
    "duration": 0,
    "start_time": "2023-10-15T08:19:03.407Z"
   },
   {
    "duration": 0,
    "start_time": "2023-10-15T08:19:03.409Z"
   },
   {
    "duration": 0,
    "start_time": "2023-10-15T08:19:03.409Z"
   },
   {
    "duration": 0,
    "start_time": "2023-10-15T08:19:03.411Z"
   },
   {
    "duration": 0,
    "start_time": "2023-10-15T08:19:03.412Z"
   },
   {
    "duration": 0,
    "start_time": "2023-10-15T08:19:03.413Z"
   },
   {
    "duration": 0,
    "start_time": "2023-10-15T08:19:03.414Z"
   },
   {
    "duration": 0,
    "start_time": "2023-10-15T08:19:03.415Z"
   },
   {
    "duration": 0,
    "start_time": "2023-10-15T08:19:03.417Z"
   },
   {
    "duration": 0,
    "start_time": "2023-10-15T08:19:03.418Z"
   },
   {
    "duration": 0,
    "start_time": "2023-10-15T08:19:03.419Z"
   },
   {
    "duration": 0,
    "start_time": "2023-10-15T08:19:03.420Z"
   },
   {
    "duration": 1,
    "start_time": "2023-10-15T08:19:03.421Z"
   },
   {
    "duration": 0,
    "start_time": "2023-10-15T08:19:03.423Z"
   },
   {
    "duration": 8,
    "start_time": "2023-10-15T08:19:18.543Z"
   },
   {
    "duration": 11,
    "start_time": "2023-10-15T08:19:56.211Z"
   },
   {
    "duration": 2325,
    "start_time": "2023-10-15T08:38:01.672Z"
   },
   {
    "duration": 3,
    "start_time": "2023-10-15T08:38:03.999Z"
   },
   {
    "duration": 53,
    "start_time": "2023-10-15T08:38:04.004Z"
   },
   {
    "duration": 26,
    "start_time": "2023-10-15T08:38:04.058Z"
   },
   {
    "duration": 4,
    "start_time": "2023-10-15T08:38:04.086Z"
   },
   {
    "duration": 9,
    "start_time": "2023-10-15T08:38:04.091Z"
   },
   {
    "duration": 24,
    "start_time": "2023-10-15T08:38:04.101Z"
   },
   {
    "duration": 20,
    "start_time": "2023-10-15T08:38:04.126Z"
   },
   {
    "duration": 192,
    "start_time": "2023-10-15T08:38:04.147Z"
   },
   {
    "duration": 9,
    "start_time": "2023-10-15T08:38:04.341Z"
   },
   {
    "duration": 38,
    "start_time": "2023-10-15T08:38:04.351Z"
   },
   {
    "duration": 22,
    "start_time": "2023-10-15T08:38:04.391Z"
   },
   {
    "duration": 15,
    "start_time": "2023-10-15T08:38:04.415Z"
   },
   {
    "duration": 13,
    "start_time": "2023-10-15T08:38:04.433Z"
   },
   {
    "duration": 18,
    "start_time": "2023-10-15T08:38:04.447Z"
   },
   {
    "duration": 0,
    "start_time": "2023-10-15T08:38:04.467Z"
   },
   {
    "duration": 0,
    "start_time": "2023-10-15T08:38:04.468Z"
   },
   {
    "duration": 0,
    "start_time": "2023-10-15T08:38:04.469Z"
   },
   {
    "duration": 0,
    "start_time": "2023-10-15T08:38:04.470Z"
   },
   {
    "duration": 0,
    "start_time": "2023-10-15T08:38:04.471Z"
   },
   {
    "duration": 0,
    "start_time": "2023-10-15T08:38:04.472Z"
   },
   {
    "duration": 0,
    "start_time": "2023-10-15T08:38:04.473Z"
   },
   {
    "duration": 0,
    "start_time": "2023-10-15T08:38:04.474Z"
   },
   {
    "duration": 0,
    "start_time": "2023-10-15T08:38:04.475Z"
   },
   {
    "duration": 0,
    "start_time": "2023-10-15T08:38:04.476Z"
   },
   {
    "duration": 0,
    "start_time": "2023-10-15T08:38:04.477Z"
   },
   {
    "duration": 0,
    "start_time": "2023-10-15T08:38:04.507Z"
   },
   {
    "duration": 0,
    "start_time": "2023-10-15T08:38:04.508Z"
   },
   {
    "duration": 0,
    "start_time": "2023-10-15T08:38:04.509Z"
   },
   {
    "duration": 0,
    "start_time": "2023-10-15T08:38:04.510Z"
   },
   {
    "duration": 0,
    "start_time": "2023-10-15T08:38:04.511Z"
   },
   {
    "duration": 0,
    "start_time": "2023-10-15T08:38:04.512Z"
   },
   {
    "duration": 0,
    "start_time": "2023-10-15T08:38:04.513Z"
   },
   {
    "duration": 0,
    "start_time": "2023-10-15T08:38:04.514Z"
   },
   {
    "duration": 0,
    "start_time": "2023-10-15T08:38:04.515Z"
   },
   {
    "duration": 0,
    "start_time": "2023-10-15T08:38:04.516Z"
   },
   {
    "duration": 0,
    "start_time": "2023-10-15T08:38:04.517Z"
   },
   {
    "duration": 0,
    "start_time": "2023-10-15T08:38:04.518Z"
   },
   {
    "duration": 0,
    "start_time": "2023-10-15T08:38:04.519Z"
   },
   {
    "duration": 0,
    "start_time": "2023-10-15T08:38:04.520Z"
   },
   {
    "duration": 0,
    "start_time": "2023-10-15T08:38:04.521Z"
   },
   {
    "duration": 0,
    "start_time": "2023-10-15T08:38:04.522Z"
   },
   {
    "duration": 0,
    "start_time": "2023-10-15T08:38:04.523Z"
   },
   {
    "duration": 0,
    "start_time": "2023-10-15T08:38:04.524Z"
   },
   {
    "duration": 0,
    "start_time": "2023-10-15T08:38:04.525Z"
   },
   {
    "duration": 0,
    "start_time": "2023-10-15T08:38:04.526Z"
   },
   {
    "duration": 0,
    "start_time": "2023-10-15T08:38:04.527Z"
   },
   {
    "duration": 0,
    "start_time": "2023-10-15T08:38:04.528Z"
   },
   {
    "duration": 0,
    "start_time": "2023-10-15T08:38:04.529Z"
   },
   {
    "duration": 0,
    "start_time": "2023-10-15T08:38:04.530Z"
   },
   {
    "duration": 334,
    "start_time": "2023-10-15T08:40:37.658Z"
   },
   {
    "duration": 318,
    "start_time": "2023-10-15T08:41:42.830Z"
   },
   {
    "duration": 2210,
    "start_time": "2023-10-15T08:43:25.070Z"
   },
   {
    "duration": 4,
    "start_time": "2023-10-15T08:43:27.282Z"
   },
   {
    "duration": 71,
    "start_time": "2023-10-15T08:43:27.288Z"
   },
   {
    "duration": 27,
    "start_time": "2023-10-15T08:43:27.361Z"
   },
   {
    "duration": 6,
    "start_time": "2023-10-15T08:43:27.390Z"
   },
   {
    "duration": 21,
    "start_time": "2023-10-15T08:43:27.398Z"
   },
   {
    "duration": 25,
    "start_time": "2023-10-15T08:43:27.420Z"
   },
   {
    "duration": 34,
    "start_time": "2023-10-15T08:43:27.447Z"
   },
   {
    "duration": 192,
    "start_time": "2023-10-15T08:43:27.482Z"
   },
   {
    "duration": 9,
    "start_time": "2023-10-15T08:43:27.676Z"
   },
   {
    "duration": 28,
    "start_time": "2023-10-15T08:43:27.687Z"
   },
   {
    "duration": 43,
    "start_time": "2023-10-15T08:43:27.717Z"
   },
   {
    "duration": 41,
    "start_time": "2023-10-15T08:43:27.761Z"
   },
   {
    "duration": 14,
    "start_time": "2023-10-15T08:43:27.805Z"
   },
   {
    "duration": 373,
    "start_time": "2023-10-15T08:43:27.820Z"
   },
   {
    "duration": 18,
    "start_time": "2023-10-15T08:43:28.195Z"
   },
   {
    "duration": 45,
    "start_time": "2023-10-15T08:43:28.214Z"
   },
   {
    "duration": 24,
    "start_time": "2023-10-15T08:43:28.261Z"
   },
   {
    "duration": 37,
    "start_time": "2023-10-15T08:43:28.287Z"
   },
   {
    "duration": 30,
    "start_time": "2023-10-15T08:43:28.326Z"
   },
   {
    "duration": 27,
    "start_time": "2023-10-15T08:43:28.357Z"
   },
   {
    "duration": 45,
    "start_time": "2023-10-15T08:43:28.385Z"
   },
   {
    "duration": 25,
    "start_time": "2023-10-15T08:43:28.431Z"
   },
   {
    "duration": 77,
    "start_time": "2023-10-15T08:43:28.458Z"
   },
   {
    "duration": 14,
    "start_time": "2023-10-15T08:43:28.537Z"
   },
   {
    "duration": 36,
    "start_time": "2023-10-15T08:43:28.552Z"
   },
   {
    "duration": 20,
    "start_time": "2023-10-15T08:43:28.589Z"
   },
   {
    "duration": 159,
    "start_time": "2023-10-15T08:43:28.610Z"
   },
   {
    "duration": 0,
    "start_time": "2023-10-15T08:43:28.772Z"
   },
   {
    "duration": 0,
    "start_time": "2023-10-15T08:43:28.773Z"
   },
   {
    "duration": 0,
    "start_time": "2023-10-15T08:43:28.774Z"
   },
   {
    "duration": 0,
    "start_time": "2023-10-15T08:43:28.775Z"
   },
   {
    "duration": 0,
    "start_time": "2023-10-15T08:43:28.777Z"
   },
   {
    "duration": 0,
    "start_time": "2023-10-15T08:43:28.778Z"
   },
   {
    "duration": 0,
    "start_time": "2023-10-15T08:43:28.779Z"
   },
   {
    "duration": 0,
    "start_time": "2023-10-15T08:43:28.780Z"
   },
   {
    "duration": 0,
    "start_time": "2023-10-15T08:43:28.782Z"
   },
   {
    "duration": 0,
    "start_time": "2023-10-15T08:43:28.783Z"
   },
   {
    "duration": 0,
    "start_time": "2023-10-15T08:43:28.784Z"
   },
   {
    "duration": 0,
    "start_time": "2023-10-15T08:43:28.807Z"
   },
   {
    "duration": 0,
    "start_time": "2023-10-15T08:43:28.808Z"
   },
   {
    "duration": 0,
    "start_time": "2023-10-15T08:43:28.809Z"
   },
   {
    "duration": 1,
    "start_time": "2023-10-15T08:43:28.810Z"
   },
   {
    "duration": 0,
    "start_time": "2023-10-15T08:43:28.811Z"
   },
   {
    "duration": 0,
    "start_time": "2023-10-15T08:43:28.813Z"
   },
   {
    "duration": 0,
    "start_time": "2023-10-15T08:43:28.814Z"
   },
   {
    "duration": 0,
    "start_time": "2023-10-15T08:43:28.815Z"
   },
   {
    "duration": 0,
    "start_time": "2023-10-15T08:43:28.816Z"
   },
   {
    "duration": 0,
    "start_time": "2023-10-15T08:43:28.817Z"
   },
   {
    "duration": 0,
    "start_time": "2023-10-15T08:43:28.818Z"
   },
   {
    "duration": 7,
    "start_time": "2023-10-15T08:50:44.872Z"
   },
   {
    "duration": 143,
    "start_time": "2023-10-15T08:50:54.796Z"
   },
   {
    "duration": 2160,
    "start_time": "2023-10-15T08:51:26.529Z"
   },
   {
    "duration": 1263,
    "start_time": "2023-10-15T08:51:28.692Z"
   },
   {
    "duration": 43,
    "start_time": "2023-10-15T08:51:29.956Z"
   },
   {
    "duration": 31,
    "start_time": "2023-10-15T08:51:30.001Z"
   },
   {
    "duration": 47,
    "start_time": "2023-10-15T08:51:30.034Z"
   },
   {
    "duration": 36,
    "start_time": "2023-10-15T08:51:30.082Z"
   },
   {
    "duration": 18,
    "start_time": "2023-10-15T08:51:30.120Z"
   },
   {
    "duration": 33,
    "start_time": "2023-10-15T08:51:30.139Z"
   },
   {
    "duration": 211,
    "start_time": "2023-10-15T08:51:30.173Z"
   },
   {
    "duration": 9,
    "start_time": "2023-10-15T08:51:30.386Z"
   },
   {
    "duration": 55,
    "start_time": "2023-10-15T08:51:30.407Z"
   },
   {
    "duration": 40,
    "start_time": "2023-10-15T08:51:30.464Z"
   },
   {
    "duration": 39,
    "start_time": "2023-10-15T08:51:30.506Z"
   },
   {
    "duration": 32,
    "start_time": "2023-10-15T08:51:30.548Z"
   },
   {
    "duration": 374,
    "start_time": "2023-10-15T08:51:30.582Z"
   },
   {
    "duration": 14,
    "start_time": "2023-10-15T08:51:30.957Z"
   },
   {
    "duration": 50,
    "start_time": "2023-10-15T08:51:30.972Z"
   },
   {
    "duration": 29,
    "start_time": "2023-10-15T08:51:31.024Z"
   },
   {
    "duration": 64,
    "start_time": "2023-10-15T08:51:31.055Z"
   },
   {
    "duration": 103,
    "start_time": "2023-10-15T08:51:31.121Z"
   },
   {
    "duration": 79,
    "start_time": "2023-10-15T08:51:31.226Z"
   },
   {
    "duration": 65,
    "start_time": "2023-10-15T08:51:31.307Z"
   },
   {
    "duration": 21,
    "start_time": "2023-10-15T08:51:31.373Z"
   },
   {
    "duration": 79,
    "start_time": "2023-10-15T08:51:31.395Z"
   },
   {
    "duration": 15,
    "start_time": "2023-10-15T08:51:31.476Z"
   },
   {
    "duration": 39,
    "start_time": "2023-10-15T08:51:31.493Z"
   },
   {
    "duration": 41,
    "start_time": "2023-10-15T08:51:31.534Z"
   },
   {
    "duration": 411,
    "start_time": "2023-10-15T08:51:31.579Z"
   },
   {
    "duration": 244,
    "start_time": "2023-10-15T08:51:31.992Z"
   },
   {
    "duration": 0,
    "start_time": "2023-10-15T08:51:32.238Z"
   },
   {
    "duration": 0,
    "start_time": "2023-10-15T08:51:32.239Z"
   },
   {
    "duration": 0,
    "start_time": "2023-10-15T08:51:32.240Z"
   },
   {
    "duration": 0,
    "start_time": "2023-10-15T08:51:32.242Z"
   },
   {
    "duration": 0,
    "start_time": "2023-10-15T08:51:32.243Z"
   },
   {
    "duration": 0,
    "start_time": "2023-10-15T08:51:32.245Z"
   },
   {
    "duration": 0,
    "start_time": "2023-10-15T08:51:32.246Z"
   },
   {
    "duration": 0,
    "start_time": "2023-10-15T08:51:32.247Z"
   },
   {
    "duration": 0,
    "start_time": "2023-10-15T08:51:32.248Z"
   },
   {
    "duration": 0,
    "start_time": "2023-10-15T08:51:32.250Z"
   },
   {
    "duration": 0,
    "start_time": "2023-10-15T08:51:32.251Z"
   },
   {
    "duration": 0,
    "start_time": "2023-10-15T08:51:32.252Z"
   },
   {
    "duration": 0,
    "start_time": "2023-10-15T08:51:32.253Z"
   },
   {
    "duration": 0,
    "start_time": "2023-10-15T08:51:32.254Z"
   },
   {
    "duration": 0,
    "start_time": "2023-10-15T08:51:32.256Z"
   },
   {
    "duration": 0,
    "start_time": "2023-10-15T08:51:32.257Z"
   },
   {
    "duration": 0,
    "start_time": "2023-10-15T08:51:32.258Z"
   },
   {
    "duration": 0,
    "start_time": "2023-10-15T08:51:32.260Z"
   },
   {
    "duration": 0,
    "start_time": "2023-10-15T08:51:32.261Z"
   },
   {
    "duration": 0,
    "start_time": "2023-10-15T08:51:32.262Z"
   },
   {
    "duration": 0,
    "start_time": "2023-10-15T08:51:32.307Z"
   },
   {
    "duration": 2358,
    "start_time": "2023-10-15T08:53:13.111Z"
   },
   {
    "duration": 3,
    "start_time": "2023-10-15T08:53:15.472Z"
   },
   {
    "duration": 58,
    "start_time": "2023-10-15T08:53:15.477Z"
   },
   {
    "duration": 25,
    "start_time": "2023-10-15T08:53:15.537Z"
   },
   {
    "duration": 4,
    "start_time": "2023-10-15T08:53:15.564Z"
   },
   {
    "duration": 26,
    "start_time": "2023-10-15T08:53:15.570Z"
   },
   {
    "duration": 11,
    "start_time": "2023-10-15T08:53:15.597Z"
   },
   {
    "duration": 21,
    "start_time": "2023-10-15T08:53:15.610Z"
   },
   {
    "duration": 200,
    "start_time": "2023-10-15T08:53:15.633Z"
   },
   {
    "duration": 9,
    "start_time": "2023-10-15T08:53:15.835Z"
   },
   {
    "duration": 16,
    "start_time": "2023-10-15T08:53:15.846Z"
   },
   {
    "duration": 19,
    "start_time": "2023-10-15T08:53:15.864Z"
   },
   {
    "duration": 36,
    "start_time": "2023-10-15T08:53:15.885Z"
   },
   {
    "duration": 13,
    "start_time": "2023-10-15T08:53:15.924Z"
   },
   {
    "duration": 460,
    "start_time": "2023-10-15T08:53:15.938Z"
   },
   {
    "duration": 19,
    "start_time": "2023-10-15T08:53:16.399Z"
   },
   {
    "duration": 40,
    "start_time": "2023-10-15T08:53:16.420Z"
   },
   {
    "duration": 24,
    "start_time": "2023-10-15T08:53:16.462Z"
   },
   {
    "duration": 14,
    "start_time": "2023-10-15T08:53:16.488Z"
   },
   {
    "duration": 17,
    "start_time": "2023-10-15T08:53:16.503Z"
   },
   {
    "duration": 15,
    "start_time": "2023-10-15T08:53:16.522Z"
   },
   {
    "duration": 26,
    "start_time": "2023-10-15T08:53:16.539Z"
   },
   {
    "duration": 9,
    "start_time": "2023-10-15T08:53:16.567Z"
   },
   {
    "duration": 47,
    "start_time": "2023-10-15T08:53:16.577Z"
   },
   {
    "duration": 13,
    "start_time": "2023-10-15T08:53:16.626Z"
   },
   {
    "duration": 8,
    "start_time": "2023-10-15T08:53:16.641Z"
   },
   {
    "duration": 38,
    "start_time": "2023-10-15T08:53:16.651Z"
   },
   {
    "duration": 475,
    "start_time": "2023-10-15T08:53:16.690Z"
   },
   {
    "duration": 391,
    "start_time": "2023-10-15T08:53:17.167Z"
   },
   {
    "duration": 257,
    "start_time": "2023-10-15T08:53:17.559Z"
   },
   {
    "duration": 270,
    "start_time": "2023-10-15T08:53:17.818Z"
   },
   {
    "duration": 129,
    "start_time": "2023-10-15T08:53:18.089Z"
   },
   {
    "duration": 0,
    "start_time": "2023-10-15T08:53:18.220Z"
   },
   {
    "duration": 0,
    "start_time": "2023-10-15T08:53:18.221Z"
   },
   {
    "duration": 0,
    "start_time": "2023-10-15T08:53:18.222Z"
   },
   {
    "duration": 0,
    "start_time": "2023-10-15T08:53:18.223Z"
   },
   {
    "duration": 0,
    "start_time": "2023-10-15T08:53:18.224Z"
   },
   {
    "duration": 0,
    "start_time": "2023-10-15T08:53:18.225Z"
   },
   {
    "duration": 0,
    "start_time": "2023-10-15T08:53:18.227Z"
   },
   {
    "duration": 0,
    "start_time": "2023-10-15T08:53:18.228Z"
   },
   {
    "duration": 0,
    "start_time": "2023-10-15T08:53:18.229Z"
   },
   {
    "duration": 0,
    "start_time": "2023-10-15T08:53:18.229Z"
   },
   {
    "duration": 0,
    "start_time": "2023-10-15T08:53:18.231Z"
   },
   {
    "duration": 0,
    "start_time": "2023-10-15T08:53:18.232Z"
   },
   {
    "duration": 0,
    "start_time": "2023-10-15T08:53:18.233Z"
   },
   {
    "duration": 0,
    "start_time": "2023-10-15T08:53:18.234Z"
   },
   {
    "duration": 0,
    "start_time": "2023-10-15T08:53:18.235Z"
   },
   {
    "duration": 0,
    "start_time": "2023-10-15T08:53:18.236Z"
   },
   {
    "duration": 0,
    "start_time": "2023-10-15T08:53:18.237Z"
   },
   {
    "duration": 0,
    "start_time": "2023-10-15T08:53:18.238Z"
   },
   {
    "duration": 129,
    "start_time": "2023-10-15T08:54:05.013Z"
   },
   {
    "duration": 2221,
    "start_time": "2023-10-15T08:54:08.876Z"
   },
   {
    "duration": 4,
    "start_time": "2023-10-15T08:54:11.099Z"
   },
   {
    "duration": 44,
    "start_time": "2023-10-15T08:54:11.104Z"
   },
   {
    "duration": 25,
    "start_time": "2023-10-15T08:54:11.150Z"
   },
   {
    "duration": 3,
    "start_time": "2023-10-15T08:54:11.177Z"
   },
   {
    "duration": 8,
    "start_time": "2023-10-15T08:54:11.182Z"
   },
   {
    "duration": 22,
    "start_time": "2023-10-15T08:54:11.192Z"
   },
   {
    "duration": 28,
    "start_time": "2023-10-15T08:54:11.216Z"
   },
   {
    "duration": 192,
    "start_time": "2023-10-15T08:54:11.245Z"
   },
   {
    "duration": 11,
    "start_time": "2023-10-15T08:54:11.438Z"
   },
   {
    "duration": 28,
    "start_time": "2023-10-15T08:54:11.451Z"
   },
   {
    "duration": 31,
    "start_time": "2023-10-15T08:54:11.481Z"
   },
   {
    "duration": 16,
    "start_time": "2023-10-15T08:54:11.514Z"
   },
   {
    "duration": 14,
    "start_time": "2023-10-15T08:54:11.533Z"
   },
   {
    "duration": 470,
    "start_time": "2023-10-15T08:54:11.549Z"
   },
   {
    "duration": 14,
    "start_time": "2023-10-15T08:54:12.020Z"
   },
   {
    "duration": 19,
    "start_time": "2023-10-15T08:54:12.036Z"
   },
   {
    "duration": 21,
    "start_time": "2023-10-15T08:54:12.056Z"
   },
   {
    "duration": 24,
    "start_time": "2023-10-15T08:54:12.079Z"
   },
   {
    "duration": 22,
    "start_time": "2023-10-15T08:54:12.106Z"
   },
   {
    "duration": 14,
    "start_time": "2023-10-15T08:54:12.129Z"
   },
   {
    "duration": 14,
    "start_time": "2023-10-15T08:54:12.144Z"
   },
   {
    "duration": 6,
    "start_time": "2023-10-15T08:54:12.159Z"
   },
   {
    "duration": 53,
    "start_time": "2023-10-15T08:54:12.166Z"
   },
   {
    "duration": 14,
    "start_time": "2023-10-15T08:54:12.220Z"
   },
   {
    "duration": 11,
    "start_time": "2023-10-15T08:54:12.236Z"
   },
   {
    "duration": 27,
    "start_time": "2023-10-15T08:54:12.249Z"
   },
   {
    "duration": 352,
    "start_time": "2023-10-15T08:54:12.277Z"
   },
   {
    "duration": 462,
    "start_time": "2023-10-15T08:54:12.630Z"
   },
   {
    "duration": 255,
    "start_time": "2023-10-15T08:54:13.094Z"
   },
   {
    "duration": 262,
    "start_time": "2023-10-15T08:54:13.351Z"
   },
   {
    "duration": 353,
    "start_time": "2023-10-15T08:54:13.614Z"
   },
   {
    "duration": 268,
    "start_time": "2023-10-15T08:54:13.969Z"
   },
   {
    "duration": 18,
    "start_time": "2023-10-15T08:54:14.238Z"
   },
   {
    "duration": 124,
    "start_time": "2023-10-15T08:54:14.257Z"
   },
   {
    "duration": 29,
    "start_time": "2023-10-15T08:54:14.382Z"
   },
   {
    "duration": 130,
    "start_time": "2023-10-15T08:54:14.413Z"
   },
   {
    "duration": 17,
    "start_time": "2023-10-15T08:54:14.544Z"
   },
   {
    "duration": 135,
    "start_time": "2023-10-15T08:54:14.563Z"
   },
   {
    "duration": 23,
    "start_time": "2023-10-15T08:54:14.699Z"
   },
   {
    "duration": 127,
    "start_time": "2023-10-15T08:54:14.725Z"
   },
   {
    "duration": 998,
    "start_time": "2023-10-15T08:54:14.854Z"
   },
   {
    "duration": 8,
    "start_time": "2023-10-15T08:54:15.854Z"
   },
   {
    "duration": 17,
    "start_time": "2023-10-15T08:54:15.864Z"
   },
   {
    "duration": 26,
    "start_time": "2023-10-15T08:54:15.882Z"
   },
   {
    "duration": 15,
    "start_time": "2023-10-15T08:54:15.909Z"
   },
   {
    "duration": 20,
    "start_time": "2023-10-15T08:54:15.926Z"
   },
   {
    "duration": 16,
    "start_time": "2023-10-15T08:54:15.947Z"
   },
   {
    "duration": 19,
    "start_time": "2023-10-15T08:54:15.964Z"
   },
   {
    "duration": 282,
    "start_time": "2023-10-15T08:54:15.984Z"
   },
   {
    "duration": 365,
    "start_time": "2023-10-15T09:06:13.726Z"
   },
   {
    "duration": 372,
    "start_time": "2023-10-15T09:06:45.178Z"
   },
   {
    "duration": 361,
    "start_time": "2023-10-15T09:06:53.587Z"
   },
   {
    "duration": 357,
    "start_time": "2023-10-15T09:07:04.661Z"
   },
   {
    "duration": 500,
    "start_time": "2023-10-15T09:07:16.342Z"
   },
   {
    "duration": 353,
    "start_time": "2023-10-15T09:07:34.662Z"
   },
   {
    "duration": 373,
    "start_time": "2023-10-15T09:07:57.222Z"
   },
   {
    "duration": 401,
    "start_time": "2023-10-15T09:08:13.479Z"
   },
   {
    "duration": 355,
    "start_time": "2023-10-15T09:08:29.594Z"
   },
   {
    "duration": 362,
    "start_time": "2023-10-15T09:08:57.505Z"
   },
   {
    "duration": 476,
    "start_time": "2023-10-15T09:09:18.116Z"
   },
   {
    "duration": 491,
    "start_time": "2023-10-15T09:10:00.566Z"
   },
   {
    "duration": 379,
    "start_time": "2023-10-15T09:10:16.399Z"
   },
   {
    "duration": 378,
    "start_time": "2023-10-15T09:10:42.786Z"
   },
   {
    "duration": 380,
    "start_time": "2023-10-15T09:12:20.954Z"
   },
   {
    "duration": 281,
    "start_time": "2023-10-15T09:13:01.506Z"
   },
   {
    "duration": 558,
    "start_time": "2023-10-15T09:18:15.490Z"
   },
   {
    "duration": 294,
    "start_time": "2023-10-15T09:18:34.579Z"
   },
   {
    "duration": 25,
    "start_time": "2023-10-15T09:23:46.608Z"
   },
   {
    "duration": 200,
    "start_time": "2023-10-15T09:24:16.391Z"
   },
   {
    "duration": 21,
    "start_time": "2023-10-15T09:25:26.507Z"
   },
   {
    "duration": 141,
    "start_time": "2023-10-15T09:25:32.710Z"
   },
   {
    "duration": 161,
    "start_time": "2023-10-15T09:25:52.039Z"
   },
   {
    "duration": 298,
    "start_time": "2023-10-15T09:27:16.025Z"
   },
   {
    "duration": 254,
    "start_time": "2023-10-15T09:27:20.609Z"
   },
   {
    "duration": 185,
    "start_time": "2023-10-15T09:27:29.511Z"
   },
   {
    "duration": 162,
    "start_time": "2023-10-15T09:27:48.897Z"
   },
   {
    "duration": 146,
    "start_time": "2023-10-15T09:27:59.953Z"
   },
   {
    "duration": 47,
    "start_time": "2023-10-15T11:58:06.439Z"
   },
   {
    "duration": 3324,
    "start_time": "2023-10-15T11:58:11.109Z"
   },
   {
    "duration": 1351,
    "start_time": "2023-10-15T11:58:14.436Z"
   },
   {
    "duration": 354,
    "start_time": "2023-10-15T11:58:15.789Z"
   },
   {
    "duration": 31,
    "start_time": "2023-10-15T11:58:16.145Z"
   },
   {
    "duration": 16,
    "start_time": "2023-10-15T11:58:16.178Z"
   },
   {
    "duration": 70,
    "start_time": "2023-10-15T11:58:16.195Z"
   },
   {
    "duration": 58,
    "start_time": "2023-10-15T11:58:16.267Z"
   },
   {
    "duration": 224,
    "start_time": "2023-10-15T11:58:16.327Z"
   },
   {
    "duration": 9,
    "start_time": "2023-10-15T11:58:16.553Z"
   },
   {
    "duration": 26,
    "start_time": "2023-10-15T11:58:16.564Z"
   },
   {
    "duration": 42,
    "start_time": "2023-10-15T11:58:16.592Z"
   },
   {
    "duration": 17,
    "start_time": "2023-10-15T11:58:16.636Z"
   },
   {
    "duration": 17,
    "start_time": "2023-10-15T11:58:16.655Z"
   },
   {
    "duration": 439,
    "start_time": "2023-10-15T11:58:16.676Z"
   },
   {
    "duration": 19,
    "start_time": "2023-10-15T11:58:17.118Z"
   },
   {
    "duration": 24,
    "start_time": "2023-10-15T11:58:17.139Z"
   },
   {
    "duration": 17,
    "start_time": "2023-10-15T11:58:17.164Z"
   },
   {
    "duration": 37,
    "start_time": "2023-10-15T11:58:17.183Z"
   },
   {
    "duration": 19,
    "start_time": "2023-10-15T11:58:17.222Z"
   },
   {
    "duration": 18,
    "start_time": "2023-10-15T11:58:17.242Z"
   },
   {
    "duration": 21,
    "start_time": "2023-10-15T11:58:17.261Z"
   },
   {
    "duration": 32,
    "start_time": "2023-10-15T11:58:17.284Z"
   },
   {
    "duration": 48,
    "start_time": "2023-10-15T11:58:17.319Z"
   },
   {
    "duration": 22,
    "start_time": "2023-10-15T11:58:17.369Z"
   },
   {
    "duration": 7,
    "start_time": "2023-10-15T11:58:17.408Z"
   },
   {
    "duration": 25,
    "start_time": "2023-10-15T11:58:17.417Z"
   },
   {
    "duration": 428,
    "start_time": "2023-10-15T11:58:17.444Z"
   },
   {
    "duration": 398,
    "start_time": "2023-10-15T11:58:17.873Z"
   },
   {
    "duration": 306,
    "start_time": "2023-10-15T11:58:18.272Z"
   },
   {
    "duration": 493,
    "start_time": "2023-10-15T11:58:18.579Z"
   },
   {
    "duration": 324,
    "start_time": "2023-10-15T11:58:19.074Z"
   },
   {
    "duration": 31,
    "start_time": "2023-10-15T11:58:19.400Z"
   },
   {
    "duration": 158,
    "start_time": "2023-10-15T11:58:19.433Z"
   },
   {
    "duration": 101,
    "start_time": "2023-10-15T11:58:19.593Z"
   },
   {
    "duration": 0,
    "start_time": "2023-10-15T11:58:19.696Z"
   },
   {
    "duration": 0,
    "start_time": "2023-10-15T11:58:19.697Z"
   },
   {
    "duration": 0,
    "start_time": "2023-10-15T11:58:19.698Z"
   },
   {
    "duration": 0,
    "start_time": "2023-10-15T11:58:19.699Z"
   },
   {
    "duration": 0,
    "start_time": "2023-10-15T11:58:19.700Z"
   },
   {
    "duration": 0,
    "start_time": "2023-10-15T11:58:19.701Z"
   },
   {
    "duration": 0,
    "start_time": "2023-10-15T11:58:19.702Z"
   },
   {
    "duration": 0,
    "start_time": "2023-10-15T11:58:19.704Z"
   },
   {
    "duration": 0,
    "start_time": "2023-10-15T11:58:19.705Z"
   },
   {
    "duration": 0,
    "start_time": "2023-10-15T11:58:19.706Z"
   },
   {
    "duration": 0,
    "start_time": "2023-10-15T11:58:19.707Z"
   },
   {
    "duration": 0,
    "start_time": "2023-10-15T11:58:19.708Z"
   },
   {
    "duration": 0,
    "start_time": "2023-10-15T11:58:19.710Z"
   },
   {
    "duration": 0,
    "start_time": "2023-10-15T11:58:19.711Z"
   },
   {
    "duration": 0,
    "start_time": "2023-10-15T11:58:19.714Z"
   },
   {
    "duration": 0,
    "start_time": "2023-10-15T11:58:19.715Z"
   },
   {
    "duration": 0,
    "start_time": "2023-10-15T11:58:19.716Z"
   },
   {
    "duration": 0,
    "start_time": "2023-10-15T11:58:19.717Z"
   },
   {
    "duration": 141,
    "start_time": "2023-10-15T11:59:34.056Z"
   },
   {
    "duration": 153,
    "start_time": "2023-10-15T12:01:03.227Z"
   },
   {
    "duration": 298,
    "start_time": "2023-10-15T12:01:52.031Z"
   },
   {
    "duration": 249,
    "start_time": "2023-10-15T12:02:27.959Z"
   },
   {
    "duration": 3,
    "start_time": "2023-10-15T12:04:18.198Z"
   },
   {
    "duration": 6,
    "start_time": "2023-10-15T12:04:21.886Z"
   },
   {
    "duration": 6,
    "start_time": "2023-10-15T12:04:39.497Z"
   },
   {
    "duration": 7,
    "start_time": "2023-10-15T12:04:44.538Z"
   },
   {
    "duration": 7,
    "start_time": "2023-10-15T12:05:00.628Z"
   },
   {
    "duration": 11,
    "start_time": "2023-10-15T12:05:05.972Z"
   },
   {
    "duration": 6,
    "start_time": "2023-10-15T12:06:02.731Z"
   },
   {
    "duration": 302,
    "start_time": "2023-10-15T12:06:20.077Z"
   },
   {
    "duration": 70,
    "start_time": "2023-10-15T12:06:35.897Z"
   },
   {
    "duration": 2689,
    "start_time": "2023-10-15T12:06:45.459Z"
   },
   {
    "duration": 3,
    "start_time": "2023-10-15T12:06:48.150Z"
   },
   {
    "duration": 80,
    "start_time": "2023-10-15T12:06:48.155Z"
   },
   {
    "duration": 26,
    "start_time": "2023-10-15T12:06:48.237Z"
   },
   {
    "duration": 10,
    "start_time": "2023-10-15T12:06:48.265Z"
   },
   {
    "duration": 36,
    "start_time": "2023-10-15T12:06:48.277Z"
   },
   {
    "duration": 30,
    "start_time": "2023-10-15T12:06:48.314Z"
   },
   {
    "duration": 188,
    "start_time": "2023-10-15T12:06:48.345Z"
   },
   {
    "duration": 9,
    "start_time": "2023-10-15T12:06:48.535Z"
   },
   {
    "duration": 43,
    "start_time": "2023-10-15T12:06:48.545Z"
   },
   {
    "duration": 53,
    "start_time": "2023-10-15T12:06:48.590Z"
   },
   {
    "duration": 32,
    "start_time": "2023-10-15T12:06:48.644Z"
   },
   {
    "duration": 29,
    "start_time": "2023-10-15T12:06:48.678Z"
   },
   {
    "duration": 396,
    "start_time": "2023-10-15T12:06:48.709Z"
   },
   {
    "duration": 16,
    "start_time": "2023-10-15T12:06:49.106Z"
   },
   {
    "duration": 33,
    "start_time": "2023-10-15T12:06:49.124Z"
   },
   {
    "duration": 32,
    "start_time": "2023-10-15T12:06:49.159Z"
   },
   {
    "duration": 14,
    "start_time": "2023-10-15T12:06:49.192Z"
   },
   {
    "duration": 61,
    "start_time": "2023-10-15T12:06:49.208Z"
   },
   {
    "duration": 37,
    "start_time": "2023-10-15T12:06:49.270Z"
   },
   {
    "duration": 38,
    "start_time": "2023-10-15T12:06:49.309Z"
   },
   {
    "duration": 20,
    "start_time": "2023-10-15T12:06:49.348Z"
   },
   {
    "duration": 175,
    "start_time": "2023-10-15T12:06:49.369Z"
   },
   {
    "duration": 13,
    "start_time": "2023-10-15T12:06:49.546Z"
   },
   {
    "duration": 31,
    "start_time": "2023-10-15T12:06:49.560Z"
   },
   {
    "duration": 23,
    "start_time": "2023-10-15T12:06:49.593Z"
   },
   {
    "duration": 391,
    "start_time": "2023-10-15T12:06:49.618Z"
   },
   {
    "duration": 388,
    "start_time": "2023-10-15T12:06:50.011Z"
   },
   {
    "duration": 276,
    "start_time": "2023-10-15T12:06:50.406Z"
   },
   {
    "duration": 391,
    "start_time": "2023-10-15T12:06:50.684Z"
   },
   {
    "duration": 297,
    "start_time": "2023-10-15T12:06:51.077Z"
   },
   {
    "duration": 17,
    "start_time": "2023-10-15T12:06:51.376Z"
   },
   {
    "duration": 263,
    "start_time": "2023-10-15T12:06:51.395Z"
   },
   {
    "duration": 139,
    "start_time": "2023-10-15T12:06:51.660Z"
   },
   {
    "duration": 0,
    "start_time": "2023-10-15T12:06:51.801Z"
   },
   {
    "duration": 0,
    "start_time": "2023-10-15T12:06:51.802Z"
   },
   {
    "duration": 0,
    "start_time": "2023-10-15T12:06:51.803Z"
   },
   {
    "duration": 0,
    "start_time": "2023-10-15T12:06:51.805Z"
   },
   {
    "duration": 0,
    "start_time": "2023-10-15T12:06:51.806Z"
   },
   {
    "duration": 0,
    "start_time": "2023-10-15T12:06:51.807Z"
   },
   {
    "duration": 0,
    "start_time": "2023-10-15T12:06:51.808Z"
   },
   {
    "duration": 0,
    "start_time": "2023-10-15T12:06:51.809Z"
   },
   {
    "duration": 0,
    "start_time": "2023-10-15T12:06:51.810Z"
   },
   {
    "duration": 0,
    "start_time": "2023-10-15T12:06:51.811Z"
   },
   {
    "duration": 0,
    "start_time": "2023-10-15T12:06:51.812Z"
   },
   {
    "duration": 0,
    "start_time": "2023-10-15T12:06:51.813Z"
   },
   {
    "duration": 0,
    "start_time": "2023-10-15T12:06:51.814Z"
   },
   {
    "duration": 0,
    "start_time": "2023-10-15T12:06:51.815Z"
   },
   {
    "duration": 0,
    "start_time": "2023-10-15T12:06:51.816Z"
   },
   {
    "duration": 0,
    "start_time": "2023-10-15T12:06:51.817Z"
   },
   {
    "duration": 0,
    "start_time": "2023-10-15T12:06:51.818Z"
   },
   {
    "duration": 21,
    "start_time": "2023-10-15T12:09:36.590Z"
   },
   {
    "duration": 134,
    "start_time": "2023-10-15T12:09:36.613Z"
   },
   {
    "duration": 21,
    "start_time": "2023-10-15T12:09:36.749Z"
   },
   {
    "duration": 240,
    "start_time": "2023-10-15T12:09:36.771Z"
   },
   {
    "duration": 20,
    "start_time": "2023-10-15T12:09:37.013Z"
   },
   {
    "duration": 145,
    "start_time": "2023-10-15T12:09:37.035Z"
   },
   {
    "duration": 26,
    "start_time": "2023-10-15T12:09:37.181Z"
   },
   {
    "duration": 148,
    "start_time": "2023-10-15T12:09:37.209Z"
   },
   {
    "duration": 920,
    "start_time": "2023-10-15T12:09:37.358Z"
   },
   {
    "duration": 7,
    "start_time": "2023-10-15T12:09:38.280Z"
   },
   {
    "duration": 26,
    "start_time": "2023-10-15T12:09:38.289Z"
   },
   {
    "duration": 9,
    "start_time": "2023-10-15T12:09:38.316Z"
   },
   {
    "duration": 17,
    "start_time": "2023-10-15T12:09:38.326Z"
   },
   {
    "duration": 15,
    "start_time": "2023-10-15T12:09:38.345Z"
   },
   {
    "duration": 13,
    "start_time": "2023-10-15T12:09:38.361Z"
   },
   {
    "duration": 9,
    "start_time": "2023-10-15T12:09:38.375Z"
   },
   {
    "duration": 235,
    "start_time": "2023-10-15T12:09:38.408Z"
   },
   {
    "duration": 21,
    "start_time": "2023-10-15T12:11:21.535Z"
   },
   {
    "duration": 132,
    "start_time": "2023-10-15T12:11:28.096Z"
   },
   {
    "duration": 246,
    "start_time": "2023-10-15T12:12:25.273Z"
   },
   {
    "duration": 245,
    "start_time": "2023-10-15T12:14:57.099Z"
   },
   {
    "duration": 222,
    "start_time": "2023-10-15T12:15:18.520Z"
   },
   {
    "duration": 87,
    "start_time": "2023-10-15T12:18:39.091Z"
   },
   {
    "duration": 84,
    "start_time": "2023-10-15T12:18:43.526Z"
   },
   {
    "duration": 257,
    "start_time": "2023-10-15T12:18:51.682Z"
   },
   {
    "duration": 247,
    "start_time": "2023-10-15T12:19:01.203Z"
   },
   {
    "duration": 312,
    "start_time": "2023-10-15T12:19:23.943Z"
   },
   {
    "duration": 135,
    "start_time": "2023-10-15T12:19:45.673Z"
   },
   {
    "duration": 246,
    "start_time": "2023-10-15T12:19:51.104Z"
   },
   {
    "duration": 262,
    "start_time": "2023-10-15T12:20:01.083Z"
   },
   {
    "duration": 267,
    "start_time": "2023-10-15T12:20:26.273Z"
   },
   {
    "duration": 274,
    "start_time": "2023-10-15T12:21:57.006Z"
   },
   {
    "duration": 214,
    "start_time": "2023-10-15T12:22:05.550Z"
   },
   {
    "duration": 270,
    "start_time": "2023-10-15T12:22:12.001Z"
   },
   {
    "duration": 218,
    "start_time": "2023-10-15T12:23:01.357Z"
   },
   {
    "duration": 248,
    "start_time": "2023-10-15T12:23:54.193Z"
   },
   {
    "duration": 235,
    "start_time": "2023-10-15T12:24:05.428Z"
   },
   {
    "duration": 231,
    "start_time": "2023-10-15T12:24:20.141Z"
   },
   {
    "duration": 368,
    "start_time": "2023-10-15T12:24:25.852Z"
   },
   {
    "duration": 23,
    "start_time": "2023-10-15T12:25:24.480Z"
   },
   {
    "duration": 120,
    "start_time": "2023-10-15T12:25:29.551Z"
   },
   {
    "duration": 127,
    "start_time": "2023-10-15T12:25:50.601Z"
   },
   {
    "duration": 269,
    "start_time": "2023-10-15T12:26:18.076Z"
   },
   {
    "duration": 20,
    "start_time": "2023-10-15T12:27:52.254Z"
   },
   {
    "duration": 211,
    "start_time": "2023-10-15T12:28:21.853Z"
   },
   {
    "duration": 125,
    "start_time": "2023-10-15T12:28:38.782Z"
   },
   {
    "duration": 20,
    "start_time": "2023-10-15T12:29:26.397Z"
   },
   {
    "duration": 214,
    "start_time": "2023-10-15T12:29:29.036Z"
   },
   {
    "duration": 247,
    "start_time": "2023-10-15T12:29:43.267Z"
   },
   {
    "duration": 20,
    "start_time": "2023-10-15T12:44:16.161Z"
   },
   {
    "duration": 14,
    "start_time": "2023-10-15T12:44:54.131Z"
   },
   {
    "duration": 14,
    "start_time": "2023-10-15T12:45:00.593Z"
   },
   {
    "duration": 16,
    "start_time": "2023-10-15T12:45:07.961Z"
   },
   {
    "duration": 13,
    "start_time": "2023-10-15T12:51:43.606Z"
   },
   {
    "duration": 15,
    "start_time": "2023-10-15T12:51:46.576Z"
   },
   {
    "duration": 447,
    "start_time": "2023-10-15T13:23:48.389Z"
   },
   {
    "duration": 6,
    "start_time": "2023-10-15T13:25:43.422Z"
   },
   {
    "duration": 38,
    "start_time": "2023-10-15T13:26:37.017Z"
   },
   {
    "duration": 11,
    "start_time": "2023-10-15T13:26:47.577Z"
   },
   {
    "duration": 17,
    "start_time": "2023-10-15T13:27:07.415Z"
   },
   {
    "duration": 15,
    "start_time": "2023-10-15T13:29:07.862Z"
   },
   {
    "duration": 2150,
    "start_time": "2023-10-15T13:29:31.816Z"
   },
   {
    "duration": 4,
    "start_time": "2023-10-15T13:29:33.968Z"
   },
   {
    "duration": 67,
    "start_time": "2023-10-15T13:29:33.973Z"
   },
   {
    "duration": 26,
    "start_time": "2023-10-15T13:29:34.042Z"
   },
   {
    "duration": 3,
    "start_time": "2023-10-15T13:29:34.071Z"
   },
   {
    "duration": 30,
    "start_time": "2023-10-15T13:29:34.076Z"
   },
   {
    "duration": 186,
    "start_time": "2023-10-15T13:29:34.108Z"
   },
   {
    "duration": 15,
    "start_time": "2023-10-15T13:29:34.296Z"
   },
   {
    "duration": 16,
    "start_time": "2023-10-15T13:29:34.312Z"
   },
   {
    "duration": 14,
    "start_time": "2023-10-15T13:29:34.330Z"
   },
   {
    "duration": 13,
    "start_time": "2023-10-15T13:29:34.346Z"
   },
   {
    "duration": 11,
    "start_time": "2023-10-15T13:29:34.361Z"
   },
   {
    "duration": 42,
    "start_time": "2023-10-15T13:29:34.374Z"
   },
   {
    "duration": 15,
    "start_time": "2023-10-15T13:29:34.419Z"
   },
   {
    "duration": 13,
    "start_time": "2023-10-15T13:29:34.435Z"
   },
   {
    "duration": 22,
    "start_time": "2023-10-15T13:29:34.450Z"
   },
   {
    "duration": 34,
    "start_time": "2023-10-15T13:29:34.473Z"
   },
   {
    "duration": 13,
    "start_time": "2023-10-15T13:29:34.508Z"
   },
   {
    "duration": 18,
    "start_time": "2023-10-15T13:29:34.523Z"
   },
   {
    "duration": 327,
    "start_time": "2023-10-15T13:29:34.543Z"
   },
   {
    "duration": 4,
    "start_time": "2023-10-15T13:29:34.872Z"
   },
   {
    "duration": 33,
    "start_time": "2023-10-15T13:29:34.878Z"
   },
   {
    "duration": 36,
    "start_time": "2023-10-15T13:29:34.912Z"
   },
   {
    "duration": 14,
    "start_time": "2023-10-15T13:29:34.950Z"
   },
   {
    "duration": 133,
    "start_time": "2023-10-15T13:29:34.966Z"
   },
   {
    "duration": 18,
    "start_time": "2023-10-15T13:29:35.106Z"
   },
   {
    "duration": 381,
    "start_time": "2023-10-15T13:29:35.126Z"
   },
   {
    "duration": 392,
    "start_time": "2023-10-15T13:29:35.509Z"
   },
   {
    "duration": 336,
    "start_time": "2023-10-15T13:29:35.904Z"
   },
   {
    "duration": 409,
    "start_time": "2023-10-15T13:29:36.242Z"
   },
   {
    "duration": 306,
    "start_time": "2023-10-15T13:29:36.652Z"
   },
   {
    "duration": 18,
    "start_time": "2023-10-15T13:29:36.960Z"
   },
   {
    "duration": 316,
    "start_time": "2023-10-15T13:29:36.980Z"
   },
   {
    "duration": 25,
    "start_time": "2023-10-15T13:29:37.307Z"
   },
   {
    "duration": 302,
    "start_time": "2023-10-15T13:29:37.334Z"
   },
   {
    "duration": 20,
    "start_time": "2023-10-15T13:29:37.637Z"
   },
   {
    "duration": 417,
    "start_time": "2023-10-15T13:29:37.659Z"
   },
   {
    "duration": 19,
    "start_time": "2023-10-15T13:29:38.077Z"
   },
   {
    "duration": 273,
    "start_time": "2023-10-15T13:29:38.097Z"
   },
   {
    "duration": 18,
    "start_time": "2023-10-15T13:29:38.372Z"
   },
   {
    "duration": 262,
    "start_time": "2023-10-15T13:29:38.408Z"
   },
   {
    "duration": 833,
    "start_time": "2023-10-15T13:29:38.671Z"
   },
   {
    "duration": 6,
    "start_time": "2023-10-15T13:29:39.505Z"
   },
   {
    "duration": 28,
    "start_time": "2023-10-15T13:29:39.513Z"
   },
   {
    "duration": 11,
    "start_time": "2023-10-15T13:29:39.542Z"
   },
   {
    "duration": 20,
    "start_time": "2023-10-15T13:29:39.554Z"
   },
   {
    "duration": 38,
    "start_time": "2023-10-15T13:29:39.576Z"
   },
   {
    "duration": 20,
    "start_time": "2023-10-15T13:29:39.616Z"
   },
   {
    "duration": 8,
    "start_time": "2023-10-15T13:29:39.637Z"
   },
   {
    "duration": 200,
    "start_time": "2023-10-15T13:29:39.647Z"
   },
   {
    "duration": 25,
    "start_time": "2023-10-15T13:46:28.467Z"
   },
   {
    "duration": 21,
    "start_time": "2023-10-15T13:47:16.098Z"
   },
   {
    "duration": 2160,
    "start_time": "2023-10-15T13:47:21.288Z"
   },
   {
    "duration": 4,
    "start_time": "2023-10-15T13:47:23.450Z"
   },
   {
    "duration": 56,
    "start_time": "2023-10-15T13:47:23.455Z"
   },
   {
    "duration": 29,
    "start_time": "2023-10-15T13:47:23.513Z"
   },
   {
    "duration": 4,
    "start_time": "2023-10-15T13:47:23.543Z"
   },
   {
    "duration": 8,
    "start_time": "2023-10-15T13:47:23.549Z"
   },
   {
    "duration": 211,
    "start_time": "2023-10-15T13:47:23.559Z"
   },
   {
    "duration": 8,
    "start_time": "2023-10-15T13:47:23.772Z"
   },
   {
    "duration": 31,
    "start_time": "2023-10-15T13:47:23.782Z"
   },
   {
    "duration": 17,
    "start_time": "2023-10-15T13:47:23.817Z"
   },
   {
    "duration": 31,
    "start_time": "2023-10-15T13:47:23.836Z"
   },
   {
    "duration": 16,
    "start_time": "2023-10-15T13:47:23.868Z"
   },
   {
    "duration": 13,
    "start_time": "2023-10-15T13:47:23.886Z"
   },
   {
    "duration": 21,
    "start_time": "2023-10-15T13:47:23.910Z"
   },
   {
    "duration": 63,
    "start_time": "2023-10-15T13:47:23.932Z"
   },
   {
    "duration": 14,
    "start_time": "2023-10-15T13:47:23.996Z"
   },
   {
    "duration": 50,
    "start_time": "2023-10-15T13:47:24.011Z"
   },
   {
    "duration": 33,
    "start_time": "2023-10-15T13:47:24.062Z"
   },
   {
    "duration": 35,
    "start_time": "2023-10-15T13:47:24.096Z"
   },
   {
    "duration": 318,
    "start_time": "2023-10-15T13:47:24.133Z"
   },
   {
    "duration": 4,
    "start_time": "2023-10-15T13:47:24.453Z"
   },
   {
    "duration": 24,
    "start_time": "2023-10-15T13:47:24.458Z"
   },
   {
    "duration": 48,
    "start_time": "2023-10-15T13:47:24.483Z"
   },
   {
    "duration": 14,
    "start_time": "2023-10-15T13:47:24.533Z"
   },
   {
    "duration": 42,
    "start_time": "2023-10-15T13:47:24.548Z"
   },
   {
    "duration": 36,
    "start_time": "2023-10-15T13:47:24.591Z"
   },
   {
    "duration": 404,
    "start_time": "2023-10-15T13:47:24.629Z"
   },
   {
    "duration": 390,
    "start_time": "2023-10-15T13:47:25.037Z"
   },
   {
    "duration": 285,
    "start_time": "2023-10-15T13:47:25.428Z"
   },
   {
    "duration": 550,
    "start_time": "2023-10-15T13:47:25.714Z"
   },
   {
    "duration": 293,
    "start_time": "2023-10-15T13:47:26.266Z"
   },
   {
    "duration": 20,
    "start_time": "2023-10-15T13:47:26.561Z"
   },
   {
    "duration": 281,
    "start_time": "2023-10-15T13:47:26.583Z"
   },
   {
    "duration": 21,
    "start_time": "2023-10-15T13:47:26.866Z"
   },
   {
    "duration": 264,
    "start_time": "2023-10-15T13:47:26.889Z"
   },
   {
    "duration": 20,
    "start_time": "2023-10-15T13:47:27.155Z"
   },
   {
    "duration": 303,
    "start_time": "2023-10-15T13:47:27.177Z"
   },
   {
    "duration": 37,
    "start_time": "2023-10-15T13:47:27.482Z"
   },
   {
    "duration": 239,
    "start_time": "2023-10-15T13:47:27.521Z"
   },
   {
    "duration": 19,
    "start_time": "2023-10-15T13:47:27.761Z"
   },
   {
    "duration": 272,
    "start_time": "2023-10-15T13:47:27.782Z"
   },
   {
    "duration": 855,
    "start_time": "2023-10-15T13:47:28.055Z"
   },
   {
    "duration": 7,
    "start_time": "2023-10-15T13:47:28.912Z"
   },
   {
    "duration": 26,
    "start_time": "2023-10-15T13:47:28.920Z"
   },
   {
    "duration": 14,
    "start_time": "2023-10-15T13:47:28.947Z"
   },
   {
    "duration": 32,
    "start_time": "2023-10-15T13:47:28.963Z"
   },
   {
    "duration": 18,
    "start_time": "2023-10-15T13:47:28.996Z"
   },
   {
    "duration": 17,
    "start_time": "2023-10-15T13:47:29.016Z"
   },
   {
    "duration": 19,
    "start_time": "2023-10-15T13:47:29.034Z"
   },
   {
    "duration": 297,
    "start_time": "2023-10-15T13:47:29.055Z"
   },
   {
    "duration": 2255,
    "start_time": "2023-10-15T13:52:06.053Z"
   },
   {
    "duration": 4,
    "start_time": "2023-10-15T13:52:08.310Z"
   },
   {
    "duration": 56,
    "start_time": "2023-10-15T13:52:08.315Z"
   },
   {
    "duration": 29,
    "start_time": "2023-10-15T13:52:08.373Z"
   },
   {
    "duration": 4,
    "start_time": "2023-10-15T13:52:08.403Z"
   },
   {
    "duration": 32,
    "start_time": "2023-10-15T13:52:08.409Z"
   },
   {
    "duration": 190,
    "start_time": "2023-10-15T13:52:08.443Z"
   },
   {
    "duration": 9,
    "start_time": "2023-10-15T13:52:08.635Z"
   },
   {
    "duration": 23,
    "start_time": "2023-10-15T13:52:08.645Z"
   },
   {
    "duration": 18,
    "start_time": "2023-10-15T13:52:08.672Z"
   },
   {
    "duration": 15,
    "start_time": "2023-10-15T13:52:08.706Z"
   },
   {
    "duration": 24,
    "start_time": "2023-10-15T13:52:08.723Z"
   },
   {
    "duration": 14,
    "start_time": "2023-10-15T13:52:08.750Z"
   },
   {
    "duration": 30,
    "start_time": "2023-10-15T13:52:08.766Z"
   },
   {
    "duration": 0,
    "start_time": "2023-10-15T13:52:08.909Z"
   },
   {
    "duration": 0,
    "start_time": "2023-10-15T13:52:08.910Z"
   },
   {
    "duration": 0,
    "start_time": "2023-10-15T13:52:08.912Z"
   },
   {
    "duration": 0,
    "start_time": "2023-10-15T13:52:08.913Z"
   },
   {
    "duration": 0,
    "start_time": "2023-10-15T13:52:08.915Z"
   },
   {
    "duration": 0,
    "start_time": "2023-10-15T13:52:08.916Z"
   },
   {
    "duration": 0,
    "start_time": "2023-10-15T13:52:08.917Z"
   },
   {
    "duration": 0,
    "start_time": "2023-10-15T13:52:08.918Z"
   },
   {
    "duration": 0,
    "start_time": "2023-10-15T13:52:08.920Z"
   },
   {
    "duration": 0,
    "start_time": "2023-10-15T13:52:08.921Z"
   },
   {
    "duration": 0,
    "start_time": "2023-10-15T13:52:08.922Z"
   },
   {
    "duration": 0,
    "start_time": "2023-10-15T13:52:08.924Z"
   },
   {
    "duration": 0,
    "start_time": "2023-10-15T13:52:08.926Z"
   },
   {
    "duration": 0,
    "start_time": "2023-10-15T13:52:08.927Z"
   },
   {
    "duration": 0,
    "start_time": "2023-10-15T13:52:08.929Z"
   },
   {
    "duration": 0,
    "start_time": "2023-10-15T13:52:08.930Z"
   },
   {
    "duration": 0,
    "start_time": "2023-10-15T13:52:08.932Z"
   },
   {
    "duration": 0,
    "start_time": "2023-10-15T13:52:08.934Z"
   },
   {
    "duration": 0,
    "start_time": "2023-10-15T13:52:08.936Z"
   },
   {
    "duration": 0,
    "start_time": "2023-10-15T13:52:08.937Z"
   },
   {
    "duration": 0,
    "start_time": "2023-10-15T13:52:08.939Z"
   },
   {
    "duration": 0,
    "start_time": "2023-10-15T13:52:08.940Z"
   },
   {
    "duration": 0,
    "start_time": "2023-10-15T13:52:08.941Z"
   },
   {
    "duration": 0,
    "start_time": "2023-10-15T13:52:08.942Z"
   },
   {
    "duration": 0,
    "start_time": "2023-10-15T13:52:08.944Z"
   },
   {
    "duration": 0,
    "start_time": "2023-10-15T13:52:08.945Z"
   },
   {
    "duration": 0,
    "start_time": "2023-10-15T13:52:08.947Z"
   },
   {
    "duration": 0,
    "start_time": "2023-10-15T13:52:08.948Z"
   },
   {
    "duration": 0,
    "start_time": "2023-10-15T13:52:09.006Z"
   },
   {
    "duration": 0,
    "start_time": "2023-10-15T13:52:09.008Z"
   },
   {
    "duration": 0,
    "start_time": "2023-10-15T13:52:09.010Z"
   },
   {
    "duration": 0,
    "start_time": "2023-10-15T13:52:09.011Z"
   },
   {
    "duration": 0,
    "start_time": "2023-10-15T13:52:09.013Z"
   },
   {
    "duration": 0,
    "start_time": "2023-10-15T13:52:09.014Z"
   },
   {
    "duration": 0,
    "start_time": "2023-10-15T13:52:09.016Z"
   },
   {
    "duration": 0,
    "start_time": "2023-10-15T13:52:09.017Z"
   },
   {
    "duration": 15,
    "start_time": "2023-10-15T13:53:05.490Z"
   },
   {
    "duration": 13,
    "start_time": "2023-10-15T13:53:05.506Z"
   },
   {
    "duration": 29,
    "start_time": "2023-10-15T13:53:05.520Z"
   },
   {
    "duration": 25,
    "start_time": "2023-10-15T13:53:05.551Z"
   },
   {
    "duration": 27,
    "start_time": "2023-10-15T13:53:05.577Z"
   },
   {
    "duration": 357,
    "start_time": "2023-10-15T13:53:05.606Z"
   },
   {
    "duration": 18,
    "start_time": "2023-10-15T13:53:05.965Z"
   },
   {
    "duration": 0,
    "start_time": "2023-10-15T13:53:05.986Z"
   },
   {
    "duration": 0,
    "start_time": "2023-10-15T13:53:05.987Z"
   },
   {
    "duration": 0,
    "start_time": "2023-10-15T13:53:05.988Z"
   },
   {
    "duration": 0,
    "start_time": "2023-10-15T13:53:06.007Z"
   },
   {
    "duration": 0,
    "start_time": "2023-10-15T13:53:06.009Z"
   },
   {
    "duration": 0,
    "start_time": "2023-10-15T13:53:06.010Z"
   },
   {
    "duration": 0,
    "start_time": "2023-10-15T13:53:06.011Z"
   },
   {
    "duration": 0,
    "start_time": "2023-10-15T13:53:06.012Z"
   },
   {
    "duration": 0,
    "start_time": "2023-10-15T13:53:06.014Z"
   },
   {
    "duration": 0,
    "start_time": "2023-10-15T13:53:06.015Z"
   },
   {
    "duration": 0,
    "start_time": "2023-10-15T13:53:06.016Z"
   },
   {
    "duration": 0,
    "start_time": "2023-10-15T13:53:06.018Z"
   },
   {
    "duration": 0,
    "start_time": "2023-10-15T13:53:06.020Z"
   },
   {
    "duration": 0,
    "start_time": "2023-10-15T13:53:06.021Z"
   },
   {
    "duration": 0,
    "start_time": "2023-10-15T13:53:06.022Z"
   },
   {
    "duration": 0,
    "start_time": "2023-10-15T13:53:06.024Z"
   },
   {
    "duration": 0,
    "start_time": "2023-10-15T13:53:06.026Z"
   },
   {
    "duration": 0,
    "start_time": "2023-10-15T13:53:06.027Z"
   },
   {
    "duration": 0,
    "start_time": "2023-10-15T13:53:06.029Z"
   },
   {
    "duration": 0,
    "start_time": "2023-10-15T13:53:06.030Z"
   },
   {
    "duration": 0,
    "start_time": "2023-10-15T13:53:06.032Z"
   },
   {
    "duration": 0,
    "start_time": "2023-10-15T13:53:06.033Z"
   },
   {
    "duration": 0,
    "start_time": "2023-10-15T13:53:06.035Z"
   },
   {
    "duration": 0,
    "start_time": "2023-10-15T13:53:06.037Z"
   },
   {
    "duration": 0,
    "start_time": "2023-10-15T13:53:06.038Z"
   },
   {
    "duration": 0,
    "start_time": "2023-10-15T13:53:06.039Z"
   },
   {
    "duration": 0,
    "start_time": "2023-10-15T13:53:06.041Z"
   },
   {
    "duration": 0,
    "start_time": "2023-10-15T13:53:06.042Z"
   },
   {
    "duration": 0,
    "start_time": "2023-10-15T13:53:06.043Z"
   },
   {
    "duration": 17,
    "start_time": "2023-10-15T13:53:20.461Z"
   },
   {
    "duration": 18,
    "start_time": "2023-10-15T14:03:25.008Z"
   },
   {
    "duration": 2249,
    "start_time": "2023-10-15T14:07:56.687Z"
   },
   {
    "duration": 3,
    "start_time": "2023-10-15T14:07:58.938Z"
   },
   {
    "duration": 62,
    "start_time": "2023-10-15T14:07:58.943Z"
   },
   {
    "duration": 27,
    "start_time": "2023-10-15T14:07:59.006Z"
   },
   {
    "duration": 4,
    "start_time": "2023-10-15T14:07:59.035Z"
   },
   {
    "duration": 37,
    "start_time": "2023-10-15T14:07:59.040Z"
   },
   {
    "duration": 188,
    "start_time": "2023-10-15T14:07:59.078Z"
   },
   {
    "duration": 8,
    "start_time": "2023-10-15T14:07:59.268Z"
   },
   {
    "duration": 33,
    "start_time": "2023-10-15T14:07:59.277Z"
   },
   {
    "duration": 21,
    "start_time": "2023-10-15T14:07:59.311Z"
   },
   {
    "duration": 15,
    "start_time": "2023-10-15T14:07:59.334Z"
   },
   {
    "duration": 13,
    "start_time": "2023-10-15T14:07:59.350Z"
   },
   {
    "duration": 23,
    "start_time": "2023-10-15T14:07:59.365Z"
   },
   {
    "duration": 24,
    "start_time": "2023-10-15T14:07:59.391Z"
   },
   {
    "duration": 14,
    "start_time": "2023-10-15T14:07:59.417Z"
   },
   {
    "duration": 27,
    "start_time": "2023-10-15T14:07:59.432Z"
   },
   {
    "duration": 27,
    "start_time": "2023-10-15T14:07:59.461Z"
   },
   {
    "duration": 18,
    "start_time": "2023-10-15T14:07:59.490Z"
   },
   {
    "duration": 338,
    "start_time": "2023-10-15T14:07:59.510Z"
   },
   {
    "duration": 5,
    "start_time": "2023-10-15T14:07:59.850Z"
   },
   {
    "duration": 35,
    "start_time": "2023-10-15T14:07:59.856Z"
   },
   {
    "duration": 45,
    "start_time": "2023-10-15T14:07:59.893Z"
   },
   {
    "duration": 16,
    "start_time": "2023-10-15T14:07:59.940Z"
   },
   {
    "duration": 21,
    "start_time": "2023-10-15T14:07:59.958Z"
   },
   {
    "duration": 15,
    "start_time": "2023-10-15T14:07:59.980Z"
   },
   {
    "duration": 422,
    "start_time": "2023-10-15T14:07:59.996Z"
   },
   {
    "duration": 374,
    "start_time": "2023-10-15T14:08:00.420Z"
   },
   {
    "duration": 293,
    "start_time": "2023-10-15T14:08:00.796Z"
   },
   {
    "duration": 412,
    "start_time": "2023-10-15T14:08:01.091Z"
   },
   {
    "duration": 303,
    "start_time": "2023-10-15T14:08:01.506Z"
   },
   {
    "duration": 19,
    "start_time": "2023-10-15T14:08:01.811Z"
   },
   {
    "duration": 442,
    "start_time": "2023-10-15T14:08:01.832Z"
   },
   {
    "duration": 31,
    "start_time": "2023-10-15T14:08:02.276Z"
   },
   {
    "duration": 248,
    "start_time": "2023-10-15T14:08:02.309Z"
   },
   {
    "duration": 20,
    "start_time": "2023-10-15T14:08:02.559Z"
   },
   {
    "duration": 305,
    "start_time": "2023-10-15T14:08:02.580Z"
   },
   {
    "duration": 28,
    "start_time": "2023-10-15T14:08:02.886Z"
   },
   {
    "duration": 263,
    "start_time": "2023-10-15T14:08:02.916Z"
   },
   {
    "duration": 28,
    "start_time": "2023-10-15T14:08:03.181Z"
   },
   {
    "duration": 246,
    "start_time": "2023-10-15T14:08:03.211Z"
   },
   {
    "duration": 821,
    "start_time": "2023-10-15T14:08:03.461Z"
   },
   {
    "duration": 7,
    "start_time": "2023-10-15T14:08:04.283Z"
   },
   {
    "duration": 25,
    "start_time": "2023-10-15T14:08:04.292Z"
   },
   {
    "duration": 28,
    "start_time": "2023-10-15T14:08:04.319Z"
   },
   {
    "duration": 34,
    "start_time": "2023-10-15T14:08:04.348Z"
   },
   {
    "duration": 27,
    "start_time": "2023-10-15T14:08:04.384Z"
   },
   {
    "duration": 21,
    "start_time": "2023-10-15T14:08:04.413Z"
   },
   {
    "duration": 15,
    "start_time": "2023-10-15T14:08:04.436Z"
   },
   {
    "duration": 267,
    "start_time": "2023-10-15T14:08:04.453Z"
   },
   {
    "duration": 5,
    "start_time": "2023-10-15T14:15:35.357Z"
   },
   {
    "duration": 162,
    "start_time": "2023-10-15T14:16:16.968Z"
   },
   {
    "duration": 2170,
    "start_time": "2023-10-15T14:16:23.085Z"
   },
   {
    "duration": 3,
    "start_time": "2023-10-15T14:16:25.257Z"
   },
   {
    "duration": 67,
    "start_time": "2023-10-15T14:16:25.262Z"
   },
   {
    "duration": 29,
    "start_time": "2023-10-15T14:16:25.331Z"
   },
   {
    "duration": 18,
    "start_time": "2023-10-15T14:16:25.362Z"
   },
   {
    "duration": 32,
    "start_time": "2023-10-15T14:16:25.382Z"
   },
   {
    "duration": 182,
    "start_time": "2023-10-15T14:16:25.416Z"
   },
   {
    "duration": 12,
    "start_time": "2023-10-15T14:16:25.606Z"
   },
   {
    "duration": 39,
    "start_time": "2023-10-15T14:16:25.619Z"
   },
   {
    "duration": 33,
    "start_time": "2023-10-15T14:16:25.659Z"
   },
   {
    "duration": 23,
    "start_time": "2023-10-15T14:16:25.694Z"
   },
   {
    "duration": 29,
    "start_time": "2023-10-15T14:16:25.719Z"
   },
   {
    "duration": 33,
    "start_time": "2023-10-15T14:16:25.750Z"
   },
   {
    "duration": 24,
    "start_time": "2023-10-15T14:16:25.786Z"
   },
   {
    "duration": 16,
    "start_time": "2023-10-15T14:16:25.812Z"
   },
   {
    "duration": 17,
    "start_time": "2023-10-15T14:16:25.830Z"
   },
   {
    "duration": 34,
    "start_time": "2023-10-15T14:16:25.849Z"
   },
   {
    "duration": 19,
    "start_time": "2023-10-15T14:16:25.885Z"
   },
   {
    "duration": 374,
    "start_time": "2023-10-15T14:16:25.906Z"
   },
   {
    "duration": 6,
    "start_time": "2023-10-15T14:16:26.282Z"
   },
   {
    "duration": 221,
    "start_time": "2023-10-15T14:16:26.289Z"
   },
   {
    "duration": 4,
    "start_time": "2023-10-15T14:16:26.512Z"
   },
   {
    "duration": 47,
    "start_time": "2023-10-15T14:16:26.517Z"
   },
   {
    "duration": 35,
    "start_time": "2023-10-15T14:16:26.566Z"
   },
   {
    "duration": 13,
    "start_time": "2023-10-15T14:16:26.602Z"
   },
   {
    "duration": 26,
    "start_time": "2023-10-15T14:16:26.617Z"
   },
   {
    "duration": 15,
    "start_time": "2023-10-15T14:16:26.645Z"
   },
   {
    "duration": 503,
    "start_time": "2023-10-15T14:16:26.661Z"
   },
   {
    "duration": 392,
    "start_time": "2023-10-15T14:16:27.166Z"
   },
   {
    "duration": 279,
    "start_time": "2023-10-15T14:16:27.561Z"
   },
   {
    "duration": 362,
    "start_time": "2023-10-15T14:16:27.842Z"
   },
   {
    "duration": 286,
    "start_time": "2023-10-15T14:16:28.207Z"
   },
   {
    "duration": 24,
    "start_time": "2023-10-15T14:16:28.495Z"
   },
   {
    "duration": 273,
    "start_time": "2023-10-15T14:16:28.521Z"
   },
   {
    "duration": 29,
    "start_time": "2023-10-15T14:16:28.796Z"
   },
   {
    "duration": 238,
    "start_time": "2023-10-15T14:16:28.827Z"
   },
   {
    "duration": 20,
    "start_time": "2023-10-15T14:16:29.067Z"
   },
   {
    "duration": 277,
    "start_time": "2023-10-15T14:16:29.088Z"
   },
   {
    "duration": 20,
    "start_time": "2023-10-15T14:16:29.367Z"
   },
   {
    "duration": 454,
    "start_time": "2023-10-15T14:16:29.388Z"
   },
   {
    "duration": 20,
    "start_time": "2023-10-15T14:16:29.846Z"
   },
   {
    "duration": 287,
    "start_time": "2023-10-15T14:16:29.868Z"
   },
   {
    "duration": 924,
    "start_time": "2023-10-15T14:16:30.157Z"
   },
   {
    "duration": 10,
    "start_time": "2023-10-15T14:16:31.083Z"
   },
   {
    "duration": 50,
    "start_time": "2023-10-15T14:16:31.095Z"
   },
   {
    "duration": 24,
    "start_time": "2023-10-15T14:16:31.146Z"
   },
   {
    "duration": 60,
    "start_time": "2023-10-15T14:16:31.172Z"
   },
   {
    "duration": 48,
    "start_time": "2023-10-15T14:16:31.234Z"
   },
   {
    "duration": 46,
    "start_time": "2023-10-15T14:16:31.285Z"
   },
   {
    "duration": 42,
    "start_time": "2023-10-15T14:16:31.334Z"
   },
   {
    "duration": 260,
    "start_time": "2023-10-15T14:16:31.378Z"
   },
   {
    "duration": 14,
    "start_time": "2023-10-15T14:17:11.245Z"
   },
   {
    "duration": 0,
    "start_time": "2023-10-15T14:17:11.261Z"
   },
   {
    "duration": 0,
    "start_time": "2023-10-15T14:17:11.262Z"
   },
   {
    "duration": 0,
    "start_time": "2023-10-15T14:17:11.263Z"
   },
   {
    "duration": 0,
    "start_time": "2023-10-15T14:17:11.264Z"
   },
   {
    "duration": 0,
    "start_time": "2023-10-15T14:17:11.265Z"
   },
   {
    "duration": 0,
    "start_time": "2023-10-15T14:17:11.265Z"
   },
   {
    "duration": 0,
    "start_time": "2023-10-15T14:17:11.267Z"
   },
   {
    "duration": 0,
    "start_time": "2023-10-15T14:17:11.268Z"
   },
   {
    "duration": 58,
    "start_time": "2023-10-15T14:17:11.270Z"
   },
   {
    "duration": 441,
    "start_time": "2023-10-15T14:17:11.330Z"
   },
   {
    "duration": 367,
    "start_time": "2023-10-15T14:17:11.773Z"
   },
   {
    "duration": 261,
    "start_time": "2023-10-15T14:17:12.142Z"
   },
   {
    "duration": 367,
    "start_time": "2023-10-15T14:17:12.404Z"
   },
   {
    "duration": 290,
    "start_time": "2023-10-15T14:17:12.772Z"
   },
   {
    "duration": 18,
    "start_time": "2023-10-15T14:17:13.065Z"
   },
   {
    "duration": 402,
    "start_time": "2023-10-15T14:17:13.084Z"
   },
   {
    "duration": 31,
    "start_time": "2023-10-15T14:17:13.488Z"
   },
   {
    "duration": 233,
    "start_time": "2023-10-15T14:17:13.521Z"
   },
   {
    "duration": 20,
    "start_time": "2023-10-15T14:17:13.756Z"
   },
   {
    "duration": 277,
    "start_time": "2023-10-15T14:17:13.777Z"
   },
   {
    "duration": 19,
    "start_time": "2023-10-15T14:17:14.056Z"
   },
   {
    "duration": 271,
    "start_time": "2023-10-15T14:17:14.076Z"
   },
   {
    "duration": 17,
    "start_time": "2023-10-15T14:17:14.349Z"
   },
   {
    "duration": 277,
    "start_time": "2023-10-15T14:17:14.368Z"
   },
   {
    "duration": 877,
    "start_time": "2023-10-15T14:17:14.646Z"
   },
   {
    "duration": 8,
    "start_time": "2023-10-15T14:17:15.524Z"
   },
   {
    "duration": 23,
    "start_time": "2023-10-15T14:17:15.533Z"
   },
   {
    "duration": 14,
    "start_time": "2023-10-15T14:17:15.557Z"
   },
   {
    "duration": 41,
    "start_time": "2023-10-15T14:17:15.572Z"
   },
   {
    "duration": 14,
    "start_time": "2023-10-15T14:17:15.614Z"
   },
   {
    "duration": 35,
    "start_time": "2023-10-15T14:17:15.630Z"
   },
   {
    "duration": 21,
    "start_time": "2023-10-15T14:17:15.667Z"
   },
   {
    "duration": 262,
    "start_time": "2023-10-15T14:17:15.690Z"
   },
   {
    "duration": 2219,
    "start_time": "2023-10-15T14:17:34.765Z"
   },
   {
    "duration": 4,
    "start_time": "2023-10-15T14:17:36.986Z"
   },
   {
    "duration": 46,
    "start_time": "2023-10-15T14:17:36.992Z"
   },
   {
    "duration": 28,
    "start_time": "2023-10-15T14:17:37.040Z"
   },
   {
    "duration": 4,
    "start_time": "2023-10-15T14:17:37.070Z"
   },
   {
    "duration": 16,
    "start_time": "2023-10-15T14:17:37.076Z"
   },
   {
    "duration": 215,
    "start_time": "2023-10-15T14:17:37.094Z"
   },
   {
    "duration": 9,
    "start_time": "2023-10-15T14:17:37.312Z"
   },
   {
    "duration": 24,
    "start_time": "2023-10-15T14:17:37.322Z"
   },
   {
    "duration": 27,
    "start_time": "2023-10-15T14:17:37.348Z"
   },
   {
    "duration": 25,
    "start_time": "2023-10-15T14:17:37.377Z"
   },
   {
    "duration": 19,
    "start_time": "2023-10-15T14:17:37.404Z"
   },
   {
    "duration": 14,
    "start_time": "2023-10-15T14:17:37.425Z"
   },
   {
    "duration": 35,
    "start_time": "2023-10-15T14:17:37.441Z"
   },
   {
    "duration": 15,
    "start_time": "2023-10-15T14:17:37.478Z"
   },
   {
    "duration": 22,
    "start_time": "2023-10-15T14:17:37.495Z"
   },
   {
    "duration": 37,
    "start_time": "2023-10-15T14:17:37.519Z"
   },
   {
    "duration": 15,
    "start_time": "2023-10-15T14:17:37.558Z"
   },
   {
    "duration": 359,
    "start_time": "2023-10-15T14:17:37.575Z"
   },
   {
    "duration": 186,
    "start_time": "2023-10-15T14:17:37.936Z"
   },
   {
    "duration": 6,
    "start_time": "2023-10-15T14:17:38.124Z"
   },
   {
    "duration": 184,
    "start_time": "2023-10-15T14:17:38.131Z"
   },
   {
    "duration": 4,
    "start_time": "2023-10-15T14:17:38.318Z"
   },
   {
    "duration": 34,
    "start_time": "2023-10-15T14:17:38.324Z"
   },
   {
    "duration": 36,
    "start_time": "2023-10-15T14:17:38.360Z"
   },
   {
    "duration": 22,
    "start_time": "2023-10-15T14:17:38.397Z"
   },
   {
    "duration": 24,
    "start_time": "2023-10-15T14:17:38.420Z"
   },
   {
    "duration": 28,
    "start_time": "2023-10-15T14:17:38.449Z"
   },
   {
    "duration": 490,
    "start_time": "2023-10-15T14:17:38.479Z"
   },
   {
    "duration": 372,
    "start_time": "2023-10-15T14:17:38.971Z"
   },
   {
    "duration": 285,
    "start_time": "2023-10-15T14:17:39.344Z"
   },
   {
    "duration": 367,
    "start_time": "2023-10-15T14:17:39.631Z"
   },
   {
    "duration": 314,
    "start_time": "2023-10-15T14:17:40.000Z"
   },
   {
    "duration": 18,
    "start_time": "2023-10-15T14:17:40.316Z"
   },
   {
    "duration": 249,
    "start_time": "2023-10-15T14:17:40.335Z"
   },
   {
    "duration": 29,
    "start_time": "2023-10-15T14:17:40.586Z"
   },
   {
    "duration": 233,
    "start_time": "2023-10-15T14:17:40.616Z"
   },
   {
    "duration": 19,
    "start_time": "2023-10-15T14:17:40.851Z"
   },
   {
    "duration": 295,
    "start_time": "2023-10-15T14:17:40.872Z"
   },
   {
    "duration": 18,
    "start_time": "2023-10-15T14:17:41.168Z"
   },
   {
    "duration": 372,
    "start_time": "2023-10-15T14:17:41.187Z"
   },
   {
    "duration": 18,
    "start_time": "2023-10-15T14:17:41.561Z"
   },
   {
    "duration": 269,
    "start_time": "2023-10-15T14:17:41.581Z"
   },
   {
    "duration": 860,
    "start_time": "2023-10-15T14:17:41.851Z"
   },
   {
    "duration": 7,
    "start_time": "2023-10-15T14:17:42.713Z"
   },
   {
    "duration": 14,
    "start_time": "2023-10-15T14:17:42.721Z"
   },
   {
    "duration": 7,
    "start_time": "2023-10-15T14:17:42.737Z"
   },
   {
    "duration": 21,
    "start_time": "2023-10-15T14:17:42.745Z"
   },
   {
    "duration": 14,
    "start_time": "2023-10-15T14:17:42.768Z"
   },
   {
    "duration": 35,
    "start_time": "2023-10-15T14:17:42.784Z"
   },
   {
    "duration": 9,
    "start_time": "2023-10-15T14:17:42.821Z"
   },
   {
    "duration": 218,
    "start_time": "2023-10-15T14:17:42.831Z"
   },
   {
    "duration": 5,
    "start_time": "2023-10-15T14:22:29.214Z"
   },
   {
    "duration": 2220,
    "start_time": "2023-10-15T14:22:34.292Z"
   },
   {
    "duration": 4,
    "start_time": "2023-10-15T14:22:36.514Z"
   },
   {
    "duration": 57,
    "start_time": "2023-10-15T14:22:36.519Z"
   },
   {
    "duration": 26,
    "start_time": "2023-10-15T14:22:36.578Z"
   },
   {
    "duration": 4,
    "start_time": "2023-10-15T14:22:36.606Z"
   },
   {
    "duration": 19,
    "start_time": "2023-10-15T14:22:36.612Z"
   },
   {
    "duration": 191,
    "start_time": "2023-10-15T14:22:36.633Z"
   },
   {
    "duration": 9,
    "start_time": "2023-10-15T14:22:36.826Z"
   },
   {
    "duration": 16,
    "start_time": "2023-10-15T14:22:36.836Z"
   },
   {
    "duration": 14,
    "start_time": "2023-10-15T14:22:36.855Z"
   },
   {
    "duration": 44,
    "start_time": "2023-10-15T14:22:36.871Z"
   },
   {
    "duration": 14,
    "start_time": "2023-10-15T14:22:36.917Z"
   },
   {
    "duration": 13,
    "start_time": "2023-10-15T14:22:36.933Z"
   },
   {
    "duration": 24,
    "start_time": "2023-10-15T14:22:36.948Z"
   },
   {
    "duration": 34,
    "start_time": "2023-10-15T14:22:36.974Z"
   },
   {
    "duration": 13,
    "start_time": "2023-10-15T14:22:37.009Z"
   },
   {
    "duration": 15,
    "start_time": "2023-10-15T14:22:37.024Z"
   },
   {
    "duration": 28,
    "start_time": "2023-10-15T14:22:37.041Z"
   },
   {
    "duration": 369,
    "start_time": "2023-10-15T14:22:37.070Z"
   },
   {
    "duration": 6,
    "start_time": "2023-10-15T14:22:37.441Z"
   },
   {
    "duration": 19,
    "start_time": "2023-10-15T14:22:37.448Z"
   },
   {
    "duration": 27,
    "start_time": "2023-10-15T14:22:37.469Z"
   },
   {
    "duration": 9,
    "start_time": "2023-10-15T14:22:37.498Z"
   },
   {
    "duration": 25,
    "start_time": "2023-10-15T14:22:37.508Z"
   },
   {
    "duration": 34,
    "start_time": "2023-10-15T14:22:37.535Z"
   },
   {
    "duration": 14,
    "start_time": "2023-10-15T14:22:37.570Z"
   },
   {
    "duration": 24,
    "start_time": "2023-10-15T14:22:37.585Z"
   },
   {
    "duration": 6,
    "start_time": "2023-10-15T14:22:37.613Z"
   },
   {
    "duration": 400,
    "start_time": "2023-10-15T14:22:37.621Z"
   },
   {
    "duration": 375,
    "start_time": "2023-10-15T14:22:38.023Z"
   },
   {
    "duration": 284,
    "start_time": "2023-10-15T14:22:38.399Z"
   },
   {
    "duration": 466,
    "start_time": "2023-10-15T14:22:38.685Z"
   },
   {
    "duration": 294,
    "start_time": "2023-10-15T14:22:39.152Z"
   },
   {
    "duration": 18,
    "start_time": "2023-10-15T14:22:39.447Z"
   },
   {
    "duration": 321,
    "start_time": "2023-10-15T14:22:39.466Z"
   },
   {
    "duration": 29,
    "start_time": "2023-10-15T14:22:39.788Z"
   },
   {
    "duration": 260,
    "start_time": "2023-10-15T14:22:39.819Z"
   },
   {
    "duration": 32,
    "start_time": "2023-10-15T14:22:40.081Z"
   },
   {
    "duration": 260,
    "start_time": "2023-10-15T14:22:40.115Z"
   },
   {
    "duration": 31,
    "start_time": "2023-10-15T14:22:40.376Z"
   },
   {
    "duration": 275,
    "start_time": "2023-10-15T14:22:40.408Z"
   },
   {
    "duration": 28,
    "start_time": "2023-10-15T14:22:40.685Z"
   },
   {
    "duration": 266,
    "start_time": "2023-10-15T14:22:40.714Z"
   },
   {
    "duration": 851,
    "start_time": "2023-10-15T14:22:40.981Z"
   },
   {
    "duration": 9,
    "start_time": "2023-10-15T14:22:41.834Z"
   },
   {
    "duration": 15,
    "start_time": "2023-10-15T14:22:41.844Z"
   },
   {
    "duration": 25,
    "start_time": "2023-10-15T14:22:41.861Z"
   },
   {
    "duration": 13,
    "start_time": "2023-10-15T14:22:41.887Z"
   },
   {
    "duration": 14,
    "start_time": "2023-10-15T14:22:41.907Z"
   },
   {
    "duration": 14,
    "start_time": "2023-10-15T14:22:41.923Z"
   },
   {
    "duration": 11,
    "start_time": "2023-10-15T14:22:41.938Z"
   },
   {
    "duration": 280,
    "start_time": "2023-10-15T14:22:41.951Z"
   },
   {
    "duration": 3,
    "start_time": "2023-10-15T14:23:25.856Z"
   },
   {
    "duration": 3,
    "start_time": "2023-10-15T14:23:28.288Z"
   },
   {
    "duration": 4,
    "start_time": "2023-10-15T14:23:41.412Z"
   },
   {
    "duration": 4,
    "start_time": "2023-10-15T14:23:45.567Z"
   },
   {
    "duration": 2317,
    "start_time": "2023-10-15T14:24:09.582Z"
   },
   {
    "duration": 3,
    "start_time": "2023-10-15T14:24:11.902Z"
   },
   {
    "duration": 49,
    "start_time": "2023-10-15T14:24:11.907Z"
   },
   {
    "duration": 28,
    "start_time": "2023-10-15T14:24:11.958Z"
   },
   {
    "duration": 4,
    "start_time": "2023-10-15T14:24:11.988Z"
   },
   {
    "duration": 9,
    "start_time": "2023-10-15T14:24:11.993Z"
   },
   {
    "duration": 208,
    "start_time": "2023-10-15T14:24:12.004Z"
   },
   {
    "duration": 9,
    "start_time": "2023-10-15T14:24:12.214Z"
   },
   {
    "duration": 18,
    "start_time": "2023-10-15T14:24:12.224Z"
   },
   {
    "duration": 23,
    "start_time": "2023-10-15T14:24:12.245Z"
   },
   {
    "duration": 39,
    "start_time": "2023-10-15T14:24:12.269Z"
   },
   {
    "duration": 14,
    "start_time": "2023-10-15T14:24:12.309Z"
   },
   {
    "duration": 13,
    "start_time": "2023-10-15T14:24:12.325Z"
   },
   {
    "duration": 29,
    "start_time": "2023-10-15T14:24:12.340Z"
   },
   {
    "duration": 14,
    "start_time": "2023-10-15T14:24:12.371Z"
   },
   {
    "duration": 12,
    "start_time": "2023-10-15T14:24:12.407Z"
   },
   {
    "duration": 15,
    "start_time": "2023-10-15T14:24:12.421Z"
   },
   {
    "duration": 15,
    "start_time": "2023-10-15T14:24:12.437Z"
   },
   {
    "duration": 382,
    "start_time": "2023-10-15T14:24:12.454Z"
   },
   {
    "duration": 5,
    "start_time": "2023-10-15T14:24:12.838Z"
   },
   {
    "duration": 12,
    "start_time": "2023-10-15T14:24:12.844Z"
   },
   {
    "duration": 17,
    "start_time": "2023-10-15T14:24:12.857Z"
   },
   {
    "duration": 12,
    "start_time": "2023-10-15T14:24:12.876Z"
   },
   {
    "duration": 22,
    "start_time": "2023-10-15T14:24:12.890Z"
   },
   {
    "duration": 139,
    "start_time": "2023-10-15T14:24:12.914Z"
   },
   {
    "duration": 14,
    "start_time": "2023-10-15T14:24:13.055Z"
   },
   {
    "duration": 24,
    "start_time": "2023-10-15T14:24:13.071Z"
   },
   {
    "duration": 7,
    "start_time": "2023-10-15T14:24:13.099Z"
   },
   {
    "duration": 369,
    "start_time": "2023-10-15T14:24:13.107Z"
   },
   {
    "duration": 372,
    "start_time": "2023-10-15T14:24:13.477Z"
   },
   {
    "duration": 270,
    "start_time": "2023-10-15T14:24:13.851Z"
   },
   {
    "duration": 374,
    "start_time": "2023-10-15T14:24:14.122Z"
   },
   {
    "duration": 308,
    "start_time": "2023-10-15T14:24:14.498Z"
   },
   {
    "duration": 21,
    "start_time": "2023-10-15T14:24:14.808Z"
   },
   {
    "duration": 266,
    "start_time": "2023-10-15T14:24:14.830Z"
   },
   {
    "duration": 25,
    "start_time": "2023-10-15T14:24:15.098Z"
   },
   {
    "duration": 234,
    "start_time": "2023-10-15T14:24:15.124Z"
   },
   {
    "duration": 19,
    "start_time": "2023-10-15T14:24:15.359Z"
   },
   {
    "duration": 487,
    "start_time": "2023-10-15T14:24:15.380Z"
   },
   {
    "duration": 19,
    "start_time": "2023-10-15T14:24:15.868Z"
   },
   {
    "duration": 306,
    "start_time": "2023-10-15T14:24:15.888Z"
   },
   {
    "duration": 30,
    "start_time": "2023-10-15T14:24:16.197Z"
   },
   {
    "duration": 239,
    "start_time": "2023-10-15T14:24:16.229Z"
   },
   {
    "duration": 880,
    "start_time": "2023-10-15T14:24:16.470Z"
   },
   {
    "duration": 8,
    "start_time": "2023-10-15T14:24:17.351Z"
   },
   {
    "duration": 22,
    "start_time": "2023-10-15T14:24:17.360Z"
   },
   {
    "duration": 11,
    "start_time": "2023-10-15T14:24:17.383Z"
   },
   {
    "duration": 40,
    "start_time": "2023-10-15T14:24:17.396Z"
   },
   {
    "duration": 13,
    "start_time": "2023-10-15T14:24:17.438Z"
   },
   {
    "duration": 31,
    "start_time": "2023-10-15T14:24:17.452Z"
   },
   {
    "duration": 12,
    "start_time": "2023-10-15T14:24:17.485Z"
   },
   {
    "duration": 237,
    "start_time": "2023-10-15T14:24:17.498Z"
   },
   {
    "duration": 17,
    "start_time": "2023-10-15T14:25:47.944Z"
   },
   {
    "duration": 12,
    "start_time": "2023-10-15T14:25:51.825Z"
   },
   {
    "duration": 2195,
    "start_time": "2023-10-15T14:31:53.525Z"
   },
   {
    "duration": 4,
    "start_time": "2023-10-15T14:31:55.722Z"
   },
   {
    "duration": 59,
    "start_time": "2023-10-15T14:31:55.727Z"
   },
   {
    "duration": 27,
    "start_time": "2023-10-15T14:31:55.788Z"
   },
   {
    "duration": 15,
    "start_time": "2023-10-15T14:31:55.817Z"
   },
   {
    "duration": 20,
    "start_time": "2023-10-15T14:31:55.833Z"
   },
   {
    "duration": 218,
    "start_time": "2023-10-15T14:31:55.854Z"
   },
   {
    "duration": 9,
    "start_time": "2023-10-15T14:31:56.074Z"
   },
   {
    "duration": 38,
    "start_time": "2023-10-15T14:31:56.085Z"
   },
   {
    "duration": 21,
    "start_time": "2023-10-15T14:31:56.125Z"
   },
   {
    "duration": 18,
    "start_time": "2023-10-15T14:31:56.149Z"
   },
   {
    "duration": 41,
    "start_time": "2023-10-15T14:31:56.169Z"
   },
   {
    "duration": 17,
    "start_time": "2023-10-15T14:31:56.212Z"
   },
   {
    "duration": 22,
    "start_time": "2023-10-15T14:31:56.233Z"
   },
   {
    "duration": 20,
    "start_time": "2023-10-15T14:31:56.256Z"
   },
   {
    "duration": 45,
    "start_time": "2023-10-15T14:31:56.277Z"
   },
   {
    "duration": 20,
    "start_time": "2023-10-15T14:31:56.324Z"
   },
   {
    "duration": 18,
    "start_time": "2023-10-15T14:31:56.346Z"
   },
   {
    "duration": 392,
    "start_time": "2023-10-15T14:31:56.366Z"
   },
   {
    "duration": 5,
    "start_time": "2023-10-15T14:31:56.759Z"
   },
   {
    "duration": 13,
    "start_time": "2023-10-15T14:31:56.766Z"
   },
   {
    "duration": 10,
    "start_time": "2023-10-15T14:31:56.780Z"
   },
   {
    "duration": 15,
    "start_time": "2023-10-15T14:31:56.792Z"
   },
   {
    "duration": 28,
    "start_time": "2023-10-15T14:31:56.809Z"
   },
   {
    "duration": 33,
    "start_time": "2023-10-15T14:31:56.839Z"
   },
   {
    "duration": 14,
    "start_time": "2023-10-15T14:31:56.874Z"
   },
   {
    "duration": 22,
    "start_time": "2023-10-15T14:31:56.889Z"
   },
   {
    "duration": 7,
    "start_time": "2023-10-15T14:31:56.913Z"
   },
   {
    "duration": 428,
    "start_time": "2023-10-15T14:31:56.921Z"
   },
   {
    "duration": 395,
    "start_time": "2023-10-15T14:31:57.350Z"
   },
   {
    "duration": 316,
    "start_time": "2023-10-15T14:31:57.747Z"
   },
   {
    "duration": 496,
    "start_time": "2023-10-15T14:31:58.064Z"
   },
   {
    "duration": 301,
    "start_time": "2023-10-15T14:31:58.561Z"
   },
   {
    "duration": 19,
    "start_time": "2023-10-15T14:31:58.864Z"
   },
   {
    "duration": 307,
    "start_time": "2023-10-15T14:31:58.885Z"
   },
   {
    "duration": 31,
    "start_time": "2023-10-15T14:31:59.194Z"
   },
   {
    "duration": 240,
    "start_time": "2023-10-15T14:31:59.226Z"
   },
   {
    "duration": 21,
    "start_time": "2023-10-15T14:31:59.468Z"
   },
   {
    "duration": 277,
    "start_time": "2023-10-15T14:31:59.490Z"
   },
   {
    "duration": 42,
    "start_time": "2023-10-15T14:31:59.769Z"
   },
   {
    "duration": 298,
    "start_time": "2023-10-15T14:31:59.816Z"
   },
   {
    "duration": 23,
    "start_time": "2023-10-15T14:32:00.116Z"
   },
   {
    "duration": 248,
    "start_time": "2023-10-15T14:32:00.141Z"
   },
   {
    "duration": 964,
    "start_time": "2023-10-15T14:32:00.407Z"
   },
   {
    "duration": 9,
    "start_time": "2023-10-15T14:32:01.373Z"
   },
   {
    "duration": 63,
    "start_time": "2023-10-15T14:32:01.383Z"
   },
   {
    "duration": 44,
    "start_time": "2023-10-15T14:32:01.448Z"
   },
   {
    "duration": 72,
    "start_time": "2023-10-15T14:32:01.493Z"
   },
   {
    "duration": 34,
    "start_time": "2023-10-15T14:32:01.566Z"
   },
   {
    "duration": 38,
    "start_time": "2023-10-15T14:32:01.602Z"
   },
   {
    "duration": 76,
    "start_time": "2023-10-15T14:32:01.642Z"
   },
   {
    "duration": 230,
    "start_time": "2023-10-15T14:32:01.720Z"
   },
   {
    "duration": 2159,
    "start_time": "2023-10-15T14:34:33.299Z"
   },
   {
    "duration": 3,
    "start_time": "2023-10-15T14:34:35.461Z"
   },
   {
    "duration": 48,
    "start_time": "2023-10-15T14:34:35.466Z"
   },
   {
    "duration": 27,
    "start_time": "2023-10-15T14:34:35.516Z"
   },
   {
    "duration": 4,
    "start_time": "2023-10-15T14:34:35.545Z"
   },
   {
    "duration": 8,
    "start_time": "2023-10-15T14:34:35.551Z"
   },
   {
    "duration": 218,
    "start_time": "2023-10-15T14:34:35.560Z"
   },
   {
    "duration": 10,
    "start_time": "2023-10-15T14:34:35.780Z"
   },
   {
    "duration": 37,
    "start_time": "2023-10-15T14:34:35.792Z"
   },
   {
    "duration": 15,
    "start_time": "2023-10-15T14:34:35.831Z"
   },
   {
    "duration": 13,
    "start_time": "2023-10-15T14:34:35.847Z"
   },
   {
    "duration": 19,
    "start_time": "2023-10-15T14:34:35.862Z"
   },
   {
    "duration": 36,
    "start_time": "2023-10-15T14:34:35.883Z"
   },
   {
    "duration": 170,
    "start_time": "2023-10-15T14:34:35.923Z"
   },
   {
    "duration": 26,
    "start_time": "2023-10-15T14:34:36.095Z"
   },
   {
    "duration": 19,
    "start_time": "2023-10-15T14:34:36.123Z"
   },
   {
    "duration": 29,
    "start_time": "2023-10-15T14:34:36.143Z"
   },
   {
    "duration": 35,
    "start_time": "2023-10-15T14:34:36.173Z"
   },
   {
    "duration": 340,
    "start_time": "2023-10-15T14:34:36.209Z"
   },
   {
    "duration": 5,
    "start_time": "2023-10-15T14:34:36.551Z"
   },
   {
    "duration": 24,
    "start_time": "2023-10-15T14:34:36.558Z"
   },
   {
    "duration": 24,
    "start_time": "2023-10-15T14:34:36.583Z"
   },
   {
    "duration": 27,
    "start_time": "2023-10-15T14:34:36.609Z"
   },
   {
    "duration": 48,
    "start_time": "2023-10-15T14:34:36.638Z"
   },
   {
    "duration": 42,
    "start_time": "2023-10-15T14:34:36.688Z"
   },
   {
    "duration": 16,
    "start_time": "2023-10-15T14:34:36.732Z"
   },
   {
    "duration": 6,
    "start_time": "2023-10-15T14:34:36.750Z"
   },
   {
    "duration": 15,
    "start_time": "2023-10-15T14:34:36.758Z"
   },
   {
    "duration": 389,
    "start_time": "2023-10-15T14:34:36.774Z"
   },
   {
    "duration": 413,
    "start_time": "2023-10-15T14:34:37.164Z"
   },
   {
    "duration": 282,
    "start_time": "2023-10-15T14:34:37.579Z"
   },
   {
    "duration": 384,
    "start_time": "2023-10-15T14:34:37.864Z"
   },
   {
    "duration": 316,
    "start_time": "2023-10-15T14:34:38.249Z"
   },
   {
    "duration": 19,
    "start_time": "2023-10-15T14:34:38.567Z"
   },
   {
    "duration": 281,
    "start_time": "2023-10-15T14:34:38.587Z"
   },
   {
    "duration": 19,
    "start_time": "2023-10-15T14:34:38.870Z"
   },
   {
    "duration": 253,
    "start_time": "2023-10-15T14:34:38.890Z"
   },
   {
    "duration": 20,
    "start_time": "2023-10-15T14:34:39.145Z"
   },
   {
    "duration": 400,
    "start_time": "2023-10-15T14:34:39.167Z"
   },
   {
    "duration": 20,
    "start_time": "2023-10-15T14:34:39.569Z"
   },
   {
    "duration": 251,
    "start_time": "2023-10-15T14:34:39.607Z"
   },
   {
    "duration": 20,
    "start_time": "2023-10-15T14:34:39.859Z"
   },
   {
    "duration": 283,
    "start_time": "2023-10-15T14:34:39.881Z"
   },
   {
    "duration": 884,
    "start_time": "2023-10-15T14:34:40.166Z"
   },
   {
    "duration": 8,
    "start_time": "2023-10-15T14:34:41.052Z"
   },
   {
    "duration": 18,
    "start_time": "2023-10-15T14:34:41.062Z"
   },
   {
    "duration": 8,
    "start_time": "2023-10-15T14:34:41.081Z"
   },
   {
    "duration": 28,
    "start_time": "2023-10-15T14:34:41.090Z"
   },
   {
    "duration": 13,
    "start_time": "2023-10-15T14:34:41.120Z"
   },
   {
    "duration": 33,
    "start_time": "2023-10-15T14:34:41.134Z"
   },
   {
    "duration": 11,
    "start_time": "2023-10-15T14:34:41.169Z"
   },
   {
    "duration": 251,
    "start_time": "2023-10-15T14:34:41.182Z"
   },
   {
    "duration": 25,
    "start_time": "2023-10-15T14:45:11.030Z"
   },
   {
    "duration": 1245,
    "start_time": "2023-10-15T14:47:44.643Z"
   },
   {
    "duration": 1381,
    "start_time": "2023-10-15T14:48:04.932Z"
   },
   {
    "duration": 13,
    "start_time": "2023-10-15T14:48:16.118Z"
   },
   {
    "duration": 2270,
    "start_time": "2023-10-15T14:48:33.931Z"
   },
   {
    "duration": 3,
    "start_time": "2023-10-15T14:48:36.204Z"
   },
   {
    "duration": 64,
    "start_time": "2023-10-15T14:48:36.209Z"
   },
   {
    "duration": 29,
    "start_time": "2023-10-15T14:48:36.275Z"
   },
   {
    "duration": 4,
    "start_time": "2023-10-15T14:48:36.306Z"
   },
   {
    "duration": 23,
    "start_time": "2023-10-15T14:48:36.312Z"
   },
   {
    "duration": 226,
    "start_time": "2023-10-15T14:48:36.338Z"
   },
   {
    "duration": 10,
    "start_time": "2023-10-15T14:48:36.566Z"
   },
   {
    "duration": 50,
    "start_time": "2023-10-15T14:48:36.577Z"
   },
   {
    "duration": 17,
    "start_time": "2023-10-15T14:48:36.629Z"
   },
   {
    "duration": 16,
    "start_time": "2023-10-15T14:48:36.648Z"
   },
   {
    "duration": 22,
    "start_time": "2023-10-15T14:48:36.666Z"
   },
   {
    "duration": 26,
    "start_time": "2023-10-15T14:48:36.689Z"
   },
   {
    "duration": 22,
    "start_time": "2023-10-15T14:48:36.717Z"
   },
   {
    "duration": 22,
    "start_time": "2023-10-15T14:48:36.741Z"
   },
   {
    "duration": 13,
    "start_time": "2023-10-15T14:48:36.765Z"
   },
   {
    "duration": 35,
    "start_time": "2023-10-15T14:48:36.779Z"
   },
   {
    "duration": 18,
    "start_time": "2023-10-15T14:48:36.816Z"
   },
   {
    "duration": 359,
    "start_time": "2023-10-15T14:48:36.836Z"
   },
   {
    "duration": 16,
    "start_time": "2023-10-15T14:48:37.197Z"
   },
   {
    "duration": 15,
    "start_time": "2023-10-15T14:48:37.215Z"
   },
   {
    "duration": 33,
    "start_time": "2023-10-15T14:48:37.232Z"
   },
   {
    "duration": 44,
    "start_time": "2023-10-15T14:48:37.267Z"
   },
   {
    "duration": 15,
    "start_time": "2023-10-15T14:48:37.312Z"
   },
   {
    "duration": 14,
    "start_time": "2023-10-15T14:48:37.329Z"
   },
   {
    "duration": 23,
    "start_time": "2023-10-15T14:48:37.345Z"
   },
   {
    "duration": 419,
    "start_time": "2023-10-15T14:48:37.370Z"
   },
   {
    "duration": 394,
    "start_time": "2023-10-15T14:48:37.792Z"
   },
   {
    "duration": 272,
    "start_time": "2023-10-15T14:48:38.188Z"
   },
   {
    "duration": 516,
    "start_time": "2023-10-15T14:48:38.462Z"
   },
   {
    "duration": 310,
    "start_time": "2023-10-15T14:48:38.979Z"
   },
   {
    "duration": 25,
    "start_time": "2023-10-15T14:48:39.291Z"
   },
   {
    "duration": 293,
    "start_time": "2023-10-15T14:48:39.317Z"
   },
   {
    "duration": 23,
    "start_time": "2023-10-15T14:48:39.613Z"
   },
   {
    "duration": 224,
    "start_time": "2023-10-15T14:48:39.638Z"
   },
   {
    "duration": 19,
    "start_time": "2023-10-15T14:48:39.908Z"
   },
   {
    "duration": 258,
    "start_time": "2023-10-15T14:48:39.928Z"
   },
   {
    "duration": 25,
    "start_time": "2023-10-15T14:48:40.188Z"
   },
   {
    "duration": 251,
    "start_time": "2023-10-15T14:48:40.215Z"
   },
   {
    "duration": 22,
    "start_time": "2023-10-15T14:48:40.468Z"
   },
   {
    "duration": 265,
    "start_time": "2023-10-15T14:48:40.492Z"
   },
   {
    "duration": 873,
    "start_time": "2023-10-15T14:48:40.759Z"
   },
   {
    "duration": 8,
    "start_time": "2023-10-15T14:48:41.634Z"
   },
   {
    "duration": 18,
    "start_time": "2023-10-15T14:48:41.643Z"
   },
   {
    "duration": 10,
    "start_time": "2023-10-15T14:48:41.663Z"
   },
   {
    "duration": 45,
    "start_time": "2023-10-15T14:48:41.675Z"
   },
   {
    "duration": 14,
    "start_time": "2023-10-15T14:48:41.722Z"
   },
   {
    "duration": 14,
    "start_time": "2023-10-15T14:48:41.737Z"
   },
   {
    "duration": 11,
    "start_time": "2023-10-15T14:48:41.753Z"
   },
   {
    "duration": 273,
    "start_time": "2023-10-15T14:48:41.765Z"
   },
   {
    "duration": 2423,
    "start_time": "2023-10-15T14:54:51.240Z"
   },
   {
    "duration": 4,
    "start_time": "2023-10-15T14:54:53.665Z"
   },
   {
    "duration": 75,
    "start_time": "2023-10-15T14:54:53.671Z"
   },
   {
    "duration": 29,
    "start_time": "2023-10-15T14:54:53.748Z"
   },
   {
    "duration": 9,
    "start_time": "2023-10-15T14:54:53.779Z"
   },
   {
    "duration": 42,
    "start_time": "2023-10-15T14:54:53.789Z"
   },
   {
    "duration": 237,
    "start_time": "2023-10-15T14:54:53.833Z"
   },
   {
    "duration": 10,
    "start_time": "2023-10-15T14:54:54.072Z"
   },
   {
    "duration": 52,
    "start_time": "2023-10-15T14:54:54.084Z"
   },
   {
    "duration": 23,
    "start_time": "2023-10-15T14:54:54.138Z"
   },
   {
    "duration": 20,
    "start_time": "2023-10-15T14:54:54.163Z"
   },
   {
    "duration": 24,
    "start_time": "2023-10-15T14:54:54.185Z"
   },
   {
    "duration": 22,
    "start_time": "2023-10-15T14:54:54.213Z"
   },
   {
    "duration": 154,
    "start_time": "2023-10-15T14:54:54.237Z"
   },
   {
    "duration": 26,
    "start_time": "2023-10-15T14:54:54.393Z"
   },
   {
    "duration": 16,
    "start_time": "2023-10-15T14:54:54.421Z"
   },
   {
    "duration": 38,
    "start_time": "2023-10-15T14:54:54.438Z"
   },
   {
    "duration": 16,
    "start_time": "2023-10-15T14:54:54.478Z"
   },
   {
    "duration": 349,
    "start_time": "2023-10-15T14:54:54.496Z"
   },
   {
    "duration": 12,
    "start_time": "2023-10-15T14:54:54.847Z"
   },
   {
    "duration": 38,
    "start_time": "2023-10-15T14:54:54.861Z"
   },
   {
    "duration": 10,
    "start_time": "2023-10-15T14:54:54.900Z"
   },
   {
    "duration": 43,
    "start_time": "2023-10-15T14:54:54.913Z"
   },
   {
    "duration": 14,
    "start_time": "2023-10-15T14:54:54.958Z"
   },
   {
    "duration": 8,
    "start_time": "2023-10-15T14:54:54.974Z"
   },
   {
    "duration": 26,
    "start_time": "2023-10-15T14:54:54.983Z"
   },
   {
    "duration": 427,
    "start_time": "2023-10-15T14:54:55.012Z"
   },
   {
    "duration": 442,
    "start_time": "2023-10-15T14:54:55.441Z"
   },
   {
    "duration": 414,
    "start_time": "2023-10-15T14:54:55.885Z"
   },
   {
    "duration": 450,
    "start_time": "2023-10-15T14:54:56.302Z"
   },
   {
    "duration": 340,
    "start_time": "2023-10-15T14:54:56.754Z"
   },
   {
    "duration": 29,
    "start_time": "2023-10-15T14:54:57.096Z"
   },
   {
    "duration": 302,
    "start_time": "2023-10-15T14:54:57.128Z"
   },
   {
    "duration": 23,
    "start_time": "2023-10-15T14:54:57.431Z"
   },
   {
    "duration": 316,
    "start_time": "2023-10-15T14:54:57.455Z"
   },
   {
    "duration": 21,
    "start_time": "2023-10-15T14:54:57.773Z"
   },
   {
    "duration": 386,
    "start_time": "2023-10-15T14:54:57.808Z"
   },
   {
    "duration": 34,
    "start_time": "2023-10-15T14:54:58.195Z"
   },
   {
    "duration": 258,
    "start_time": "2023-10-15T14:54:58.231Z"
   },
   {
    "duration": 41,
    "start_time": "2023-10-15T14:54:58.490Z"
   },
   {
    "duration": 291,
    "start_time": "2023-10-15T14:54:58.536Z"
   },
   {
    "duration": 879,
    "start_time": "2023-10-15T14:54:58.830Z"
   },
   {
    "duration": 17,
    "start_time": "2023-10-15T14:54:59.712Z"
   },
   {
    "duration": 15,
    "start_time": "2023-10-15T14:54:59.732Z"
   },
   {
    "duration": 24,
    "start_time": "2023-10-15T14:54:59.749Z"
   },
   {
    "duration": 63,
    "start_time": "2023-10-15T14:54:59.775Z"
   },
   {
    "duration": 25,
    "start_time": "2023-10-15T14:54:59.840Z"
   },
   {
    "duration": 38,
    "start_time": "2023-10-15T14:54:59.867Z"
   },
   {
    "duration": 17,
    "start_time": "2023-10-15T14:54:59.907Z"
   },
   {
    "duration": 247,
    "start_time": "2023-10-15T14:54:59.927Z"
   },
   {
    "duration": 70,
    "start_time": "2023-10-15T14:59:46.685Z"
   },
   {
    "duration": 2220,
    "start_time": "2023-10-15T15:06:17.655Z"
   },
   {
    "duration": 1230,
    "start_time": "2023-10-15T15:06:19.877Z"
   },
   {
    "duration": 45,
    "start_time": "2023-10-15T15:06:21.109Z"
   },
   {
    "duration": 30,
    "start_time": "2023-10-15T15:06:21.157Z"
   },
   {
    "duration": 4,
    "start_time": "2023-10-15T15:06:21.188Z"
   },
   {
    "duration": 86,
    "start_time": "2023-10-15T15:06:21.194Z"
   },
   {
    "duration": 241,
    "start_time": "2023-10-15T15:06:21.282Z"
   },
   {
    "duration": 10,
    "start_time": "2023-10-15T15:06:21.525Z"
   },
   {
    "duration": 64,
    "start_time": "2023-10-15T15:06:21.537Z"
   },
   {
    "duration": 47,
    "start_time": "2023-10-15T15:06:21.603Z"
   },
   {
    "duration": 45,
    "start_time": "2023-10-15T15:06:21.652Z"
   },
   {
    "duration": 23,
    "start_time": "2023-10-15T15:06:21.698Z"
   },
   {
    "duration": 42,
    "start_time": "2023-10-15T15:06:21.723Z"
   },
   {
    "duration": 40,
    "start_time": "2023-10-15T15:06:21.767Z"
   },
   {
    "duration": 35,
    "start_time": "2023-10-15T15:06:21.809Z"
   },
   {
    "duration": 18,
    "start_time": "2023-10-15T15:06:21.846Z"
   },
   {
    "duration": 48,
    "start_time": "2023-10-15T15:06:21.866Z"
   },
   {
    "duration": 90,
    "start_time": "2023-10-15T15:06:21.916Z"
   },
   {
    "duration": 323,
    "start_time": "2023-10-15T15:06:22.008Z"
   },
   {
    "duration": 11,
    "start_time": "2023-10-15T15:06:22.332Z"
   },
   {
    "duration": 28,
    "start_time": "2023-10-15T15:06:22.345Z"
   },
   {
    "duration": 6,
    "start_time": "2023-10-15T15:06:22.374Z"
   },
   {
    "duration": 53,
    "start_time": "2023-10-15T15:06:22.381Z"
   },
   {
    "duration": 14,
    "start_time": "2023-10-15T15:06:22.436Z"
   },
   {
    "duration": 6,
    "start_time": "2023-10-15T15:06:22.452Z"
   },
   {
    "duration": 19,
    "start_time": "2023-10-15T15:06:22.460Z"
   },
   {
    "duration": 403,
    "start_time": "2023-10-15T15:06:22.481Z"
   },
   {
    "duration": 386,
    "start_time": "2023-10-15T15:06:22.887Z"
   },
   {
    "duration": 295,
    "start_time": "2023-10-15T15:06:23.274Z"
   },
   {
    "duration": 496,
    "start_time": "2023-10-15T15:06:23.572Z"
   },
   {
    "duration": 328,
    "start_time": "2023-10-15T15:06:24.069Z"
   },
   {
    "duration": 27,
    "start_time": "2023-10-15T15:06:24.399Z"
   },
   {
    "duration": 321,
    "start_time": "2023-10-15T15:06:24.428Z"
   },
   {
    "duration": 27,
    "start_time": "2023-10-15T15:06:24.751Z"
   },
   {
    "duration": 294,
    "start_time": "2023-10-15T15:06:24.780Z"
   },
   {
    "duration": 33,
    "start_time": "2023-10-15T15:06:25.075Z"
   },
   {
    "duration": 281,
    "start_time": "2023-10-15T15:06:25.110Z"
   },
   {
    "duration": 35,
    "start_time": "2023-10-15T15:06:25.392Z"
   },
   {
    "duration": 247,
    "start_time": "2023-10-15T15:06:25.428Z"
   },
   {
    "duration": 31,
    "start_time": "2023-10-15T15:06:25.676Z"
   },
   {
    "duration": 309,
    "start_time": "2023-10-15T15:06:25.709Z"
   },
   {
    "duration": 955,
    "start_time": "2023-10-15T15:06:26.021Z"
   },
   {
    "duration": 8,
    "start_time": "2023-10-15T15:06:26.978Z"
   },
   {
    "duration": 49,
    "start_time": "2023-10-15T15:06:26.988Z"
   },
   {
    "duration": 10,
    "start_time": "2023-10-15T15:06:27.039Z"
   },
   {
    "duration": 33,
    "start_time": "2023-10-15T15:06:27.050Z"
   },
   {
    "duration": 13,
    "start_time": "2023-10-15T15:06:27.085Z"
   },
   {
    "duration": 14,
    "start_time": "2023-10-15T15:06:27.099Z"
   },
   {
    "duration": 15,
    "start_time": "2023-10-15T15:06:27.114Z"
   },
   {
    "duration": 242,
    "start_time": "2023-10-15T15:06:27.131Z"
   },
   {
    "duration": 2255,
    "start_time": "2023-10-15T15:11:06.238Z"
   },
   {
    "duration": 1180,
    "start_time": "2023-10-15T15:11:08.495Z"
   },
   {
    "duration": 42,
    "start_time": "2023-10-15T15:11:09.677Z"
   },
   {
    "duration": 28,
    "start_time": "2023-10-15T15:11:09.722Z"
   },
   {
    "duration": 4,
    "start_time": "2023-10-15T15:11:09.752Z"
   },
   {
    "duration": 15,
    "start_time": "2023-10-15T15:11:09.757Z"
   },
   {
    "duration": 216,
    "start_time": "2023-10-15T15:11:09.773Z"
   },
   {
    "duration": 16,
    "start_time": "2023-10-15T15:11:09.991Z"
   },
   {
    "duration": 20,
    "start_time": "2023-10-15T15:11:10.009Z"
   },
   {
    "duration": 19,
    "start_time": "2023-10-15T15:11:10.033Z"
   },
   {
    "duration": 19,
    "start_time": "2023-10-15T15:11:10.054Z"
   },
   {
    "duration": 41,
    "start_time": "2023-10-15T15:11:10.075Z"
   },
   {
    "duration": 13,
    "start_time": "2023-10-15T15:11:10.117Z"
   },
   {
    "duration": 17,
    "start_time": "2023-10-15T15:11:10.132Z"
   },
   {
    "duration": 14,
    "start_time": "2023-10-15T15:11:10.151Z"
   },
   {
    "duration": 41,
    "start_time": "2023-10-15T15:11:10.167Z"
   },
   {
    "duration": 16,
    "start_time": "2023-10-15T15:11:10.209Z"
   },
   {
    "duration": 14,
    "start_time": "2023-10-15T15:11:10.227Z"
   },
   {
    "duration": 298,
    "start_time": "2023-10-15T15:11:10.243Z"
   },
   {
    "duration": 12,
    "start_time": "2023-10-15T15:11:10.543Z"
   },
   {
    "duration": 26,
    "start_time": "2023-10-15T15:11:10.556Z"
   },
   {
    "duration": 26,
    "start_time": "2023-10-15T15:11:10.584Z"
   },
   {
    "duration": 43,
    "start_time": "2023-10-15T15:11:10.612Z"
   },
   {
    "duration": 15,
    "start_time": "2023-10-15T15:11:10.657Z"
   },
   {
    "duration": 7,
    "start_time": "2023-10-15T15:11:10.673Z"
   },
   {
    "duration": 27,
    "start_time": "2023-10-15T15:11:10.681Z"
   },
   {
    "duration": 377,
    "start_time": "2023-10-15T15:11:10.710Z"
   },
   {
    "duration": 400,
    "start_time": "2023-10-15T15:11:11.091Z"
   },
   {
    "duration": 289,
    "start_time": "2023-10-15T15:11:11.493Z"
   },
   {
    "duration": 462,
    "start_time": "2023-10-15T15:11:11.784Z"
   },
   {
    "duration": 309,
    "start_time": "2023-10-15T15:11:12.247Z"
   },
   {
    "duration": 18,
    "start_time": "2023-10-15T15:11:12.558Z"
   },
   {
    "duration": 284,
    "start_time": "2023-10-15T15:11:12.577Z"
   },
   {
    "duration": 18,
    "start_time": "2023-10-15T15:11:12.863Z"
   },
   {
    "duration": 285,
    "start_time": "2023-10-15T15:11:12.883Z"
   },
   {
    "duration": 21,
    "start_time": "2023-10-15T15:11:13.169Z"
   },
   {
    "duration": 316,
    "start_time": "2023-10-15T15:11:13.191Z"
   },
   {
    "duration": 19,
    "start_time": "2023-10-15T15:11:13.508Z"
   },
   {
    "duration": 239,
    "start_time": "2023-10-15T15:11:13.528Z"
   },
   {
    "duration": 19,
    "start_time": "2023-10-15T15:11:13.769Z"
   },
   {
    "duration": 266,
    "start_time": "2023-10-15T15:11:13.790Z"
   },
   {
    "duration": 810,
    "start_time": "2023-10-15T15:11:14.058Z"
   },
   {
    "duration": 8,
    "start_time": "2023-10-15T15:11:14.869Z"
   },
   {
    "duration": 20,
    "start_time": "2023-10-15T15:11:14.879Z"
   },
   {
    "duration": 29,
    "start_time": "2023-10-15T15:11:14.900Z"
   },
   {
    "duration": 32,
    "start_time": "2023-10-15T15:11:14.931Z"
   },
   {
    "duration": 16,
    "start_time": "2023-10-15T15:11:14.965Z"
   },
   {
    "duration": 16,
    "start_time": "2023-10-15T15:11:14.983Z"
   },
   {
    "duration": 59,
    "start_time": "2023-10-15T15:11:15.001Z"
   },
   {
    "duration": 282,
    "start_time": "2023-10-15T15:11:15.061Z"
   },
   {
    "duration": 4810,
    "start_time": "2023-10-15T20:09:56.596Z"
   },
   {
    "duration": 1656,
    "start_time": "2023-10-15T20:10:01.408Z"
   },
   {
    "duration": 85,
    "start_time": "2023-10-15T20:10:03.066Z"
   },
   {
    "duration": 94,
    "start_time": "2023-10-15T20:10:03.153Z"
   },
   {
    "duration": 4,
    "start_time": "2023-10-15T20:10:03.249Z"
   },
   {
    "duration": 7,
    "start_time": "2023-10-15T20:10:03.255Z"
   },
   {
    "duration": 410,
    "start_time": "2023-10-15T20:10:03.263Z"
   },
   {
    "duration": 8,
    "start_time": "2023-10-15T20:10:03.675Z"
   },
   {
    "duration": 75,
    "start_time": "2023-10-15T20:10:03.684Z"
   },
   {
    "duration": 27,
    "start_time": "2023-10-15T20:10:03.761Z"
   },
   {
    "duration": 16,
    "start_time": "2023-10-15T20:10:03.843Z"
   },
   {
    "duration": 15,
    "start_time": "2023-10-15T20:10:03.861Z"
   },
   {
    "duration": 77,
    "start_time": "2023-10-15T20:10:03.878Z"
   },
   {
    "duration": 18,
    "start_time": "2023-10-15T20:10:03.957Z"
   },
   {
    "duration": 75,
    "start_time": "2023-10-15T20:10:03.977Z"
   },
   {
    "duration": 14,
    "start_time": "2023-10-15T20:10:04.054Z"
   },
   {
    "duration": 83,
    "start_time": "2023-10-15T20:10:04.070Z"
   },
   {
    "duration": 23,
    "start_time": "2023-10-15T20:10:04.159Z"
   },
   {
    "duration": 542,
    "start_time": "2023-10-15T20:10:04.246Z"
   },
   {
    "duration": 11,
    "start_time": "2023-10-15T20:10:04.845Z"
   },
   {
    "duration": 23,
    "start_time": "2023-10-15T20:10:04.858Z"
   },
   {
    "duration": 65,
    "start_time": "2023-10-15T20:10:04.883Z"
   },
   {
    "duration": 96,
    "start_time": "2023-10-15T20:10:04.950Z"
   },
   {
    "duration": 15,
    "start_time": "2023-10-15T20:10:05.049Z"
   },
   {
    "duration": 7,
    "start_time": "2023-10-15T20:10:05.066Z"
   },
   {
    "duration": 69,
    "start_time": "2023-10-15T20:10:05.075Z"
   },
   {
    "duration": 808,
    "start_time": "2023-10-15T20:10:05.147Z"
   },
   {
    "duration": 728,
    "start_time": "2023-10-15T20:10:05.958Z"
   },
   {
    "duration": 573,
    "start_time": "2023-10-15T20:10:06.688Z"
   },
   {
    "duration": 1012,
    "start_time": "2023-10-15T20:10:07.263Z"
   },
   {
    "duration": 698,
    "start_time": "2023-10-15T20:10:08.277Z"
   },
   {
    "duration": 76,
    "start_time": "2023-10-15T20:10:08.978Z"
   },
   {
    "duration": 433,
    "start_time": "2023-10-15T20:10:09.056Z"
   },
   {
    "duration": 31,
    "start_time": "2023-10-15T20:10:09.544Z"
   },
   {
    "duration": 413,
    "start_time": "2023-10-15T20:10:09.577Z"
   },
   {
    "duration": 31,
    "start_time": "2023-10-15T20:10:10.044Z"
   },
   {
    "duration": 415,
    "start_time": "2023-10-15T20:10:10.077Z"
   },
   {
    "duration": 22,
    "start_time": "2023-10-15T20:10:10.545Z"
   },
   {
    "duration": 397,
    "start_time": "2023-10-15T20:10:10.569Z"
   },
   {
    "duration": 20,
    "start_time": "2023-10-15T20:10:10.968Z"
   },
   {
    "duration": 382,
    "start_time": "2023-10-15T20:10:10.989Z"
   },
   {
    "duration": 1709,
    "start_time": "2023-10-15T20:10:11.372Z"
   },
   {
    "duration": 64,
    "start_time": "2023-10-15T20:10:13.082Z"
   },
   {
    "duration": 12,
    "start_time": "2023-10-15T20:10:13.147Z"
   },
   {
    "duration": 23,
    "start_time": "2023-10-15T20:10:13.160Z"
   },
   {
    "duration": 72,
    "start_time": "2023-10-15T20:10:13.184Z"
   },
   {
    "duration": 15,
    "start_time": "2023-10-15T20:10:13.257Z"
   },
   {
    "duration": 78,
    "start_time": "2023-10-15T20:10:13.274Z"
   },
   {
    "duration": 10,
    "start_time": "2023-10-15T20:10:13.354Z"
   },
   {
    "duration": 383,
    "start_time": "2023-10-15T20:10:13.366Z"
   },
   {
    "duration": 3749,
    "start_time": "2023-10-16T16:03:43.592Z"
   },
   {
    "duration": 1242,
    "start_time": "2023-10-16T16:03:47.343Z"
   },
   {
    "duration": 41,
    "start_time": "2023-10-16T16:03:48.587Z"
   },
   {
    "duration": 43,
    "start_time": "2023-10-16T16:03:48.630Z"
   },
   {
    "duration": 5,
    "start_time": "2023-10-16T16:03:48.675Z"
   },
   {
    "duration": 48,
    "start_time": "2023-10-16T16:03:48.682Z"
   },
   {
    "duration": 239,
    "start_time": "2023-10-16T16:03:48.733Z"
   },
   {
    "duration": 9,
    "start_time": "2023-10-16T16:03:48.974Z"
   },
   {
    "duration": 40,
    "start_time": "2023-10-16T16:03:48.984Z"
   },
   {
    "duration": 51,
    "start_time": "2023-10-16T16:03:49.027Z"
   },
   {
    "duration": 16,
    "start_time": "2023-10-16T16:03:49.080Z"
   },
   {
    "duration": 16,
    "start_time": "2023-10-16T16:03:49.097Z"
   },
   {
    "duration": 14,
    "start_time": "2023-10-16T16:03:49.115Z"
   },
   {
    "duration": 25,
    "start_time": "2023-10-16T16:03:49.131Z"
   },
   {
    "duration": 17,
    "start_time": "2023-10-16T16:03:49.158Z"
   },
   {
    "duration": 21,
    "start_time": "2023-10-16T16:03:49.177Z"
   },
   {
    "duration": 23,
    "start_time": "2023-10-16T16:03:49.200Z"
   },
   {
    "duration": 35,
    "start_time": "2023-10-16T16:03:49.225Z"
   },
   {
    "duration": 315,
    "start_time": "2023-10-16T16:03:49.262Z"
   },
   {
    "duration": 11,
    "start_time": "2023-10-16T16:03:49.579Z"
   },
   {
    "duration": 68,
    "start_time": "2023-10-16T16:03:49.591Z"
   },
   {
    "duration": 5,
    "start_time": "2023-10-16T16:03:49.661Z"
   },
   {
    "duration": 49,
    "start_time": "2023-10-16T16:03:49.668Z"
   },
   {
    "duration": 15,
    "start_time": "2023-10-16T16:03:49.719Z"
   },
   {
    "duration": 27,
    "start_time": "2023-10-16T16:03:49.736Z"
   },
   {
    "duration": 19,
    "start_time": "2023-10-16T16:03:49.764Z"
   },
   {
    "duration": 423,
    "start_time": "2023-10-16T16:03:49.785Z"
   },
   {
    "duration": 402,
    "start_time": "2023-10-16T16:03:50.212Z"
   },
   {
    "duration": 300,
    "start_time": "2023-10-16T16:03:50.616Z"
   },
   {
    "duration": 500,
    "start_time": "2023-10-16T16:03:50.918Z"
   },
   {
    "duration": 320,
    "start_time": "2023-10-16T16:03:51.420Z"
   },
   {
    "duration": 26,
    "start_time": "2023-10-16T16:03:51.743Z"
   },
   {
    "duration": 267,
    "start_time": "2023-10-16T16:03:51.770Z"
   },
   {
    "duration": 30,
    "start_time": "2023-10-16T16:03:52.044Z"
   },
   {
    "duration": 237,
    "start_time": "2023-10-16T16:03:52.076Z"
   },
   {
    "duration": 41,
    "start_time": "2023-10-16T16:03:52.314Z"
   },
   {
    "duration": 269,
    "start_time": "2023-10-16T16:03:52.360Z"
   },
   {
    "duration": 33,
    "start_time": "2023-10-16T16:03:52.631Z"
   },
   {
    "duration": 257,
    "start_time": "2023-10-16T16:03:52.666Z"
   },
   {
    "duration": 36,
    "start_time": "2023-10-16T16:03:52.925Z"
   },
   {
    "duration": 260,
    "start_time": "2023-10-16T16:03:52.963Z"
   },
   {
    "duration": 931,
    "start_time": "2023-10-16T16:03:53.225Z"
   },
   {
    "duration": 9,
    "start_time": "2023-10-16T16:03:54.160Z"
   },
   {
    "duration": 23,
    "start_time": "2023-10-16T16:03:54.170Z"
   },
   {
    "duration": 8,
    "start_time": "2023-10-16T16:03:54.194Z"
   },
   {
    "duration": 17,
    "start_time": "2023-10-16T16:03:54.204Z"
   },
   {
    "duration": 39,
    "start_time": "2023-10-16T16:03:54.222Z"
   },
   {
    "duration": 13,
    "start_time": "2023-10-16T16:03:54.263Z"
   },
   {
    "duration": 9,
    "start_time": "2023-10-16T16:03:54.278Z"
   },
   {
    "duration": 304,
    "start_time": "2023-10-16T16:03:54.289Z"
   },
   {
    "duration": 3329,
    "start_time": "2023-10-17T07:38:47.419Z"
   },
   {
    "duration": 1383,
    "start_time": "2023-10-17T07:38:50.750Z"
   },
   {
    "duration": 160,
    "start_time": "2023-10-17T07:38:52.136Z"
   },
   {
    "duration": 35,
    "start_time": "2023-10-17T07:38:52.298Z"
   },
   {
    "duration": 19,
    "start_time": "2023-10-17T07:38:52.334Z"
   },
   {
    "duration": 37,
    "start_time": "2023-10-17T07:38:52.355Z"
   },
   {
    "duration": 219,
    "start_time": "2023-10-17T07:38:52.393Z"
   },
   {
    "duration": 9,
    "start_time": "2023-10-17T07:38:52.613Z"
   },
   {
    "duration": 36,
    "start_time": "2023-10-17T07:38:52.623Z"
   },
   {
    "duration": 33,
    "start_time": "2023-10-17T07:38:52.662Z"
   },
   {
    "duration": 28,
    "start_time": "2023-10-17T07:38:52.696Z"
   },
   {
    "duration": 36,
    "start_time": "2023-10-17T07:38:52.725Z"
   },
   {
    "duration": 38,
    "start_time": "2023-10-17T07:38:52.762Z"
   },
   {
    "duration": 19,
    "start_time": "2023-10-17T07:38:52.802Z"
   },
   {
    "duration": 37,
    "start_time": "2023-10-17T07:38:52.823Z"
   },
   {
    "duration": 86,
    "start_time": "2023-10-17T07:38:52.861Z"
   },
   {
    "duration": 54,
    "start_time": "2023-10-17T07:38:52.948Z"
   },
   {
    "duration": 22,
    "start_time": "2023-10-17T07:38:53.004Z"
   },
   {
    "duration": 305,
    "start_time": "2023-10-17T07:38:53.028Z"
   },
   {
    "duration": 11,
    "start_time": "2023-10-17T07:38:53.334Z"
   },
   {
    "duration": 35,
    "start_time": "2023-10-17T07:38:53.347Z"
   },
   {
    "duration": 24,
    "start_time": "2023-10-17T07:38:53.384Z"
   },
   {
    "duration": 50,
    "start_time": "2023-10-17T07:38:53.410Z"
   },
   {
    "duration": 21,
    "start_time": "2023-10-17T07:38:53.462Z"
   },
   {
    "duration": 16,
    "start_time": "2023-10-17T07:38:53.485Z"
   },
   {
    "duration": 23,
    "start_time": "2023-10-17T07:38:53.503Z"
   },
   {
    "duration": 416,
    "start_time": "2023-10-17T07:38:53.528Z"
   },
   {
    "duration": 382,
    "start_time": "2023-10-17T07:38:53.947Z"
   },
   {
    "duration": 269,
    "start_time": "2023-10-17T07:38:54.331Z"
   },
   {
    "duration": 460,
    "start_time": "2023-10-17T07:38:54.602Z"
   },
   {
    "duration": 299,
    "start_time": "2023-10-17T07:38:55.063Z"
   },
   {
    "duration": 19,
    "start_time": "2023-10-17T07:38:55.363Z"
   },
   {
    "duration": 298,
    "start_time": "2023-10-17T07:38:55.383Z"
   },
   {
    "duration": 25,
    "start_time": "2023-10-17T07:38:55.683Z"
   },
   {
    "duration": 236,
    "start_time": "2023-10-17T07:38:55.710Z"
   },
   {
    "duration": 22,
    "start_time": "2023-10-17T07:38:55.948Z"
   },
   {
    "duration": 306,
    "start_time": "2023-10-17T07:38:55.972Z"
   },
   {
    "duration": 30,
    "start_time": "2023-10-17T07:38:56.280Z"
   },
   {
    "duration": 246,
    "start_time": "2023-10-17T07:38:56.312Z"
   },
   {
    "duration": 19,
    "start_time": "2023-10-17T07:38:56.559Z"
   },
   {
    "duration": 270,
    "start_time": "2023-10-17T07:38:56.580Z"
   },
   {
    "duration": 838,
    "start_time": "2023-10-17T07:38:56.852Z"
   },
   {
    "duration": 15,
    "start_time": "2023-10-17T07:38:57.692Z"
   },
   {
    "duration": 22,
    "start_time": "2023-10-17T07:38:57.708Z"
   },
   {
    "duration": 7,
    "start_time": "2023-10-17T07:38:57.731Z"
   },
   {
    "duration": 34,
    "start_time": "2023-10-17T07:38:57.740Z"
   },
   {
    "duration": 19,
    "start_time": "2023-10-17T07:38:57.776Z"
   },
   {
    "duration": 15,
    "start_time": "2023-10-17T07:38:57.797Z"
   },
   {
    "duration": 17,
    "start_time": "2023-10-17T07:38:57.813Z"
   },
   {
    "duration": 241,
    "start_time": "2023-10-17T07:38:57.832Z"
   }
  ],
  "kernelspec": {
   "display_name": "Python 3 (ipykernel)",
   "language": "python",
   "name": "python3"
  },
  "language_info": {
   "codemirror_mode": {
    "name": "ipython",
    "version": 3
   },
   "file_extension": ".py",
   "mimetype": "text/x-python",
   "name": "python",
   "nbconvert_exporter": "python",
   "pygments_lexer": "ipython3",
   "version": "3.9.5"
  },
  "toc": {
   "base_numbering": 1,
   "nav_menu": {},
   "number_sections": true,
   "sideBar": true,
   "skip_h1_title": true,
   "title_cell": "Table of Contents",
   "title_sidebar": "Contents",
   "toc_cell": true,
   "toc_position": {
    "height": "calc(100% - 180px)",
    "left": "10px",
    "top": "150px",
    "width": "319.062px"
   },
   "toc_section_display": true,
   "toc_window_display": true
  }
 },
 "nbformat": 4,
 "nbformat_minor": 2
}
